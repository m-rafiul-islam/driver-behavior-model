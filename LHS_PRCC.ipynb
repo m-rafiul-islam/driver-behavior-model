{
  "nbformat": 4,
  "nbformat_minor": 0,
  "metadata": {
    "colab": {
      "name": "LHS-PRCC.ipynb",
      "provenance": [],
      "collapsed_sections": [],
      "include_colab_link": true
    },
    "language_info": {
      "codemirror_mode": {
        "name": "ipython",
        "version": 3
      },
      "file_extension": ".py",
      "mimetype": "text/x-python",
      "name": "python",
      "nbconvert_exporter": "python",
      "pygments_lexer": "ipython3",
      "version": "3.7.3"
    },
    "kernelspec": {
      "display_name": "Python 3",
      "language": "python",
      "name": "python3"
    },
    "widgets": {
      "application/vnd.jupyter.widget-state+json": {
        "82b34502430a49c5be6109bd17597c82": {
          "model_module": "@jupyter-widgets/controls",
          "model_name": "VBoxModel",
          "model_module_version": "1.5.0",
          "state": {
            "_dom_classes": [
              "widget-interact"
            ],
            "_model_module": "@jupyter-widgets/controls",
            "_model_module_version": "1.5.0",
            "_model_name": "VBoxModel",
            "_view_count": null,
            "_view_module": "@jupyter-widgets/controls",
            "_view_module_version": "1.5.0",
            "_view_name": "VBoxView",
            "box_style": "",
            "children": [
              "IPY_MODEL_f96ed6032227419f8f1d75f63bf9d683",
              "IPY_MODEL_0569226be7a0463da018ee2ab6f1bcd9",
              "IPY_MODEL_ac6ada02772a4741becfd9300e3525e0"
            ],
            "layout": "IPY_MODEL_256cc9c854354f3f8c81ef4139fea2ec"
          }
        },
        "f96ed6032227419f8f1d75f63bf9d683": {
          "model_module": "@jupyter-widgets/controls",
          "model_name": "TextModel",
          "model_module_version": "1.5.0",
          "state": {
            "_dom_classes": [],
            "_model_module": "@jupyter-widgets/controls",
            "_model_module_version": "1.5.0",
            "_model_name": "TextModel",
            "_view_count": null,
            "_view_module": "@jupyter-widgets/controls",
            "_view_module_version": "1.5.0",
            "_view_name": "TextView",
            "continuous_update": true,
            "description": "Name",
            "description_tooltip": null,
            "disabled": false,
            "layout": "IPY_MODEL_f160256735fe447c8db9bfb095879a93",
            "placeholder": "​",
            "style": "IPY_MODEL_13886a0ca4764d6abf309bc735bff75f",
            "value": "Type parameter 0 name"
          }
        },
        "0569226be7a0463da018ee2ab6f1bcd9": {
          "model_module": "@jupyter-widgets/controls",
          "model_name": "DropdownModel",
          "model_module_version": "1.5.0",
          "state": {
            "_dom_classes": [],
            "_model_module": "@jupyter-widgets/controls",
            "_model_module_version": "1.5.0",
            "_model_name": "DropdownModel",
            "_options_labels": [
              "uniform",
              "normal",
              "triangle"
            ],
            "_view_count": null,
            "_view_module": "@jupyter-widgets/controls",
            "_view_module_version": "1.5.0",
            "_view_name": "DropdownView",
            "description": "Distribution",
            "description_tooltip": null,
            "disabled": false,
            "index": 0,
            "layout": "IPY_MODEL_77752c1dcd684eda9d6221a57bbcf8f1",
            "style": "IPY_MODEL_7e8143aac1d54cf59a3227b387461c91"
          }
        },
        "ac6ada02772a4741becfd9300e3525e0": {
          "model_module": "@jupyter-widgets/output",
          "model_name": "OutputModel",
          "model_module_version": "1.0.0",
          "state": {
            "_dom_classes": [],
            "_model_module": "@jupyter-widgets/output",
            "_model_module_version": "1.0.0",
            "_model_name": "OutputModel",
            "_view_count": null,
            "_view_module": "@jupyter-widgets/output",
            "_view_module_version": "1.0.0",
            "_view_name": "OutputView",
            "layout": "IPY_MODEL_0b9ac940927448eaaa50dc64b1b7d273",
            "msg_id": "",
            "outputs": []
          }
        },
        "256cc9c854354f3f8c81ef4139fea2ec": {
          "model_module": "@jupyter-widgets/base",
          "model_name": "LayoutModel",
          "model_module_version": "1.2.0",
          "state": {
            "_model_module": "@jupyter-widgets/base",
            "_model_module_version": "1.2.0",
            "_model_name": "LayoutModel",
            "_view_count": null,
            "_view_module": "@jupyter-widgets/base",
            "_view_module_version": "1.2.0",
            "_view_name": "LayoutView",
            "align_content": null,
            "align_items": null,
            "align_self": null,
            "border": null,
            "bottom": null,
            "display": null,
            "flex": null,
            "flex_flow": null,
            "grid_area": null,
            "grid_auto_columns": null,
            "grid_auto_flow": null,
            "grid_auto_rows": null,
            "grid_column": null,
            "grid_gap": null,
            "grid_row": null,
            "grid_template_areas": null,
            "grid_template_columns": null,
            "grid_template_rows": null,
            "height": null,
            "justify_content": null,
            "justify_items": null,
            "left": null,
            "margin": null,
            "max_height": null,
            "max_width": null,
            "min_height": null,
            "min_width": null,
            "object_fit": null,
            "object_position": null,
            "order": null,
            "overflow": null,
            "overflow_x": null,
            "overflow_y": null,
            "padding": null,
            "right": null,
            "top": null,
            "visibility": null,
            "width": null
          }
        },
        "f160256735fe447c8db9bfb095879a93": {
          "model_module": "@jupyter-widgets/base",
          "model_name": "LayoutModel",
          "model_module_version": "1.2.0",
          "state": {
            "_model_module": "@jupyter-widgets/base",
            "_model_module_version": "1.2.0",
            "_model_name": "LayoutModel",
            "_view_count": null,
            "_view_module": "@jupyter-widgets/base",
            "_view_module_version": "1.2.0",
            "_view_name": "LayoutView",
            "align_content": null,
            "align_items": null,
            "align_self": null,
            "border": null,
            "bottom": null,
            "display": null,
            "flex": null,
            "flex_flow": null,
            "grid_area": null,
            "grid_auto_columns": null,
            "grid_auto_flow": null,
            "grid_auto_rows": null,
            "grid_column": null,
            "grid_gap": null,
            "grid_row": null,
            "grid_template_areas": null,
            "grid_template_columns": null,
            "grid_template_rows": null,
            "height": null,
            "justify_content": null,
            "justify_items": null,
            "left": null,
            "margin": null,
            "max_height": null,
            "max_width": null,
            "min_height": null,
            "min_width": null,
            "object_fit": null,
            "object_position": null,
            "order": null,
            "overflow": null,
            "overflow_x": null,
            "overflow_y": null,
            "padding": null,
            "right": null,
            "top": null,
            "visibility": null,
            "width": null
          }
        },
        "13886a0ca4764d6abf309bc735bff75f": {
          "model_module": "@jupyter-widgets/controls",
          "model_name": "DescriptionStyleModel",
          "model_module_version": "1.5.0",
          "state": {
            "_model_module": "@jupyter-widgets/controls",
            "_model_module_version": "1.5.0",
            "_model_name": "DescriptionStyleModel",
            "_view_count": null,
            "_view_module": "@jupyter-widgets/base",
            "_view_module_version": "1.2.0",
            "_view_name": "StyleView",
            "description_width": ""
          }
        },
        "77752c1dcd684eda9d6221a57bbcf8f1": {
          "model_module": "@jupyter-widgets/base",
          "model_name": "LayoutModel",
          "model_module_version": "1.2.0",
          "state": {
            "_model_module": "@jupyter-widgets/base",
            "_model_module_version": "1.2.0",
            "_model_name": "LayoutModel",
            "_view_count": null,
            "_view_module": "@jupyter-widgets/base",
            "_view_module_version": "1.2.0",
            "_view_name": "LayoutView",
            "align_content": null,
            "align_items": null,
            "align_self": null,
            "border": null,
            "bottom": null,
            "display": null,
            "flex": null,
            "flex_flow": null,
            "grid_area": null,
            "grid_auto_columns": null,
            "grid_auto_flow": null,
            "grid_auto_rows": null,
            "grid_column": null,
            "grid_gap": null,
            "grid_row": null,
            "grid_template_areas": null,
            "grid_template_columns": null,
            "grid_template_rows": null,
            "height": null,
            "justify_content": null,
            "justify_items": null,
            "left": null,
            "margin": null,
            "max_height": null,
            "max_width": null,
            "min_height": null,
            "min_width": null,
            "object_fit": null,
            "object_position": null,
            "order": null,
            "overflow": null,
            "overflow_x": null,
            "overflow_y": null,
            "padding": null,
            "right": null,
            "top": null,
            "visibility": null,
            "width": null
          }
        },
        "7e8143aac1d54cf59a3227b387461c91": {
          "model_module": "@jupyter-widgets/controls",
          "model_name": "DescriptionStyleModel",
          "model_module_version": "1.5.0",
          "state": {
            "_model_module": "@jupyter-widgets/controls",
            "_model_module_version": "1.5.0",
            "_model_name": "DescriptionStyleModel",
            "_view_count": null,
            "_view_module": "@jupyter-widgets/base",
            "_view_module_version": "1.2.0",
            "_view_name": "StyleView",
            "description_width": ""
          }
        },
        "0b9ac940927448eaaa50dc64b1b7d273": {
          "model_module": "@jupyter-widgets/base",
          "model_name": "LayoutModel",
          "model_module_version": "1.2.0",
          "state": {
            "_model_module": "@jupyter-widgets/base",
            "_model_module_version": "1.2.0",
            "_model_name": "LayoutModel",
            "_view_count": null,
            "_view_module": "@jupyter-widgets/base",
            "_view_module_version": "1.2.0",
            "_view_name": "LayoutView",
            "align_content": null,
            "align_items": null,
            "align_self": null,
            "border": null,
            "bottom": null,
            "display": null,
            "flex": null,
            "flex_flow": null,
            "grid_area": null,
            "grid_auto_columns": null,
            "grid_auto_flow": null,
            "grid_auto_rows": null,
            "grid_column": null,
            "grid_gap": null,
            "grid_row": null,
            "grid_template_areas": null,
            "grid_template_columns": null,
            "grid_template_rows": null,
            "height": null,
            "justify_content": null,
            "justify_items": null,
            "left": null,
            "margin": null,
            "max_height": null,
            "max_width": null,
            "min_height": null,
            "min_width": null,
            "object_fit": null,
            "object_position": null,
            "order": null,
            "overflow": null,
            "overflow_x": null,
            "overflow_y": null,
            "padding": null,
            "right": null,
            "top": null,
            "visibility": null,
            "width": null
          }
        },
        "2bd87043d053438d83d636d3c0d967f7": {
          "model_module": "@jupyter-widgets/controls",
          "model_name": "VBoxModel",
          "model_module_version": "1.5.0",
          "state": {
            "_dom_classes": [
              "widget-interact"
            ],
            "_model_module": "@jupyter-widgets/controls",
            "_model_module_version": "1.5.0",
            "_model_name": "VBoxModel",
            "_view_count": null,
            "_view_module": "@jupyter-widgets/controls",
            "_view_module_version": "1.5.0",
            "_view_name": "VBoxView",
            "box_style": "",
            "children": [
              "IPY_MODEL_a78f4783d9d844feaa3f3b3b4509d5e7",
              "IPY_MODEL_da954f5dbbe9472b8a782cd8f976c6af",
              "IPY_MODEL_6ad747c162eb410e91b45933d0fd3c5a"
            ],
            "layout": "IPY_MODEL_2895c17955af4264b0d2d072c901c3e2"
          }
        },
        "a78f4783d9d844feaa3f3b3b4509d5e7": {
          "model_module": "@jupyter-widgets/controls",
          "model_name": "TextModel",
          "model_module_version": "1.5.0",
          "state": {
            "_dom_classes": [],
            "_model_module": "@jupyter-widgets/controls",
            "_model_module_version": "1.5.0",
            "_model_name": "TextModel",
            "_view_count": null,
            "_view_module": "@jupyter-widgets/controls",
            "_view_module_version": "1.5.0",
            "_view_name": "TextView",
            "continuous_update": true,
            "description": "Name",
            "description_tooltip": null,
            "disabled": false,
            "layout": "IPY_MODEL_f7d46518a7ae451f9ddd7f23c92ce956",
            "placeholder": "​",
            "style": "IPY_MODEL_d3f615a3565b402bb7b718b0385e37b7",
            "value": "Type parameter 1 name"
          }
        },
        "da954f5dbbe9472b8a782cd8f976c6af": {
          "model_module": "@jupyter-widgets/controls",
          "model_name": "DropdownModel",
          "model_module_version": "1.5.0",
          "state": {
            "_dom_classes": [],
            "_model_module": "@jupyter-widgets/controls",
            "_model_module_version": "1.5.0",
            "_model_name": "DropdownModel",
            "_options_labels": [
              "uniform",
              "normal",
              "triangle"
            ],
            "_view_count": null,
            "_view_module": "@jupyter-widgets/controls",
            "_view_module_version": "1.5.0",
            "_view_name": "DropdownView",
            "description": "Distribution",
            "description_tooltip": null,
            "disabled": false,
            "index": 0,
            "layout": "IPY_MODEL_dbc79303b4e147fc92ac82f0fab0857a",
            "style": "IPY_MODEL_a180813d53c947788ea2be55cf721d03"
          }
        },
        "6ad747c162eb410e91b45933d0fd3c5a": {
          "model_module": "@jupyter-widgets/output",
          "model_name": "OutputModel",
          "model_module_version": "1.0.0",
          "state": {
            "_dom_classes": [],
            "_model_module": "@jupyter-widgets/output",
            "_model_module_version": "1.0.0",
            "_model_name": "OutputModel",
            "_view_count": null,
            "_view_module": "@jupyter-widgets/output",
            "_view_module_version": "1.0.0",
            "_view_name": "OutputView",
            "layout": "IPY_MODEL_434853ad3cae44a28cbddec7edb727d7",
            "msg_id": "",
            "outputs": []
          }
        },
        "2895c17955af4264b0d2d072c901c3e2": {
          "model_module": "@jupyter-widgets/base",
          "model_name": "LayoutModel",
          "model_module_version": "1.2.0",
          "state": {
            "_model_module": "@jupyter-widgets/base",
            "_model_module_version": "1.2.0",
            "_model_name": "LayoutModel",
            "_view_count": null,
            "_view_module": "@jupyter-widgets/base",
            "_view_module_version": "1.2.0",
            "_view_name": "LayoutView",
            "align_content": null,
            "align_items": null,
            "align_self": null,
            "border": null,
            "bottom": null,
            "display": null,
            "flex": null,
            "flex_flow": null,
            "grid_area": null,
            "grid_auto_columns": null,
            "grid_auto_flow": null,
            "grid_auto_rows": null,
            "grid_column": null,
            "grid_gap": null,
            "grid_row": null,
            "grid_template_areas": null,
            "grid_template_columns": null,
            "grid_template_rows": null,
            "height": null,
            "justify_content": null,
            "justify_items": null,
            "left": null,
            "margin": null,
            "max_height": null,
            "max_width": null,
            "min_height": null,
            "min_width": null,
            "object_fit": null,
            "object_position": null,
            "order": null,
            "overflow": null,
            "overflow_x": null,
            "overflow_y": null,
            "padding": null,
            "right": null,
            "top": null,
            "visibility": null,
            "width": null
          }
        },
        "f7d46518a7ae451f9ddd7f23c92ce956": {
          "model_module": "@jupyter-widgets/base",
          "model_name": "LayoutModel",
          "model_module_version": "1.2.0",
          "state": {
            "_model_module": "@jupyter-widgets/base",
            "_model_module_version": "1.2.0",
            "_model_name": "LayoutModel",
            "_view_count": null,
            "_view_module": "@jupyter-widgets/base",
            "_view_module_version": "1.2.0",
            "_view_name": "LayoutView",
            "align_content": null,
            "align_items": null,
            "align_self": null,
            "border": null,
            "bottom": null,
            "display": null,
            "flex": null,
            "flex_flow": null,
            "grid_area": null,
            "grid_auto_columns": null,
            "grid_auto_flow": null,
            "grid_auto_rows": null,
            "grid_column": null,
            "grid_gap": null,
            "grid_row": null,
            "grid_template_areas": null,
            "grid_template_columns": null,
            "grid_template_rows": null,
            "height": null,
            "justify_content": null,
            "justify_items": null,
            "left": null,
            "margin": null,
            "max_height": null,
            "max_width": null,
            "min_height": null,
            "min_width": null,
            "object_fit": null,
            "object_position": null,
            "order": null,
            "overflow": null,
            "overflow_x": null,
            "overflow_y": null,
            "padding": null,
            "right": null,
            "top": null,
            "visibility": null,
            "width": null
          }
        },
        "d3f615a3565b402bb7b718b0385e37b7": {
          "model_module": "@jupyter-widgets/controls",
          "model_name": "DescriptionStyleModel",
          "model_module_version": "1.5.0",
          "state": {
            "_model_module": "@jupyter-widgets/controls",
            "_model_module_version": "1.5.0",
            "_model_name": "DescriptionStyleModel",
            "_view_count": null,
            "_view_module": "@jupyter-widgets/base",
            "_view_module_version": "1.2.0",
            "_view_name": "StyleView",
            "description_width": ""
          }
        },
        "dbc79303b4e147fc92ac82f0fab0857a": {
          "model_module": "@jupyter-widgets/base",
          "model_name": "LayoutModel",
          "model_module_version": "1.2.0",
          "state": {
            "_model_module": "@jupyter-widgets/base",
            "_model_module_version": "1.2.0",
            "_model_name": "LayoutModel",
            "_view_count": null,
            "_view_module": "@jupyter-widgets/base",
            "_view_module_version": "1.2.0",
            "_view_name": "LayoutView",
            "align_content": null,
            "align_items": null,
            "align_self": null,
            "border": null,
            "bottom": null,
            "display": null,
            "flex": null,
            "flex_flow": null,
            "grid_area": null,
            "grid_auto_columns": null,
            "grid_auto_flow": null,
            "grid_auto_rows": null,
            "grid_column": null,
            "grid_gap": null,
            "grid_row": null,
            "grid_template_areas": null,
            "grid_template_columns": null,
            "grid_template_rows": null,
            "height": null,
            "justify_content": null,
            "justify_items": null,
            "left": null,
            "margin": null,
            "max_height": null,
            "max_width": null,
            "min_height": null,
            "min_width": null,
            "object_fit": null,
            "object_position": null,
            "order": null,
            "overflow": null,
            "overflow_x": null,
            "overflow_y": null,
            "padding": null,
            "right": null,
            "top": null,
            "visibility": null,
            "width": null
          }
        },
        "a180813d53c947788ea2be55cf721d03": {
          "model_module": "@jupyter-widgets/controls",
          "model_name": "DescriptionStyleModel",
          "model_module_version": "1.5.0",
          "state": {
            "_model_module": "@jupyter-widgets/controls",
            "_model_module_version": "1.5.0",
            "_model_name": "DescriptionStyleModel",
            "_view_count": null,
            "_view_module": "@jupyter-widgets/base",
            "_view_module_version": "1.2.0",
            "_view_name": "StyleView",
            "description_width": ""
          }
        },
        "434853ad3cae44a28cbddec7edb727d7": {
          "model_module": "@jupyter-widgets/base",
          "model_name": "LayoutModel",
          "model_module_version": "1.2.0",
          "state": {
            "_model_module": "@jupyter-widgets/base",
            "_model_module_version": "1.2.0",
            "_model_name": "LayoutModel",
            "_view_count": null,
            "_view_module": "@jupyter-widgets/base",
            "_view_module_version": "1.2.0",
            "_view_name": "LayoutView",
            "align_content": null,
            "align_items": null,
            "align_self": null,
            "border": null,
            "bottom": null,
            "display": null,
            "flex": null,
            "flex_flow": null,
            "grid_area": null,
            "grid_auto_columns": null,
            "grid_auto_flow": null,
            "grid_auto_rows": null,
            "grid_column": null,
            "grid_gap": null,
            "grid_row": null,
            "grid_template_areas": null,
            "grid_template_columns": null,
            "grid_template_rows": null,
            "height": null,
            "justify_content": null,
            "justify_items": null,
            "left": null,
            "margin": null,
            "max_height": null,
            "max_width": null,
            "min_height": null,
            "min_width": null,
            "object_fit": null,
            "object_position": null,
            "order": null,
            "overflow": null,
            "overflow_x": null,
            "overflow_y": null,
            "padding": null,
            "right": null,
            "top": null,
            "visibility": null,
            "width": null
          }
        },
        "44c6a7e1afee43c7b52c94d270fdaf46": {
          "model_module": "@jupyter-widgets/controls",
          "model_name": "FloatTextModel",
          "model_module_version": "1.5.0",
          "state": {
            "_dom_classes": [],
            "_model_module": "@jupyter-widgets/controls",
            "_model_module_version": "1.5.0",
            "_model_name": "FloatTextModel",
            "_view_count": null,
            "_view_module": "@jupyter-widgets/controls",
            "_view_module_version": "1.5.0",
            "_view_name": "FloatTextView",
            "continuous_update": false,
            "description": "Minimum:",
            "description_tooltip": null,
            "disabled": false,
            "layout": "IPY_MODEL_bed6970e3c874e74aca98dbfea9746f4",
            "step": null,
            "style": "IPY_MODEL_2d9e9e62910e4d0b957c965da29ea50b",
            "value": 0
          }
        },
        "bed6970e3c874e74aca98dbfea9746f4": {
          "model_module": "@jupyter-widgets/base",
          "model_name": "LayoutModel",
          "model_module_version": "1.2.0",
          "state": {
            "_model_module": "@jupyter-widgets/base",
            "_model_module_version": "1.2.0",
            "_model_name": "LayoutModel",
            "_view_count": null,
            "_view_module": "@jupyter-widgets/base",
            "_view_module_version": "1.2.0",
            "_view_name": "LayoutView",
            "align_content": null,
            "align_items": null,
            "align_self": null,
            "border": null,
            "bottom": null,
            "display": null,
            "flex": null,
            "flex_flow": null,
            "grid_area": null,
            "grid_auto_columns": null,
            "grid_auto_flow": null,
            "grid_auto_rows": null,
            "grid_column": null,
            "grid_gap": null,
            "grid_row": null,
            "grid_template_areas": null,
            "grid_template_columns": null,
            "grid_template_rows": null,
            "height": null,
            "justify_content": null,
            "justify_items": null,
            "left": null,
            "margin": null,
            "max_height": null,
            "max_width": null,
            "min_height": null,
            "min_width": null,
            "object_fit": null,
            "object_position": null,
            "order": null,
            "overflow": null,
            "overflow_x": null,
            "overflow_y": null,
            "padding": null,
            "right": null,
            "top": null,
            "visibility": null,
            "width": null
          }
        },
        "2d9e9e62910e4d0b957c965da29ea50b": {
          "model_module": "@jupyter-widgets/controls",
          "model_name": "DescriptionStyleModel",
          "model_module_version": "1.5.0",
          "state": {
            "_model_module": "@jupyter-widgets/controls",
            "_model_module_version": "1.5.0",
            "_model_name": "DescriptionStyleModel",
            "_view_count": null,
            "_view_module": "@jupyter-widgets/base",
            "_view_module_version": "1.2.0",
            "_view_name": "StyleView",
            "description_width": ""
          }
        },
        "3ffb613f3d2243eda99342bc63275ecc": {
          "model_module": "@jupyter-widgets/controls",
          "model_name": "FloatTextModel",
          "model_module_version": "1.5.0",
          "state": {
            "_dom_classes": [],
            "_model_module": "@jupyter-widgets/controls",
            "_model_module_version": "1.5.0",
            "_model_name": "FloatTextModel",
            "_view_count": null,
            "_view_module": "@jupyter-widgets/controls",
            "_view_module_version": "1.5.0",
            "_view_name": "FloatTextView",
            "continuous_update": false,
            "description": "Maximum:",
            "description_tooltip": null,
            "disabled": false,
            "layout": "IPY_MODEL_4dcf8cd254f04a6298cb5fb6762752d8",
            "step": null,
            "style": "IPY_MODEL_f7f8e617c4654fe4bcda2cca5150ba39",
            "value": 2
          }
        },
        "4dcf8cd254f04a6298cb5fb6762752d8": {
          "model_module": "@jupyter-widgets/base",
          "model_name": "LayoutModel",
          "model_module_version": "1.2.0",
          "state": {
            "_model_module": "@jupyter-widgets/base",
            "_model_module_version": "1.2.0",
            "_model_name": "LayoutModel",
            "_view_count": null,
            "_view_module": "@jupyter-widgets/base",
            "_view_module_version": "1.2.0",
            "_view_name": "LayoutView",
            "align_content": null,
            "align_items": null,
            "align_self": null,
            "border": null,
            "bottom": null,
            "display": null,
            "flex": null,
            "flex_flow": null,
            "grid_area": null,
            "grid_auto_columns": null,
            "grid_auto_flow": null,
            "grid_auto_rows": null,
            "grid_column": null,
            "grid_gap": null,
            "grid_row": null,
            "grid_template_areas": null,
            "grid_template_columns": null,
            "grid_template_rows": null,
            "height": null,
            "justify_content": null,
            "justify_items": null,
            "left": null,
            "margin": null,
            "max_height": null,
            "max_width": null,
            "min_height": null,
            "min_width": null,
            "object_fit": null,
            "object_position": null,
            "order": null,
            "overflow": null,
            "overflow_x": null,
            "overflow_y": null,
            "padding": null,
            "right": null,
            "top": null,
            "visibility": null,
            "width": null
          }
        },
        "f7f8e617c4654fe4bcda2cca5150ba39": {
          "model_module": "@jupyter-widgets/controls",
          "model_name": "DescriptionStyleModel",
          "model_module_version": "1.5.0",
          "state": {
            "_model_module": "@jupyter-widgets/controls",
            "_model_module_version": "1.5.0",
            "_model_name": "DescriptionStyleModel",
            "_view_count": null,
            "_view_module": "@jupyter-widgets/base",
            "_view_module_version": "1.2.0",
            "_view_name": "StyleView",
            "description_width": ""
          }
        },
        "dfdbe5838b504bd68f179b410bbc9401": {
          "model_module": "@jupyter-widgets/controls",
          "model_name": "FloatTextModel",
          "model_module_version": "1.5.0",
          "state": {
            "_dom_classes": [],
            "_model_module": "@jupyter-widgets/controls",
            "_model_module_version": "1.5.0",
            "_model_name": "FloatTextModel",
            "_view_count": null,
            "_view_module": "@jupyter-widgets/controls",
            "_view_module_version": "1.5.0",
            "_view_name": "FloatTextView",
            "continuous_update": false,
            "description": "Minimum:",
            "description_tooltip": null,
            "disabled": false,
            "layout": "IPY_MODEL_f689bd65f4a642bc9d118c751212e9b4",
            "step": null,
            "style": "IPY_MODEL_4c285d31542442759fcf925ff5fc034f",
            "value": 0
          }
        },
        "f689bd65f4a642bc9d118c751212e9b4": {
          "model_module": "@jupyter-widgets/base",
          "model_name": "LayoutModel",
          "model_module_version": "1.2.0",
          "state": {
            "_model_module": "@jupyter-widgets/base",
            "_model_module_version": "1.2.0",
            "_model_name": "LayoutModel",
            "_view_count": null,
            "_view_module": "@jupyter-widgets/base",
            "_view_module_version": "1.2.0",
            "_view_name": "LayoutView",
            "align_content": null,
            "align_items": null,
            "align_self": null,
            "border": null,
            "bottom": null,
            "display": null,
            "flex": null,
            "flex_flow": null,
            "grid_area": null,
            "grid_auto_columns": null,
            "grid_auto_flow": null,
            "grid_auto_rows": null,
            "grid_column": null,
            "grid_gap": null,
            "grid_row": null,
            "grid_template_areas": null,
            "grid_template_columns": null,
            "grid_template_rows": null,
            "height": null,
            "justify_content": null,
            "justify_items": null,
            "left": null,
            "margin": null,
            "max_height": null,
            "max_width": null,
            "min_height": null,
            "min_width": null,
            "object_fit": null,
            "object_position": null,
            "order": null,
            "overflow": null,
            "overflow_x": null,
            "overflow_y": null,
            "padding": null,
            "right": null,
            "top": null,
            "visibility": null,
            "width": null
          }
        },
        "4c285d31542442759fcf925ff5fc034f": {
          "model_module": "@jupyter-widgets/controls",
          "model_name": "DescriptionStyleModel",
          "model_module_version": "1.5.0",
          "state": {
            "_model_module": "@jupyter-widgets/controls",
            "_model_module_version": "1.5.0",
            "_model_name": "DescriptionStyleModel",
            "_view_count": null,
            "_view_module": "@jupyter-widgets/base",
            "_view_module_version": "1.2.0",
            "_view_name": "StyleView",
            "description_width": ""
          }
        },
        "c37da8b6573f4dd78c752ab0d70b1ee5": {
          "model_module": "@jupyter-widgets/controls",
          "model_name": "FloatTextModel",
          "model_module_version": "1.5.0",
          "state": {
            "_dom_classes": [],
            "_model_module": "@jupyter-widgets/controls",
            "_model_module_version": "1.5.0",
            "_model_name": "FloatTextModel",
            "_view_count": null,
            "_view_module": "@jupyter-widgets/controls",
            "_view_module_version": "1.5.0",
            "_view_name": "FloatTextView",
            "continuous_update": false,
            "description": "Maximum:",
            "description_tooltip": null,
            "disabled": false,
            "layout": "IPY_MODEL_592feec8258b4a3a85f13e390e81009c",
            "step": null,
            "style": "IPY_MODEL_f43d89d7bf884e7cb4513f6f57e73d1d",
            "value": 2
          }
        },
        "592feec8258b4a3a85f13e390e81009c": {
          "model_module": "@jupyter-widgets/base",
          "model_name": "LayoutModel",
          "model_module_version": "1.2.0",
          "state": {
            "_model_module": "@jupyter-widgets/base",
            "_model_module_version": "1.2.0",
            "_model_name": "LayoutModel",
            "_view_count": null,
            "_view_module": "@jupyter-widgets/base",
            "_view_module_version": "1.2.0",
            "_view_name": "LayoutView",
            "align_content": null,
            "align_items": null,
            "align_self": null,
            "border": null,
            "bottom": null,
            "display": null,
            "flex": null,
            "flex_flow": null,
            "grid_area": null,
            "grid_auto_columns": null,
            "grid_auto_flow": null,
            "grid_auto_rows": null,
            "grid_column": null,
            "grid_gap": null,
            "grid_row": null,
            "grid_template_areas": null,
            "grid_template_columns": null,
            "grid_template_rows": null,
            "height": null,
            "justify_content": null,
            "justify_items": null,
            "left": null,
            "margin": null,
            "max_height": null,
            "max_width": null,
            "min_height": null,
            "min_width": null,
            "object_fit": null,
            "object_position": null,
            "order": null,
            "overflow": null,
            "overflow_x": null,
            "overflow_y": null,
            "padding": null,
            "right": null,
            "top": null,
            "visibility": null,
            "width": null
          }
        },
        "f43d89d7bf884e7cb4513f6f57e73d1d": {
          "model_module": "@jupyter-widgets/controls",
          "model_name": "DescriptionStyleModel",
          "model_module_version": "1.5.0",
          "state": {
            "_model_module": "@jupyter-widgets/controls",
            "_model_module_version": "1.5.0",
            "_model_name": "DescriptionStyleModel",
            "_view_count": null,
            "_view_module": "@jupyter-widgets/base",
            "_view_module_version": "1.2.0",
            "_view_name": "StyleView",
            "description_width": ""
          }
        }
      }
    }
  },
  "cells": [
    {
      "cell_type": "markdown",
      "metadata": {
        "id": "view-in-github",
        "colab_type": "text"
      },
      "source": [
        "<a href=\"https://colab.research.google.com/github/m-rafiul-islam/driver-behavior-model/blob/main/LHS_PRCC.ipynb\" target=\"_parent\"><img src=\"https://colab.research.google.com/assets/colab-badge.svg\" alt=\"Open In Colab\"/></a>"
      ]
    },
    {
      "cell_type": "markdown",
      "metadata": {
        "id": "LynXJ5FPHndO"
      },
      "source": [
        "# Latin Hypercube Sampling & Partial Rank Correlation Coefficients  <br/> *~ a method for analyzing model sensitivity to parameters ~*"
      ]
    },
    {
      "cell_type": "markdown",
      "metadata": {
        "id": "PHmmvxwMHndP"
      },
      "source": [
        "#### Importing packages that will be used."
      ]
    },
    {
      "cell_type": "code",
      "metadata": {
        "id": "ZC6x-a7WHndQ"
      },
      "source": [
        "import numpy as np\n",
        "\n",
        "from scipy import special\n",
        "\n",
        "import random\n",
        "\n",
        "from ipywidgets import interact, interactive, fixed, interact_manual\n",
        "import ipywidgets as widgets\n",
        "from IPython.display import display\n",
        "\n",
        "import pandas as pd\n",
        "\n",
        "import matplotlib.pyplot as plt\n"
      ],
      "execution_count": 31,
      "outputs": []
    },
    {
      "cell_type": "markdown",
      "metadata": {
        "id": "U0_okb6XHndS"
      },
      "source": [
        "### Specify the number of parameters to sample and the number of samples to draw from each parameter distribution. \n",
        "#### *Do not include any parameters that should be left fixed in parameterCount - those will be specified later. When choosing number of samples to draw, note that more samples (~ 1000) yields better results while fewer (~50) is faster for testing, since it requires fewer model solves.* "
      ]
    },
    {
      "cell_type": "code",
      "metadata": {
        "id": "EZy2ndbCHndT"
      },
      "source": [
        "# Number of parameters to sample \n",
        "parameterCount = 2;\n",
        "\n",
        "# Number of samples to draw for each parameter\n",
        "sampleCount = 100; "
      ],
      "execution_count": 32,
      "outputs": []
    },
    {
      "cell_type": "markdown",
      "metadata": {
        "id": "i2vYkow7HndV"
      },
      "source": [
        "#### This defines functions for specifying sampled parameters' names and distributions  as well as drawing samples from a user-specified parameter distribution. Does not need any user edits."
      ]
    },
    {
      "cell_type": "code",
      "metadata": {
        "id": "O0kGl8MKHndV"
      },
      "source": [
        "def parNameDist(Name,Distribution):\n",
        "    paramTemp = {}\n",
        "    paramTemp['Name']=Name\n",
        "    paramTemp['Dist']=Distribution\n",
        "    \n",
        "    return paramTemp\n",
        "  \n",
        "def sampleDistrib(modelParamName,distrib,distribSpecs): \n",
        "    \n",
        "    if distrib == 'uniform':\n",
        "        \n",
        "        mmin = distribSpecs[0].value\n",
        "        mmax = distribSpecs[1].value\n",
        "        \n",
        "        intervalwidth = (mmax - mmin) / sampleCount      # width of each \n",
        "                                                         # sampling interval\n",
        "        samples = []\n",
        "        \n",
        "        for sample in range(sampleCount):\n",
        "            \n",
        "            lower = mmin + intervalwidth * (sample-1)    # lb of interval\n",
        "            upper = mmin + intervalwidth * (sample)      # ub of interval\n",
        "            \n",
        "            sampleVal = np.random.uniform(lower, upper)  # draw a random sample \n",
        "                                                         # within the interval\n",
        "            samples.append(sampleVal)\n",
        "\n",
        "    \n",
        "    \n",
        "    elif distrib == 'normal':\n",
        "        \n",
        "        mmean= distribSpecs[0].value\n",
        "        mvar = distribSpecs[1].value\n",
        "        \n",
        "        lower = mvar*np.sqrt(2)*special.erfinv(-0.9999)+mmean # set lb of 1st\n",
        "                                                              # sample interval\n",
        "        samples = []\n",
        "        \n",
        "        for sample in range(sampleCount):\n",
        "          \n",
        "            n = sample + 1\n",
        "            \n",
        "            if n != sampleCount:\n",
        "                upper = (np.sqrt(2*mvar)*special.erfinv(2*n/sampleCount-1)\n",
        "                         + mmean)                        # ub of sample interval\n",
        "            else:\n",
        "                upper = np.sqrt(2*mvar)*special.erfinv(0.9999) + mmean\n",
        " \n",
        "            sampleVal = np.random.uniform(lower, upper)  # draw a random sample \n",
        "                                                         # within the interval\n",
        "    \n",
        "            samples.append(sampleVal)\n",
        "\n",
        "            lower = upper           # set current ub as the lb for next interval\n",
        "            \n",
        "\n",
        "    \n",
        "    elif distrib == 'triangle':\n",
        "        \n",
        "        mmin = distribSpecs[0].value\n",
        "        mmax = distribSpecs[1].value\n",
        "        mmode= distribSpecs[2].value\n",
        "    \n",
        "        samples = []\n",
        "        \n",
        "        for sample in range(sampleCount):\n",
        "          \n",
        "            n = sample + 1\n",
        "            \n",
        "            intervalarea = 1/sampleCount \n",
        "            \n",
        "            ylower = intervalarea*(n-1) # use cdf to read off area as y's &\n",
        "            yupper = intervalarea*(n)   # get corresponding x's for the pdf\n",
        "        \n",
        "        \n",
        "            # Check to see if y values = cdf(x <= mmode) \n",
        "            # for calculating correxponding x values:\n",
        "            \n",
        "            if ylower <= ((mmode - mmin)/(mmax - mmin)):     \n",
        "                lower = np.sqrt(ylower*(mmax - mmin)*(mmode - mmin)) + mmin \n",
        "\n",
        "            else:\n",
        "                lower = mmax-np.sqrt((1 - ylower)*(mmax - mmin)*(mmax - mmode))\n",
        "\n",
        "            \n",
        "            if yupper <= ((mmode - mmin)/(mmax - mmin)):    \n",
        "                upper = np.sqrt(yupper*(mmax - mmin)*(mmode - mmin)) + mmin; \n",
        "\n",
        "            else:\n",
        "                upper = mmax-np.sqrt((1 - yupper)*(mmax - mmin)*(mmax - mmode))\n",
        "\n",
        "                \n",
        "            sampleVal = np.random.uniform(lower, upper)  \n",
        "            \n",
        "            samples.append(sampleVal)\n",
        "            \n",
        "    \n",
        "    b = int(np.ceil(sampleCount/10))\n",
        "    plt.hist(samples, density = 1, bins = b) \n",
        "    \n",
        "    B=str(b)\n",
        "    \n",
        "    plt.title('Histogram of ' + modelParamName \n",
        "              + ' parameter samples for ' + B + ' bins')\n",
        "    \n",
        "    plt.ylabel('proportion of samples');\n",
        "    plt.xlabel(modelParamName + ' value')\n",
        "    \n",
        "    plt.show()\n",
        "    \n",
        "    return samples"
      ],
      "execution_count": 33,
      "outputs": []
    },
    {
      "cell_type": "markdown",
      "metadata": {
        "id": "lB1cTlDffxwk"
      },
      "source": [
        "#### Calls the function to ask for user input to name parameters and specify distributions. \n",
        "### Type these in text input boxes and dropdowns that will appear below after running the cell."
      ]
    },
    {
      "cell_type": "code",
      "metadata": {
        "id": "CdbdLiSadt7V",
        "colab": {
          "base_uri": "https://localhost:8080/",
          "height": 145,
          "referenced_widgets": [
            "82b34502430a49c5be6109bd17597c82",
            "f96ed6032227419f8f1d75f63bf9d683",
            "0569226be7a0463da018ee2ab6f1bcd9",
            "ac6ada02772a4741becfd9300e3525e0",
            "256cc9c854354f3f8c81ef4139fea2ec",
            "f160256735fe447c8db9bfb095879a93",
            "13886a0ca4764d6abf309bc735bff75f",
            "77752c1dcd684eda9d6221a57bbcf8f1",
            "7e8143aac1d54cf59a3227b387461c91",
            "0b9ac940927448eaaa50dc64b1b7d273",
            "2bd87043d053438d83d636d3c0d967f7",
            "a78f4783d9d844feaa3f3b3b4509d5e7",
            "da954f5dbbe9472b8a782cd8f976c6af",
            "6ad747c162eb410e91b45933d0fd3c5a",
            "2895c17955af4264b0d2d072c901c3e2",
            "f7d46518a7ae451f9ddd7f23c92ce956",
            "d3f615a3565b402bb7b718b0385e37b7",
            "dbc79303b4e147fc92ac82f0fab0857a",
            "a180813d53c947788ea2be55cf721d03",
            "434853ad3cae44a28cbddec7edb727d7"
          ]
        },
        "outputId": "7060f609-1c83-42e3-f3ce-2a82c65b9c69"
      },
      "source": [
        "params = {}\n",
        "\n",
        "for i in range(parameterCount):\n",
        "  \n",
        "    s=str(i)\n",
        "    \n",
        "    params[i] = interactive(parNameDist,\n",
        "                            Name='Type parameter ' + s + ' name', \n",
        "                            Distribution=['uniform','normal','triangle'])\n",
        "    \n",
        "    display(params[i])"
      ],
      "execution_count": 34,
      "outputs": [
        {
          "output_type": "display_data",
          "data": {
            "text/plain": [
              "interactive(children=(Text(value='Type parameter 0 name', description='Name'), Dropdown(description='Distribut…"
            ],
            "application/vnd.jupyter.widget-view+json": {
              "version_major": 2,
              "version_minor": 0,
              "model_id": "82b34502430a49c5be6109bd17597c82"
            }
          },
          "metadata": {}
        },
        {
          "output_type": "display_data",
          "data": {
            "text/plain": [
              "interactive(children=(Text(value='Type parameter 1 name', description='Name'), Dropdown(description='Distribut…"
            ],
            "application/vnd.jupyter.widget-view+json": {
              "version_major": 2,
              "version_minor": 0,
              "model_id": "2bd87043d053438d83d636d3c0d967f7"
            }
          },
          "metadata": {}
        }
      ]
    },
    {
      "cell_type": "markdown",
      "metadata": {
        "id": "9K7C0uUHHndX"
      },
      "source": [
        "### Input parameter distribution specifics in the interactive boxes that appear below after running this cell."
      ]
    },
    {
      "cell_type": "code",
      "metadata": {
        "scrolled": false,
        "id": "mDjrr9jbHndY",
        "colab": {
          "base_uri": "https://localhost:8080/",
          "height": 175,
          "referenced_widgets": [
            "44c6a7e1afee43c7b52c94d270fdaf46",
            "bed6970e3c874e74aca98dbfea9746f4",
            "2d9e9e62910e4d0b957c965da29ea50b",
            "3ffb613f3d2243eda99342bc63275ecc",
            "4dcf8cd254f04a6298cb5fb6762752d8",
            "f7f8e617c4654fe4bcda2cca5150ba39",
            "dfdbe5838b504bd68f179b410bbc9401",
            "f689bd65f4a642bc9d118c751212e9b4",
            "4c285d31542442759fcf925ff5fc034f",
            "c37da8b6573f4dd78c752ab0d70b1ee5",
            "592feec8258b4a3a85f13e390e81009c",
            "f43d89d7bf884e7cb4513f6f57e73d1d"
          ]
        },
        "outputId": "bb52dcf0-b76e-4880-c182-24ea17bb0fb0"
      },
      "source": [
        "distribSpecs={}\n",
        "\n",
        "for i in range(parameterCount):\n",
        "  \n",
        "    parName = params[i].result['Name']\n",
        "    \n",
        "    print('Enter distribution specifics for parameter ' + parName + ':')\n",
        "    \n",
        "    if params[i].result['Dist'] == 'normal':\n",
        "\n",
        "        distribSpecs[parName] = {}\n",
        "        \n",
        "        distribSpecs[parName][0] = widgets.FloatText(\n",
        "                value=2,\n",
        "                description='Mean:'\n",
        "              )\n",
        "        distribSpecs[parName][1] = widgets.FloatText(\n",
        "                value=1,\n",
        "                description='Variance:'\n",
        "              )\n",
        "\n",
        "        display(distribSpecs[parName][0], distribSpecs[parName][1])\n",
        "\n",
        "    elif params[i].result['Dist'] == 'uniform':\n",
        "\n",
        "        distribSpecs[parName] = {}\n",
        "\n",
        "        distribSpecs[parName][0] = widgets.FloatText(\n",
        "                value=0,\n",
        "                description='Minimum:'\n",
        "              )\n",
        "        distribSpecs[parName][1] = widgets.FloatText(\n",
        "                value=2,\n",
        "                description='Maximum:'\n",
        "              )\n",
        "\n",
        "        display(distribSpecs[parName][0], distribSpecs[parName][1])\n",
        "\n",
        "\n",
        "    elif params[i].result['Dist'] == 'triangle':\n",
        "      \n",
        "        distribSpecs[parName] = {}\n",
        "\n",
        "        distribSpecs[parName][0] = widgets.FloatText(\n",
        "                value=0,\n",
        "                description='Minimum:'\n",
        "              )\n",
        "        distribSpecs[parName][1] = widgets.FloatText(\n",
        "                value=2,\n",
        "                description='Maximum:'\n",
        "              )\n",
        "        distribSpecs[parName][2] = widgets.FloatText(\n",
        "                value=1,\n",
        "                description='Mode:'\n",
        "              )\n",
        "\n",
        "        display(distribSpecs[parName][0], distribSpecs[parName][1], distribSpecs[parName][2])"
      ],
      "execution_count": 35,
      "outputs": [
        {
          "output_type": "stream",
          "name": "stdout",
          "text": [
            "Enter distribution specifics for parameter Type parameter 0 name:\n"
          ]
        },
        {
          "output_type": "display_data",
          "data": {
            "text/plain": [
              "FloatText(value=0.0, description='Minimum:')"
            ],
            "application/vnd.jupyter.widget-view+json": {
              "version_major": 2,
              "version_minor": 0,
              "model_id": "44c6a7e1afee43c7b52c94d270fdaf46"
            }
          },
          "metadata": {}
        },
        {
          "output_type": "display_data",
          "data": {
            "text/plain": [
              "FloatText(value=2.0, description='Maximum:')"
            ],
            "application/vnd.jupyter.widget-view+json": {
              "version_major": 2,
              "version_minor": 0,
              "model_id": "3ffb613f3d2243eda99342bc63275ecc"
            }
          },
          "metadata": {}
        },
        {
          "output_type": "stream",
          "name": "stdout",
          "text": [
            "Enter distribution specifics for parameter Type parameter 1 name:\n"
          ]
        },
        {
          "output_type": "display_data",
          "data": {
            "text/plain": [
              "FloatText(value=0.0, description='Minimum:')"
            ],
            "application/vnd.jupyter.widget-view+json": {
              "version_major": 2,
              "version_minor": 0,
              "model_id": "dfdbe5838b504bd68f179b410bbc9401"
            }
          },
          "metadata": {}
        },
        {
          "output_type": "display_data",
          "data": {
            "text/plain": [
              "FloatText(value=2.0, description='Maximum:')"
            ],
            "application/vnd.jupyter.widget-view+json": {
              "version_major": 2,
              "version_minor": 0,
              "model_id": "c37da8b6573f4dd78c752ab0d70b1ee5"
            }
          },
          "metadata": {}
        }
      ]
    },
    {
      "cell_type": "markdown",
      "metadata": {
        "id": "6_FBOVRXgizZ"
      },
      "source": [
        "#### This passes the distributions to the code for generating parameter samples, and histogram plots of samples for each parameter will appear below. "
      ]
    },
    {
      "cell_type": "code",
      "metadata": {
        "id": "X1Clr2PYd6Mg",
        "colab": {
          "base_uri": "https://localhost:8080/",
          "height": 573
        },
        "outputId": "f6611072-0246-42db-99a8-bfba45240d0d"
      },
      "source": [
        "parameters = {}\n",
        "for j in range(parameterCount):\n",
        "  \n",
        "    parameters[params[j].result['Name']] = sampleDistrib(params[j].result['Name'],\n",
        "                                                         params[j].result['Dist'],\n",
        "                                                         distribSpecs[params[j].result['Name']])"
      ],
      "execution_count": 36,
      "outputs": [
        {
          "output_type": "display_data",
          "data": {
            "text/plain": [
              "<Figure size 432x288 with 1 Axes>"
            ],
            "image/png": "[encoded data removed]"
          },
          "metadata": {
            "needs_background": "light"
          }
        },
        {
          "output_type": "display_data",
          "data": {
            "text/plain": [
              "<Figure size 432x288 with 1 Axes>"
            ],
            "image/png": "[encoded data removed]"
          },
          "metadata": {
            "needs_background": "light"
          }
        }
      ]
    },
    {
      "cell_type": "markdown",
      "metadata": {
        "id": "PdQAUyAB_QYY"
      },
      "source": [
        "#### Randomly permute each set of parameter samples in order to randomly pair the samples to more fully sample the parameter space for the Monte Carlo simulations."
      ]
    },
    {
      "cell_type": "code",
      "metadata": {
        "id": "HFdaJckHHnde"
      },
      "source": [
        "LHSparams=[]\n",
        "\n",
        "for p in parameters:\n",
        "    \n",
        "    temp = parameters[p]\n",
        "    random.shuffle(temp)\n",
        "    \n",
        "    LHSparams.append(temp)"
      ],
      "execution_count": 37,
      "outputs": []
    },
    {
      "cell_type": "markdown",
      "metadata": {
        "id": "6ad1XNtD_lvN"
      },
      "source": [
        "### Define your model function.\n",
        "#### Two examples have been provided below: (1) a linear function with two sampled parameters: slope and intercept, and (2) a Lotka-Volterra predator - prey model.\n",
        "\n",
        "Note that the order and number of the parameters needs to match the order  and number of parameters speficied above to ensure accuracy when the model is solved below."
      ]
    },
    {
      "cell_type": "code",
      "metadata": {
        "id": "T67BWVNT_p7F"
      },
      "source": [
        "def testlinear(x,sampledParams,unsampledParams):\n",
        "\n",
        "    m = sampledParams[0]\n",
        "    b = sampledParams[1]\n",
        "    \n",
        "    a = unsampledParams\n",
        "\n",
        "    y = m * x + b + a;\n",
        "\n",
        "    return y    "
      ],
      "execution_count": 38,
      "outputs": []
    },
    {
      "cell_type": "code",
      "metadata": {
        "id": "XIcGIOHUTN43"
      },
      "source": [
        "def myodes(y, t, sampledParams, unsampledParams):\n",
        "\n",
        "    q, r = y                           # unpack current values of y\n",
        "\n",
        "    alpha, beta = sampledParams # unpack sampled parameters\n",
        "\n",
        "    delta, lambdaa, gamma = unsampledParams   # unpack unsampled parameters\n",
        "\n",
        "    derivs = [alpha*q*r - lambdaa*q,   # list of dy/dt=f functions\n",
        "              beta*r - gamma*q*r - delta*r]\n",
        "\n",
        "    return derivs\n"
      ],
      "execution_count": 39,
      "outputs": []
    },
    {
      "cell_type": "markdown",
      "metadata": {
        "id": "gFMg4Lzl_z3T"
      },
      "source": [
        "#### Run Monte Carlo simulations for each parameter sample set.\n",
        "### *Be sure to specify a call to your model function and any necessary arguments below.* \n"
      ]
    },
    {
      "cell_type": "code",
      "metadata": {
        "id": "aAtqOL4P_2GP"
      },
      "source": [
        "# EDIT THE FOLLOWING VARIABLES, UNSAMPLED PARAMETERS, & ANY OTHER ARGS HERE,\n",
        "# AS WELL AS THE CALL TO YOUR OWN MODEL FUNCTION INSIDE THE FOR LOOP BELOW\n",
        "\n",
        "x = np.linspace(0, 10, num=101) \n",
        "\n",
        "unsampledParams = 2; \n",
        "\n",
        "Output = [] \n",
        "\n",
        "for j in range(sampleCount):   \n",
        "  \n",
        "    sampledParams=[i[j] for i in LHSparams] \n",
        "    \n",
        "    sol = testlinear(x,sampledParams,unsampledParams)\n",
        "    Output.append(sol)\n",
        "    \n",
        "# EDIT THE STRING TO NAME YOUR SIM OUTPUT (for fig labels, filenames):\n",
        "labelstring = 'y'\n",
        "    \n",
        "    \n",
        "    \n",
        "# # EXAMPLE CODE FOR A COUPLED ODE MODEL:\n",
        "\n",
        "# import scipy.integrate as spi\n",
        "\n",
        "# t = np.linspace(0,17,num=171) # time domain for myodes\n",
        "\n",
        "# # odesic = [q0, r0]\n",
        "# odesic = [500,1000]\n",
        "\n",
        "# lambdaa = np.log(2)/7\n",
        "# delta = 0.5\n",
        "# gamma = 1\n",
        "\n",
        "# unsampledParams = [lambdaa, delta, gamma]\n",
        "\n",
        "# Simdata={}\n",
        "\n",
        "# Output = [] \n",
        "\n",
        "# for i in range(sampleCount):\n",
        "  \n",
        "#     Simdata[i]={}\n",
        "    \n",
        "#     Simdata[i]['q']=[]\n",
        "#     Simdata[i]['r']=[]\n",
        "    \n",
        "# for j in range(sampleCount):\n",
        "\n",
        "#     sampledParams=[i[j] for i in LHSparams] \n",
        "  \n",
        "#     sol=spi.odeint(myodes, odesic, t, args=(sampledParams,unsampledParams)) \n",
        "\n",
        "#     Simdata[j]['q'] = sol[:,0] # solution to the equation for variable r\n",
        "#     Simdata[j]['r'] = sol[:,1] # solution to the equation for variable s\n",
        "    \n",
        "#     Ratio = np.divide(sol[:,0],sol[:,1]) # compute ratio to compare w/ param samples\n",
        "    \n",
        "#     Output.append(Ratio)  \n",
        "                                                             \n",
        "\n",
        "# labelstring = 'predator to prey ratio (q/r)'; # id for fig labels, filenames\n"
      ],
      "execution_count": 40,
      "outputs": []
    },
    {
      "cell_type": "markdown",
      "metadata": {
        "id": "9HH8nfMzc1qi"
      },
      "source": [
        "### Plot the range of simulation output generated by the all of the Monte Carlo simulations using errorbars."
      ]
    },
    {
      "cell_type": "code",
      "metadata": {
        "id": "UcWtaGt-QqBY",
        "colab": {
          "base_uri": "https://localhost:8080/",
          "height": 235
        },
        "outputId": "2ff06fca-9e14-4f58-e83c-1dfac131e8f2"
      },
      "source": [
        "yavg = np.mean(Output, axis=0)\n",
        "yerr = np.std(Output, axis=0)\n",
        "\n",
        "plt.errorbar(t,yavg,yerr)\n",
        "plt.xlabel('x')\n",
        "# plt.xlabel('time (days)')   # for myodes\n",
        "plt.ylabel(labelstring)\n",
        "plt.title('Error bar plot of ' + labelstring + ' from LHS simulations')\n",
        "\n",
        "plt.show()"
      ],
      "execution_count": 41,
      "outputs": [
        {
          "output_type": "error",
          "ename": "NameError",
          "evalue": "ignored",
          "traceback": [
            "\u001b[0;31m---------------------------------------------------------------------------\u001b[0m",
            "\u001b[0;31mNameError\u001b[0m                                 Traceback (most recent call last)",
            "\u001b[0;32m<ipython-input-41-542622f59d19>\u001b[0m in \u001b[0;36m<module>\u001b[0;34m()\u001b[0m\n\u001b[1;32m      2\u001b[0m \u001b[0myerr\u001b[0m \u001b[0;34m=\u001b[0m \u001b[0mnp\u001b[0m\u001b[0;34m.\u001b[0m\u001b[0mstd\u001b[0m\u001b[0;34m(\u001b[0m\u001b[0mOutput\u001b[0m\u001b[0;34m,\u001b[0m \u001b[0maxis\u001b[0m\u001b[0;34m=\u001b[0m\u001b[0;36m0\u001b[0m\u001b[0;34m)\u001b[0m\u001b[0;34m\u001b[0m\u001b[0;34m\u001b[0m\u001b[0m\n\u001b[1;32m      3\u001b[0m \u001b[0;34m\u001b[0m\u001b[0m\n\u001b[0;32m----> 4\u001b[0;31m \u001b[0mplt\u001b[0m\u001b[0;34m.\u001b[0m\u001b[0merrorbar\u001b[0m\u001b[0;34m(\u001b[0m\u001b[0mt\u001b[0m\u001b[0;34m,\u001b[0m\u001b[0myavg\u001b[0m\u001b[0;34m,\u001b[0m\u001b[0myerr\u001b[0m\u001b[0;34m)\u001b[0m\u001b[0;34m\u001b[0m\u001b[0;34m\u001b[0m\u001b[0m\n\u001b[0m\u001b[1;32m      5\u001b[0m \u001b[0mplt\u001b[0m\u001b[0;34m.\u001b[0m\u001b[0mxlabel\u001b[0m\u001b[0;34m(\u001b[0m\u001b[0;34m'x'\u001b[0m\u001b[0;34m)\u001b[0m\u001b[0;34m\u001b[0m\u001b[0;34m\u001b[0m\u001b[0m\n\u001b[1;32m      6\u001b[0m \u001b[0;31m# plt.xlabel('time (days)')   # for myodes\u001b[0m\u001b[0;34m\u001b[0m\u001b[0;34m\u001b[0m\u001b[0;34m\u001b[0m\u001b[0m\n",
            "\u001b[0;31mNameError\u001b[0m: name 't' is not defined"
          ]
        }
      ]
    },
    {
      "cell_type": "markdown",
      "metadata": {
        "id": "3XF6evQB_6ZN"
      },
      "source": [
        "### Compute partial rank correlation coefficients to compare simulation outputs with parameters"
      ]
    },
    {
      "cell_type": "code",
      "metadata": {
        "id": "O5Tbw-Id6ghf"
      },
      "source": [
        "SampleResult=[]\n",
        "\n",
        "x_idx = 11          # time or location index of sim results \n",
        "x_idx2= x_idx+1     #   to compare w/ param sample vals\n",
        "\n",
        "LHS=[*zip(*LHSparams)]\n",
        "LHSarray=np.array(LHS)\n",
        "Outputarray=np.array(Output)\n",
        "subOut=Outputarray[0:,x_idx:x_idx2]\n",
        "\n",
        "LHSout = np.hstack((LHSarray,subOut))\n",
        "SampleResult = LHSout.tolist()\n",
        "\n",
        "\n",
        "Ranks=[]\n",
        "              \n",
        "for s in range(sampleCount):\n",
        "\n",
        "    indices = list(range(len(SampleResult[s])))\n",
        "    indices.sort(key=lambda k: SampleResult[s][k])\n",
        "    r = [0] * len(indices)\n",
        "    for i, k in enumerate(indices):\n",
        "        r[k] = i\n",
        "\n",
        "    Ranks.append(r)\n",
        "\n",
        "  \n",
        "C=np.corrcoef(Ranks);\n",
        "\n",
        "if np.linalg.det(C) < 1e-16: # determine if singular\n",
        "    Cinv = np.linalg.pinv(C) # may need to use pseudo inverse\n",
        "else:\n",
        "    Cinv = np.linalg.inv(C) \n",
        "\n",
        "resultIdx = parameterCount+1\n",
        "prcc=np.zeros(resultIdx)\n",
        "\n",
        "for w in range(parameterCount): # compute PRCC btwn each param & sim result\n",
        "    prcc[w]=-Cinv[w,resultIdx]/np.sqrt(Cinv[w,w]*Cinv[resultIdx,resultIdx])\n"
      ],
      "execution_count": 42,
      "outputs": []
    },
    {
      "cell_type": "markdown",
      "metadata": {
        "id": "86N98EtCOflg"
      },
      "source": [
        "### Plot the PRCCs for each parameter"
      ]
    },
    {
      "cell_type": "code",
      "metadata": {
        "id": "eSa2rx_jOepg",
        "colab": {
          "base_uri": "https://localhost:8080/",
          "height": 296
        },
        "outputId": "46c03436-0769-432f-88d0-46b161ce4d39"
      },
      "source": [
        "xp=[i for i in range(parameterCount)]\n",
        "\n",
        "plt.bar(xp,prcc[0:parameterCount], align='center')\n",
        "\n",
        "bLabels=list(parameters.keys())\n",
        "plt.xticks(xp, bLabels)\n",
        "\n",
        "plt.ylabel('PRCC value');\n",
        "\n",
        "N=str(sampleCount)\n",
        "loc=str(x_idx)\n",
        "plt.title('Partial rank correlation of params with ' + labelstring \n",
        "          + ' results \\n from ' + N + ' LHS sims, at x = ' +loc);\n",
        "\n",
        "plt.show()"
      ],
      "execution_count": 43,
      "outputs": [
        {
          "output_type": "display_data",
          "data": {
            "text/plain": [
              "<Figure size 432x288 with 1 Axes>"
            ],
            "image/png": "[encoded data removed]"
          },
          "metadata": {
            "needs_background": "light"
          }
        }
      ]
    },
    {
      "cell_type": "markdown",
      "metadata": {
        "id": "uZG94ERF6it_"
      },
      "source": [
        "### Can also do PRCCs over time... "
      ]
    },
    {
      "cell_type": "code",
      "metadata": {
        "id": "Bja6BJWBYhou"
      },
      "source": [
        "SampleResult=[]\n",
        "\n",
        "resultIdx = parameterCount+1\n",
        "prcc=np.zeros((resultIdx,len(x)))\n",
        "\n",
        "LHS=[*zip(*LHSparams)]\n",
        "LHSarray=np.array(LHS)\n",
        "Outputarray=np.array(Output)\n",
        "\n",
        "for xi in range(len(x)):  # loop through time or location of sim results \n",
        "    xi2  = xi+1           # to compare w/ parameter sample vals\n",
        "\n",
        "\n",
        "    subOut = Outputarray[0:,xi:xi2]\n",
        "\n",
        "    LHSout = np.hstack((LHSarray,subOut))\n",
        "    SampleResult = LHSout.tolist()\n",
        "\n",
        "\n",
        "    Ranks=[]\n",
        "              \n",
        "    for s in range(sampleCount):\n",
        "              \n",
        "      indices = list(range(len(SampleResult[s])))\n",
        "      indices.sort(key=lambda k: SampleResult[s][k])\n",
        "      r = [0] * len(indices)\n",
        "      for i, k in enumerate(indices):\n",
        "          r[k] = i\n",
        "      \n",
        "      Ranks.append(r)\n",
        "\n",
        "  \n",
        "    C=np.corrcoef(Ranks);\n",
        "\n",
        "    if np.linalg.det(C) < 1e-16: # determine if singular\n",
        "        Cinv = np.linalg.pinv(C)   # may need to use pseudo inverse\n",
        "    else:\n",
        "        Cinv = np.linalg.inv(C) \n",
        "\n",
        "    for w in range(parameterCount):  # compute PRCC btwn each param & sim result\n",
        "        prcc[w,xi]=-Cinv[w,resultIdx]/np.sqrt(Cinv[w,w]*Cinv[resultIdx,resultIdx]) "
      ],
      "execution_count": 44,
      "outputs": []
    },
    {
      "cell_type": "markdown",
      "metadata": {
        "id": "ay8DGC1Veyrn"
      },
      "source": [
        "### Plot PRCC values as they vary over time or space.\n",
        "#### *Notice PRCC can change with respect to the independent variable (x-axis). This may be helpful for certain applications, as opposed to only looking at a \"snapshot.\"*"
      ]
    },
    {
      "cell_type": "code",
      "metadata": {
        "id": "01aiOrI7b2VN",
        "colab": {
          "base_uri": "https://localhost:8080/",
          "height": 310
        },
        "outputId": "01b411be-f6b5-4ae6-9d55-5be53581ddf9"
      },
      "source": [
        "for p in range(parameterCount):\n",
        "    plt.plot(x,prcc[p,])\n",
        "\n",
        "\n",
        "labels=list(parameters.keys())\n",
        "plt.legend(labels)\n",
        "\n",
        "plt.ylabel('PRCC value');\n",
        "plt.xlabel('x')\n",
        "\n",
        "N=str(sampleCount)\n",
        "plt.title('Partial rank correlation of params with ' + labelstring \n",
        "          + ' results \\n from ' + N + ' LHS sims');\n",
        "\n",
        "plt.show()"
      ],
      "execution_count": 45,
      "outputs": [
        {
          "output_type": "display_data",
          "data": {
            "text/plain": [
              "<Figure size 432x288 with 1 Axes>"
            ],
            "image/png": "[encoded data removed]"
          },
          "metadata": {
            "needs_background": "light"
          }
        }
      ]
    },
    {
      "cell_type": "markdown",
      "metadata": {
        "id": "2z8fXWcYxalX"
      },
      "source": [
        "##That's it, you're done! Happy modeling."
      ]
    }
  ]
}