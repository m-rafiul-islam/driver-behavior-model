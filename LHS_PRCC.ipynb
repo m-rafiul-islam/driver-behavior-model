{
  "nbformat": 4,
  "nbformat_minor": 0,
  "metadata": {
    "colab": {
      "name": "LHS-PRCC.ipynb",
      "provenance": [],
      "collapsed_sections": [],
      "toc_visible": true,
      "include_colab_link": true
    },
    "language_info": {
      "codemirror_mode": {
        "name": "ipython",
        "version": 3
      },
      "file_extension": ".py",
      "mimetype": "text/x-python",
      "name": "python",
      "nbconvert_exporter": "python",
      "pygments_lexer": "ipython3",
      "version": "3.7.3"
    },
    "kernelspec": {
      "display_name": "Python 3",
      "language": "python",
      "name": "python3"
    },
    "widgets": {
      "application/vnd.jupyter.widget-state+json": {
        "401cb2e0669f48539386c64f3ee2a62e": {
          "model_module": "@jupyter-widgets/controls",
          "model_name": "VBoxModel",
          "model_module_version": "1.5.0",
          "state": {
            "_dom_classes": [
              "widget-interact"
            ],
            "_model_module": "@jupyter-widgets/controls",
            "_model_module_version": "1.5.0",
            "_model_name": "VBoxModel",
            "_view_count": null,
            "_view_module": "@jupyter-widgets/controls",
            "_view_module_version": "1.5.0",
            "_view_name": "VBoxView",
            "box_style": "",
            "children": [
              "IPY_MODEL_5fda20e063b24d239d8f7b61e666eda3",
              "IPY_MODEL_fb47694af2404a3f9d0b76b663face1f",
              "IPY_MODEL_a89d3219e0b64912bb4653639f456e2f"
            ],
            "layout": "IPY_MODEL_bd89d704e96e4722b2dd9744d00451f9"
          }
        },
        "5fda20e063b24d239d8f7b61e666eda3": {
          "model_module": "@jupyter-widgets/controls",
          "model_name": "TextModel",
          "model_module_version": "1.5.0",
          "state": {
            "_dom_classes": [],
            "_model_module": "@jupyter-widgets/controls",
            "_model_module_version": "1.5.0",
            "_model_name": "TextModel",
            "_view_count": null,
            "_view_module": "@jupyter-widgets/controls",
            "_view_module_version": "1.5.0",
            "_view_name": "TextView",
            "continuous_update": true,
            "description": "Name",
            "description_tooltip": null,
            "disabled": false,
            "layout": "IPY_MODEL_bb32d69c1cca48c4b776324944b42476",
            "placeholder": "​",
            "style": "IPY_MODEL_7873194ff7db47fa87a406e8e2f00427",
            "value": "a"
          }
        },
        "fb47694af2404a3f9d0b76b663face1f": {
          "model_module": "@jupyter-widgets/controls",
          "model_name": "DropdownModel",
          "model_module_version": "1.5.0",
          "state": {
            "_dom_classes": [],
            "_model_module": "@jupyter-widgets/controls",
            "_model_module_version": "1.5.0",
            "_model_name": "DropdownModel",
            "_options_labels": [
              "uniform",
              "normal",
              "triangle"
            ],
            "_view_count": null,
            "_view_module": "@jupyter-widgets/controls",
            "_view_module_version": "1.5.0",
            "_view_name": "DropdownView",
            "description": "Distribution",
            "description_tooltip": null,
            "disabled": false,
            "index": 0,
            "layout": "IPY_MODEL_f6495d4e84524785b5ec3f8c9662519f",
            "style": "IPY_MODEL_cae5ca5b306441daab47478d394a2b82"
          }
        },
        "a89d3219e0b64912bb4653639f456e2f": {
          "model_module": "@jupyter-widgets/output",
          "model_name": "OutputModel",
          "model_module_version": "1.0.0",
          "state": {
            "_dom_classes": [],
            "_model_module": "@jupyter-widgets/output",
            "_model_module_version": "1.0.0",
            "_model_name": "OutputModel",
            "_view_count": null,
            "_view_module": "@jupyter-widgets/output",
            "_view_module_version": "1.0.0",
            "_view_name": "OutputView",
            "layout": "IPY_MODEL_5215f7d117ac401ea3478672b9e3a94a",
            "msg_id": "",
            "outputs": []
          }
        },
        "bd89d704e96e4722b2dd9744d00451f9": {
          "model_module": "@jupyter-widgets/base",
          "model_name": "LayoutModel",
          "model_module_version": "1.2.0",
          "state": {
            "_model_module": "@jupyter-widgets/base",
            "_model_module_version": "1.2.0",
            "_model_name": "LayoutModel",
            "_view_count": null,
            "_view_module": "@jupyter-widgets/base",
            "_view_module_version": "1.2.0",
            "_view_name": "LayoutView",
            "align_content": null,
            "align_items": null,
            "align_self": null,
            "border": null,
            "bottom": null,
            "display": null,
            "flex": null,
            "flex_flow": null,
            "grid_area": null,
            "grid_auto_columns": null,
            "grid_auto_flow": null,
            "grid_auto_rows": null,
            "grid_column": null,
            "grid_gap": null,
            "grid_row": null,
            "grid_template_areas": null,
            "grid_template_columns": null,
            "grid_template_rows": null,
            "height": null,
            "justify_content": null,
            "justify_items": null,
            "left": null,
            "margin": null,
            "max_height": null,
            "max_width": null,
            "min_height": null,
            "min_width": null,
            "object_fit": null,
            "object_position": null,
            "order": null,
            "overflow": null,
            "overflow_x": null,
            "overflow_y": null,
            "padding": null,
            "right": null,
            "top": null,
            "visibility": null,
            "width": null
          }
        },
        "bb32d69c1cca48c4b776324944b42476": {
          "model_module": "@jupyter-widgets/base",
          "model_name": "LayoutModel",
          "model_module_version": "1.2.0",
          "state": {
            "_model_module": "@jupyter-widgets/base",
            "_model_module_version": "1.2.0",
            "_model_name": "LayoutModel",
            "_view_count": null,
            "_view_module": "@jupyter-widgets/base",
            "_view_module_version": "1.2.0",
            "_view_name": "LayoutView",
            "align_content": null,
            "align_items": null,
            "align_self": null,
            "border": null,
            "bottom": null,
            "display": null,
            "flex": null,
            "flex_flow": null,
            "grid_area": null,
            "grid_auto_columns": null,
            "grid_auto_flow": null,
            "grid_auto_rows": null,
            "grid_column": null,
            "grid_gap": null,
            "grid_row": null,
            "grid_template_areas": null,
            "grid_template_columns": null,
            "grid_template_rows": null,
            "height": null,
            "justify_content": null,
            "justify_items": null,
            "left": null,
            "margin": null,
            "max_height": null,
            "max_width": null,
            "min_height": null,
            "min_width": null,
            "object_fit": null,
            "object_position": null,
            "order": null,
            "overflow": null,
            "overflow_x": null,
            "overflow_y": null,
            "padding": null,
            "right": null,
            "top": null,
            "visibility": null,
            "width": null
          }
        },
        "7873194ff7db47fa87a406e8e2f00427": {
          "model_module": "@jupyter-widgets/controls",
          "model_name": "DescriptionStyleModel",
          "model_module_version": "1.5.0",
          "state": {
            "_model_module": "@jupyter-widgets/controls",
            "_model_module_version": "1.5.0",
            "_model_name": "DescriptionStyleModel",
            "_view_count": null,
            "_view_module": "@jupyter-widgets/base",
            "_view_module_version": "1.2.0",
            "_view_name": "StyleView",
            "description_width": ""
          }
        },
        "f6495d4e84524785b5ec3f8c9662519f": {
          "model_module": "@jupyter-widgets/base",
          "model_name": "LayoutModel",
          "model_module_version": "1.2.0",
          "state": {
            "_model_module": "@jupyter-widgets/base",
            "_model_module_version": "1.2.0",
            "_model_name": "LayoutModel",
            "_view_count": null,
            "_view_module": "@jupyter-widgets/base",
            "_view_module_version": "1.2.0",
            "_view_name": "LayoutView",
            "align_content": null,
            "align_items": null,
            "align_self": null,
            "border": null,
            "bottom": null,
            "display": null,
            "flex": null,
            "flex_flow": null,
            "grid_area": null,
            "grid_auto_columns": null,
            "grid_auto_flow": null,
            "grid_auto_rows": null,
            "grid_column": null,
            "grid_gap": null,
            "grid_row": null,
            "grid_template_areas": null,
            "grid_template_columns": null,
            "grid_template_rows": null,
            "height": null,
            "justify_content": null,
            "justify_items": null,
            "left": null,
            "margin": null,
            "max_height": null,
            "max_width": null,
            "min_height": null,
            "min_width": null,
            "object_fit": null,
            "object_position": null,
            "order": null,
            "overflow": null,
            "overflow_x": null,
            "overflow_y": null,
            "padding": null,
            "right": null,
            "top": null,
            "visibility": null,
            "width": null
          }
        },
        "cae5ca5b306441daab47478d394a2b82": {
          "model_module": "@jupyter-widgets/controls",
          "model_name": "DescriptionStyleModel",
          "model_module_version": "1.5.0",
          "state": {
            "_model_module": "@jupyter-widgets/controls",
            "_model_module_version": "1.5.0",
            "_model_name": "DescriptionStyleModel",
            "_view_count": null,
            "_view_module": "@jupyter-widgets/base",
            "_view_module_version": "1.2.0",
            "_view_name": "StyleView",
            "description_width": ""
          }
        },
        "5215f7d117ac401ea3478672b9e3a94a": {
          "model_module": "@jupyter-widgets/base",
          "model_name": "LayoutModel",
          "model_module_version": "1.2.0",
          "state": {
            "_model_module": "@jupyter-widgets/base",
            "_model_module_version": "1.2.0",
            "_model_name": "LayoutModel",
            "_view_count": null,
            "_view_module": "@jupyter-widgets/base",
            "_view_module_version": "1.2.0",
            "_view_name": "LayoutView",
            "align_content": null,
            "align_items": null,
            "align_self": null,
            "border": null,
            "bottom": null,
            "display": null,
            "flex": null,
            "flex_flow": null,
            "grid_area": null,
            "grid_auto_columns": null,
            "grid_auto_flow": null,
            "grid_auto_rows": null,
            "grid_column": null,
            "grid_gap": null,
            "grid_row": null,
            "grid_template_areas": null,
            "grid_template_columns": null,
            "grid_template_rows": null,
            "height": null,
            "justify_content": null,
            "justify_items": null,
            "left": null,
            "margin": null,
            "max_height": null,
            "max_width": null,
            "min_height": null,
            "min_width": null,
            "object_fit": null,
            "object_position": null,
            "order": null,
            "overflow": null,
            "overflow_x": null,
            "overflow_y": null,
            "padding": null,
            "right": null,
            "top": null,
            "visibility": null,
            "width": null
          }
        },
        "a9f2379d4df8433eb44f30f1773f07a8": {
          "model_module": "@jupyter-widgets/controls",
          "model_name": "VBoxModel",
          "model_module_version": "1.5.0",
          "state": {
            "_dom_classes": [
              "widget-interact"
            ],
            "_model_module": "@jupyter-widgets/controls",
            "_model_module_version": "1.5.0",
            "_model_name": "VBoxModel",
            "_view_count": null,
            "_view_module": "@jupyter-widgets/controls",
            "_view_module_version": "1.5.0",
            "_view_name": "VBoxView",
            "box_style": "",
            "children": [
              "IPY_MODEL_fc34440bb8164877bc48c70bdee17e3f",
              "IPY_MODEL_bd77a4b0ee124c55943df2a46a9fe2d7",
              "IPY_MODEL_44739b37e60342069ff3caa662a4d863"
            ],
            "layout": "IPY_MODEL_2e8a00c6a0bd4a18be8cec211a886625"
          }
        },
        "fc34440bb8164877bc48c70bdee17e3f": {
          "model_module": "@jupyter-widgets/controls",
          "model_name": "TextModel",
          "model_module_version": "1.5.0",
          "state": {
            "_dom_classes": [],
            "_model_module": "@jupyter-widgets/controls",
            "_model_module_version": "1.5.0",
            "_model_name": "TextModel",
            "_view_count": null,
            "_view_module": "@jupyter-widgets/controls",
            "_view_module_version": "1.5.0",
            "_view_name": "TextView",
            "continuous_update": true,
            "description": "Name",
            "description_tooltip": null,
            "disabled": false,
            "layout": "IPY_MODEL_8966d32709974bd18add61c970125d08",
            "placeholder": "​",
            "style": "IPY_MODEL_bc700c7863f546fb8c7b2ec4581be1b4",
            "value": "delta"
          }
        },
        "bd77a4b0ee124c55943df2a46a9fe2d7": {
          "model_module": "@jupyter-widgets/controls",
          "model_name": "DropdownModel",
          "model_module_version": "1.5.0",
          "state": {
            "_dom_classes": [],
            "_model_module": "@jupyter-widgets/controls",
            "_model_module_version": "1.5.0",
            "_model_name": "DropdownModel",
            "_options_labels": [
              "uniform",
              "normal",
              "triangle"
            ],
            "_view_count": null,
            "_view_module": "@jupyter-widgets/controls",
            "_view_module_version": "1.5.0",
            "_view_name": "DropdownView",
            "description": "Distribution",
            "description_tooltip": null,
            "disabled": false,
            "index": 0,
            "layout": "IPY_MODEL_397d072a38c5438b9b2f557c2c7ac2b0",
            "style": "IPY_MODEL_1724998572bc4601b7c422e2c794a093"
          }
        },
        "44739b37e60342069ff3caa662a4d863": {
          "model_module": "@jupyter-widgets/output",
          "model_name": "OutputModel",
          "model_module_version": "1.0.0",
          "state": {
            "_dom_classes": [],
            "_model_module": "@jupyter-widgets/output",
            "_model_module_version": "1.0.0",
            "_model_name": "OutputModel",
            "_view_count": null,
            "_view_module": "@jupyter-widgets/output",
            "_view_module_version": "1.0.0",
            "_view_name": "OutputView",
            "layout": "IPY_MODEL_7d57158e1aab4f9a89ba4586446f64a7",
            "msg_id": "",
            "outputs": []
          }
        },
        "2e8a00c6a0bd4a18be8cec211a886625": {
          "model_module": "@jupyter-widgets/base",
          "model_name": "LayoutModel",
          "model_module_version": "1.2.0",
          "state": {
            "_model_module": "@jupyter-widgets/base",
            "_model_module_version": "1.2.0",
            "_model_name": "LayoutModel",
            "_view_count": null,
            "_view_module": "@jupyter-widgets/base",
            "_view_module_version": "1.2.0",
            "_view_name": "LayoutView",
            "align_content": null,
            "align_items": null,
            "align_self": null,
            "border": null,
            "bottom": null,
            "display": null,
            "flex": null,
            "flex_flow": null,
            "grid_area": null,
            "grid_auto_columns": null,
            "grid_auto_flow": null,
            "grid_auto_rows": null,
            "grid_column": null,
            "grid_gap": null,
            "grid_row": null,
            "grid_template_areas": null,
            "grid_template_columns": null,
            "grid_template_rows": null,
            "height": null,
            "justify_content": null,
            "justify_items": null,
            "left": null,
            "margin": null,
            "max_height": null,
            "max_width": null,
            "min_height": null,
            "min_width": null,
            "object_fit": null,
            "object_position": null,
            "order": null,
            "overflow": null,
            "overflow_x": null,
            "overflow_y": null,
            "padding": null,
            "right": null,
            "top": null,
            "visibility": null,
            "width": null
          }
        },
        "8966d32709974bd18add61c970125d08": {
          "model_module": "@jupyter-widgets/base",
          "model_name": "LayoutModel",
          "model_module_version": "1.2.0",
          "state": {
            "_model_module": "@jupyter-widgets/base",
            "_model_module_version": "1.2.0",
            "_model_name": "LayoutModel",
            "_view_count": null,
            "_view_module": "@jupyter-widgets/base",
            "_view_module_version": "1.2.0",
            "_view_name": "LayoutView",
            "align_content": null,
            "align_items": null,
            "align_self": null,
            "border": null,
            "bottom": null,
            "display": null,
            "flex": null,
            "flex_flow": null,
            "grid_area": null,
            "grid_auto_columns": null,
            "grid_auto_flow": null,
            "grid_auto_rows": null,
            "grid_column": null,
            "grid_gap": null,
            "grid_row": null,
            "grid_template_areas": null,
            "grid_template_columns": null,
            "grid_template_rows": null,
            "height": null,
            "justify_content": null,
            "justify_items": null,
            "left": null,
            "margin": null,
            "max_height": null,
            "max_width": null,
            "min_height": null,
            "min_width": null,
            "object_fit": null,
            "object_position": null,
            "order": null,
            "overflow": null,
            "overflow_x": null,
            "overflow_y": null,
            "padding": null,
            "right": null,
            "top": null,
            "visibility": null,
            "width": null
          }
        },
        "bc700c7863f546fb8c7b2ec4581be1b4": {
          "model_module": "@jupyter-widgets/controls",
          "model_name": "DescriptionStyleModel",
          "model_module_version": "1.5.0",
          "state": {
            "_model_module": "@jupyter-widgets/controls",
            "_model_module_version": "1.5.0",
            "_model_name": "DescriptionStyleModel",
            "_view_count": null,
            "_view_module": "@jupyter-widgets/base",
            "_view_module_version": "1.2.0",
            "_view_name": "StyleView",
            "description_width": ""
          }
        },
        "397d072a38c5438b9b2f557c2c7ac2b0": {
          "model_module": "@jupyter-widgets/base",
          "model_name": "LayoutModel",
          "model_module_version": "1.2.0",
          "state": {
            "_model_module": "@jupyter-widgets/base",
            "_model_module_version": "1.2.0",
            "_model_name": "LayoutModel",
            "_view_count": null,
            "_view_module": "@jupyter-widgets/base",
            "_view_module_version": "1.2.0",
            "_view_name": "LayoutView",
            "align_content": null,
            "align_items": null,
            "align_self": null,
            "border": null,
            "bottom": null,
            "display": null,
            "flex": null,
            "flex_flow": null,
            "grid_area": null,
            "grid_auto_columns": null,
            "grid_auto_flow": null,
            "grid_auto_rows": null,
            "grid_column": null,
            "grid_gap": null,
            "grid_row": null,
            "grid_template_areas": null,
            "grid_template_columns": null,
            "grid_template_rows": null,
            "height": null,
            "justify_content": null,
            "justify_items": null,
            "left": null,
            "margin": null,
            "max_height": null,
            "max_width": null,
            "min_height": null,
            "min_width": null,
            "object_fit": null,
            "object_position": null,
            "order": null,
            "overflow": null,
            "overflow_x": null,
            "overflow_y": null,
            "padding": null,
            "right": null,
            "top": null,
            "visibility": null,
            "width": null
          }
        },
        "1724998572bc4601b7c422e2c794a093": {
          "model_module": "@jupyter-widgets/controls",
          "model_name": "DescriptionStyleModel",
          "model_module_version": "1.5.0",
          "state": {
            "_model_module": "@jupyter-widgets/controls",
            "_model_module_version": "1.5.0",
            "_model_name": "DescriptionStyleModel",
            "_view_count": null,
            "_view_module": "@jupyter-widgets/base",
            "_view_module_version": "1.2.0",
            "_view_name": "StyleView",
            "description_width": ""
          }
        },
        "7d57158e1aab4f9a89ba4586446f64a7": {
          "model_module": "@jupyter-widgets/base",
          "model_name": "LayoutModel",
          "model_module_version": "1.2.0",
          "state": {
            "_model_module": "@jupyter-widgets/base",
            "_model_module_version": "1.2.0",
            "_model_name": "LayoutModel",
            "_view_count": null,
            "_view_module": "@jupyter-widgets/base",
            "_view_module_version": "1.2.0",
            "_view_name": "LayoutView",
            "align_content": null,
            "align_items": null,
            "align_self": null,
            "border": null,
            "bottom": null,
            "display": null,
            "flex": null,
            "flex_flow": null,
            "grid_area": null,
            "grid_auto_columns": null,
            "grid_auto_flow": null,
            "grid_auto_rows": null,
            "grid_column": null,
            "grid_gap": null,
            "grid_row": null,
            "grid_template_areas": null,
            "grid_template_columns": null,
            "grid_template_rows": null,
            "height": null,
            "justify_content": null,
            "justify_items": null,
            "left": null,
            "margin": null,
            "max_height": null,
            "max_width": null,
            "min_height": null,
            "min_width": null,
            "object_fit": null,
            "object_position": null,
            "order": null,
            "overflow": null,
            "overflow_x": null,
            "overflow_y": null,
            "padding": null,
            "right": null,
            "top": null,
            "visibility": null,
            "width": null
          }
        },
        "70110212d2734c4d9d1257c05cc0c6d9": {
          "model_module": "@jupyter-widgets/controls",
          "model_name": "VBoxModel",
          "model_module_version": "1.5.0",
          "state": {
            "_dom_classes": [
              "widget-interact"
            ],
            "_model_module": "@jupyter-widgets/controls",
            "_model_module_version": "1.5.0",
            "_model_name": "VBoxModel",
            "_view_count": null,
            "_view_module": "@jupyter-widgets/controls",
            "_view_module_version": "1.5.0",
            "_view_name": "VBoxView",
            "box_style": "",
            "children": [
              "IPY_MODEL_1a5e5ca7daaa4a499ba078d1d50dfe1c",
              "IPY_MODEL_6c1a732807b6450cb23e5218936c84e4",
              "IPY_MODEL_660b0e51074b440a9dd7c27758ebe5aa"
            ],
            "layout": "IPY_MODEL_1770808617ae4b7488772a095dd78655"
          }
        },
        "1a5e5ca7daaa4a499ba078d1d50dfe1c": {
          "model_module": "@jupyter-widgets/controls",
          "model_name": "TextModel",
          "model_module_version": "1.5.0",
          "state": {
            "_dom_classes": [],
            "_model_module": "@jupyter-widgets/controls",
            "_model_module_version": "1.5.0",
            "_model_name": "TextModel",
            "_view_count": null,
            "_view_module": "@jupyter-widgets/controls",
            "_view_module_version": "1.5.0",
            "_view_name": "TextView",
            "continuous_update": true,
            "description": "Name",
            "description_tooltip": null,
            "disabled": false,
            "layout": "IPY_MODEL_844f52b809c748b2958e7d7550d475eb",
            "placeholder": "​",
            "style": "IPY_MODEL_00efbd7121dc4b85a0a471ad2ccc34a4",
            "value": "beta"
          }
        },
        "6c1a732807b6450cb23e5218936c84e4": {
          "model_module": "@jupyter-widgets/controls",
          "model_name": "DropdownModel",
          "model_module_version": "1.5.0",
          "state": {
            "_dom_classes": [],
            "_model_module": "@jupyter-widgets/controls",
            "_model_module_version": "1.5.0",
            "_model_name": "DropdownModel",
            "_options_labels": [
              "uniform",
              "normal",
              "triangle"
            ],
            "_view_count": null,
            "_view_module": "@jupyter-widgets/controls",
            "_view_module_version": "1.5.0",
            "_view_name": "DropdownView",
            "description": "Distribution",
            "description_tooltip": null,
            "disabled": false,
            "index": 0,
            "layout": "IPY_MODEL_142d396f60d94a1f8d45b29279d2320c",
            "style": "IPY_MODEL_2ae4161110084c1295bcf41838aeaddb"
          }
        },
        "660b0e51074b440a9dd7c27758ebe5aa": {
          "model_module": "@jupyter-widgets/output",
          "model_name": "OutputModel",
          "model_module_version": "1.0.0",
          "state": {
            "_dom_classes": [],
            "_model_module": "@jupyter-widgets/output",
            "_model_module_version": "1.0.0",
            "_model_name": "OutputModel",
            "_view_count": null,
            "_view_module": "@jupyter-widgets/output",
            "_view_module_version": "1.0.0",
            "_view_name": "OutputView",
            "layout": "IPY_MODEL_62f3ff7f0e1c4e21aa843dd06d4e9a85",
            "msg_id": "",
            "outputs": []
          }
        },
        "1770808617ae4b7488772a095dd78655": {
          "model_module": "@jupyter-widgets/base",
          "model_name": "LayoutModel",
          "model_module_version": "1.2.0",
          "state": {
            "_model_module": "@jupyter-widgets/base",
            "_model_module_version": "1.2.0",
            "_model_name": "LayoutModel",
            "_view_count": null,
            "_view_module": "@jupyter-widgets/base",
            "_view_module_version": "1.2.0",
            "_view_name": "LayoutView",
            "align_content": null,
            "align_items": null,
            "align_self": null,
            "border": null,
            "bottom": null,
            "display": null,
            "flex": null,
            "flex_flow": null,
            "grid_area": null,
            "grid_auto_columns": null,
            "grid_auto_flow": null,
            "grid_auto_rows": null,
            "grid_column": null,
            "grid_gap": null,
            "grid_row": null,
            "grid_template_areas": null,
            "grid_template_columns": null,
            "grid_template_rows": null,
            "height": null,
            "justify_content": null,
            "justify_items": null,
            "left": null,
            "margin": null,
            "max_height": null,
            "max_width": null,
            "min_height": null,
            "min_width": null,
            "object_fit": null,
            "object_position": null,
            "order": null,
            "overflow": null,
            "overflow_x": null,
            "overflow_y": null,
            "padding": null,
            "right": null,
            "top": null,
            "visibility": null,
            "width": null
          }
        },
        "844f52b809c748b2958e7d7550d475eb": {
          "model_module": "@jupyter-widgets/base",
          "model_name": "LayoutModel",
          "model_module_version": "1.2.0",
          "state": {
            "_model_module": "@jupyter-widgets/base",
            "_model_module_version": "1.2.0",
            "_model_name": "LayoutModel",
            "_view_count": null,
            "_view_module": "@jupyter-widgets/base",
            "_view_module_version": "1.2.0",
            "_view_name": "LayoutView",
            "align_content": null,
            "align_items": null,
            "align_self": null,
            "border": null,
            "bottom": null,
            "display": null,
            "flex": null,
            "flex_flow": null,
            "grid_area": null,
            "grid_auto_columns": null,
            "grid_auto_flow": null,
            "grid_auto_rows": null,
            "grid_column": null,
            "grid_gap": null,
            "grid_row": null,
            "grid_template_areas": null,
            "grid_template_columns": null,
            "grid_template_rows": null,
            "height": null,
            "justify_content": null,
            "justify_items": null,
            "left": null,
            "margin": null,
            "max_height": null,
            "max_width": null,
            "min_height": null,
            "min_width": null,
            "object_fit": null,
            "object_position": null,
            "order": null,
            "overflow": null,
            "overflow_x": null,
            "overflow_y": null,
            "padding": null,
            "right": null,
            "top": null,
            "visibility": null,
            "width": null
          }
        },
        "00efbd7121dc4b85a0a471ad2ccc34a4": {
          "model_module": "@jupyter-widgets/controls",
          "model_name": "DescriptionStyleModel",
          "model_module_version": "1.5.0",
          "state": {
            "_model_module": "@jupyter-widgets/controls",
            "_model_module_version": "1.5.0",
            "_model_name": "DescriptionStyleModel",
            "_view_count": null,
            "_view_module": "@jupyter-widgets/base",
            "_view_module_version": "1.2.0",
            "_view_name": "StyleView",
            "description_width": ""
          }
        },
        "142d396f60d94a1f8d45b29279d2320c": {
          "model_module": "@jupyter-widgets/base",
          "model_name": "LayoutModel",
          "model_module_version": "1.2.0",
          "state": {
            "_model_module": "@jupyter-widgets/base",
            "_model_module_version": "1.2.0",
            "_model_name": "LayoutModel",
            "_view_count": null,
            "_view_module": "@jupyter-widgets/base",
            "_view_module_version": "1.2.0",
            "_view_name": "LayoutView",
            "align_content": null,
            "align_items": null,
            "align_self": null,
            "border": null,
            "bottom": null,
            "display": null,
            "flex": null,
            "flex_flow": null,
            "grid_area": null,
            "grid_auto_columns": null,
            "grid_auto_flow": null,
            "grid_auto_rows": null,
            "grid_column": null,
            "grid_gap": null,
            "grid_row": null,
            "grid_template_areas": null,
            "grid_template_columns": null,
            "grid_template_rows": null,
            "height": null,
            "justify_content": null,
            "justify_items": null,
            "left": null,
            "margin": null,
            "max_height": null,
            "max_width": null,
            "min_height": null,
            "min_width": null,
            "object_fit": null,
            "object_position": null,
            "order": null,
            "overflow": null,
            "overflow_x": null,
            "overflow_y": null,
            "padding": null,
            "right": null,
            "top": null,
            "visibility": null,
            "width": null
          }
        },
        "2ae4161110084c1295bcf41838aeaddb": {
          "model_module": "@jupyter-widgets/controls",
          "model_name": "DescriptionStyleModel",
          "model_module_version": "1.5.0",
          "state": {
            "_model_module": "@jupyter-widgets/controls",
            "_model_module_version": "1.5.0",
            "_model_name": "DescriptionStyleModel",
            "_view_count": null,
            "_view_module": "@jupyter-widgets/base",
            "_view_module_version": "1.2.0",
            "_view_name": "StyleView",
            "description_width": ""
          }
        },
        "62f3ff7f0e1c4e21aa843dd06d4e9a85": {
          "model_module": "@jupyter-widgets/base",
          "model_name": "LayoutModel",
          "model_module_version": "1.2.0",
          "state": {
            "_model_module": "@jupyter-widgets/base",
            "_model_module_version": "1.2.0",
            "_model_name": "LayoutModel",
            "_view_count": null,
            "_view_module": "@jupyter-widgets/base",
            "_view_module_version": "1.2.0",
            "_view_name": "LayoutView",
            "align_content": null,
            "align_items": null,
            "align_self": null,
            "border": null,
            "bottom": null,
            "display": null,
            "flex": null,
            "flex_flow": null,
            "grid_area": null,
            "grid_auto_columns": null,
            "grid_auto_flow": null,
            "grid_auto_rows": null,
            "grid_column": null,
            "grid_gap": null,
            "grid_row": null,
            "grid_template_areas": null,
            "grid_template_columns": null,
            "grid_template_rows": null,
            "height": null,
            "justify_content": null,
            "justify_items": null,
            "left": null,
            "margin": null,
            "max_height": null,
            "max_width": null,
            "min_height": null,
            "min_width": null,
            "object_fit": null,
            "object_position": null,
            "order": null,
            "overflow": null,
            "overflow_x": null,
            "overflow_y": null,
            "padding": null,
            "right": null,
            "top": null,
            "visibility": null,
            "width": null
          }
        },
        "56359445d9e9444289783dd76c7b17bd": {
          "model_module": "@jupyter-widgets/controls",
          "model_name": "FloatTextModel",
          "model_module_version": "1.5.0",
          "state": {
            "_dom_classes": [],
            "_model_module": "@jupyter-widgets/controls",
            "_model_module_version": "1.5.0",
            "_model_name": "FloatTextModel",
            "_view_count": null,
            "_view_module": "@jupyter-widgets/controls",
            "_view_module_version": "1.5.0",
            "_view_name": "FloatTextView",
            "continuous_update": false,
            "description": "Minimum:",
            "description_tooltip": null,
            "disabled": false,
            "layout": "IPY_MODEL_8333bc1367ec44708d705747e8ebbbd9",
            "step": null,
            "style": "IPY_MODEL_7eb2704298e5494195a2faca4bf3926a",
            "value": 0.75
          }
        },
        "8333bc1367ec44708d705747e8ebbbd9": {
          "model_module": "@jupyter-widgets/base",
          "model_name": "LayoutModel",
          "model_module_version": "1.2.0",
          "state": {
            "_model_module": "@jupyter-widgets/base",
            "_model_module_version": "1.2.0",
            "_model_name": "LayoutModel",
            "_view_count": null,
            "_view_module": "@jupyter-widgets/base",
            "_view_module_version": "1.2.0",
            "_view_name": "LayoutView",
            "align_content": null,
            "align_items": null,
            "align_self": null,
            "border": null,
            "bottom": null,
            "display": null,
            "flex": null,
            "flex_flow": null,
            "grid_area": null,
            "grid_auto_columns": null,
            "grid_auto_flow": null,
            "grid_auto_rows": null,
            "grid_column": null,
            "grid_gap": null,
            "grid_row": null,
            "grid_template_areas": null,
            "grid_template_columns": null,
            "grid_template_rows": null,
            "height": null,
            "justify_content": null,
            "justify_items": null,
            "left": null,
            "margin": null,
            "max_height": null,
            "max_width": null,
            "min_height": null,
            "min_width": null,
            "object_fit": null,
            "object_position": null,
            "order": null,
            "overflow": null,
            "overflow_x": null,
            "overflow_y": null,
            "padding": null,
            "right": null,
            "top": null,
            "visibility": null,
            "width": null
          }
        },
        "7eb2704298e5494195a2faca4bf3926a": {
          "model_module": "@jupyter-widgets/controls",
          "model_name": "DescriptionStyleModel",
          "model_module_version": "1.5.0",
          "state": {
            "_model_module": "@jupyter-widgets/controls",
            "_model_module_version": "1.5.0",
            "_model_name": "DescriptionStyleModel",
            "_view_count": null,
            "_view_module": "@jupyter-widgets/base",
            "_view_module_version": "1.2.0",
            "_view_name": "StyleView",
            "description_width": ""
          }
        },
        "05d12ed6799140a19102e50cc2ee29a0": {
          "model_module": "@jupyter-widgets/controls",
          "model_name": "FloatTextModel",
          "model_module_version": "1.5.0",
          "state": {
            "_dom_classes": [],
            "_model_module": "@jupyter-widgets/controls",
            "_model_module_version": "1.5.0",
            "_model_name": "FloatTextModel",
            "_view_count": null,
            "_view_module": "@jupyter-widgets/controls",
            "_view_module_version": "1.5.0",
            "_view_name": "FloatTextView",
            "continuous_update": false,
            "description": "Maximum:",
            "description_tooltip": null,
            "disabled": false,
            "layout": "IPY_MODEL_fad4a65c225c4af5ab934ce1f53fb3eb",
            "step": null,
            "style": "IPY_MODEL_81c3e835cf7744e5a55c323f18769cd5",
            "value": 3
          }
        },
        "fad4a65c225c4af5ab934ce1f53fb3eb": {
          "model_module": "@jupyter-widgets/base",
          "model_name": "LayoutModel",
          "model_module_version": "1.2.0",
          "state": {
            "_model_module": "@jupyter-widgets/base",
            "_model_module_version": "1.2.0",
            "_model_name": "LayoutModel",
            "_view_count": null,
            "_view_module": "@jupyter-widgets/base",
            "_view_module_version": "1.2.0",
            "_view_name": "LayoutView",
            "align_content": null,
            "align_items": null,
            "align_self": null,
            "border": null,
            "bottom": null,
            "display": null,
            "flex": null,
            "flex_flow": null,
            "grid_area": null,
            "grid_auto_columns": null,
            "grid_auto_flow": null,
            "grid_auto_rows": null,
            "grid_column": null,
            "grid_gap": null,
            "grid_row": null,
            "grid_template_areas": null,
            "grid_template_columns": null,
            "grid_template_rows": null,
            "height": null,
            "justify_content": null,
            "justify_items": null,
            "left": null,
            "margin": null,
            "max_height": null,
            "max_width": null,
            "min_height": null,
            "min_width": null,
            "object_fit": null,
            "object_position": null,
            "order": null,
            "overflow": null,
            "overflow_x": null,
            "overflow_y": null,
            "padding": null,
            "right": null,
            "top": null,
            "visibility": null,
            "width": null
          }
        },
        "81c3e835cf7744e5a55c323f18769cd5": {
          "model_module": "@jupyter-widgets/controls",
          "model_name": "DescriptionStyleModel",
          "model_module_version": "1.5.0",
          "state": {
            "_model_module": "@jupyter-widgets/controls",
            "_model_module_version": "1.5.0",
            "_model_name": "DescriptionStyleModel",
            "_view_count": null,
            "_view_module": "@jupyter-widgets/base",
            "_view_module_version": "1.2.0",
            "_view_name": "StyleView",
            "description_width": ""
          }
        },
        "db6e7c0047c942d8aa416d26d428ebfd": {
          "model_module": "@jupyter-widgets/controls",
          "model_name": "FloatTextModel",
          "model_module_version": "1.5.0",
          "state": {
            "_dom_classes": [],
            "_model_module": "@jupyter-widgets/controls",
            "_model_module_version": "1.5.0",
            "_model_name": "FloatTextModel",
            "_view_count": null,
            "_view_module": "@jupyter-widgets/controls",
            "_view_module_version": "1.5.0",
            "_view_name": "FloatTextView",
            "continuous_update": false,
            "description": "Minimum:",
            "description_tooltip": null,
            "disabled": false,
            "layout": "IPY_MODEL_2f0d79b57e404b9e93910902db6ea52f",
            "step": null,
            "style": "IPY_MODEL_a7a82e6cbc6c4b678d822c2c85cef56d",
            "value": 2
          }
        },
        "2f0d79b57e404b9e93910902db6ea52f": {
          "model_module": "@jupyter-widgets/base",
          "model_name": "LayoutModel",
          "model_module_version": "1.2.0",
          "state": {
            "_model_module": "@jupyter-widgets/base",
            "_model_module_version": "1.2.0",
            "_model_name": "LayoutModel",
            "_view_count": null,
            "_view_module": "@jupyter-widgets/base",
            "_view_module_version": "1.2.0",
            "_view_name": "LayoutView",
            "align_content": null,
            "align_items": null,
            "align_self": null,
            "border": null,
            "bottom": null,
            "display": null,
            "flex": null,
            "flex_flow": null,
            "grid_area": null,
            "grid_auto_columns": null,
            "grid_auto_flow": null,
            "grid_auto_rows": null,
            "grid_column": null,
            "grid_gap": null,
            "grid_row": null,
            "grid_template_areas": null,
            "grid_template_columns": null,
            "grid_template_rows": null,
            "height": null,
            "justify_content": null,
            "justify_items": null,
            "left": null,
            "margin": null,
            "max_height": null,
            "max_width": null,
            "min_height": null,
            "min_width": null,
            "object_fit": null,
            "object_position": null,
            "order": null,
            "overflow": null,
            "overflow_x": null,
            "overflow_y": null,
            "padding": null,
            "right": null,
            "top": null,
            "visibility": null,
            "width": null
          }
        },
        "a7a82e6cbc6c4b678d822c2c85cef56d": {
          "model_module": "@jupyter-widgets/controls",
          "model_name": "DescriptionStyleModel",
          "model_module_version": "1.5.0",
          "state": {
            "_model_module": "@jupyter-widgets/controls",
            "_model_module_version": "1.5.0",
            "_model_name": "DescriptionStyleModel",
            "_view_count": null,
            "_view_module": "@jupyter-widgets/base",
            "_view_module_version": "1.2.0",
            "_view_name": "StyleView",
            "description_width": ""
          }
        },
        "c8133f52e54b499f8f0bd6041769d49d": {
          "model_module": "@jupyter-widgets/controls",
          "model_name": "FloatTextModel",
          "model_module_version": "1.5.0",
          "state": {
            "_dom_classes": [],
            "_model_module": "@jupyter-widgets/controls",
            "_model_module_version": "1.5.0",
            "_model_name": "FloatTextModel",
            "_view_count": null,
            "_view_module": "@jupyter-widgets/controls",
            "_view_module_version": "1.5.0",
            "_view_name": "FloatTextView",
            "continuous_update": false,
            "description": "Maximum:",
            "description_tooltip": null,
            "disabled": false,
            "layout": "IPY_MODEL_54189f20b9634eed845c8c052c73689e",
            "step": null,
            "style": "IPY_MODEL_ef6589bee6444308a5c193018f7091dd",
            "value": 8
          }
        },
        "54189f20b9634eed845c8c052c73689e": {
          "model_module": "@jupyter-widgets/base",
          "model_name": "LayoutModel",
          "model_module_version": "1.2.0",
          "state": {
            "_model_module": "@jupyter-widgets/base",
            "_model_module_version": "1.2.0",
            "_model_name": "LayoutModel",
            "_view_count": null,
            "_view_module": "@jupyter-widgets/base",
            "_view_module_version": "1.2.0",
            "_view_name": "LayoutView",
            "align_content": null,
            "align_items": null,
            "align_self": null,
            "border": null,
            "bottom": null,
            "display": null,
            "flex": null,
            "flex_flow": null,
            "grid_area": null,
            "grid_auto_columns": null,
            "grid_auto_flow": null,
            "grid_auto_rows": null,
            "grid_column": null,
            "grid_gap": null,
            "grid_row": null,
            "grid_template_areas": null,
            "grid_template_columns": null,
            "grid_template_rows": null,
            "height": null,
            "justify_content": null,
            "justify_items": null,
            "left": null,
            "margin": null,
            "max_height": null,
            "max_width": null,
            "min_height": null,
            "min_width": null,
            "object_fit": null,
            "object_position": null,
            "order": null,
            "overflow": null,
            "overflow_x": null,
            "overflow_y": null,
            "padding": null,
            "right": null,
            "top": null,
            "visibility": null,
            "width": null
          }
        },
        "ef6589bee6444308a5c193018f7091dd": {
          "model_module": "@jupyter-widgets/controls",
          "model_name": "DescriptionStyleModel",
          "model_module_version": "1.5.0",
          "state": {
            "_model_module": "@jupyter-widgets/controls",
            "_model_module_version": "1.5.0",
            "_model_name": "DescriptionStyleModel",
            "_view_count": null,
            "_view_module": "@jupyter-widgets/base",
            "_view_module_version": "1.2.0",
            "_view_name": "StyleView",
            "description_width": ""
          }
        },
        "52851ce5a04843abbdba6818da80821e": {
          "model_module": "@jupyter-widgets/controls",
          "model_name": "FloatTextModel",
          "model_module_version": "1.5.0",
          "state": {
            "_dom_classes": [],
            "_model_module": "@jupyter-widgets/controls",
            "_model_module_version": "1.5.0",
            "_model_name": "FloatTextModel",
            "_view_count": null,
            "_view_module": "@jupyter-widgets/controls",
            "_view_module_version": "1.5.0",
            "_view_name": "FloatTextView",
            "continuous_update": false,
            "description": "Minimum:",
            "description_tooltip": null,
            "disabled": false,
            "layout": "IPY_MODEL_486d6e508e564f73ad5ec41a159fae52",
            "step": null,
            "style": "IPY_MODEL_0a3d01d48acb4ba9a59e22fb8d3fc3f7",
            "value": 1
          }
        },
        "486d6e508e564f73ad5ec41a159fae52": {
          "model_module": "@jupyter-widgets/base",
          "model_name": "LayoutModel",
          "model_module_version": "1.2.0",
          "state": {
            "_model_module": "@jupyter-widgets/base",
            "_model_module_version": "1.2.0",
            "_model_name": "LayoutModel",
            "_view_count": null,
            "_view_module": "@jupyter-widgets/base",
            "_view_module_version": "1.2.0",
            "_view_name": "LayoutView",
            "align_content": null,
            "align_items": null,
            "align_self": null,
            "border": null,
            "bottom": null,
            "display": null,
            "flex": null,
            "flex_flow": null,
            "grid_area": null,
            "grid_auto_columns": null,
            "grid_auto_flow": null,
            "grid_auto_rows": null,
            "grid_column": null,
            "grid_gap": null,
            "grid_row": null,
            "grid_template_areas": null,
            "grid_template_columns": null,
            "grid_template_rows": null,
            "height": null,
            "justify_content": null,
            "justify_items": null,
            "left": null,
            "margin": null,
            "max_height": null,
            "max_width": null,
            "min_height": null,
            "min_width": null,
            "object_fit": null,
            "object_position": null,
            "order": null,
            "overflow": null,
            "overflow_x": null,
            "overflow_y": null,
            "padding": null,
            "right": null,
            "top": null,
            "visibility": null,
            "width": null
          }
        },
        "0a3d01d48acb4ba9a59e22fb8d3fc3f7": {
          "model_module": "@jupyter-widgets/controls",
          "model_name": "DescriptionStyleModel",
          "model_module_version": "1.5.0",
          "state": {
            "_model_module": "@jupyter-widgets/controls",
            "_model_module_version": "1.5.0",
            "_model_name": "DescriptionStyleModel",
            "_view_count": null,
            "_view_module": "@jupyter-widgets/base",
            "_view_module_version": "1.2.0",
            "_view_name": "StyleView",
            "description_width": ""
          }
        },
        "b98c3ed8f1764bc6abed3a5d897f204c": {
          "model_module": "@jupyter-widgets/controls",
          "model_name": "FloatTextModel",
          "model_module_version": "1.5.0",
          "state": {
            "_dom_classes": [],
            "_model_module": "@jupyter-widgets/controls",
            "_model_module_version": "1.5.0",
            "_model_name": "FloatTextModel",
            "_view_count": null,
            "_view_module": "@jupyter-widgets/controls",
            "_view_module_version": "1.5.0",
            "_view_name": "FloatTextView",
            "continuous_update": false,
            "description": "Maximum:",
            "description_tooltip": null,
            "disabled": false,
            "layout": "IPY_MODEL_94a1b7d07ec140eca21a651467bd3aca",
            "step": null,
            "style": "IPY_MODEL_e95b1d5ab406433fa8da704f3b3733ba",
            "value": 4
          }
        },
        "94a1b7d07ec140eca21a651467bd3aca": {
          "model_module": "@jupyter-widgets/base",
          "model_name": "LayoutModel",
          "model_module_version": "1.2.0",
          "state": {
            "_model_module": "@jupyter-widgets/base",
            "_model_module_version": "1.2.0",
            "_model_name": "LayoutModel",
            "_view_count": null,
            "_view_module": "@jupyter-widgets/base",
            "_view_module_version": "1.2.0",
            "_view_name": "LayoutView",
            "align_content": null,
            "align_items": null,
            "align_self": null,
            "border": null,
            "bottom": null,
            "display": null,
            "flex": null,
            "flex_flow": null,
            "grid_area": null,
            "grid_auto_columns": null,
            "grid_auto_flow": null,
            "grid_auto_rows": null,
            "grid_column": null,
            "grid_gap": null,
            "grid_row": null,
            "grid_template_areas": null,
            "grid_template_columns": null,
            "grid_template_rows": null,
            "height": null,
            "justify_content": null,
            "justify_items": null,
            "left": null,
            "margin": null,
            "max_height": null,
            "max_width": null,
            "min_height": null,
            "min_width": null,
            "object_fit": null,
            "object_position": null,
            "order": null,
            "overflow": null,
            "overflow_x": null,
            "overflow_y": null,
            "padding": null,
            "right": null,
            "top": null,
            "visibility": null,
            "width": null
          }
        },
        "e95b1d5ab406433fa8da704f3b3733ba": {
          "model_module": "@jupyter-widgets/controls",
          "model_name": "DescriptionStyleModel",
          "model_module_version": "1.5.0",
          "state": {
            "_model_module": "@jupyter-widgets/controls",
            "_model_module_version": "1.5.0",
            "_model_name": "DescriptionStyleModel",
            "_view_count": null,
            "_view_module": "@jupyter-widgets/base",
            "_view_module_version": "1.2.0",
            "_view_name": "StyleView",
            "description_width": ""
          }
        }
      }
    }
  },
  "cells": [
    {
      "cell_type": "markdown",
      "metadata": {
        "id": "view-in-github",
        "colab_type": "text"
      },
      "source": [
        "<a href=\"https://colab.research.google.com/github/m-rafiul-islam/driver-behavior-model/blob/main/LHS_PRCC.ipynb\" target=\"_parent\"><img src=\"https://colab.research.google.com/assets/colab-badge.svg\" alt=\"Open In Colab\"/></a>"
      ]
    },
    {
      "cell_type": "markdown",
      "metadata": {
        "id": "LynXJ5FPHndO"
      },
      "source": [
        "# Latin Hypercube Sampling & Partial Rank Correlation Coefficients  <br/> *~ a method for analyzing model sensitivity to parameters ~*"
      ]
    },
    {
      "cell_type": "markdown",
      "metadata": {
        "id": "PHmmvxwMHndP"
      },
      "source": [
        "#### Importing packages that will be used."
      ]
    },
    {
      "cell_type": "code",
      "metadata": {
        "id": "ZC6x-a7WHndQ"
      },
      "source": [
        "import numpy as np\n",
        "\n",
        "from scipy import special\n",
        "\n",
        "import random\n",
        "\n",
        "from ipywidgets import interact, interactive, fixed, interact_manual\n",
        "import ipywidgets as widgets\n",
        "from IPython.display import display\n",
        "\n",
        "import pandas as pd\n",
        "\n",
        "import matplotlib.pyplot as plt\n"
      ],
      "execution_count": 6,
      "outputs": []
    },
    {
      "cell_type": "markdown",
      "metadata": {
        "id": "U0_okb6XHndS"
      },
      "source": [
        "### Specify the number of parameters to sample and the number of samples to draw from each parameter distribution. \n",
        "#### *Do not include any parameters that should be left fixed in parameterCount - those will be specified later. When choosing number of samples to draw, note that more samples (~ 1000) yields better results while fewer (~50) is faster for testing, since it requires fewer model solves.* "
      ]
    },
    {
      "cell_type": "code",
      "metadata": {
        "id": "EZy2ndbCHndT"
      },
      "source": [
        "# Number of parameters to sample \n",
        "parameterCount = 3;\n",
        "# Number of samples to draw for each parameter\n",
        "sampleCount = 100; # 1000 plus"
      ],
      "execution_count": 7,
      "outputs": []
    },
    {
      "cell_type": "markdown",
      "metadata": {
        "id": "i2vYkow7HndV"
      },
      "source": [
        "#### This defines functions for specifying sampled parameters' names and distributions  as well as drawing samples from a user-specified parameter distribution. Does not need any user edits."
      ]
    },
    {
      "cell_type": "code",
      "metadata": {
        "id": "O0kGl8MKHndV"
      },
      "source": [
        "def parNameDist(Name,Distribution):\n",
        "    paramTemp = {}\n",
        "    paramTemp['Name']=Name\n",
        "    paramTemp['Dist']=Distribution\n",
        "    \n",
        "    return paramTemp\n",
        "  \n",
        "def sampleDistrib(modelParamName,distrib,distribSpecs): \n",
        "    \n",
        "    if distrib == 'uniform':\n",
        "        \n",
        "        mmin = distribSpecs[0].value\n",
        "        mmax = distribSpecs[1].value\n",
        "        \n",
        "        intervalwidth = (mmax - mmin) / sampleCount      # width of each \n",
        "                                                         # sampling interval\n",
        "        samples = []\n",
        "        \n",
        "        for sample in range(sampleCount):\n",
        "            \n",
        "            lower = mmin + intervalwidth * (sample-1)    # lb of interval\n",
        "            upper = mmin + intervalwidth * (sample)      # ub of interval\n",
        "            \n",
        "            sampleVal = np.random.uniform(lower, upper)  # draw a random sample \n",
        "                                                         # within the interval\n",
        "            samples.append(sampleVal)\n",
        "\n",
        "    \n",
        "    \n",
        "    elif distrib == 'normal':\n",
        "        \n",
        "        mmean= distribSpecs[0].value\n",
        "        mvar = distribSpecs[1].value\n",
        "        \n",
        "        lower = mvar*np.sqrt(2)*special.erfinv(-0.9999)+mmean # set lb of 1st\n",
        "                                                              # sample interval\n",
        "        samples = []\n",
        "        \n",
        "        for sample in range(sampleCount):\n",
        "          \n",
        "            n = sample + 1\n",
        "            \n",
        "            if n != sampleCount:\n",
        "                upper = (np.sqrt(2*mvar)*special.erfinv(2*n/sampleCount-1)\n",
        "                         + mmean)                        # ub of sample interval\n",
        "            else:\n",
        "                upper = np.sqrt(2*mvar)*special.erfinv(0.9999) + mmean\n",
        " \n",
        "            sampleVal = np.random.uniform(lower, upper)  # draw a random sample \n",
        "                                                         # within the interval\n",
        "    \n",
        "            samples.append(sampleVal)\n",
        "\n",
        "            lower = upper           # set current ub as the lb for next interval\n",
        "            \n",
        "\n",
        "    \n",
        "    elif distrib == 'triangle':\n",
        "        \n",
        "        mmin = distribSpecs[0].value\n",
        "        mmax = distribSpecs[1].value\n",
        "        mmode= distribSpecs[2].value\n",
        "    \n",
        "        samples = []\n",
        "        \n",
        "        for sample in range(sampleCount):\n",
        "          \n",
        "            n = sample + 1\n",
        "            \n",
        "            intervalarea = 1/sampleCount \n",
        "            \n",
        "            ylower = intervalarea*(n-1) # use cdf to read off area as y's &\n",
        "            yupper = intervalarea*(n)   # get corresponding x's for the pdf\n",
        "        \n",
        "        \n",
        "            # Check to see if y values = cdf(x <= mmode) \n",
        "            # for calculating correxponding x values:\n",
        "            \n",
        "            if ylower <= ((mmode - mmin)/(mmax - mmin)):     \n",
        "                lower = np.sqrt(ylower*(mmax - mmin)*(mmode - mmin)) + mmin \n",
        "\n",
        "            else:\n",
        "                lower = mmax-np.sqrt((1 - ylower)*(mmax - mmin)*(mmax - mmode))\n",
        "\n",
        "            \n",
        "            if yupper <= ((mmode - mmin)/(mmax - mmin)):    \n",
        "                upper = np.sqrt(yupper*(mmax - mmin)*(mmode - mmin)) + mmin; \n",
        "\n",
        "            else:\n",
        "                upper = mmax-np.sqrt((1 - yupper)*(mmax - mmin)*(mmax - mmode))\n",
        "\n",
        "                \n",
        "            sampleVal = np.random.uniform(lower, upper)  \n",
        "            \n",
        "            samples.append(sampleVal)\n",
        "            \n",
        "    \n",
        "    b = int(np.ceil(sampleCount/10))\n",
        "    plt.hist(samples, density = 1, bins = b) \n",
        "    \n",
        "    B=str(b)\n",
        "    \n",
        "    plt.title('Histogram of ' + modelParamName \n",
        "              + ' parameter samples for ' + B + ' bins')\n",
        "    \n",
        "    plt.ylabel('proportion of samples');\n",
        "    plt.xlabel(modelParamName + ' value')\n",
        "    \n",
        "    plt.show()\n",
        "    \n",
        "    return samples"
      ],
      "execution_count": 8,
      "outputs": []
    },
    {
      "cell_type": "markdown",
      "metadata": {
        "id": "lB1cTlDffxwk"
      },
      "source": [
        "#### Calls the function to ask for user input to name parameters and specify distributions. \n",
        "### Type these in text input boxes and dropdowns that will appear below after running the cell."
      ]
    },
    {
      "cell_type": "code",
      "metadata": {
        "id": "CdbdLiSadt7V",
        "colab": {
          "base_uri": "https://localhost:8080/",
          "height": 209,
          "referenced_widgets": [
            "401cb2e0669f48539386c64f3ee2a62e",
            "5fda20e063b24d239d8f7b61e666eda3",
            "fb47694af2404a3f9d0b76b663face1f",
            "a89d3219e0b64912bb4653639f456e2f",
            "bd89d704e96e4722b2dd9744d00451f9",
            "bb32d69c1cca48c4b776324944b42476",
            "7873194ff7db47fa87a406e8e2f00427",
            "f6495d4e84524785b5ec3f8c9662519f",
            "cae5ca5b306441daab47478d394a2b82",
            "5215f7d117ac401ea3478672b9e3a94a",
            "a9f2379d4df8433eb44f30f1773f07a8",
            "fc34440bb8164877bc48c70bdee17e3f",
            "bd77a4b0ee124c55943df2a46a9fe2d7",
            "44739b37e60342069ff3caa662a4d863",
            "2e8a00c6a0bd4a18be8cec211a886625",
            "8966d32709974bd18add61c970125d08",
            "bc700c7863f546fb8c7b2ec4581be1b4",
            "397d072a38c5438b9b2f557c2c7ac2b0",
            "1724998572bc4601b7c422e2c794a093",
            "7d57158e1aab4f9a89ba4586446f64a7",
            "70110212d2734c4d9d1257c05cc0c6d9",
            "1a5e5ca7daaa4a499ba078d1d50dfe1c",
            "6c1a732807b6450cb23e5218936c84e4",
            "660b0e51074b440a9dd7c27758ebe5aa",
            "1770808617ae4b7488772a095dd78655",
            "844f52b809c748b2958e7d7550d475eb",
            "00efbd7121dc4b85a0a471ad2ccc34a4",
            "142d396f60d94a1f8d45b29279d2320c",
            "2ae4161110084c1295bcf41838aeaddb",
            "62f3ff7f0e1c4e21aa843dd06d4e9a85"
          ]
        },
        "outputId": "b9f2a0af-2309-4a23-b1b4-ac8f32aecf47"
      },
      "source": [
        "params = {}\n",
        "\n",
        "for i in range(parameterCount):\n",
        "  \n",
        "    s=str(i)\n",
        "    \n",
        "    params[i] = interactive(parNameDist,\n",
        "                            Name='Type parameter ' + s + ' name', \n",
        "                            Distribution=['uniform','normal','triangle'])\n",
        "    \n",
        "    display(params[i])"
      ],
      "execution_count": 9,
      "outputs": [
        {
          "output_type": "display_data",
          "data": {
            "text/plain": [
              "interactive(children=(Text(value='Type parameter 0 name', description='Name'), Dropdown(description='Distribut…"
            ],
            "application/vnd.jupyter.widget-view+json": {
              "version_major": 2,
              "version_minor": 0,
              "model_id": "401cb2e0669f48539386c64f3ee2a62e"
            }
          },
          "metadata": {}
        },
        {
          "output_type": "display_data",
          "data": {
            "text/plain": [
              "interactive(children=(Text(value='Type parameter 1 name', description='Name'), Dropdown(description='Distribut…"
            ],
            "application/vnd.jupyter.widget-view+json": {
              "version_major": 2,
              "version_minor": 0,
              "model_id": "a9f2379d4df8433eb44f30f1773f07a8"
            }
          },
          "metadata": {}
        },
        {
          "output_type": "display_data",
          "data": {
            "text/plain": [
              "interactive(children=(Text(value='Type parameter 2 name', description='Name'), Dropdown(description='Distribut…"
            ],
            "application/vnd.jupyter.widget-view+json": {
              "version_major": 2,
              "version_minor": 0,
              "model_id": "70110212d2734c4d9d1257c05cc0c6d9"
            }
          },
          "metadata": {}
        }
      ]
    },
    {
      "cell_type": "markdown",
      "metadata": {
        "id": "9K7C0uUHHndX"
      },
      "source": [
        "### Input parameter distribution specifics in the interactive boxes that appear below after running this cell."
      ]
    },
    {
      "cell_type": "code",
      "metadata": {
        "scrolled": false,
        "id": "mDjrr9jbHndY",
        "colab": {
          "base_uri": "https://localhost:8080/",
          "height": 255,
          "referenced_widgets": [
            "56359445d9e9444289783dd76c7b17bd",
            "8333bc1367ec44708d705747e8ebbbd9",
            "7eb2704298e5494195a2faca4bf3926a",
            "05d12ed6799140a19102e50cc2ee29a0",
            "fad4a65c225c4af5ab934ce1f53fb3eb",
            "81c3e835cf7744e5a55c323f18769cd5",
            "db6e7c0047c942d8aa416d26d428ebfd",
            "2f0d79b57e404b9e93910902db6ea52f",
            "a7a82e6cbc6c4b678d822c2c85cef56d",
            "c8133f52e54b499f8f0bd6041769d49d",
            "54189f20b9634eed845c8c052c73689e",
            "ef6589bee6444308a5c193018f7091dd",
            "52851ce5a04843abbdba6818da80821e",
            "486d6e508e564f73ad5ec41a159fae52",
            "0a3d01d48acb4ba9a59e22fb8d3fc3f7",
            "b98c3ed8f1764bc6abed3a5d897f204c",
            "94a1b7d07ec140eca21a651467bd3aca",
            "e95b1d5ab406433fa8da704f3b3733ba"
          ]
        },
        "outputId": "ef30e1fb-e19b-4b70-e44c-657107139812"
      },
      "source": [
        "distribSpecs={}\n",
        "\n",
        "for i in range(parameterCount):\n",
        "  \n",
        "    parName = params[i].result['Name']\n",
        "    \n",
        "    print('Enter distribution specifics for parameter ' + parName + ':')\n",
        "    \n",
        "    if params[i].result['Dist'] == 'normal':\n",
        "\n",
        "        distribSpecs[parName] = {}\n",
        "        \n",
        "        distribSpecs[parName][0] = widgets.FloatText(\n",
        "                value=2,\n",
        "                description='Mean:'\n",
        "              )\n",
        "        distribSpecs[parName][1] = widgets.FloatText(\n",
        "                value=1,\n",
        "                description='Variance:'\n",
        "              )\n",
        "\n",
        "        display(distribSpecs[parName][0], distribSpecs[parName][1])\n",
        "\n",
        "    elif params[i].result['Dist'] == 'uniform':\n",
        "\n",
        "        distribSpecs[parName] = {}\n",
        "\n",
        "        distribSpecs[parName][0] = widgets.FloatText(\n",
        "                value=0,\n",
        "                description='Minimum:'\n",
        "              )\n",
        "        distribSpecs[parName][1] = widgets.FloatText(\n",
        "                value=2,\n",
        "                description='Maximum:'\n",
        "              )\n",
        "\n",
        "        display(distribSpecs[parName][0], distribSpecs[parName][1])\n",
        "\n",
        "\n",
        "    elif params[i].result['Dist'] == 'triangle':\n",
        "      \n",
        "        distribSpecs[parName] = {}\n",
        "\n",
        "        distribSpecs[parName][0] = widgets.FloatText(\n",
        "                value=0,\n",
        "                description='Minimum:'\n",
        "              )\n",
        "        distribSpecs[parName][1] = widgets.FloatText(\n",
        "                value=2,\n",
        "                description='Maximum:'\n",
        "              )\n",
        "        distribSpecs[parName][2] = widgets.FloatText(\n",
        "                value=1,\n",
        "                description='Mode:'\n",
        "              )\n",
        "\n",
        "        display(distribSpecs[parName][0], distribSpecs[parName][1], distribSpecs[parName][2])"
      ],
      "execution_count": 10,
      "outputs": [
        {
          "output_type": "stream",
          "name": "stdout",
          "text": [
            "Enter distribution specifics for parameter a:\n"
          ]
        },
        {
          "output_type": "display_data",
          "data": {
            "text/plain": [
              "FloatText(value=0.0, description='Minimum:')"
            ],
            "application/vnd.jupyter.widget-view+json": {
              "version_major": 2,
              "version_minor": 0,
              "model_id": "56359445d9e9444289783dd76c7b17bd"
            }
          },
          "metadata": {}
        },
        {
          "output_type": "display_data",
          "data": {
            "text/plain": [
              "FloatText(value=2.0, description='Maximum:')"
            ],
            "application/vnd.jupyter.widget-view+json": {
              "version_major": 2,
              "version_minor": 0,
              "model_id": "05d12ed6799140a19102e50cc2ee29a0"
            }
          },
          "metadata": {}
        },
        {
          "output_type": "stream",
          "name": "stdout",
          "text": [
            "Enter distribution specifics for parameter delta:\n"
          ]
        },
        {
          "output_type": "display_data",
          "data": {
            "text/plain": [
              "FloatText(value=0.0, description='Minimum:')"
            ],
            "application/vnd.jupyter.widget-view+json": {
              "version_major": 2,
              "version_minor": 0,
              "model_id": "db6e7c0047c942d8aa416d26d428ebfd"
            }
          },
          "metadata": {}
        },
        {
          "output_type": "display_data",
          "data": {
            "text/plain": [
              "FloatText(value=2.0, description='Maximum:')"
            ],
            "application/vnd.jupyter.widget-view+json": {
              "version_major": 2,
              "version_minor": 0,
              "model_id": "c8133f52e54b499f8f0bd6041769d49d"
            }
          },
          "metadata": {}
        },
        {
          "output_type": "stream",
          "name": "stdout",
          "text": [
            "Enter distribution specifics for parameter beta:\n"
          ]
        },
        {
          "output_type": "display_data",
          "data": {
            "text/plain": [
              "FloatText(value=0.0, description='Minimum:')"
            ],
            "application/vnd.jupyter.widget-view+json": {
              "version_major": 2,
              "version_minor": 0,
              "model_id": "52851ce5a04843abbdba6818da80821e"
            }
          },
          "metadata": {}
        },
        {
          "output_type": "display_data",
          "data": {
            "text/plain": [
              "FloatText(value=2.0, description='Maximum:')"
            ],
            "application/vnd.jupyter.widget-view+json": {
              "version_major": 2,
              "version_minor": 0,
              "model_id": "b98c3ed8f1764bc6abed3a5d897f204c"
            }
          },
          "metadata": {}
        }
      ]
    },
    {
      "cell_type": "code",
      "source": [
        "# parameter of interest \n",
        "a=1.5\n",
        "delta =  4.0\n",
        "beta = 2 \n",
        "lf = 0.50\n",
        "uf = 2 \n",
        "varbound=np.array([[a*lf,a*uf],[lf*delta,uf*delta],[lf*beta,uf*beta]])\n",
        "varbound"
      ],
      "metadata": {
        "id": "kgxlOj_4Wwdy",
        "outputId": "c79b98d8-622e-4a67-f18b-2e30e27f81f4",
        "colab": {
          "base_uri": "https://localhost:8080/"
        }
      },
      "execution_count": 14,
      "outputs": [
        {
          "output_type": "execute_result",
          "data": {
            "text/plain": [
              "array([[0.75, 3.  ],\n",
              "       [2.  , 8.  ],\n",
              "       [1.  , 4.  ]])"
            ]
          },
          "metadata": {},
          "execution_count": 14
        }
      ]
    },
    {
      "cell_type": "markdown",
      "metadata": {
        "id": "6_FBOVRXgizZ"
      },
      "source": [
        "#### This passes the distributions to the code for generating parameter samples, and histogram plots of samples for each parameter will appear below. "
      ]
    },
    {
      "cell_type": "code",
      "source": [
        ""
      ],
      "metadata": {
        "id": "PZX67PasXgs-",
        "outputId": "ae559c9d-798b-4426-db3d-0ef6da182eab",
        "colab": {
          "base_uri": "https://localhost:8080/"
        }
      },
      "execution_count": 16,
      "outputs": [
        {
          "output_type": "execute_result",
          "data": {
            "text/plain": [
              "3"
            ]
          },
          "metadata": {},
          "execution_count": 16
        }
      ]
    },
    {
      "cell_type": "code",
      "metadata": {
        "id": "X1Clr2PYd6Mg",
        "colab": {
          "base_uri": "https://localhost:8080/",
          "height": 851
        },
        "outputId": "158d04bb-4c50-454d-ec15-26a326d98449"
      },
      "source": [
        "parameters = {}\n",
        "for j in range(parameterCount):\n",
        "  \n",
        "    parameters[params[j].result['Name']] = sampleDistrib(params[j].result['Name'],\n",
        "                                                         params[j].result['Dist'],\n",
        "                                                         distribSpecs[params[j].result['Name']])"
      ],
      "execution_count": 15,
      "outputs": [
        {
          "output_type": "display_data",
          "data": {
            "text/plain": [
              "<Figure size 432x288 with 1 Axes>"
            ],
            "image/png": "[encoded data removed]"
          },
          "metadata": {
            "needs_background": "light"
          }
        },
        {
          "output_type": "display_data",
          "data": {
            "text/plain": [
              "<Figure size 432x288 with 1 Axes>"
            ],
            "image/png": "[encoded data removed]"
          },
          "metadata": {
            "needs_background": "light"
          }
        },
        {
          "output_type": "display_data",
          "data": {
            "text/plain": [
              "<Figure size 432x288 with 1 Axes>"
            ],
            "image/png": "[encoded data removed]"
          },
          "metadata": {
            "needs_background": "light"
          }
        }
      ]
    },
    {
      "cell_type": "markdown",
      "metadata": {
        "id": "PdQAUyAB_QYY"
      },
      "source": [
        "#### Randomly permute each set of parameter samples in order to randomly pair the samples to more fully sample the parameter space for the Monte Carlo simulations."
      ]
    },
    {
      "cell_type": "code",
      "metadata": {
        "id": "HFdaJckHHnde"
      },
      "source": [
        "LHSparams=[]\n",
        "\n",
        "for p in parameters:\n",
        "    \n",
        "    temp = parameters[p]\n",
        "    random.shuffle(temp)\n",
        "    LHSparams.append(temp) "
      ],
      "execution_count": 21,
      "outputs": []
    },
    {
      "cell_type": "code",
      "source": [
        "# parameters\n",
        "# LHSparams"
      ],
      "metadata": {
        "id": "V1yPd-o5g9r5"
      },
      "execution_count": 23,
      "outputs": []
    },
    {
      "cell_type": "markdown",
      "metadata": {
        "id": "6ad1XNtD_lvN"
      },
      "source": [
        "### Define your model function.\n",
        "#### Two examples have been provided below: (1) a linear function with two sampled parameters: slope and intercept, and (2) a Lotka-Volterra predator - prey model.\n",
        "\n",
        "Note that the order and number of the parameters needs to match the order  and number of parameters speficied above to ensure accuracy when the model is solved below."
      ]
    },
    {
      "cell_type": "code",
      "metadata": {
        "id": "T67BWVNT_p7F"
      },
      "source": [
        "def testlinear(x,sampledParams,unsampledParams):\n",
        "\n",
        "    m = sampledParams[0]\n",
        "    b = sampledParams[1]\n",
        "    \n",
        "    a = unsampledParams\n",
        "\n",
        "    y = m * x + b + a;\n",
        "\n",
        "    return y    "
      ],
      "execution_count": null,
      "outputs": []
    },
    {
      "cell_type": "code",
      "metadata": {
        "id": "XIcGIOHUTN43"
      },
      "source": [
        "def myodes(y, t, sampledParams, unsampledParams):\n",
        "\n",
        "    q, r = y                           # unpack current values of y\n",
        "\n",
        "    alpha, beta = sampledParams # unpack sampled parameters\n",
        "\n",
        "    delta, lambdaa, gamma = unsampledParams   # unpack unsampled parameters\n",
        "\n",
        "    derivs = [alpha*q*r - lambdaa*q,   # list of dy/dt=f functions\n",
        "              beta*r - gamma*q*r - delta*r]\n",
        "\n",
        "    return derivs\n"
      ],
      "execution_count": 24,
      "outputs": []
    },
    {
      "cell_type": "markdown",
      "source": [
        "###Our IDM/FIDM model "
      ],
      "metadata": {
        "id": "BsCRXIJfnt_p"
      }
    },
    {
      "cell_type": "markdown",
      "source": [
        "#### packages"
      ],
      "metadata": {
        "id": "zdFeECFmoZ6j"
      }
    },
    {
      "cell_type": "code",
      "source": [
        "#!/usr/bin/env python3\n",
        "# -*- coding: utf-8 -*-\n",
        "\"\"\"\n",
        "Created on Mon Jan 24 15:17:39 2022\n",
        "@author: rafiul\n",
        "\"\"\"\n",
        "# import scipy.integrate as integrate\n",
        "# from scipy.integrate import odeint \n",
        "import sys\n",
        "import os \n",
        "# from geneticalgorithm import geneticalgorithm as ga\n",
        "#from geneticalgorithm_pronto import geneticalgorithm as ga\n",
        "# from ga import ga\n",
        "import numpy as np\n",
        "import scipy.integrate as integrate\n",
        "from scipy import special \n",
        "from scipy.interpolate import interp1d\n",
        "import pandas as pd  \n"
      ],
      "metadata": {
        "id": "HN7l9Tx0oBME"
      },
      "execution_count": 30,
      "outputs": []
    },
    {
      "cell_type": "markdown",
      "source": [
        "#### Functions"
      ],
      "metadata": {
        "id": "ZCXWV-0aozGA"
      }
    },
    {
      "cell_type": "code",
      "source": [
        "\n",
        "def RK4(func, X0, ts):\n",
        "        \"\"\"\n",
        "        Runge Kutta 4 solver.\n",
        "        \"\"\"\n",
        "        dt = ts[1] - ts[0]\n",
        "        nt = len(ts)\n",
        "        X  = np.zeros((nt, X0.shape[0]),dtype=np.float64)\n",
        "        X[0] = X0\n",
        "        for i in range(nt-1):\n",
        "            k1 = func(X[i], ts[i])\n",
        "            k2 = func(X[i] + dt/2. * k1, ts[i] + dt/2.)\n",
        "            k3 = func(X[i] + dt/2. * k2, ts[i] + dt/2.)\n",
        "            k4 = func(X[i] + dt    * k3, ts[i] + dt)\n",
        "            X[i+1] = X[i] + dt / 6. * (k1 + 2. * k2 + 2. * k3 + k4)\n",
        "        return X \n",
        "\n",
        "\n",
        "#  see this link for model and paramterts https://en.wikipedia.org/wiki/Intelligent_driver_model  \n",
        "# DOI: 10.1098/rsta.2010.0084 \n",
        "\n",
        "# @jit(nopython=True)\n",
        "def idm_model(x,t):\n",
        "    X,V = x[0],x[1]\n",
        "    dX,dV = np.zeros(1,dtype=np.float64), np.zeros(1,dtype=np.float64)\n",
        "    dX = V # Differtial Equation 1\n",
        "    ###\n",
        "    s = position_LV(t) - X - 5 # 5 = length of the car\n",
        "    deltaV = V - speed_LV(t)\n",
        "    sstar = s0+V*T + (V*deltaV)/(2*np.sqrt(a*b))\n",
        "    # ###\n",
        "    dV = a*(1-(V/V_0)**delta - (sstar/s)**2) # Differtial Equation 2\n",
        "    \n",
        "    return np.array([dX,dV],dtype=np.float64) \n",
        "\n",
        "\n",
        "# @jit(nopython=True)\n",
        "\n",
        "def speed_LV(t):\n",
        "    return interp1d(nth_car_data['time'],nth_car_data['speed'],bounds_error=False)(t) \n",
        "\n",
        "def position_LV(t):\n",
        "    return interp1d(nth_car_data['time'],postion_of_the_LV,bounds_error=False)(t)  \n",
        "\n",
        "\n",
        "def fractional_idm_model_1d(V,t,X):    \n",
        "    # index = round(t) #convert into integer number \n",
        "    \n",
        "    current_position_of_follower = X \n",
        "    ###\n",
        "    s = position_LV(t) - current_position_of_follower - 5 # 5 = length of the car\n",
        "    deltaV = V - speed_LV(t)\n",
        "    sstar = s0+V*T + (V*deltaV)/(2*np.sqrt(a*b))\n",
        "    \n",
        "    # ###\n",
        "    dV = a*(1-(V/V_0)**delta - (sstar/s)**2) # Differtial Equation 2\n",
        "    \n",
        "    return dV\n",
        "\n",
        "def speed_error(sol,nth_car_speed):\n",
        "    return np.sum((sol[1,:-1]-nth_car_speed[1:])**2) \n",
        "\n",
        "def gap_error(sol,postion_of_the_LV):\n",
        "    return np.sum((sol[0,:]-postion_of_the_LV)**2) \n",
        "\n",
        "def caputoEuler_1d(a, f, y0, tspan, x0_f):\n",
        "    \"\"\"Use one-step Adams-Bashforth (Euler) method to integrate Caputo equation\n",
        "    D^a y(t) = f(y,t)\n",
        "    Args:\n",
        "      a: fractional exponent in the range (0,1)\n",
        "      f: callable(y,t) returning a numpy array of shape (d,)\n",
        "         Vector-valued function to define the right hand side of the system\n",
        "      y0: array of shape (d,) giving the initial state vector y(t==0)\n",
        "      tspan (array): The sequence of time points for which to solve for y.\n",
        "        These must be equally spaced, e.g. np.arange(0,10,0.005)\n",
        "        tspan[0] is the intial time corresponding to the initial state y0.\n",
        "    Returns:\n",
        "      y: array, with shape (len(tspan), len(y0))\n",
        "         With the initial value y0 in the first row\n",
        "    Raises:\n",
        "      FODEValueError\n",
        "    See also:\n",
        "      K. Diethelm et al. (2004) Detailed error analysis for a fractional Adams\n",
        "         method\n",
        "      C. Li and F. Zeng (2012) Finite Difference Methods for Fractional\n",
        "         Differential Equations\n",
        "    \"\"\"\n",
        "    #(d, a, f, y0, tspan) = _check_args(a, f, y0, tspan)\n",
        "    N = len(tspan)\n",
        "    h = (tspan[N-1] - tspan[0])/(N - 1)\n",
        "    c = special.rgamma(a) * np.power(h, a) / a\n",
        "    w = c * np.diff(np.power(np.arange(N), a))\n",
        "    fhistory = np.zeros(N - 1, dtype=np.float64)\n",
        "    y = np.zeros(N, dtype=np.float64)\n",
        "    x = np.zeros(N, dtype=np.float64)\n",
        "    y[0] = y0;\n",
        "    x[0] = x0_f;\n",
        "    for n in range(0, N - 1):\n",
        "        tn = tspan[n]\n",
        "        yn = y[n]\n",
        "        fhistory[n] = f(yn, tn, x[n])\n",
        "        y[n+1] = y0 + np.dot(w[0:n+1], fhistory[n::-1])\n",
        "        x[n+1] = x[n] + y[n+1] * h\n",
        "    return np.array([x,y]) \n",
        "\n",
        "def error_func_idm(variable_X):\n",
        "    # varbound=np.array([[a*lf,a*uf],[lf*delta,uf*delta],[lf*beta,uf*beta]])\n",
        "    a = variable_X[0]\n",
        "    delta = variable_X[1] \n",
        "    beta = variable_X[2] \n",
        "    x0 = np.array([initial_position,initial_velocity],dtype=np.float64) #initial position and velocity\n",
        "    # Classical ODE\n",
        "    # sol = integrate.odeint(idm_model, x0, time_span) \n",
        "    \n",
        "    sol = RK4(idm_model, x0, time_span) \n",
        "    sol = sol.transpose(1,0) \n",
        "    \n",
        "    # print(np.sum((sol[1,:-1]-nth_car_speed[1:])**2))\n",
        "    \n",
        "    return np.sum((sol[1,1:]-nth_car_speed[:-1])**2) \n",
        "  \n",
        "def error_func_fidm(variable_X):\n",
        "    # varbound=np.array([[a*lf,a*uf],[lf*delta,uf*delta],[lf*beta,uf*beta]])\n",
        "    a = variable_X[0]\n",
        "    delta = variable_X[1] \n",
        "    beta = variable_X[2] \n",
        "    alpha = variable_X[3]\n",
        "    if alpha > .99999:\n",
        "        alpha = .99999\n",
        "    sol = caputoEuler_1d(alpha,fractional_idm_model_1d, initial_velocity, time_span, initial_position) #, args=(number_groups,beta_P,beta_C,beta_A,v,w,mu_E,mu_A,mu_P,mu_C,p,q,contact_by_group))\n",
        "    return np.sum((sol[1,1:]-nth_car_speed[:-1])**2) \n"
      ],
      "metadata": {
        "id": "UyLlo4I9oH_r"
      },
      "execution_count": 31,
      "outputs": []
    },
    {
      "cell_type": "markdown",
      "source": [
        "#### finding SSE of velocity "
      ],
      "metadata": {
        "id": "nnqhv248pCmL"
      }
    },
    {
      "cell_type": "code",
      "source": [
        "######################################\n",
        "\n",
        "# Global  variables \n",
        "\n",
        "#  see this link for model and paramterts https://en.wikipedia.org/wiki/Intelligent_driver_model \n",
        "\n",
        "V_0 = 20  # desired speed m/s \n",
        "s0 = 30\n",
        "T = 1.5 \n",
        "nth_car = 2\n",
        "\n",
        "\n",
        "# a=1.5\n",
        "# b = 1.67 \n",
        "# delta =  4.0\n",
        "# beta = 2 \n",
        "\n",
        "# find best values for our model\n",
        "# a_alpha = 1.2 \n",
        "\n",
        "\n",
        "# ######################################\n",
        "# Actual data \n",
        "# df = pd.read_csv('RAllCarDataTime350.csv') \n",
        "git_raw_url = 'https://raw.githubusercontent.com/m-rafiul-islam/driver-behavior-model/main/RAllCarDataTime350.csv'\n",
        "df = pd.read_csv(git_raw_url) \n",
        "nth_car_data = df.loc[df['nthcar'] == nth_car, :]  \n",
        "nth_car_speed = np.array(df.loc[df['nthcar'] == nth_car,'speed'])  \n",
        "\n",
        "\n",
        "# leader vehicle profile \n",
        "# 7 m/s - 25.2 km/h  11 m/s - 39.6 km/h  18 m/s - 64.8 km/h 22 m/s - 79.2 km/h \n",
        "# 25 km/h -- 6.95 m/s 40 km/h -- 11.11 m/s 60 km/h -- 16.67 m/s \n",
        "# dt=1 #time step -- 1 sec \n",
        "\n",
        "time_span = np.array(nth_car_data['time'])\n",
        "dt = time_span[1]-time_span[0]\n",
        "\n",
        "# speed_of_the_LV = 15*np.ones(600+1) # we will need data\n",
        "\n",
        "# speed_of_the_LV = np.concatenate((np.linspace(0,7,60),7*np.ones(120),np.linspace(7,11,60), 11*np.ones(120), np.linspace(11,0,60) ))# we will need data\n",
        "\n",
        "speed_of_the_LV = nth_car_speed\n",
        "\n",
        "num_points = len(speed_of_the_LV) \n",
        "\n",
        "postion_of_the_LV = np.zeros(num_points) \n",
        "\n",
        "\n",
        "initla_position_of_the_LV = 18.45  # 113 \n",
        "\n",
        "postion_of_the_LV[0] = initla_position_of_the_LV\n",
        "\n",
        "for i in range(1,num_points):\n",
        "      \n",
        "      postion_of_the_LV[i] = postion_of_the_LV[i-1] + dt*(speed_of_the_LV[i]+speed_of_the_LV[i-1])/2 \n",
        " \n",
        "initial_position = 0.\n",
        "initial_velocity = 6.72\n",
        "x0 = np.array([initial_position,initial_velocity],dtype=np.float64) #initial position and velocity\n",
        "\n",
        "alpha =1 \n",
        "# a=1.5\n",
        "b = 1.67 \n",
        "# delta =  4.0\n",
        "# beta = 2 \n",
        "Output = [] \n",
        "for j in range(sampleCount):   \n",
        "    sampledParams=[i[j] for i in LHSparams] \n",
        "    SSE = error_func_idm(sampledParams)\n",
        "    Output.append(SSE)\n"
      ],
      "metadata": {
        "id": "X6_VOWF4oX_7"
      },
      "execution_count": 34,
      "outputs": []
    },
    {
      "cell_type": "code",
      "source": [
        "np.array(Output).reshape(len(Output),1)"
      ],
      "metadata": {
        "id": "Pk3L63CUubns",
        "outputId": "2ca68a59-e460-44a0-a2cd-de33407e4a58",
        "colab": {
          "base_uri": "https://localhost:8080/"
        }
      },
      "execution_count": 46,
      "outputs": [
        {
          "output_type": "execute_result",
          "data": {
            "text/plain": [
              "array([[2793.86991483],\n",
              "       [2793.86991483],\n",
              "       [2793.86991483],\n",
              "       [2793.86991483],\n",
              "       [2793.86991483],\n",
              "       [2793.86991483],\n",
              "       [2793.86991483],\n",
              "       [2793.86991483],\n",
              "       [2793.86991483],\n",
              "       [2793.86991483],\n",
              "       [2793.86991483],\n",
              "       [2793.86991483],\n",
              "       [2793.86991483],\n",
              "       [2793.86991483],\n",
              "       [2793.86991483],\n",
              "       [2793.86991483],\n",
              "       [2793.86991483],\n",
              "       [2793.86991483],\n",
              "       [2793.86991483],\n",
              "       [2793.86991483],\n",
              "       [2793.86991483],\n",
              "       [2793.86991483],\n",
              "       [2793.86991483],\n",
              "       [2793.86991483],\n",
              "       [2793.86991483],\n",
              "       [2793.86991483],\n",
              "       [2793.86991483],\n",
              "       [2793.86991483],\n",
              "       [2793.86991483],\n",
              "       [2793.86991483],\n",
              "       [2793.86991483],\n",
              "       [2793.86991483],\n",
              "       [2793.86991483],\n",
              "       [2793.86991483],\n",
              "       [2793.86991483],\n",
              "       [2793.86991483],\n",
              "       [2793.86991483],\n",
              "       [2793.86991483],\n",
              "       [2793.86991483],\n",
              "       [2793.86991483],\n",
              "       [2793.86991483],\n",
              "       [2793.86991483],\n",
              "       [2793.86991483],\n",
              "       [2793.86991483],\n",
              "       [2793.86991483],\n",
              "       [2793.86991483],\n",
              "       [2793.86991483],\n",
              "       [2793.86991483],\n",
              "       [2793.86991483],\n",
              "       [2793.86991483],\n",
              "       [2793.86991483],\n",
              "       [2793.86991483],\n",
              "       [2793.86991483],\n",
              "       [2793.86991483],\n",
              "       [2793.86991483],\n",
              "       [2793.86991483],\n",
              "       [2793.86991483],\n",
              "       [2793.86991483],\n",
              "       [2793.86991483],\n",
              "       [2793.86991483],\n",
              "       [2793.86991483],\n",
              "       [2793.86991483],\n",
              "       [2793.86991483],\n",
              "       [2793.86991483],\n",
              "       [2793.86991483],\n",
              "       [2793.86991483],\n",
              "       [2793.86991483],\n",
              "       [2793.86991483],\n",
              "       [2793.86991483],\n",
              "       [2793.86991483],\n",
              "       [2793.86991483],\n",
              "       [2793.86991483],\n",
              "       [2793.86991483],\n",
              "       [2793.86991483],\n",
              "       [2793.86991483],\n",
              "       [2793.86991483],\n",
              "       [2793.86991483],\n",
              "       [2793.86991483],\n",
              "       [2793.86991483],\n",
              "       [2793.86991483],\n",
              "       [2793.86991483],\n",
              "       [2793.86991483],\n",
              "       [2793.86991483],\n",
              "       [2793.86991483],\n",
              "       [2793.86991483],\n",
              "       [2793.86991483],\n",
              "       [2793.86991483],\n",
              "       [2793.86991483],\n",
              "       [2793.86991483],\n",
              "       [2793.86991483],\n",
              "       [2793.86991483],\n",
              "       [2793.86991483],\n",
              "       [2793.86991483],\n",
              "       [2793.86991483],\n",
              "       [2793.86991483],\n",
              "       [2793.86991483],\n",
              "       [2793.86991483],\n",
              "       [2793.86991483],\n",
              "       [2793.86991483],\n",
              "       [2793.86991483]])"
            ]
          },
          "metadata": {},
          "execution_count": 46
        }
      ]
    },
    {
      "cell_type": "code",
      "source": [
        "\n",
        "# \n",
        "LHSout = np.hstack((LHSarray,np.array(Output).reshape(len(Output),1)))\n",
        "SampleResult = LHSout.tolist()\n",
        "\n",
        "\n",
        "Ranks=[]\n",
        "              \n",
        "for s in range(sampleCount):\n",
        "\n",
        "    indices = list(range(len(SampleResult[s])))\n",
        "    indices.sort(key=lambda k: SampleResult[s][k])\n",
        "    r = [0] * len(indices)\n",
        "    for i, k in enumerate(indices):\n",
        "        r[k] = i\n",
        "\n",
        "    Ranks.append(r)\n",
        "\n",
        "  \n",
        "C=np.corrcoef(Ranks);\n",
        "\n",
        "if np.linalg.det(C) < 1e-16: # determine if singular\n",
        "    Cinv = np.linalg.pinv(C) # may need to use pseudo inverse\n",
        "else:\n",
        "    Cinv = np.linalg.inv(C) \n",
        "\n",
        "resultIdx = parameterCount+1\n",
        "prcc=np.zeros(resultIdx)\n",
        "\n",
        "for w in range(parameterCount): # compute PRCC btwn each param & sim result\n",
        "    prcc[w]=-Cinv[w,resultIdx]/np.sqrt(Cinv[w,w]*Cinv[resultIdx,resultIdx]) "
      ],
      "metadata": {
        "id": "BSQFhmPzuDQ-"
      },
      "execution_count": 47,
      "outputs": []
    },
    {
      "cell_type": "markdown",
      "metadata": {
        "id": "gFMg4Lzl_z3T"
      },
      "source": [
        "#### Run Monte Carlo simulations for each parameter sample set.\n",
        "### *Be sure to specify a call to your model function and any necessary arguments below.* \n"
      ]
    },
    {
      "cell_type": "code",
      "source": [
        "# EDIT THE FOLLOWING VARIABLES, UNSAMPLED PARAMETERS, & ANY OTHER ARGS HERE,\n",
        "# AS WELL AS THE CALL TO YOUR OWN MODEL FUNCTION INSIDE THE FOR LOOP BELOW\n",
        "\n",
        "x = np.linspace(0, 10, num=101) \n",
        "\n",
        "unsampledParams = 2; \n",
        "\n",
        "Output = [] \n",
        "\n",
        "for j in range(sampleCount):   \n",
        "  \n",
        "    sampledParams=[i[j] for i in LHSparams] \n",
        "    \n",
        "    sol = testlinear(x,sampledParams,unsampledParams)\n",
        "    Output.append(sol)"
      ],
      "metadata": {
        "id": "hezw3CrMpXTC"
      },
      "execution_count": null,
      "outputs": []
    },
    {
      "cell_type": "code",
      "metadata": {
        "id": "aAtqOL4P_2GP",
        "outputId": "23f2b612-2350-4067-d66a-90da216de19c",
        "colab": {
          "base_uri": "https://localhost:8080/",
          "height": 235
        }
      },
      "source": [
        "# EDIT THE FOLLOWING VARIABLES, UNSAMPLED PARAMETERS, & ANY OTHER ARGS HERE,\n",
        "# AS WELL AS THE CALL TO YOUR OWN MODEL FUNCTION INSIDE THE FOR LOOP BELOW\n",
        "\n",
        "x = np.linspace(0, 10, num=101) \n",
        "\n",
        "unsampledParams = 2; \n",
        "\n",
        "Output = [] \n",
        "\n",
        "for j in range(sampleCount):   \n",
        "  \n",
        "    sampledParams=[i[j] for i in LHSparams] \n",
        "    \n",
        "    sol = testlinear(x,sampledParams,unsampledParams)\n",
        "    Output.append(sol)\n",
        "    \n",
        "# EDIT THE STRING TO NAME YOUR SIM OUTPUT (for fig labels, filenames):\n",
        "labelstring = 'y'\n",
        "    \n",
        "    \n",
        "    \n",
        "# # EXAMPLE CODE FOR A COUPLED ODE MODEL:\n",
        "\n",
        "# import scipy.integrate as spi\n",
        "\n",
        "# t = np.linspace(0,17,num=171) # time domain for myodes\n",
        "\n",
        "# # odesic = [q0, r0]\n",
        "# odesic = [500,1000]\n",
        "\n",
        "# lambdaa = np.log(2)/7\n",
        "# delta = 0.5\n",
        "# gamma = 1\n",
        "\n",
        "# unsampledParams = [lambdaa, delta, gamma]\n",
        "\n",
        "# Simdata={}\n",
        "\n",
        "# Output = [] \n",
        "\n",
        "# for i in range(sampleCount):\n",
        "  \n",
        "#     Simdata[i]={}\n",
        "    \n",
        "#     Simdata[i]['q']=[]\n",
        "#     Simdata[i]['r']=[]\n",
        "    \n",
        "# for j in range(sampleCount):\n",
        "\n",
        "#     sampledParams=[i[j] for i in LHSparams] \n",
        "  \n",
        "#     sol=spi.odeint(myodes, odesic, t, args=(sampledParams,unsampledParams)) \n",
        "\n",
        "#     Simdata[j]['q'] = sol[:,0] # solution to the equation for variable r\n",
        "#     Simdata[j]['r'] = sol[:,1] # solution to the equation for variable s\n",
        "    \n",
        "#     Ratio = np.divide(sol[:,0],sol[:,1]) # compute ratio to compare w/ param samples\n",
        "    \n",
        "#     Output.append(Ratio)  \n",
        "                                                             \n",
        "\n",
        "# labelstring = 'predator to prey ratio (q/r)'; # id for fig labels, filenames\n"
      ],
      "execution_count": 25,
      "outputs": [
        {
          "output_type": "error",
          "ename": "NameError",
          "evalue": "ignored",
          "traceback": [
            "\u001b[0;31m---------------------------------------------------------------------------\u001b[0m",
            "\u001b[0;31mNameError\u001b[0m                                 Traceback (most recent call last)",
            "\u001b[0;32m<ipython-input-25-be65093e690d>\u001b[0m in \u001b[0;36m<module>\u001b[0;34m()\u001b[0m\n\u001b[1;32m     12\u001b[0m     \u001b[0msampledParams\u001b[0m\u001b[0;34m=\u001b[0m\u001b[0;34m[\u001b[0m\u001b[0mi\u001b[0m\u001b[0;34m[\u001b[0m\u001b[0mj\u001b[0m\u001b[0;34m]\u001b[0m \u001b[0;32mfor\u001b[0m \u001b[0mi\u001b[0m \u001b[0;32min\u001b[0m \u001b[0mLHSparams\u001b[0m\u001b[0;34m]\u001b[0m\u001b[0;34m\u001b[0m\u001b[0;34m\u001b[0m\u001b[0m\n\u001b[1;32m     13\u001b[0m \u001b[0;34m\u001b[0m\u001b[0m\n\u001b[0;32m---> 14\u001b[0;31m     \u001b[0msol\u001b[0m \u001b[0;34m=\u001b[0m \u001b[0mtestlinear\u001b[0m\u001b[0;34m(\u001b[0m\u001b[0mx\u001b[0m\u001b[0;34m,\u001b[0m\u001b[0msampledParams\u001b[0m\u001b[0;34m,\u001b[0m\u001b[0munsampledParams\u001b[0m\u001b[0;34m)\u001b[0m\u001b[0;34m\u001b[0m\u001b[0;34m\u001b[0m\u001b[0m\n\u001b[0m\u001b[1;32m     15\u001b[0m     \u001b[0mOutput\u001b[0m\u001b[0;34m.\u001b[0m\u001b[0mappend\u001b[0m\u001b[0;34m(\u001b[0m\u001b[0msol\u001b[0m\u001b[0;34m)\u001b[0m\u001b[0;34m\u001b[0m\u001b[0;34m\u001b[0m\u001b[0m\n\u001b[1;32m     16\u001b[0m \u001b[0;34m\u001b[0m\u001b[0m\n",
            "\u001b[0;31mNameError\u001b[0m: name 'testlinear' is not defined"
          ]
        }
      ]
    },
    {
      "cell_type": "markdown",
      "metadata": {
        "id": "9HH8nfMzc1qi"
      },
      "source": [
        "### Plot the range of simulation output generated by the all of the Monte Carlo simulations using errorbars."
      ]
    },
    {
      "cell_type": "code",
      "metadata": {
        "id": "UcWtaGt-QqBY",
        "colab": {
          "base_uri": "https://localhost:8080/",
          "height": 235
        },
        "outputId": "4b0aa305-3420-4abe-a8d2-de02e32ba6b3"
      },
      "source": [
        "yavg = np.mean(Output, axis=0)\n",
        "yerr = np.std(Output, axis=0)\n",
        "\n",
        "plt.errorbar(t,yavg,yerr)\n",
        "plt.xlabel('x')\n",
        "# plt.xlabel('time (days)')   # for myodes\n",
        "plt.ylabel(labelstring)\n",
        "plt.title('Error bar plot of ' + labelstring + ' from LHS simulations')\n",
        "\n",
        "plt.show()"
      ],
      "execution_count": 35,
      "outputs": [
        {
          "output_type": "error",
          "ename": "NameError",
          "evalue": "ignored",
          "traceback": [
            "\u001b[0;31m---------------------------------------------------------------------------\u001b[0m",
            "\u001b[0;31mNameError\u001b[0m                                 Traceback (most recent call last)",
            "\u001b[0;32m<ipython-input-35-542622f59d19>\u001b[0m in \u001b[0;36m<module>\u001b[0;34m()\u001b[0m\n\u001b[1;32m      2\u001b[0m \u001b[0myerr\u001b[0m \u001b[0;34m=\u001b[0m \u001b[0mnp\u001b[0m\u001b[0;34m.\u001b[0m\u001b[0mstd\u001b[0m\u001b[0;34m(\u001b[0m\u001b[0mOutput\u001b[0m\u001b[0;34m,\u001b[0m \u001b[0maxis\u001b[0m\u001b[0;34m=\u001b[0m\u001b[0;36m0\u001b[0m\u001b[0;34m)\u001b[0m\u001b[0;34m\u001b[0m\u001b[0;34m\u001b[0m\u001b[0m\n\u001b[1;32m      3\u001b[0m \u001b[0;34m\u001b[0m\u001b[0m\n\u001b[0;32m----> 4\u001b[0;31m \u001b[0mplt\u001b[0m\u001b[0;34m.\u001b[0m\u001b[0merrorbar\u001b[0m\u001b[0;34m(\u001b[0m\u001b[0mt\u001b[0m\u001b[0;34m,\u001b[0m\u001b[0myavg\u001b[0m\u001b[0;34m,\u001b[0m\u001b[0myerr\u001b[0m\u001b[0;34m)\u001b[0m\u001b[0;34m\u001b[0m\u001b[0;34m\u001b[0m\u001b[0m\n\u001b[0m\u001b[1;32m      5\u001b[0m \u001b[0mplt\u001b[0m\u001b[0;34m.\u001b[0m\u001b[0mxlabel\u001b[0m\u001b[0;34m(\u001b[0m\u001b[0;34m'x'\u001b[0m\u001b[0;34m)\u001b[0m\u001b[0;34m\u001b[0m\u001b[0;34m\u001b[0m\u001b[0m\n\u001b[1;32m      6\u001b[0m \u001b[0;31m# plt.xlabel('time (days)')   # for myodes\u001b[0m\u001b[0;34m\u001b[0m\u001b[0;34m\u001b[0m\u001b[0;34m\u001b[0m\u001b[0m\n",
            "\u001b[0;31mNameError\u001b[0m: name 't' is not defined"
          ]
        }
      ]
    },
    {
      "cell_type": "markdown",
      "metadata": {
        "id": "3XF6evQB_6ZN"
      },
      "source": [
        "### Compute partial rank correlation coefficients to compare simulation outputs with parameters"
      ]
    },
    {
      "cell_type": "code",
      "source": [
        "Outputarray"
      ],
      "metadata": {
        "id": "LTgjSIh8qvpa",
        "outputId": "ef46565d-de1d-4d3b-ce31-0ade50f3c2e4",
        "colab": {
          "base_uri": "https://localhost:8080/"
        }
      },
      "execution_count": 38,
      "outputs": [
        {
          "output_type": "execute_result",
          "data": {
            "text/plain": [
              "array([2793.86991483, 2793.86991483, 2793.86991483, 2793.86991483,\n",
              "       2793.86991483, 2793.86991483, 2793.86991483, 2793.86991483,\n",
              "       2793.86991483, 2793.86991483, 2793.86991483, 2793.86991483,\n",
              "       2793.86991483, 2793.86991483, 2793.86991483, 2793.86991483,\n",
              "       2793.86991483, 2793.86991483, 2793.86991483, 2793.86991483,\n",
              "       2793.86991483, 2793.86991483, 2793.86991483, 2793.86991483,\n",
              "       2793.86991483, 2793.86991483, 2793.86991483, 2793.86991483,\n",
              "       2793.86991483, 2793.86991483, 2793.86991483, 2793.86991483,\n",
              "       2793.86991483, 2793.86991483, 2793.86991483, 2793.86991483,\n",
              "       2793.86991483, 2793.86991483, 2793.86991483, 2793.86991483,\n",
              "       2793.86991483, 2793.86991483, 2793.86991483, 2793.86991483,\n",
              "       2793.86991483, 2793.86991483, 2793.86991483, 2793.86991483,\n",
              "       2793.86991483, 2793.86991483, 2793.86991483, 2793.86991483,\n",
              "       2793.86991483, 2793.86991483, 2793.86991483, 2793.86991483,\n",
              "       2793.86991483, 2793.86991483, 2793.86991483, 2793.86991483,\n",
              "       2793.86991483, 2793.86991483, 2793.86991483, 2793.86991483,\n",
              "       2793.86991483, 2793.86991483, 2793.86991483, 2793.86991483,\n",
              "       2793.86991483, 2793.86991483, 2793.86991483, 2793.86991483,\n",
              "       2793.86991483, 2793.86991483, 2793.86991483, 2793.86991483,\n",
              "       2793.86991483, 2793.86991483, 2793.86991483, 2793.86991483,\n",
              "       2793.86991483, 2793.86991483, 2793.86991483, 2793.86991483,\n",
              "       2793.86991483, 2793.86991483, 2793.86991483, 2793.86991483,\n",
              "       2793.86991483, 2793.86991483, 2793.86991483, 2793.86991483,\n",
              "       2793.86991483, 2793.86991483, 2793.86991483, 2793.86991483,\n",
              "       2793.86991483, 2793.86991483, 2793.86991483, 2793.86991483])"
            ]
          },
          "metadata": {},
          "execution_count": 38
        }
      ]
    },
    {
      "cell_type": "code",
      "source": [
        "SampleResult=[]\n",
        "\n",
        "x_idx = 11          # time or location index of sim results \n",
        "x_idx2= x_idx+1     #   to compare w/ param sample vals\n",
        "\n",
        "LHS=[*zip(*LHSparams)]\n",
        "LHSarray=np.array(LHS)\n",
        "Outputarray=np.array(Output)\n",
        "subOut=Outputarray[0:,x_idx:x_idx2]\n",
        "\n",
        "LHSout = np.hstack((LHSarray,subOut))\n",
        "SampleResult = LHSout.tolist()\n",
        "\n",
        "\n",
        "Ranks=[]\n"
      ],
      "metadata": {
        "id": "2QjjmL_cqgnQ",
        "outputId": "29438c3a-9f87-4e23-d658-3efcb576d1b2",
        "colab": {
          "base_uri": "https://localhost:8080/",
          "height": 235
        }
      },
      "execution_count": 37,
      "outputs": [
        {
          "output_type": "error",
          "ename": "IndexError",
          "evalue": "ignored",
          "traceback": [
            "\u001b[0;31m---------------------------------------------------------------------------\u001b[0m",
            "\u001b[0;31mIndexError\u001b[0m                                Traceback (most recent call last)",
            "\u001b[0;32m<ipython-input-37-ffe7f5835e9e>\u001b[0m in \u001b[0;36m<module>\u001b[0;34m()\u001b[0m\n\u001b[1;32m      7\u001b[0m \u001b[0mLHSarray\u001b[0m\u001b[0;34m=\u001b[0m\u001b[0mnp\u001b[0m\u001b[0;34m.\u001b[0m\u001b[0marray\u001b[0m\u001b[0;34m(\u001b[0m\u001b[0mLHS\u001b[0m\u001b[0;34m)\u001b[0m\u001b[0;34m\u001b[0m\u001b[0;34m\u001b[0m\u001b[0m\n\u001b[1;32m      8\u001b[0m \u001b[0mOutputarray\u001b[0m\u001b[0;34m=\u001b[0m\u001b[0mnp\u001b[0m\u001b[0;34m.\u001b[0m\u001b[0marray\u001b[0m\u001b[0;34m(\u001b[0m\u001b[0mOutput\u001b[0m\u001b[0;34m)\u001b[0m\u001b[0;34m\u001b[0m\u001b[0;34m\u001b[0m\u001b[0m\n\u001b[0;32m----> 9\u001b[0;31m \u001b[0msubOut\u001b[0m\u001b[0;34m=\u001b[0m\u001b[0mOutputarray\u001b[0m\u001b[0;34m[\u001b[0m\u001b[0;36m0\u001b[0m\u001b[0;34m:\u001b[0m\u001b[0;34m,\u001b[0m\u001b[0mx_idx\u001b[0m\u001b[0;34m:\u001b[0m\u001b[0mx_idx2\u001b[0m\u001b[0;34m]\u001b[0m\u001b[0;34m\u001b[0m\u001b[0;34m\u001b[0m\u001b[0m\n\u001b[0m\u001b[1;32m     10\u001b[0m \u001b[0;34m\u001b[0m\u001b[0m\n\u001b[1;32m     11\u001b[0m \u001b[0mLHSout\u001b[0m \u001b[0;34m=\u001b[0m \u001b[0mnp\u001b[0m\u001b[0;34m.\u001b[0m\u001b[0mhstack\u001b[0m\u001b[0;34m(\u001b[0m\u001b[0;34m(\u001b[0m\u001b[0mLHSarray\u001b[0m\u001b[0;34m,\u001b[0m\u001b[0msubOut\u001b[0m\u001b[0;34m)\u001b[0m\u001b[0;34m)\u001b[0m\u001b[0;34m\u001b[0m\u001b[0;34m\u001b[0m\u001b[0m\n",
            "\u001b[0;31mIndexError\u001b[0m: too many indices for array: array is 1-dimensional, but 2 were indexed"
          ]
        }
      ]
    },
    {
      "cell_type": "code",
      "metadata": {
        "id": "O5Tbw-Id6ghf",
        "outputId": "28cc13cd-7cf5-4b4a-a1c3-90b22cc303af",
        "colab": {
          "base_uri": "https://localhost:8080/",
          "height": 235
        }
      },
      "source": [
        "              \n",
        "for s in range(sampleCount):\n",
        "\n",
        "    indices = list(range(len(SampleResult[s])))\n",
        "    indices.sort(key=lambda k: SampleResult[s][k])\n",
        "    r = [0] * len(indices)\n",
        "    for i, k in enumerate(indices):\n",
        "        r[k] = i\n",
        "\n",
        "    Ranks.append(r)\n",
        "\n",
        "  \n",
        "C=np.corrcoef(Ranks);\n",
        "\n",
        "if np.linalg.det(C) < 1e-16: # determine if singular\n",
        "    Cinv = np.linalg.pinv(C) # may need to use pseudo inverse\n",
        "else:\n",
        "    Cinv = np.linalg.inv(C) \n",
        "\n",
        "resultIdx = parameterCount+1\n",
        "prcc=np.zeros(resultIdx)\n",
        "\n",
        "for w in range(parameterCount): # compute PRCC btwn each param & sim result\n",
        "    prcc[w]=-Cinv[w,resultIdx]/np.sqrt(Cinv[w,w]*Cinv[resultIdx,resultIdx])\n"
      ],
      "execution_count": 36,
      "outputs": [
        {
          "output_type": "error",
          "ename": "IndexError",
          "evalue": "ignored",
          "traceback": [
            "\u001b[0;31m---------------------------------------------------------------------------\u001b[0m",
            "\u001b[0;31mIndexError\u001b[0m                                Traceback (most recent call last)",
            "\u001b[0;32m<ipython-input-36-d8849d62072e>\u001b[0m in \u001b[0;36m<module>\u001b[0;34m()\u001b[0m\n\u001b[1;32m      7\u001b[0m \u001b[0mLHSarray\u001b[0m\u001b[0;34m=\u001b[0m\u001b[0mnp\u001b[0m\u001b[0;34m.\u001b[0m\u001b[0marray\u001b[0m\u001b[0;34m(\u001b[0m\u001b[0mLHS\u001b[0m\u001b[0;34m)\u001b[0m\u001b[0;34m\u001b[0m\u001b[0;34m\u001b[0m\u001b[0m\n\u001b[1;32m      8\u001b[0m \u001b[0mOutputarray\u001b[0m\u001b[0;34m=\u001b[0m\u001b[0mnp\u001b[0m\u001b[0;34m.\u001b[0m\u001b[0marray\u001b[0m\u001b[0;34m(\u001b[0m\u001b[0mOutput\u001b[0m\u001b[0;34m)\u001b[0m\u001b[0;34m\u001b[0m\u001b[0;34m\u001b[0m\u001b[0m\n\u001b[0;32m----> 9\u001b[0;31m \u001b[0msubOut\u001b[0m\u001b[0;34m=\u001b[0m\u001b[0mOutputarray\u001b[0m\u001b[0;34m[\u001b[0m\u001b[0;36m0\u001b[0m\u001b[0;34m:\u001b[0m\u001b[0;34m,\u001b[0m\u001b[0mx_idx\u001b[0m\u001b[0;34m:\u001b[0m\u001b[0mx_idx2\u001b[0m\u001b[0;34m]\u001b[0m\u001b[0;34m\u001b[0m\u001b[0;34m\u001b[0m\u001b[0m\n\u001b[0m\u001b[1;32m     10\u001b[0m \u001b[0;34m\u001b[0m\u001b[0m\n\u001b[1;32m     11\u001b[0m \u001b[0mLHSout\u001b[0m \u001b[0;34m=\u001b[0m \u001b[0mnp\u001b[0m\u001b[0;34m.\u001b[0m\u001b[0mhstack\u001b[0m\u001b[0;34m(\u001b[0m\u001b[0;34m(\u001b[0m\u001b[0mLHSarray\u001b[0m\u001b[0;34m,\u001b[0m\u001b[0msubOut\u001b[0m\u001b[0;34m)\u001b[0m\u001b[0;34m)\u001b[0m\u001b[0;34m\u001b[0m\u001b[0;34m\u001b[0m\u001b[0m\n",
            "\u001b[0;31mIndexError\u001b[0m: too many indices for array: array is 1-dimensional, but 2 were indexed"
          ]
        }
      ]
    },
    {
      "cell_type": "markdown",
      "metadata": {
        "id": "86N98EtCOflg"
      },
      "source": [
        "### Plot the PRCCs for each parameter"
      ]
    },
    {
      "cell_type": "code",
      "source": [
        "xp=[i for i in range(parameterCount)]\n",
        "\n",
        "plt.bar(xp,prcc[0:parameterCount], align='center')\n",
        "\n",
        "bLabels=list(parameters.keys())\n",
        "plt.xticks(xp, bLabels) \n",
        "\n",
        "plt.ylabel('PRCC value');\n",
        "plt.show() "
      ],
      "metadata": {
        "id": "ofCNHLnJvPMq",
        "outputId": "35e4abce-db29-4f05-f991-317f521a5ff4",
        "colab": {
          "base_uri": "https://localhost:8080/",
          "height": 266
        }
      },
      "execution_count": 48,
      "outputs": [
        {
          "output_type": "display_data",
          "data": {
            "text/plain": [
              "<Figure size 432x288 with 1 Axes>"
            ],
            "image/png": "[encoded data removed]"
          },
          "metadata": {
            "needs_background": "light"
          }
        }
      ]
    },
    {
      "cell_type": "code",
      "metadata": {
        "id": "eSa2rx_jOepg",
        "colab": {
          "base_uri": "https://localhost:8080/",
          "height": 296
        },
        "outputId": "46c03436-0769-432f-88d0-46b161ce4d39"
      },
      "source": [
        "xp=[i for i in range(parameterCount)]\n",
        "\n",
        "plt.bar(xp,prcc[0:parameterCount], align='center')\n",
        "\n",
        "bLabels=list(parameters.keys())\n",
        "plt.xticks(xp, bLabels)\n",
        "\n",
        "plt.ylabel('PRCC value');\n",
        "\n",
        "N=str(sampleCount)\n",
        "loc=str(x_idx)\n",
        "plt.title('Partial rank correlation of params with ' + labelstring \n",
        "          + ' results \\n from ' + N + ' LHS sims, at x = ' +loc);\n",
        "\n",
        "plt.show()"
      ],
      "execution_count": null,
      "outputs": [
        {
          "output_type": "display_data",
          "data": {
            "text/plain": [
              "<Figure size 432x288 with 1 Axes>"
            ],
            "image/png": "[encoded data removed]"
          },
          "metadata": {
            "needs_background": "light"
          }
        }
      ]
    },
    {
      "cell_type": "markdown",
      "metadata": {
        "id": "uZG94ERF6it_"
      },
      "source": [
        "### Can also do PRCCs over time... "
      ]
    },
    {
      "cell_type": "code",
      "metadata": {
        "id": "Bja6BJWBYhou"
      },
      "source": [
        "SampleResult=[]\n",
        "\n",
        "resultIdx = parameterCount+1\n",
        "prcc=np.zeros((resultIdx,len(x)))\n",
        "\n",
        "LHS=[*zip(*LHSparams)]\n",
        "LHSarray=np.array(LHS)\n",
        "Outputarray=np.array(Output)\n",
        "\n",
        "for xi in range(len(x)):  # loop through time or location of sim results \n",
        "    xi2  = xi+1           # to compare w/ parameter sample vals\n",
        "\n",
        "    subOut = Outputarray[0:,xi:xi2]\n",
        "\n",
        "    LHSout = np.hstack((LHSarray,subOut))\n",
        "    SampleResult = LHSout.tolist()\n",
        "\n",
        "    Ranks=[]\n",
        "              \n",
        "    for s in range(sampleCount):\n",
        "              \n",
        "      indices = list(range(len(SampleResult[s])))\n",
        "      indices.sort(key=lambda k: SampleResult[s][k])\n",
        "      r = [0] * len(indices)\n",
        "      for i, k in enumerate(indices):\n",
        "          r[k] = i\n",
        "      \n",
        "      Ranks.append(r)\n",
        "\n",
        "    C=np.corrcoef(Ranks);\n",
        "\n",
        "    if np.linalg.det(C) < 1e-16: # determine if singular\n",
        "        Cinv = np.linalg.pinv(C)   # may need to use pseudo inverse\n",
        "    else:\n",
        "        Cinv = np.linalg.inv(C) \n",
        "\n",
        "    for w in range(parameterCount):  # compute PRCC btwn each param & sim result\n",
        "        prcc[w,xi]=-Cinv[w,resultIdx]/np.sqrt(Cinv[w,w]*Cinv[resultIdx,resultIdx]) "
      ],
      "execution_count": null,
      "outputs": []
    },
    {
      "cell_type": "markdown",
      "metadata": {
        "id": "ay8DGC1Veyrn"
      },
      "source": [
        "### Plot PRCC values as they vary over time or space.\n",
        "#### *Notice PRCC can change with respect to the independent variable (x-axis). This may be helpful for certain applications, as opposed to only looking at a \"snapshot.\"*"
      ]
    },
    {
      "cell_type": "code",
      "metadata": {
        "id": "01aiOrI7b2VN",
        "colab": {
          "base_uri": "https://localhost:8080/",
          "height": 310
        },
        "outputId": "01b411be-f6b5-4ae6-9d55-5be53581ddf9"
      },
      "source": [
        "for p in range(parameterCount):\n",
        "    plt.plot(x,prcc[p,])\n",
        "\n",
        "\n",
        "labels=list(parameters.keys())\n",
        "plt.legend(labels)\n",
        "\n",
        "plt.ylabel('PRCC value');\n",
        "plt.xlabel('x')\n",
        "\n",
        "N=str(sampleCount)\n",
        "plt.title('Partial rank correlation of params with ' + labelstring \n",
        "          + ' results \\n from ' + N + ' LHS sims');\n",
        "\n",
        "plt.show()"
      ],
      "execution_count": null,
      "outputs": [
        {
          "output_type": "display_data",
          "data": {
            "text/plain": [
              "<Figure size 432x288 with 1 Axes>"
            ],
            "image/png": "[encoded data removed]"
          },
          "metadata": {
            "needs_background": "light"
          }
        }
      ]
    },
    {
      "cell_type": "markdown",
      "metadata": {
        "id": "2z8fXWcYxalX"
      },
      "source": [
        "##That's it, you're done! Happy modeling."
      ]
    }
  ]
}