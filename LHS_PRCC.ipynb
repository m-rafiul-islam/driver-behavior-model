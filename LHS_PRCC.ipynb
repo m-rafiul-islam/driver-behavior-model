{
  "nbformat": 4,
  "nbformat_minor": 0,
  "metadata": {
    "colab": {
      "name": "LHS-PRCC.ipynb",
      "provenance": [],
      "collapsed_sections": [],
      "include_colab_link": true
    },
    "language_info": {
      "codemirror_mode": {
        "name": "ipython",
        "version": 3
      },
      "file_extension": ".py",
      "mimetype": "text/x-python",
      "name": "python",
      "nbconvert_exporter": "python",
      "pygments_lexer": "ipython3",
      "version": "3.7.3"
    },
    "kernelspec": {
      "display_name": "Python 3",
      "language": "python",
      "name": "python3"
    },
    "widgets": {
      "application/vnd.jupyter.widget-state+json": {
        "2c59dd58c64c46dba68aac231b65b88c": {
          "model_module": "@jupyter-widgets/controls",
          "model_name": "VBoxModel",
          "model_module_version": "1.5.0",
          "state": {
            "_dom_classes": [
              "widget-interact"
            ],
            "_model_module": "@jupyter-widgets/controls",
            "_model_module_version": "1.5.0",
            "_model_name": "VBoxModel",
            "_view_count": null,
            "_view_module": "@jupyter-widgets/controls",
            "_view_module_version": "1.5.0",
            "_view_name": "VBoxView",
            "box_style": "",
            "children": [
              "IPY_MODEL_a29dbe92dba449d78a9e29c64e730fd7",
              "IPY_MODEL_7afde6f96aad4353843968ecad8fe4a5",
              "IPY_MODEL_39cf4308d2d14e3e8281eacea58fe599"
            ],
            "layout": "IPY_MODEL_60c21712c23e4b2b9f5e933dfbc499d7"
          }
        },
        "a29dbe92dba449d78a9e29c64e730fd7": {
          "model_module": "@jupyter-widgets/controls",
          "model_name": "TextModel",
          "model_module_version": "1.5.0",
          "state": {
            "_dom_classes": [],
            "_model_module": "@jupyter-widgets/controls",
            "_model_module_version": "1.5.0",
            "_model_name": "TextModel",
            "_view_count": null,
            "_view_module": "@jupyter-widgets/controls",
            "_view_module_version": "1.5.0",
            "_view_name": "TextView",
            "continuous_update": true,
            "description": "Name",
            "description_tooltip": null,
            "disabled": false,
            "layout": "IPY_MODEL_4c414b1222024db3acf14aac508e7002",
            "placeholder": "​",
            "style": "IPY_MODEL_997ecb157caa4e3a9a178dcd1034caee",
            "value": "a"
          }
        },
        "7afde6f96aad4353843968ecad8fe4a5": {
          "model_module": "@jupyter-widgets/controls",
          "model_name": "DropdownModel",
          "model_module_version": "1.5.0",
          "state": {
            "_dom_classes": [],
            "_model_module": "@jupyter-widgets/controls",
            "_model_module_version": "1.5.0",
            "_model_name": "DropdownModel",
            "_options_labels": [
              "uniform",
              "normal",
              "triangle"
            ],
            "_view_count": null,
            "_view_module": "@jupyter-widgets/controls",
            "_view_module_version": "1.5.0",
            "_view_name": "DropdownView",
            "description": "Distribution",
            "description_tooltip": null,
            "disabled": false,
            "index": 0,
            "layout": "IPY_MODEL_f9ea031513ad45cd997ee1e81d9a706c",
            "style": "IPY_MODEL_40dd7bf58058419ead8642a09d93a477"
          }
        },
        "39cf4308d2d14e3e8281eacea58fe599": {
          "model_module": "@jupyter-widgets/output",
          "model_name": "OutputModel",
          "model_module_version": "1.0.0",
          "state": {
            "_dom_classes": [],
            "_model_module": "@jupyter-widgets/output",
            "_model_module_version": "1.0.0",
            "_model_name": "OutputModel",
            "_view_count": null,
            "_view_module": "@jupyter-widgets/output",
            "_view_module_version": "1.0.0",
            "_view_name": "OutputView",
            "layout": "IPY_MODEL_bc0306f1fc88468ba4906f88af36c50c",
            "msg_id": "",
            "outputs": []
          }
        },
        "60c21712c23e4b2b9f5e933dfbc499d7": {
          "model_module": "@jupyter-widgets/base",
          "model_name": "LayoutModel",
          "model_module_version": "1.2.0",
          "state": {
            "_model_module": "@jupyter-widgets/base",
            "_model_module_version": "1.2.0",
            "_model_name": "LayoutModel",
            "_view_count": null,
            "_view_module": "@jupyter-widgets/base",
            "_view_module_version": "1.2.0",
            "_view_name": "LayoutView",
            "align_content": null,
            "align_items": null,
            "align_self": null,
            "border": null,
            "bottom": null,
            "display": null,
            "flex": null,
            "flex_flow": null,
            "grid_area": null,
            "grid_auto_columns": null,
            "grid_auto_flow": null,
            "grid_auto_rows": null,
            "grid_column": null,
            "grid_gap": null,
            "grid_row": null,
            "grid_template_areas": null,
            "grid_template_columns": null,
            "grid_template_rows": null,
            "height": null,
            "justify_content": null,
            "justify_items": null,
            "left": null,
            "margin": null,
            "max_height": null,
            "max_width": null,
            "min_height": null,
            "min_width": null,
            "object_fit": null,
            "object_position": null,
            "order": null,
            "overflow": null,
            "overflow_x": null,
            "overflow_y": null,
            "padding": null,
            "right": null,
            "top": null,
            "visibility": null,
            "width": null
          }
        },
        "4c414b1222024db3acf14aac508e7002": {
          "model_module": "@jupyter-widgets/base",
          "model_name": "LayoutModel",
          "model_module_version": "1.2.0",
          "state": {
            "_model_module": "@jupyter-widgets/base",
            "_model_module_version": "1.2.0",
            "_model_name": "LayoutModel",
            "_view_count": null,
            "_view_module": "@jupyter-widgets/base",
            "_view_module_version": "1.2.0",
            "_view_name": "LayoutView",
            "align_content": null,
            "align_items": null,
            "align_self": null,
            "border": null,
            "bottom": null,
            "display": null,
            "flex": null,
            "flex_flow": null,
            "grid_area": null,
            "grid_auto_columns": null,
            "grid_auto_flow": null,
            "grid_auto_rows": null,
            "grid_column": null,
            "grid_gap": null,
            "grid_row": null,
            "grid_template_areas": null,
            "grid_template_columns": null,
            "grid_template_rows": null,
            "height": null,
            "justify_content": null,
            "justify_items": null,
            "left": null,
            "margin": null,
            "max_height": null,
            "max_width": null,
            "min_height": null,
            "min_width": null,
            "object_fit": null,
            "object_position": null,
            "order": null,
            "overflow": null,
            "overflow_x": null,
            "overflow_y": null,
            "padding": null,
            "right": null,
            "top": null,
            "visibility": null,
            "width": null
          }
        },
        "997ecb157caa4e3a9a178dcd1034caee": {
          "model_module": "@jupyter-widgets/controls",
          "model_name": "DescriptionStyleModel",
          "model_module_version": "1.5.0",
          "state": {
            "_model_module": "@jupyter-widgets/controls",
            "_model_module_version": "1.5.0",
            "_model_name": "DescriptionStyleModel",
            "_view_count": null,
            "_view_module": "@jupyter-widgets/base",
            "_view_module_version": "1.2.0",
            "_view_name": "StyleView",
            "description_width": ""
          }
        },
        "f9ea031513ad45cd997ee1e81d9a706c": {
          "model_module": "@jupyter-widgets/base",
          "model_name": "LayoutModel",
          "model_module_version": "1.2.0",
          "state": {
            "_model_module": "@jupyter-widgets/base",
            "_model_module_version": "1.2.0",
            "_model_name": "LayoutModel",
            "_view_count": null,
            "_view_module": "@jupyter-widgets/base",
            "_view_module_version": "1.2.0",
            "_view_name": "LayoutView",
            "align_content": null,
            "align_items": null,
            "align_self": null,
            "border": null,
            "bottom": null,
            "display": null,
            "flex": null,
            "flex_flow": null,
            "grid_area": null,
            "grid_auto_columns": null,
            "grid_auto_flow": null,
            "grid_auto_rows": null,
            "grid_column": null,
            "grid_gap": null,
            "grid_row": null,
            "grid_template_areas": null,
            "grid_template_columns": null,
            "grid_template_rows": null,
            "height": null,
            "justify_content": null,
            "justify_items": null,
            "left": null,
            "margin": null,
            "max_height": null,
            "max_width": null,
            "min_height": null,
            "min_width": null,
            "object_fit": null,
            "object_position": null,
            "order": null,
            "overflow": null,
            "overflow_x": null,
            "overflow_y": null,
            "padding": null,
            "right": null,
            "top": null,
            "visibility": null,
            "width": null
          }
        },
        "40dd7bf58058419ead8642a09d93a477": {
          "model_module": "@jupyter-widgets/controls",
          "model_name": "DescriptionStyleModel",
          "model_module_version": "1.5.0",
          "state": {
            "_model_module": "@jupyter-widgets/controls",
            "_model_module_version": "1.5.0",
            "_model_name": "DescriptionStyleModel",
            "_view_count": null,
            "_view_module": "@jupyter-widgets/base",
            "_view_module_version": "1.2.0",
            "_view_name": "StyleView",
            "description_width": ""
          }
        },
        "bc0306f1fc88468ba4906f88af36c50c": {
          "model_module": "@jupyter-widgets/base",
          "model_name": "LayoutModel",
          "model_module_version": "1.2.0",
          "state": {
            "_model_module": "@jupyter-widgets/base",
            "_model_module_version": "1.2.0",
            "_model_name": "LayoutModel",
            "_view_count": null,
            "_view_module": "@jupyter-widgets/base",
            "_view_module_version": "1.2.0",
            "_view_name": "LayoutView",
            "align_content": null,
            "align_items": null,
            "align_self": null,
            "border": null,
            "bottom": null,
            "display": null,
            "flex": null,
            "flex_flow": null,
            "grid_area": null,
            "grid_auto_columns": null,
            "grid_auto_flow": null,
            "grid_auto_rows": null,
            "grid_column": null,
            "grid_gap": null,
            "grid_row": null,
            "grid_template_areas": null,
            "grid_template_columns": null,
            "grid_template_rows": null,
            "height": null,
            "justify_content": null,
            "justify_items": null,
            "left": null,
            "margin": null,
            "max_height": null,
            "max_width": null,
            "min_height": null,
            "min_width": null,
            "object_fit": null,
            "object_position": null,
            "order": null,
            "overflow": null,
            "overflow_x": null,
            "overflow_y": null,
            "padding": null,
            "right": null,
            "top": null,
            "visibility": null,
            "width": null
          }
        },
        "a5ae57ab5b194b2eb793d27c84fc70f6": {
          "model_module": "@jupyter-widgets/controls",
          "model_name": "VBoxModel",
          "model_module_version": "1.5.0",
          "state": {
            "_dom_classes": [
              "widget-interact"
            ],
            "_model_module": "@jupyter-widgets/controls",
            "_model_module_version": "1.5.0",
            "_model_name": "VBoxModel",
            "_view_count": null,
            "_view_module": "@jupyter-widgets/controls",
            "_view_module_version": "1.5.0",
            "_view_name": "VBoxView",
            "box_style": "",
            "children": [
              "IPY_MODEL_51aa18a9b1244516869cfcd59007bac5",
              "IPY_MODEL_8299f5acb22542de90898e666b5c2883",
              "IPY_MODEL_2885b4b7a3f74f2a98ed43ce16c7e1c2"
            ],
            "layout": "IPY_MODEL_9c57173d83904614b9fcd934582f3835"
          }
        },
        "51aa18a9b1244516869cfcd59007bac5": {
          "model_module": "@jupyter-widgets/controls",
          "model_name": "TextModel",
          "model_module_version": "1.5.0",
          "state": {
            "_dom_classes": [],
            "_model_module": "@jupyter-widgets/controls",
            "_model_module_version": "1.5.0",
            "_model_name": "TextModel",
            "_view_count": null,
            "_view_module": "@jupyter-widgets/controls",
            "_view_module_version": "1.5.0",
            "_view_name": "TextView",
            "continuous_update": true,
            "description": "Name",
            "description_tooltip": null,
            "disabled": false,
            "layout": "IPY_MODEL_d8d89be7795e45128a9d403552581526",
            "placeholder": "​",
            "style": "IPY_MODEL_c21f52dc5c0c4a1a90ff83f7df834cd0",
            "value": "b"
          }
        },
        "8299f5acb22542de90898e666b5c2883": {
          "model_module": "@jupyter-widgets/controls",
          "model_name": "DropdownModel",
          "model_module_version": "1.5.0",
          "state": {
            "_dom_classes": [],
            "_model_module": "@jupyter-widgets/controls",
            "_model_module_version": "1.5.0",
            "_model_name": "DropdownModel",
            "_options_labels": [
              "uniform",
              "normal",
              "triangle"
            ],
            "_view_count": null,
            "_view_module": "@jupyter-widgets/controls",
            "_view_module_version": "1.5.0",
            "_view_name": "DropdownView",
            "description": "Distribution",
            "description_tooltip": null,
            "disabled": false,
            "index": 0,
            "layout": "IPY_MODEL_bf956962240b4900b624d0c9f64ca7df",
            "style": "IPY_MODEL_389eff81d5f043ec9b3d529287481f53"
          }
        },
        "2885b4b7a3f74f2a98ed43ce16c7e1c2": {
          "model_module": "@jupyter-widgets/output",
          "model_name": "OutputModel",
          "model_module_version": "1.0.0",
          "state": {
            "_dom_classes": [],
            "_model_module": "@jupyter-widgets/output",
            "_model_module_version": "1.0.0",
            "_model_name": "OutputModel",
            "_view_count": null,
            "_view_module": "@jupyter-widgets/output",
            "_view_module_version": "1.0.0",
            "_view_name": "OutputView",
            "layout": "IPY_MODEL_d085d5136926488183be0121e60b5553",
            "msg_id": "",
            "outputs": []
          }
        },
        "9c57173d83904614b9fcd934582f3835": {
          "model_module": "@jupyter-widgets/base",
          "model_name": "LayoutModel",
          "model_module_version": "1.2.0",
          "state": {
            "_model_module": "@jupyter-widgets/base",
            "_model_module_version": "1.2.0",
            "_model_name": "LayoutModel",
            "_view_count": null,
            "_view_module": "@jupyter-widgets/base",
            "_view_module_version": "1.2.0",
            "_view_name": "LayoutView",
            "align_content": null,
            "align_items": null,
            "align_self": null,
            "border": null,
            "bottom": null,
            "display": null,
            "flex": null,
            "flex_flow": null,
            "grid_area": null,
            "grid_auto_columns": null,
            "grid_auto_flow": null,
            "grid_auto_rows": null,
            "grid_column": null,
            "grid_gap": null,
            "grid_row": null,
            "grid_template_areas": null,
            "grid_template_columns": null,
            "grid_template_rows": null,
            "height": null,
            "justify_content": null,
            "justify_items": null,
            "left": null,
            "margin": null,
            "max_height": null,
            "max_width": null,
            "min_height": null,
            "min_width": null,
            "object_fit": null,
            "object_position": null,
            "order": null,
            "overflow": null,
            "overflow_x": null,
            "overflow_y": null,
            "padding": null,
            "right": null,
            "top": null,
            "visibility": null,
            "width": null
          }
        },
        "d8d89be7795e45128a9d403552581526": {
          "model_module": "@jupyter-widgets/base",
          "model_name": "LayoutModel",
          "model_module_version": "1.2.0",
          "state": {
            "_model_module": "@jupyter-widgets/base",
            "_model_module_version": "1.2.0",
            "_model_name": "LayoutModel",
            "_view_count": null,
            "_view_module": "@jupyter-widgets/base",
            "_view_module_version": "1.2.0",
            "_view_name": "LayoutView",
            "align_content": null,
            "align_items": null,
            "align_self": null,
            "border": null,
            "bottom": null,
            "display": null,
            "flex": null,
            "flex_flow": null,
            "grid_area": null,
            "grid_auto_columns": null,
            "grid_auto_flow": null,
            "grid_auto_rows": null,
            "grid_column": null,
            "grid_gap": null,
            "grid_row": null,
            "grid_template_areas": null,
            "grid_template_columns": null,
            "grid_template_rows": null,
            "height": null,
            "justify_content": null,
            "justify_items": null,
            "left": null,
            "margin": null,
            "max_height": null,
            "max_width": null,
            "min_height": null,
            "min_width": null,
            "object_fit": null,
            "object_position": null,
            "order": null,
            "overflow": null,
            "overflow_x": null,
            "overflow_y": null,
            "padding": null,
            "right": null,
            "top": null,
            "visibility": null,
            "width": null
          }
        },
        "c21f52dc5c0c4a1a90ff83f7df834cd0": {
          "model_module": "@jupyter-widgets/controls",
          "model_name": "DescriptionStyleModel",
          "model_module_version": "1.5.0",
          "state": {
            "_model_module": "@jupyter-widgets/controls",
            "_model_module_version": "1.5.0",
            "_model_name": "DescriptionStyleModel",
            "_view_count": null,
            "_view_module": "@jupyter-widgets/base",
            "_view_module_version": "1.2.0",
            "_view_name": "StyleView",
            "description_width": ""
          }
        },
        "bf956962240b4900b624d0c9f64ca7df": {
          "model_module": "@jupyter-widgets/base",
          "model_name": "LayoutModel",
          "model_module_version": "1.2.0",
          "state": {
            "_model_module": "@jupyter-widgets/base",
            "_model_module_version": "1.2.0",
            "_model_name": "LayoutModel",
            "_view_count": null,
            "_view_module": "@jupyter-widgets/base",
            "_view_module_version": "1.2.0",
            "_view_name": "LayoutView",
            "align_content": null,
            "align_items": null,
            "align_self": null,
            "border": null,
            "bottom": null,
            "display": null,
            "flex": null,
            "flex_flow": null,
            "grid_area": null,
            "grid_auto_columns": null,
            "grid_auto_flow": null,
            "grid_auto_rows": null,
            "grid_column": null,
            "grid_gap": null,
            "grid_row": null,
            "grid_template_areas": null,
            "grid_template_columns": null,
            "grid_template_rows": null,
            "height": null,
            "justify_content": null,
            "justify_items": null,
            "left": null,
            "margin": null,
            "max_height": null,
            "max_width": null,
            "min_height": null,
            "min_width": null,
            "object_fit": null,
            "object_position": null,
            "order": null,
            "overflow": null,
            "overflow_x": null,
            "overflow_y": null,
            "padding": null,
            "right": null,
            "top": null,
            "visibility": null,
            "width": null
          }
        },
        "389eff81d5f043ec9b3d529287481f53": {
          "model_module": "@jupyter-widgets/controls",
          "model_name": "DescriptionStyleModel",
          "model_module_version": "1.5.0",
          "state": {
            "_model_module": "@jupyter-widgets/controls",
            "_model_module_version": "1.5.0",
            "_model_name": "DescriptionStyleModel",
            "_view_count": null,
            "_view_module": "@jupyter-widgets/base",
            "_view_module_version": "1.2.0",
            "_view_name": "StyleView",
            "description_width": ""
          }
        },
        "d085d5136926488183be0121e60b5553": {
          "model_module": "@jupyter-widgets/base",
          "model_name": "LayoutModel",
          "model_module_version": "1.2.0",
          "state": {
            "_model_module": "@jupyter-widgets/base",
            "_model_module_version": "1.2.0",
            "_model_name": "LayoutModel",
            "_view_count": null,
            "_view_module": "@jupyter-widgets/base",
            "_view_module_version": "1.2.0",
            "_view_name": "LayoutView",
            "align_content": null,
            "align_items": null,
            "align_self": null,
            "border": null,
            "bottom": null,
            "display": null,
            "flex": null,
            "flex_flow": null,
            "grid_area": null,
            "grid_auto_columns": null,
            "grid_auto_flow": null,
            "grid_auto_rows": null,
            "grid_column": null,
            "grid_gap": null,
            "grid_row": null,
            "grid_template_areas": null,
            "grid_template_columns": null,
            "grid_template_rows": null,
            "height": null,
            "justify_content": null,
            "justify_items": null,
            "left": null,
            "margin": null,
            "max_height": null,
            "max_width": null,
            "min_height": null,
            "min_width": null,
            "object_fit": null,
            "object_position": null,
            "order": null,
            "overflow": null,
            "overflow_x": null,
            "overflow_y": null,
            "padding": null,
            "right": null,
            "top": null,
            "visibility": null,
            "width": null
          }
        },
        "01dcccba084a42bc8349a4f9beadacbe": {
          "model_module": "@jupyter-widgets/controls",
          "model_name": "VBoxModel",
          "model_module_version": "1.5.0",
          "state": {
            "_dom_classes": [
              "widget-interact"
            ],
            "_model_module": "@jupyter-widgets/controls",
            "_model_module_version": "1.5.0",
            "_model_name": "VBoxModel",
            "_view_count": null,
            "_view_module": "@jupyter-widgets/controls",
            "_view_module_version": "1.5.0",
            "_view_name": "VBoxView",
            "box_style": "",
            "children": [
              "IPY_MODEL_4a537cdc7a80466ab941b0cbedc7c92e",
              "IPY_MODEL_c69b064536c64d94a6a56dfaeb8e4d52",
              "IPY_MODEL_61036f5166b94068bdfa285dae9488c4"
            ],
            "layout": "IPY_MODEL_248eda294b57460db8b8f188c3c7be2b"
          }
        },
        "4a537cdc7a80466ab941b0cbedc7c92e": {
          "model_module": "@jupyter-widgets/controls",
          "model_name": "TextModel",
          "model_module_version": "1.5.0",
          "state": {
            "_dom_classes": [],
            "_model_module": "@jupyter-widgets/controls",
            "_model_module_version": "1.5.0",
            "_model_name": "TextModel",
            "_view_count": null,
            "_view_module": "@jupyter-widgets/controls",
            "_view_module_version": "1.5.0",
            "_view_name": "TextView",
            "continuous_update": true,
            "description": "Name",
            "description_tooltip": null,
            "disabled": false,
            "layout": "IPY_MODEL_801ea55fa8ef403b8eb4ad88a79f3085",
            "placeholder": "​",
            "style": "IPY_MODEL_2b68605d35714535ac21dc91c0bb779a",
            "value": "beta"
          }
        },
        "c69b064536c64d94a6a56dfaeb8e4d52": {
          "model_module": "@jupyter-widgets/controls",
          "model_name": "DropdownModel",
          "model_module_version": "1.5.0",
          "state": {
            "_dom_classes": [],
            "_model_module": "@jupyter-widgets/controls",
            "_model_module_version": "1.5.0",
            "_model_name": "DropdownModel",
            "_options_labels": [
              "uniform",
              "normal",
              "triangle"
            ],
            "_view_count": null,
            "_view_module": "@jupyter-widgets/controls",
            "_view_module_version": "1.5.0",
            "_view_name": "DropdownView",
            "description": "Distribution",
            "description_tooltip": null,
            "disabled": false,
            "index": 0,
            "layout": "IPY_MODEL_6ebc3f9e3949449b9b3d21758e145484",
            "style": "IPY_MODEL_3ba9514bdc2240efb95044ac6a03af0a"
          }
        },
        "61036f5166b94068bdfa285dae9488c4": {
          "model_module": "@jupyter-widgets/output",
          "model_name": "OutputModel",
          "model_module_version": "1.0.0",
          "state": {
            "_dom_classes": [],
            "_model_module": "@jupyter-widgets/output",
            "_model_module_version": "1.0.0",
            "_model_name": "OutputModel",
            "_view_count": null,
            "_view_module": "@jupyter-widgets/output",
            "_view_module_version": "1.0.0",
            "_view_name": "OutputView",
            "layout": "IPY_MODEL_2ca295d1577a446482b51a788bac47fa",
            "msg_id": "",
            "outputs": []
          }
        },
        "248eda294b57460db8b8f188c3c7be2b": {
          "model_module": "@jupyter-widgets/base",
          "model_name": "LayoutModel",
          "model_module_version": "1.2.0",
          "state": {
            "_model_module": "@jupyter-widgets/base",
            "_model_module_version": "1.2.0",
            "_model_name": "LayoutModel",
            "_view_count": null,
            "_view_module": "@jupyter-widgets/base",
            "_view_module_version": "1.2.0",
            "_view_name": "LayoutView",
            "align_content": null,
            "align_items": null,
            "align_self": null,
            "border": null,
            "bottom": null,
            "display": null,
            "flex": null,
            "flex_flow": null,
            "grid_area": null,
            "grid_auto_columns": null,
            "grid_auto_flow": null,
            "grid_auto_rows": null,
            "grid_column": null,
            "grid_gap": null,
            "grid_row": null,
            "grid_template_areas": null,
            "grid_template_columns": null,
            "grid_template_rows": null,
            "height": null,
            "justify_content": null,
            "justify_items": null,
            "left": null,
            "margin": null,
            "max_height": null,
            "max_width": null,
            "min_height": null,
            "min_width": null,
            "object_fit": null,
            "object_position": null,
            "order": null,
            "overflow": null,
            "overflow_x": null,
            "overflow_y": null,
            "padding": null,
            "right": null,
            "top": null,
            "visibility": null,
            "width": null
          }
        },
        "801ea55fa8ef403b8eb4ad88a79f3085": {
          "model_module": "@jupyter-widgets/base",
          "model_name": "LayoutModel",
          "model_module_version": "1.2.0",
          "state": {
            "_model_module": "@jupyter-widgets/base",
            "_model_module_version": "1.2.0",
            "_model_name": "LayoutModel",
            "_view_count": null,
            "_view_module": "@jupyter-widgets/base",
            "_view_module_version": "1.2.0",
            "_view_name": "LayoutView",
            "align_content": null,
            "align_items": null,
            "align_self": null,
            "border": null,
            "bottom": null,
            "display": null,
            "flex": null,
            "flex_flow": null,
            "grid_area": null,
            "grid_auto_columns": null,
            "grid_auto_flow": null,
            "grid_auto_rows": null,
            "grid_column": null,
            "grid_gap": null,
            "grid_row": null,
            "grid_template_areas": null,
            "grid_template_columns": null,
            "grid_template_rows": null,
            "height": null,
            "justify_content": null,
            "justify_items": null,
            "left": null,
            "margin": null,
            "max_height": null,
            "max_width": null,
            "min_height": null,
            "min_width": null,
            "object_fit": null,
            "object_position": null,
            "order": null,
            "overflow": null,
            "overflow_x": null,
            "overflow_y": null,
            "padding": null,
            "right": null,
            "top": null,
            "visibility": null,
            "width": null
          }
        },
        "2b68605d35714535ac21dc91c0bb779a": {
          "model_module": "@jupyter-widgets/controls",
          "model_name": "DescriptionStyleModel",
          "model_module_version": "1.5.0",
          "state": {
            "_model_module": "@jupyter-widgets/controls",
            "_model_module_version": "1.5.0",
            "_model_name": "DescriptionStyleModel",
            "_view_count": null,
            "_view_module": "@jupyter-widgets/base",
            "_view_module_version": "1.2.0",
            "_view_name": "StyleView",
            "description_width": ""
          }
        },
        "6ebc3f9e3949449b9b3d21758e145484": {
          "model_module": "@jupyter-widgets/base",
          "model_name": "LayoutModel",
          "model_module_version": "1.2.0",
          "state": {
            "_model_module": "@jupyter-widgets/base",
            "_model_module_version": "1.2.0",
            "_model_name": "LayoutModel",
            "_view_count": null,
            "_view_module": "@jupyter-widgets/base",
            "_view_module_version": "1.2.0",
            "_view_name": "LayoutView",
            "align_content": null,
            "align_items": null,
            "align_self": null,
            "border": null,
            "bottom": null,
            "display": null,
            "flex": null,
            "flex_flow": null,
            "grid_area": null,
            "grid_auto_columns": null,
            "grid_auto_flow": null,
            "grid_auto_rows": null,
            "grid_column": null,
            "grid_gap": null,
            "grid_row": null,
            "grid_template_areas": null,
            "grid_template_columns": null,
            "grid_template_rows": null,
            "height": null,
            "justify_content": null,
            "justify_items": null,
            "left": null,
            "margin": null,
            "max_height": null,
            "max_width": null,
            "min_height": null,
            "min_width": null,
            "object_fit": null,
            "object_position": null,
            "order": null,
            "overflow": null,
            "overflow_x": null,
            "overflow_y": null,
            "padding": null,
            "right": null,
            "top": null,
            "visibility": null,
            "width": null
          }
        },
        "3ba9514bdc2240efb95044ac6a03af0a": {
          "model_module": "@jupyter-widgets/controls",
          "model_name": "DescriptionStyleModel",
          "model_module_version": "1.5.0",
          "state": {
            "_model_module": "@jupyter-widgets/controls",
            "_model_module_version": "1.5.0",
            "_model_name": "DescriptionStyleModel",
            "_view_count": null,
            "_view_module": "@jupyter-widgets/base",
            "_view_module_version": "1.2.0",
            "_view_name": "StyleView",
            "description_width": ""
          }
        },
        "2ca295d1577a446482b51a788bac47fa": {
          "model_module": "@jupyter-widgets/base",
          "model_name": "LayoutModel",
          "model_module_version": "1.2.0",
          "state": {
            "_model_module": "@jupyter-widgets/base",
            "_model_module_version": "1.2.0",
            "_model_name": "LayoutModel",
            "_view_count": null,
            "_view_module": "@jupyter-widgets/base",
            "_view_module_version": "1.2.0",
            "_view_name": "LayoutView",
            "align_content": null,
            "align_items": null,
            "align_self": null,
            "border": null,
            "bottom": null,
            "display": null,
            "flex": null,
            "flex_flow": null,
            "grid_area": null,
            "grid_auto_columns": null,
            "grid_auto_flow": null,
            "grid_auto_rows": null,
            "grid_column": null,
            "grid_gap": null,
            "grid_row": null,
            "grid_template_areas": null,
            "grid_template_columns": null,
            "grid_template_rows": null,
            "height": null,
            "justify_content": null,
            "justify_items": null,
            "left": null,
            "margin": null,
            "max_height": null,
            "max_width": null,
            "min_height": null,
            "min_width": null,
            "object_fit": null,
            "object_position": null,
            "order": null,
            "overflow": null,
            "overflow_x": null,
            "overflow_y": null,
            "padding": null,
            "right": null,
            "top": null,
            "visibility": null,
            "width": null
          }
        },
        "09dbf04b28f34394b86aae8d69331278": {
          "model_module": "@jupyter-widgets/controls",
          "model_name": "VBoxModel",
          "model_module_version": "1.5.0",
          "state": {
            "_dom_classes": [
              "widget-interact"
            ],
            "_model_module": "@jupyter-widgets/controls",
            "_model_module_version": "1.5.0",
            "_model_name": "VBoxModel",
            "_view_count": null,
            "_view_module": "@jupyter-widgets/controls",
            "_view_module_version": "1.5.0",
            "_view_name": "VBoxView",
            "box_style": "",
            "children": [
              "IPY_MODEL_5fdb6bc5f91148a6b1250584b15b7883",
              "IPY_MODEL_8967688b7eea416e9ddcddbc6feb4237",
              "IPY_MODEL_89a349ac9cd84ba191000e1c906f1fe1"
            ],
            "layout": "IPY_MODEL_b5732f10a4d148788b91219bae08855f"
          }
        },
        "5fdb6bc5f91148a6b1250584b15b7883": {
          "model_module": "@jupyter-widgets/controls",
          "model_name": "TextModel",
          "model_module_version": "1.5.0",
          "state": {
            "_dom_classes": [],
            "_model_module": "@jupyter-widgets/controls",
            "_model_module_version": "1.5.0",
            "_model_name": "TextModel",
            "_view_count": null,
            "_view_module": "@jupyter-widgets/controls",
            "_view_module_version": "1.5.0",
            "_view_name": "TextView",
            "continuous_update": true,
            "description": "Name",
            "description_tooltip": null,
            "disabled": false,
            "layout": "IPY_MODEL_900adaebed9c4550a0dd53a2aeb61b12",
            "placeholder": "​",
            "style": "IPY_MODEL_a41e8a8ae23f4490aa1a27bb5ea6ede8",
            "value": "delta"
          }
        },
        "8967688b7eea416e9ddcddbc6feb4237": {
          "model_module": "@jupyter-widgets/controls",
          "model_name": "DropdownModel",
          "model_module_version": "1.5.0",
          "state": {
            "_dom_classes": [],
            "_model_module": "@jupyter-widgets/controls",
            "_model_module_version": "1.5.0",
            "_model_name": "DropdownModel",
            "_options_labels": [
              "uniform",
              "normal",
              "triangle"
            ],
            "_view_count": null,
            "_view_module": "@jupyter-widgets/controls",
            "_view_module_version": "1.5.0",
            "_view_name": "DropdownView",
            "description": "Distribution",
            "description_tooltip": null,
            "disabled": false,
            "index": 0,
            "layout": "IPY_MODEL_84481dfc24de435299b312c713e7c578",
            "style": "IPY_MODEL_ec0242cd7b15402985aa8e2ff67e1485"
          }
        },
        "89a349ac9cd84ba191000e1c906f1fe1": {
          "model_module": "@jupyter-widgets/output",
          "model_name": "OutputModel",
          "model_module_version": "1.0.0",
          "state": {
            "_dom_classes": [],
            "_model_module": "@jupyter-widgets/output",
            "_model_module_version": "1.0.0",
            "_model_name": "OutputModel",
            "_view_count": null,
            "_view_module": "@jupyter-widgets/output",
            "_view_module_version": "1.0.0",
            "_view_name": "OutputView",
            "layout": "IPY_MODEL_de9ff26b9b3344e194f5a0013a1b9a36",
            "msg_id": "",
            "outputs": []
          }
        },
        "b5732f10a4d148788b91219bae08855f": {
          "model_module": "@jupyter-widgets/base",
          "model_name": "LayoutModel",
          "model_module_version": "1.2.0",
          "state": {
            "_model_module": "@jupyter-widgets/base",
            "_model_module_version": "1.2.0",
            "_model_name": "LayoutModel",
            "_view_count": null,
            "_view_module": "@jupyter-widgets/base",
            "_view_module_version": "1.2.0",
            "_view_name": "LayoutView",
            "align_content": null,
            "align_items": null,
            "align_self": null,
            "border": null,
            "bottom": null,
            "display": null,
            "flex": null,
            "flex_flow": null,
            "grid_area": null,
            "grid_auto_columns": null,
            "grid_auto_flow": null,
            "grid_auto_rows": null,
            "grid_column": null,
            "grid_gap": null,
            "grid_row": null,
            "grid_template_areas": null,
            "grid_template_columns": null,
            "grid_template_rows": null,
            "height": null,
            "justify_content": null,
            "justify_items": null,
            "left": null,
            "margin": null,
            "max_height": null,
            "max_width": null,
            "min_height": null,
            "min_width": null,
            "object_fit": null,
            "object_position": null,
            "order": null,
            "overflow": null,
            "overflow_x": null,
            "overflow_y": null,
            "padding": null,
            "right": null,
            "top": null,
            "visibility": null,
            "width": null
          }
        },
        "900adaebed9c4550a0dd53a2aeb61b12": {
          "model_module": "@jupyter-widgets/base",
          "model_name": "LayoutModel",
          "model_module_version": "1.2.0",
          "state": {
            "_model_module": "@jupyter-widgets/base",
            "_model_module_version": "1.2.0",
            "_model_name": "LayoutModel",
            "_view_count": null,
            "_view_module": "@jupyter-widgets/base",
            "_view_module_version": "1.2.0",
            "_view_name": "LayoutView",
            "align_content": null,
            "align_items": null,
            "align_self": null,
            "border": null,
            "bottom": null,
            "display": null,
            "flex": null,
            "flex_flow": null,
            "grid_area": null,
            "grid_auto_columns": null,
            "grid_auto_flow": null,
            "grid_auto_rows": null,
            "grid_column": null,
            "grid_gap": null,
            "grid_row": null,
            "grid_template_areas": null,
            "grid_template_columns": null,
            "grid_template_rows": null,
            "height": null,
            "justify_content": null,
            "justify_items": null,
            "left": null,
            "margin": null,
            "max_height": null,
            "max_width": null,
            "min_height": null,
            "min_width": null,
            "object_fit": null,
            "object_position": null,
            "order": null,
            "overflow": null,
            "overflow_x": null,
            "overflow_y": null,
            "padding": null,
            "right": null,
            "top": null,
            "visibility": null,
            "width": null
          }
        },
        "a41e8a8ae23f4490aa1a27bb5ea6ede8": {
          "model_module": "@jupyter-widgets/controls",
          "model_name": "DescriptionStyleModel",
          "model_module_version": "1.5.0",
          "state": {
            "_model_module": "@jupyter-widgets/controls",
            "_model_module_version": "1.5.0",
            "_model_name": "DescriptionStyleModel",
            "_view_count": null,
            "_view_module": "@jupyter-widgets/base",
            "_view_module_version": "1.2.0",
            "_view_name": "StyleView",
            "description_width": ""
          }
        },
        "84481dfc24de435299b312c713e7c578": {
          "model_module": "@jupyter-widgets/base",
          "model_name": "LayoutModel",
          "model_module_version": "1.2.0",
          "state": {
            "_model_module": "@jupyter-widgets/base",
            "_model_module_version": "1.2.0",
            "_model_name": "LayoutModel",
            "_view_count": null,
            "_view_module": "@jupyter-widgets/base",
            "_view_module_version": "1.2.0",
            "_view_name": "LayoutView",
            "align_content": null,
            "align_items": null,
            "align_self": null,
            "border": null,
            "bottom": null,
            "display": null,
            "flex": null,
            "flex_flow": null,
            "grid_area": null,
            "grid_auto_columns": null,
            "grid_auto_flow": null,
            "grid_auto_rows": null,
            "grid_column": null,
            "grid_gap": null,
            "grid_row": null,
            "grid_template_areas": null,
            "grid_template_columns": null,
            "grid_template_rows": null,
            "height": null,
            "justify_content": null,
            "justify_items": null,
            "left": null,
            "margin": null,
            "max_height": null,
            "max_width": null,
            "min_height": null,
            "min_width": null,
            "object_fit": null,
            "object_position": null,
            "order": null,
            "overflow": null,
            "overflow_x": null,
            "overflow_y": null,
            "padding": null,
            "right": null,
            "top": null,
            "visibility": null,
            "width": null
          }
        },
        "ec0242cd7b15402985aa8e2ff67e1485": {
          "model_module": "@jupyter-widgets/controls",
          "model_name": "DescriptionStyleModel",
          "model_module_version": "1.5.0",
          "state": {
            "_model_module": "@jupyter-widgets/controls",
            "_model_module_version": "1.5.0",
            "_model_name": "DescriptionStyleModel",
            "_view_count": null,
            "_view_module": "@jupyter-widgets/base",
            "_view_module_version": "1.2.0",
            "_view_name": "StyleView",
            "description_width": ""
          }
        },
        "de9ff26b9b3344e194f5a0013a1b9a36": {
          "model_module": "@jupyter-widgets/base",
          "model_name": "LayoutModel",
          "model_module_version": "1.2.0",
          "state": {
            "_model_module": "@jupyter-widgets/base",
            "_model_module_version": "1.2.0",
            "_model_name": "LayoutModel",
            "_view_count": null,
            "_view_module": "@jupyter-widgets/base",
            "_view_module_version": "1.2.0",
            "_view_name": "LayoutView",
            "align_content": null,
            "align_items": null,
            "align_self": null,
            "border": null,
            "bottom": null,
            "display": null,
            "flex": null,
            "flex_flow": null,
            "grid_area": null,
            "grid_auto_columns": null,
            "grid_auto_flow": null,
            "grid_auto_rows": null,
            "grid_column": null,
            "grid_gap": null,
            "grid_row": null,
            "grid_template_areas": null,
            "grid_template_columns": null,
            "grid_template_rows": null,
            "height": null,
            "justify_content": null,
            "justify_items": null,
            "left": null,
            "margin": null,
            "max_height": null,
            "max_width": null,
            "min_height": null,
            "min_width": null,
            "object_fit": null,
            "object_position": null,
            "order": null,
            "overflow": null,
            "overflow_x": null,
            "overflow_y": null,
            "padding": null,
            "right": null,
            "top": null,
            "visibility": null,
            "width": null
          }
        },
        "903d05ae8b254361b4e2b39fa13f5c53": {
          "model_module": "@jupyter-widgets/controls",
          "model_name": "FloatTextModel",
          "model_module_version": "1.5.0",
          "state": {
            "_dom_classes": [],
            "_model_module": "@jupyter-widgets/controls",
            "_model_module_version": "1.5.0",
            "_model_name": "FloatTextModel",
            "_view_count": null,
            "_view_module": "@jupyter-widgets/controls",
            "_view_module_version": "1.5.0",
            "_view_name": "FloatTextView",
            "continuous_update": false,
            "description": "Minimum:",
            "description_tooltip": null,
            "disabled": false,
            "layout": "IPY_MODEL_cdf1b5afc27241e7ba52c0c2184494a4",
            "step": null,
            "style": "IPY_MODEL_6d6f86599d214448ae087a5c0bac7d65",
            "value": 0.75
          }
        },
        "cdf1b5afc27241e7ba52c0c2184494a4": {
          "model_module": "@jupyter-widgets/base",
          "model_name": "LayoutModel",
          "model_module_version": "1.2.0",
          "state": {
            "_model_module": "@jupyter-widgets/base",
            "_model_module_version": "1.2.0",
            "_model_name": "LayoutModel",
            "_view_count": null,
            "_view_module": "@jupyter-widgets/base",
            "_view_module_version": "1.2.0",
            "_view_name": "LayoutView",
            "align_content": null,
            "align_items": null,
            "align_self": null,
            "border": null,
            "bottom": null,
            "display": null,
            "flex": null,
            "flex_flow": null,
            "grid_area": null,
            "grid_auto_columns": null,
            "grid_auto_flow": null,
            "grid_auto_rows": null,
            "grid_column": null,
            "grid_gap": null,
            "grid_row": null,
            "grid_template_areas": null,
            "grid_template_columns": null,
            "grid_template_rows": null,
            "height": null,
            "justify_content": null,
            "justify_items": null,
            "left": null,
            "margin": null,
            "max_height": null,
            "max_width": null,
            "min_height": null,
            "min_width": null,
            "object_fit": null,
            "object_position": null,
            "order": null,
            "overflow": null,
            "overflow_x": null,
            "overflow_y": null,
            "padding": null,
            "right": null,
            "top": null,
            "visibility": null,
            "width": null
          }
        },
        "6d6f86599d214448ae087a5c0bac7d65": {
          "model_module": "@jupyter-widgets/controls",
          "model_name": "DescriptionStyleModel",
          "model_module_version": "1.5.0",
          "state": {
            "_model_module": "@jupyter-widgets/controls",
            "_model_module_version": "1.5.0",
            "_model_name": "DescriptionStyleModel",
            "_view_count": null,
            "_view_module": "@jupyter-widgets/base",
            "_view_module_version": "1.2.0",
            "_view_name": "StyleView",
            "description_width": ""
          }
        },
        "4319bb6cd0074ab1ad9a72130d06adb5": {
          "model_module": "@jupyter-widgets/controls",
          "model_name": "FloatTextModel",
          "model_module_version": "1.5.0",
          "state": {
            "_dom_classes": [],
            "_model_module": "@jupyter-widgets/controls",
            "_model_module_version": "1.5.0",
            "_model_name": "FloatTextModel",
            "_view_count": null,
            "_view_module": "@jupyter-widgets/controls",
            "_view_module_version": "1.5.0",
            "_view_name": "FloatTextView",
            "continuous_update": false,
            "description": "Maximum:",
            "description_tooltip": null,
            "disabled": false,
            "layout": "IPY_MODEL_0b9b1404c28441f7ba2f22441686b7d0",
            "step": null,
            "style": "IPY_MODEL_bb3e20e224e9477298816033115fff02",
            "value": 3
          }
        },
        "0b9b1404c28441f7ba2f22441686b7d0": {
          "model_module": "@jupyter-widgets/base",
          "model_name": "LayoutModel",
          "model_module_version": "1.2.0",
          "state": {
            "_model_module": "@jupyter-widgets/base",
            "_model_module_version": "1.2.0",
            "_model_name": "LayoutModel",
            "_view_count": null,
            "_view_module": "@jupyter-widgets/base",
            "_view_module_version": "1.2.0",
            "_view_name": "LayoutView",
            "align_content": null,
            "align_items": null,
            "align_self": null,
            "border": null,
            "bottom": null,
            "display": null,
            "flex": null,
            "flex_flow": null,
            "grid_area": null,
            "grid_auto_columns": null,
            "grid_auto_flow": null,
            "grid_auto_rows": null,
            "grid_column": null,
            "grid_gap": null,
            "grid_row": null,
            "grid_template_areas": null,
            "grid_template_columns": null,
            "grid_template_rows": null,
            "height": null,
            "justify_content": null,
            "justify_items": null,
            "left": null,
            "margin": null,
            "max_height": null,
            "max_width": null,
            "min_height": null,
            "min_width": null,
            "object_fit": null,
            "object_position": null,
            "order": null,
            "overflow": null,
            "overflow_x": null,
            "overflow_y": null,
            "padding": null,
            "right": null,
            "top": null,
            "visibility": null,
            "width": null
          }
        },
        "bb3e20e224e9477298816033115fff02": {
          "model_module": "@jupyter-widgets/controls",
          "model_name": "DescriptionStyleModel",
          "model_module_version": "1.5.0",
          "state": {
            "_model_module": "@jupyter-widgets/controls",
            "_model_module_version": "1.5.0",
            "_model_name": "DescriptionStyleModel",
            "_view_count": null,
            "_view_module": "@jupyter-widgets/base",
            "_view_module_version": "1.2.0",
            "_view_name": "StyleView",
            "description_width": ""
          }
        },
        "ba0404019b3f473599594d9862cbfee3": {
          "model_module": "@jupyter-widgets/controls",
          "model_name": "FloatTextModel",
          "model_module_version": "1.5.0",
          "state": {
            "_dom_classes": [],
            "_model_module": "@jupyter-widgets/controls",
            "_model_module_version": "1.5.0",
            "_model_name": "FloatTextModel",
            "_view_count": null,
            "_view_module": "@jupyter-widgets/controls",
            "_view_module_version": "1.5.0",
            "_view_name": "FloatTextView",
            "continuous_update": false,
            "description": "Minimum:",
            "description_tooltip": null,
            "disabled": false,
            "layout": "IPY_MODEL_835c4d0537874a02baf144d8f2a62ef5",
            "step": null,
            "style": "IPY_MODEL_d9769987735745f882c88d55529945fe",
            "value": 0.82
          }
        },
        "835c4d0537874a02baf144d8f2a62ef5": {
          "model_module": "@jupyter-widgets/base",
          "model_name": "LayoutModel",
          "model_module_version": "1.2.0",
          "state": {
            "_model_module": "@jupyter-widgets/base",
            "_model_module_version": "1.2.0",
            "_model_name": "LayoutModel",
            "_view_count": null,
            "_view_module": "@jupyter-widgets/base",
            "_view_module_version": "1.2.0",
            "_view_name": "LayoutView",
            "align_content": null,
            "align_items": null,
            "align_self": null,
            "border": null,
            "bottom": null,
            "display": null,
            "flex": null,
            "flex_flow": null,
            "grid_area": null,
            "grid_auto_columns": null,
            "grid_auto_flow": null,
            "grid_auto_rows": null,
            "grid_column": null,
            "grid_gap": null,
            "grid_row": null,
            "grid_template_areas": null,
            "grid_template_columns": null,
            "grid_template_rows": null,
            "height": null,
            "justify_content": null,
            "justify_items": null,
            "left": null,
            "margin": null,
            "max_height": null,
            "max_width": null,
            "min_height": null,
            "min_width": null,
            "object_fit": null,
            "object_position": null,
            "order": null,
            "overflow": null,
            "overflow_x": null,
            "overflow_y": null,
            "padding": null,
            "right": null,
            "top": null,
            "visibility": null,
            "width": null
          }
        },
        "d9769987735745f882c88d55529945fe": {
          "model_module": "@jupyter-widgets/controls",
          "model_name": "DescriptionStyleModel",
          "model_module_version": "1.5.0",
          "state": {
            "_model_module": "@jupyter-widgets/controls",
            "_model_module_version": "1.5.0",
            "_model_name": "DescriptionStyleModel",
            "_view_count": null,
            "_view_module": "@jupyter-widgets/base",
            "_view_module_version": "1.2.0",
            "_view_name": "StyleView",
            "description_width": ""
          }
        },
        "51aaa3e62a8e410f96307a54c5d8cbf0": {
          "model_module": "@jupyter-widgets/controls",
          "model_name": "FloatTextModel",
          "model_module_version": "1.5.0",
          "state": {
            "_dom_classes": [],
            "_model_module": "@jupyter-widgets/controls",
            "_model_module_version": "1.5.0",
            "_model_name": "FloatTextModel",
            "_view_count": null,
            "_view_module": "@jupyter-widgets/controls",
            "_view_module_version": "1.5.0",
            "_view_name": "FloatTextView",
            "continuous_update": false,
            "description": "Maximum:",
            "description_tooltip": null,
            "disabled": false,
            "layout": "IPY_MODEL_d4e281e3daee417b88701527a31df84a",
            "step": null,
            "style": "IPY_MODEL_512fa0791161472b8231f6c643670860",
            "value": 3.28
          }
        },
        "d4e281e3daee417b88701527a31df84a": {
          "model_module": "@jupyter-widgets/base",
          "model_name": "LayoutModel",
          "model_module_version": "1.2.0",
          "state": {
            "_model_module": "@jupyter-widgets/base",
            "_model_module_version": "1.2.0",
            "_model_name": "LayoutModel",
            "_view_count": null,
            "_view_module": "@jupyter-widgets/base",
            "_view_module_version": "1.2.0",
            "_view_name": "LayoutView",
            "align_content": null,
            "align_items": null,
            "align_self": null,
            "border": null,
            "bottom": null,
            "display": null,
            "flex": null,
            "flex_flow": null,
            "grid_area": null,
            "grid_auto_columns": null,
            "grid_auto_flow": null,
            "grid_auto_rows": null,
            "grid_column": null,
            "grid_gap": null,
            "grid_row": null,
            "grid_template_areas": null,
            "grid_template_columns": null,
            "grid_template_rows": null,
            "height": null,
            "justify_content": null,
            "justify_items": null,
            "left": null,
            "margin": null,
            "max_height": null,
            "max_width": null,
            "min_height": null,
            "min_width": null,
            "object_fit": null,
            "object_position": null,
            "order": null,
            "overflow": null,
            "overflow_x": null,
            "overflow_y": null,
            "padding": null,
            "right": null,
            "top": null,
            "visibility": null,
            "width": null
          }
        },
        "512fa0791161472b8231f6c643670860": {
          "model_module": "@jupyter-widgets/controls",
          "model_name": "DescriptionStyleModel",
          "model_module_version": "1.5.0",
          "state": {
            "_model_module": "@jupyter-widgets/controls",
            "_model_module_version": "1.5.0",
            "_model_name": "DescriptionStyleModel",
            "_view_count": null,
            "_view_module": "@jupyter-widgets/base",
            "_view_module_version": "1.2.0",
            "_view_name": "StyleView",
            "description_width": ""
          }
        },
        "df27d9c24e9246c99549061351055d30": {
          "model_module": "@jupyter-widgets/controls",
          "model_name": "FloatTextModel",
          "model_module_version": "1.5.0",
          "state": {
            "_dom_classes": [],
            "_model_module": "@jupyter-widgets/controls",
            "_model_module_version": "1.5.0",
            "_model_name": "FloatTextModel",
            "_view_count": null,
            "_view_module": "@jupyter-widgets/controls",
            "_view_module_version": "1.5.0",
            "_view_name": "FloatTextView",
            "continuous_update": false,
            "description": "Minimum:",
            "description_tooltip": null,
            "disabled": false,
            "layout": "IPY_MODEL_a16eebaf65304dfbabf4d054a4abc3ae",
            "step": null,
            "style": "IPY_MODEL_cad0160af4a846fdb7c705d95288add7",
            "value": 2
          }
        },
        "a16eebaf65304dfbabf4d054a4abc3ae": {
          "model_module": "@jupyter-widgets/base",
          "model_name": "LayoutModel",
          "model_module_version": "1.2.0",
          "state": {
            "_model_module": "@jupyter-widgets/base",
            "_model_module_version": "1.2.0",
            "_model_name": "LayoutModel",
            "_view_count": null,
            "_view_module": "@jupyter-widgets/base",
            "_view_module_version": "1.2.0",
            "_view_name": "LayoutView",
            "align_content": null,
            "align_items": null,
            "align_self": null,
            "border": null,
            "bottom": null,
            "display": null,
            "flex": null,
            "flex_flow": null,
            "grid_area": null,
            "grid_auto_columns": null,
            "grid_auto_flow": null,
            "grid_auto_rows": null,
            "grid_column": null,
            "grid_gap": null,
            "grid_row": null,
            "grid_template_areas": null,
            "grid_template_columns": null,
            "grid_template_rows": null,
            "height": null,
            "justify_content": null,
            "justify_items": null,
            "left": null,
            "margin": null,
            "max_height": null,
            "max_width": null,
            "min_height": null,
            "min_width": null,
            "object_fit": null,
            "object_position": null,
            "order": null,
            "overflow": null,
            "overflow_x": null,
            "overflow_y": null,
            "padding": null,
            "right": null,
            "top": null,
            "visibility": null,
            "width": null
          }
        },
        "cad0160af4a846fdb7c705d95288add7": {
          "model_module": "@jupyter-widgets/controls",
          "model_name": "DescriptionStyleModel",
          "model_module_version": "1.5.0",
          "state": {
            "_model_module": "@jupyter-widgets/controls",
            "_model_module_version": "1.5.0",
            "_model_name": "DescriptionStyleModel",
            "_view_count": null,
            "_view_module": "@jupyter-widgets/base",
            "_view_module_version": "1.2.0",
            "_view_name": "StyleView",
            "description_width": ""
          }
        },
        "6d369946e259491fb2dc7c215bdda06e": {
          "model_module": "@jupyter-widgets/controls",
          "model_name": "FloatTextModel",
          "model_module_version": "1.5.0",
          "state": {
            "_dom_classes": [],
            "_model_module": "@jupyter-widgets/controls",
            "_model_module_version": "1.5.0",
            "_model_name": "FloatTextModel",
            "_view_count": null,
            "_view_module": "@jupyter-widgets/controls",
            "_view_module_version": "1.5.0",
            "_view_name": "FloatTextView",
            "continuous_update": false,
            "description": "Maximum:",
            "description_tooltip": null,
            "disabled": false,
            "layout": "IPY_MODEL_e2374c36b4134ad3bca4a527ac5f7f9c",
            "step": null,
            "style": "IPY_MODEL_108d6b2d46ea488a8ec58edfdb8bd69e",
            "value": 8
          }
        },
        "e2374c36b4134ad3bca4a527ac5f7f9c": {
          "model_module": "@jupyter-widgets/base",
          "model_name": "LayoutModel",
          "model_module_version": "1.2.0",
          "state": {
            "_model_module": "@jupyter-widgets/base",
            "_model_module_version": "1.2.0",
            "_model_name": "LayoutModel",
            "_view_count": null,
            "_view_module": "@jupyter-widgets/base",
            "_view_module_version": "1.2.0",
            "_view_name": "LayoutView",
            "align_content": null,
            "align_items": null,
            "align_self": null,
            "border": null,
            "bottom": null,
            "display": null,
            "flex": null,
            "flex_flow": null,
            "grid_area": null,
            "grid_auto_columns": null,
            "grid_auto_flow": null,
            "grid_auto_rows": null,
            "grid_column": null,
            "grid_gap": null,
            "grid_row": null,
            "grid_template_areas": null,
            "grid_template_columns": null,
            "grid_template_rows": null,
            "height": null,
            "justify_content": null,
            "justify_items": null,
            "left": null,
            "margin": null,
            "max_height": null,
            "max_width": null,
            "min_height": null,
            "min_width": null,
            "object_fit": null,
            "object_position": null,
            "order": null,
            "overflow": null,
            "overflow_x": null,
            "overflow_y": null,
            "padding": null,
            "right": null,
            "top": null,
            "visibility": null,
            "width": null
          }
        },
        "108d6b2d46ea488a8ec58edfdb8bd69e": {
          "model_module": "@jupyter-widgets/controls",
          "model_name": "DescriptionStyleModel",
          "model_module_version": "1.5.0",
          "state": {
            "_model_module": "@jupyter-widgets/controls",
            "_model_module_version": "1.5.0",
            "_model_name": "DescriptionStyleModel",
            "_view_count": null,
            "_view_module": "@jupyter-widgets/base",
            "_view_module_version": "1.2.0",
            "_view_name": "StyleView",
            "description_width": ""
          }
        },
        "3b290fc57aee44b6a41a8ff7b59b48e7": {
          "model_module": "@jupyter-widgets/controls",
          "model_name": "FloatTextModel",
          "model_module_version": "1.5.0",
          "state": {
            "_dom_classes": [],
            "_model_module": "@jupyter-widgets/controls",
            "_model_module_version": "1.5.0",
            "_model_name": "FloatTextModel",
            "_view_count": null,
            "_view_module": "@jupyter-widgets/controls",
            "_view_module_version": "1.5.0",
            "_view_name": "FloatTextView",
            "continuous_update": false,
            "description": "Minimum:",
            "description_tooltip": null,
            "disabled": false,
            "layout": "IPY_MODEL_16f17b8499f844bb9574887306cc4c91",
            "step": null,
            "style": "IPY_MODEL_981004ae2ff5458495840e0c16687167",
            "value": 1
          }
        },
        "16f17b8499f844bb9574887306cc4c91": {
          "model_module": "@jupyter-widgets/base",
          "model_name": "LayoutModel",
          "model_module_version": "1.2.0",
          "state": {
            "_model_module": "@jupyter-widgets/base",
            "_model_module_version": "1.2.0",
            "_model_name": "LayoutModel",
            "_view_count": null,
            "_view_module": "@jupyter-widgets/base",
            "_view_module_version": "1.2.0",
            "_view_name": "LayoutView",
            "align_content": null,
            "align_items": null,
            "align_self": null,
            "border": null,
            "bottom": null,
            "display": null,
            "flex": null,
            "flex_flow": null,
            "grid_area": null,
            "grid_auto_columns": null,
            "grid_auto_flow": null,
            "grid_auto_rows": null,
            "grid_column": null,
            "grid_gap": null,
            "grid_row": null,
            "grid_template_areas": null,
            "grid_template_columns": null,
            "grid_template_rows": null,
            "height": null,
            "justify_content": null,
            "justify_items": null,
            "left": null,
            "margin": null,
            "max_height": null,
            "max_width": null,
            "min_height": null,
            "min_width": null,
            "object_fit": null,
            "object_position": null,
            "order": null,
            "overflow": null,
            "overflow_x": null,
            "overflow_y": null,
            "padding": null,
            "right": null,
            "top": null,
            "visibility": null,
            "width": null
          }
        },
        "981004ae2ff5458495840e0c16687167": {
          "model_module": "@jupyter-widgets/controls",
          "model_name": "DescriptionStyleModel",
          "model_module_version": "1.5.0",
          "state": {
            "_model_module": "@jupyter-widgets/controls",
            "_model_module_version": "1.5.0",
            "_model_name": "DescriptionStyleModel",
            "_view_count": null,
            "_view_module": "@jupyter-widgets/base",
            "_view_module_version": "1.2.0",
            "_view_name": "StyleView",
            "description_width": ""
          }
        },
        "10ed61399b9842d88c0e2e4293f011a1": {
          "model_module": "@jupyter-widgets/controls",
          "model_name": "FloatTextModel",
          "model_module_version": "1.5.0",
          "state": {
            "_dom_classes": [],
            "_model_module": "@jupyter-widgets/controls",
            "_model_module_version": "1.5.0",
            "_model_name": "FloatTextModel",
            "_view_count": null,
            "_view_module": "@jupyter-widgets/controls",
            "_view_module_version": "1.5.0",
            "_view_name": "FloatTextView",
            "continuous_update": false,
            "description": "Maximum:",
            "description_tooltip": null,
            "disabled": false,
            "layout": "IPY_MODEL_429859e9e4a84ae995cf298264401c97",
            "step": null,
            "style": "IPY_MODEL_6c9558e015ba418c81459a1cc2648268",
            "value": 4
          }
        },
        "429859e9e4a84ae995cf298264401c97": {
          "model_module": "@jupyter-widgets/base",
          "model_name": "LayoutModel",
          "model_module_version": "1.2.0",
          "state": {
            "_model_module": "@jupyter-widgets/base",
            "_model_module_version": "1.2.0",
            "_model_name": "LayoutModel",
            "_view_count": null,
            "_view_module": "@jupyter-widgets/base",
            "_view_module_version": "1.2.0",
            "_view_name": "LayoutView",
            "align_content": null,
            "align_items": null,
            "align_self": null,
            "border": null,
            "bottom": null,
            "display": null,
            "flex": null,
            "flex_flow": null,
            "grid_area": null,
            "grid_auto_columns": null,
            "grid_auto_flow": null,
            "grid_auto_rows": null,
            "grid_column": null,
            "grid_gap": null,
            "grid_row": null,
            "grid_template_areas": null,
            "grid_template_columns": null,
            "grid_template_rows": null,
            "height": null,
            "justify_content": null,
            "justify_items": null,
            "left": null,
            "margin": null,
            "max_height": null,
            "max_width": null,
            "min_height": null,
            "min_width": null,
            "object_fit": null,
            "object_position": null,
            "order": null,
            "overflow": null,
            "overflow_x": null,
            "overflow_y": null,
            "padding": null,
            "right": null,
            "top": null,
            "visibility": null,
            "width": null
          }
        },
        "6c9558e015ba418c81459a1cc2648268": {
          "model_module": "@jupyter-widgets/controls",
          "model_name": "DescriptionStyleModel",
          "model_module_version": "1.5.0",
          "state": {
            "_model_module": "@jupyter-widgets/controls",
            "_model_module_version": "1.5.0",
            "_model_name": "DescriptionStyleModel",
            "_view_count": null,
            "_view_module": "@jupyter-widgets/base",
            "_view_module_version": "1.2.0",
            "_view_name": "StyleView",
            "description_width": ""
          }
        }
      }
    }
  },
  "cells": [
    {
      "cell_type": "markdown",
      "metadata": {
        "id": "view-in-github",
        "colab_type": "text"
      },
      "source": [
        "<a href=\"https://colab.research.google.com/github/m-rafiul-islam/driver-behavior-model/blob/main/LHS_PRCC.ipynb\" target=\"_parent\"><img src=\"https://colab.research.google.com/assets/colab-badge.svg\" alt=\"Open In Colab\"/></a>"
      ]
    },
    {
      "cell_type": "markdown",
      "metadata": {
        "id": "LynXJ5FPHndO"
      },
      "source": [
        "# Latin Hypercube Sampling & Partial Rank Correlation Coefficients  <br/> *~ a method for analyzing model sensitivity to parameters ~*"
      ]
    },
    {
      "cell_type": "markdown",
      "metadata": {
        "id": "PHmmvxwMHndP"
      },
      "source": [
        "#### Importing packages that will be used."
      ]
    },
    {
      "cell_type": "code",
      "metadata": {
        "id": "ZC6x-a7WHndQ"
      },
      "source": [
        "import numpy as np\n",
        "\n",
        "from scipy import special\n",
        "\n",
        "import random\n",
        "\n",
        "from ipywidgets import interact, interactive, fixed, interact_manual\n",
        "import ipywidgets as widgets\n",
        "from IPython.display import display\n",
        "\n",
        "import pandas as pd\n",
        "\n",
        "import matplotlib.pyplot as plt\n"
      ],
      "execution_count": 77,
      "outputs": []
    },
    {
      "cell_type": "markdown",
      "metadata": {
        "id": "U0_okb6XHndS"
      },
      "source": [
        "### Specify the number of parameters to sample and the number of samples to draw from each parameter distribution. \n",
        "#### *Do not include any parameters that should be left fixed in parameterCount - those will be specified later. When choosing number of samples to draw, note that more samples (~ 1000) yields better results while fewer (~50) is faster for testing, since it requires fewer model solves.* "
      ]
    },
    {
      "cell_type": "code",
      "metadata": {
        "id": "EZy2ndbCHndT"
      },
      "source": [
        "# Number of parameters to sample \n",
        "parameterCount = 4;\n",
        "# Number of samples to draw for each parameter\n",
        "sampleCount = 100; # 1000 plus"
      ],
      "execution_count": 78,
      "outputs": []
    },
    {
      "cell_type": "markdown",
      "metadata": {
        "id": "i2vYkow7HndV"
      },
      "source": [
        "#### This defines functions for specifying sampled parameters' names and distributions  as well as drawing samples from a user-specified parameter distribution. Does not need any user edits."
      ]
    },
    {
      "cell_type": "code",
      "metadata": {
        "id": "O0kGl8MKHndV"
      },
      "source": [
        "def parNameDist(Name,Distribution):\n",
        "    paramTemp = {}\n",
        "    paramTemp['Name']=Name\n",
        "    paramTemp['Dist']=Distribution\n",
        "    \n",
        "    return paramTemp\n",
        "  \n",
        "def sampleDistrib(modelParamName,distrib,distribSpecs): \n",
        "    \n",
        "    if distrib == 'uniform':\n",
        "        \n",
        "        mmin = distribSpecs[0].value\n",
        "        mmax = distribSpecs[1].value\n",
        "        \n",
        "        intervalwidth = (mmax - mmin) / sampleCount      # width of each \n",
        "                                                         # sampling interval\n",
        "        samples = []\n",
        "        \n",
        "        for sample in range(sampleCount):\n",
        "            \n",
        "            lower = mmin + intervalwidth * (sample-1)    # lb of interval\n",
        "            upper = mmin + intervalwidth * (sample)      # ub of interval\n",
        "            \n",
        "            sampleVal = np.random.uniform(lower, upper)  # draw a random sample \n",
        "                                                         # within the interval\n",
        "            samples.append(sampleVal)\n",
        "\n",
        "    \n",
        "    \n",
        "    elif distrib == 'normal':\n",
        "        \n",
        "        mmean= distribSpecs[0].value\n",
        "        mvar = distribSpecs[1].value\n",
        "        \n",
        "        lower = mvar*np.sqrt(2)*special.erfinv(-0.9999)+mmean # set lb of 1st\n",
        "                                                              # sample interval\n",
        "        samples = []\n",
        "        \n",
        "        for sample in range(sampleCount):\n",
        "          \n",
        "            n = sample + 1\n",
        "            \n",
        "            if n != sampleCount:\n",
        "                upper = (np.sqrt(2*mvar)*special.erfinv(2*n/sampleCount-1)\n",
        "                         + mmean)                        # ub of sample interval\n",
        "            else:\n",
        "                upper = np.sqrt(2*mvar)*special.erfinv(0.9999) + mmean\n",
        " \n",
        "            sampleVal = np.random.uniform(lower, upper)  # draw a random sample \n",
        "                                                         # within the interval\n",
        "    \n",
        "            samples.append(sampleVal)\n",
        "\n",
        "            lower = upper           # set current ub as the lb for next interval\n",
        "            \n",
        "\n",
        "    \n",
        "    elif distrib == 'triangle':\n",
        "        \n",
        "        mmin = distribSpecs[0].value\n",
        "        mmax = distribSpecs[1].value\n",
        "        mmode= distribSpecs[2].value\n",
        "    \n",
        "        samples = []\n",
        "        \n",
        "        for sample in range(sampleCount):\n",
        "          \n",
        "            n = sample + 1\n",
        "            \n",
        "            intervalarea = 1/sampleCount \n",
        "            \n",
        "            ylower = intervalarea*(n-1) # use cdf to read off area as y's &\n",
        "            yupper = intervalarea*(n)   # get corresponding x's for the pdf\n",
        "        \n",
        "        \n",
        "            # Check to see if y values = cdf(x <= mmode) \n",
        "            # for calculating correxponding x values:\n",
        "            \n",
        "            if ylower <= ((mmode - mmin)/(mmax - mmin)):     \n",
        "                lower = np.sqrt(ylower*(mmax - mmin)*(mmode - mmin)) + mmin \n",
        "\n",
        "            else:\n",
        "                lower = mmax-np.sqrt((1 - ylower)*(mmax - mmin)*(mmax - mmode))\n",
        "\n",
        "            \n",
        "            if yupper <= ((mmode - mmin)/(mmax - mmin)):    \n",
        "                upper = np.sqrt(yupper*(mmax - mmin)*(mmode - mmin)) + mmin; \n",
        "\n",
        "            else:\n",
        "                upper = mmax-np.sqrt((1 - yupper)*(mmax - mmin)*(mmax - mmode))\n",
        "\n",
        "                \n",
        "            sampleVal = np.random.uniform(lower, upper)  \n",
        "            \n",
        "            samples.append(sampleVal)\n",
        "            \n",
        "    \n",
        "    b = int(np.ceil(sampleCount/10))\n",
        "    plt.hist(samples, density = 1, bins = b) \n",
        "    \n",
        "    B=str(b)\n",
        "    \n",
        "    plt.title('Histogram of ' + modelParamName \n",
        "              + ' parameter samples for ' + B + ' bins')\n",
        "    \n",
        "    plt.ylabel('proportion of samples');\n",
        "    plt.xlabel(modelParamName + ' value')\n",
        "    \n",
        "    plt.show()\n",
        "    \n",
        "    return samples"
      ],
      "execution_count": 79,
      "outputs": []
    },
    {
      "cell_type": "markdown",
      "metadata": {
        "id": "lB1cTlDffxwk"
      },
      "source": [
        "#### Calls the function to ask for user input to name parameters and specify distributions. \n",
        "### Type these in text input boxes and dropdowns that will appear below after running the cell."
      ]
    },
    {
      "cell_type": "code",
      "metadata": {
        "id": "CdbdLiSadt7V",
        "colab": {
          "base_uri": "https://localhost:8080/",
          "height": 273,
          "referenced_widgets": [
            "2c59dd58c64c46dba68aac231b65b88c",
            "a29dbe92dba449d78a9e29c64e730fd7",
            "7afde6f96aad4353843968ecad8fe4a5",
            "39cf4308d2d14e3e8281eacea58fe599",
            "60c21712c23e4b2b9f5e933dfbc499d7",
            "4c414b1222024db3acf14aac508e7002",
            "997ecb157caa4e3a9a178dcd1034caee",
            "f9ea031513ad45cd997ee1e81d9a706c",
            "40dd7bf58058419ead8642a09d93a477",
            "bc0306f1fc88468ba4906f88af36c50c",
            "a5ae57ab5b194b2eb793d27c84fc70f6",
            "51aa18a9b1244516869cfcd59007bac5",
            "8299f5acb22542de90898e666b5c2883",
            "2885b4b7a3f74f2a98ed43ce16c7e1c2",
            "9c57173d83904614b9fcd934582f3835",
            "d8d89be7795e45128a9d403552581526",
            "c21f52dc5c0c4a1a90ff83f7df834cd0",
            "bf956962240b4900b624d0c9f64ca7df",
            "389eff81d5f043ec9b3d529287481f53",
            "d085d5136926488183be0121e60b5553",
            "01dcccba084a42bc8349a4f9beadacbe",
            "4a537cdc7a80466ab941b0cbedc7c92e",
            "c69b064536c64d94a6a56dfaeb8e4d52",
            "61036f5166b94068bdfa285dae9488c4",
            "248eda294b57460db8b8f188c3c7be2b",
            "801ea55fa8ef403b8eb4ad88a79f3085",
            "2b68605d35714535ac21dc91c0bb779a",
            "6ebc3f9e3949449b9b3d21758e145484",
            "3ba9514bdc2240efb95044ac6a03af0a",
            "2ca295d1577a446482b51a788bac47fa",
            "09dbf04b28f34394b86aae8d69331278",
            "5fdb6bc5f91148a6b1250584b15b7883",
            "8967688b7eea416e9ddcddbc6feb4237",
            "89a349ac9cd84ba191000e1c906f1fe1",
            "b5732f10a4d148788b91219bae08855f",
            "900adaebed9c4550a0dd53a2aeb61b12",
            "a41e8a8ae23f4490aa1a27bb5ea6ede8",
            "84481dfc24de435299b312c713e7c578",
            "ec0242cd7b15402985aa8e2ff67e1485",
            "de9ff26b9b3344e194f5a0013a1b9a36"
          ]
        },
        "outputId": "07a11ebd-baba-4983-97d2-628562b8f34c"
      },
      "source": [
        "params = {}\n",
        "\n",
        "for i in range(parameterCount):\n",
        "  \n",
        "    s=str(i)\n",
        "    \n",
        "    params[i] = interactive(parNameDist,\n",
        "                            Name='Type parameter ' + s + ' name', \n",
        "                            Distribution=['uniform','normal','triangle'])\n",
        "    \n",
        "    display(params[i])"
      ],
      "execution_count": 80,
      "outputs": [
        {
          "output_type": "display_data",
          "data": {
            "text/plain": [
              "interactive(children=(Text(value='Type parameter 0 name', description='Name'), Dropdown(description='Distribut…"
            ],
            "application/vnd.jupyter.widget-view+json": {
              "version_major": 2,
              "version_minor": 0,
              "model_id": "2c59dd58c64c46dba68aac231b65b88c"
            }
          },
          "metadata": {}
        },
        {
          "output_type": "display_data",
          "data": {
            "text/plain": [
              "interactive(children=(Text(value='Type parameter 1 name', description='Name'), Dropdown(description='Distribut…"
            ],
            "application/vnd.jupyter.widget-view+json": {
              "version_major": 2,
              "version_minor": 0,
              "model_id": "a5ae57ab5b194b2eb793d27c84fc70f6"
            }
          },
          "metadata": {}
        },
        {
          "output_type": "display_data",
          "data": {
            "text/plain": [
              "interactive(children=(Text(value='Type parameter 2 name', description='Name'), Dropdown(description='Distribut…"
            ],
            "application/vnd.jupyter.widget-view+json": {
              "version_major": 2,
              "version_minor": 0,
              "model_id": "01dcccba084a42bc8349a4f9beadacbe"
            }
          },
          "metadata": {}
        },
        {
          "output_type": "display_data",
          "data": {
            "text/plain": [
              "interactive(children=(Text(value='Type parameter 3 name', description='Name'), Dropdown(description='Distribut…"
            ],
            "application/vnd.jupyter.widget-view+json": {
              "version_major": 2,
              "version_minor": 0,
              "model_id": "09dbf04b28f34394b86aae8d69331278"
            }
          },
          "metadata": {}
        }
      ]
    },
    {
      "cell_type": "markdown",
      "metadata": {
        "id": "9K7C0uUHHndX"
      },
      "source": [
        "### Input parameter distribution specifics in the interactive boxes that appear below after running this cell."
      ]
    },
    {
      "cell_type": "code",
      "metadata": {
        "scrolled": false,
        "id": "mDjrr9jbHndY",
        "colab": {
          "base_uri": "https://localhost:8080/",
          "height": 336,
          "referenced_widgets": [
            "903d05ae8b254361b4e2b39fa13f5c53",
            "cdf1b5afc27241e7ba52c0c2184494a4",
            "6d6f86599d214448ae087a5c0bac7d65",
            "4319bb6cd0074ab1ad9a72130d06adb5",
            "0b9b1404c28441f7ba2f22441686b7d0",
            "bb3e20e224e9477298816033115fff02",
            "ba0404019b3f473599594d9862cbfee3",
            "835c4d0537874a02baf144d8f2a62ef5",
            "d9769987735745f882c88d55529945fe",
            "51aaa3e62a8e410f96307a54c5d8cbf0",
            "d4e281e3daee417b88701527a31df84a",
            "512fa0791161472b8231f6c643670860",
            "df27d9c24e9246c99549061351055d30",
            "a16eebaf65304dfbabf4d054a4abc3ae",
            "cad0160af4a846fdb7c705d95288add7",
            "6d369946e259491fb2dc7c215bdda06e",
            "e2374c36b4134ad3bca4a527ac5f7f9c",
            "108d6b2d46ea488a8ec58edfdb8bd69e",
            "3b290fc57aee44b6a41a8ff7b59b48e7",
            "16f17b8499f844bb9574887306cc4c91",
            "981004ae2ff5458495840e0c16687167",
            "10ed61399b9842d88c0e2e4293f011a1",
            "429859e9e4a84ae995cf298264401c97",
            "6c9558e015ba418c81459a1cc2648268"
          ]
        },
        "outputId": "8e826afa-0f72-4655-9a5e-e6050b1659b8"
      },
      "source": [
        "distribSpecs={}\n",
        "\n",
        "for i in range(parameterCount):\n",
        "  \n",
        "    parName = params[i].result['Name']\n",
        "    \n",
        "    print('Enter distribution specifics for parameter ' + parName + ':')\n",
        "    \n",
        "    if params[i].result['Dist'] == 'normal':\n",
        "\n",
        "        distribSpecs[parName] = {}\n",
        "        \n",
        "        distribSpecs[parName][0] = widgets.FloatText(\n",
        "                value=2,\n",
        "                description='Mean:'\n",
        "              )\n",
        "        distribSpecs[parName][1] = widgets.FloatText(\n",
        "                value=1,\n",
        "                description='Variance:'\n",
        "              )\n",
        "\n",
        "        display(distribSpecs[parName][0], distribSpecs[parName][1])\n",
        "\n",
        "    elif params[i].result['Dist'] == 'uniform':\n",
        "\n",
        "        distribSpecs[parName] = {}\n",
        "\n",
        "        distribSpecs[parName][0] = widgets.FloatText(\n",
        "                value=0,\n",
        "                description='Minimum:'\n",
        "              )\n",
        "        distribSpecs[parName][1] = widgets.FloatText(\n",
        "                value=2,\n",
        "                description='Maximum:'\n",
        "              )\n",
        "\n",
        "        display(distribSpecs[parName][0], distribSpecs[parName][1])\n",
        "\n",
        "\n",
        "    elif params[i].result['Dist'] == 'triangle':\n",
        "      \n",
        "        distribSpecs[parName] = {}\n",
        "\n",
        "        distribSpecs[parName][0] = widgets.FloatText(\n",
        "                value=0,\n",
        "                description='Minimum:'\n",
        "              )\n",
        "        distribSpecs[parName][1] = widgets.FloatText(\n",
        "                value=2,\n",
        "                description='Maximum:'\n",
        "              )\n",
        "        distribSpecs[parName][2] = widgets.FloatText(\n",
        "                value=1,\n",
        "                description='Mode:'\n",
        "              )\n",
        "\n",
        "        display(distribSpecs[parName][0], distribSpecs[parName][1], distribSpecs[parName][2])"
      ],
      "execution_count": 81,
      "outputs": [
        {
          "output_type": "stream",
          "name": "stdout",
          "text": [
            "Enter distribution specifics for parameter a:\n"
          ]
        },
        {
          "output_type": "display_data",
          "data": {
            "text/plain": [
              "FloatText(value=0.0, description='Minimum:')"
            ],
            "application/vnd.jupyter.widget-view+json": {
              "version_major": 2,
              "version_minor": 0,
              "model_id": "903d05ae8b254361b4e2b39fa13f5c53"
            }
          },
          "metadata": {}
        },
        {
          "output_type": "display_data",
          "data": {
            "text/plain": [
              "FloatText(value=2.0, description='Maximum:')"
            ],
            "application/vnd.jupyter.widget-view+json": {
              "version_major": 2,
              "version_minor": 0,
              "model_id": "4319bb6cd0074ab1ad9a72130d06adb5"
            }
          },
          "metadata": {}
        },
        {
          "output_type": "stream",
          "name": "stdout",
          "text": [
            "Enter distribution specifics for parameter b:\n"
          ]
        },
        {
          "output_type": "display_data",
          "data": {
            "text/plain": [
              "FloatText(value=0.0, description='Minimum:')"
            ],
            "application/vnd.jupyter.widget-view+json": {
              "version_major": 2,
              "version_minor": 0,
              "model_id": "ba0404019b3f473599594d9862cbfee3"
            }
          },
          "metadata": {}
        },
        {
          "output_type": "display_data",
          "data": {
            "text/plain": [
              "FloatText(value=2.0, description='Maximum:')"
            ],
            "application/vnd.jupyter.widget-view+json": {
              "version_major": 2,
              "version_minor": 0,
              "model_id": "51aaa3e62a8e410f96307a54c5d8cbf0"
            }
          },
          "metadata": {}
        },
        {
          "output_type": "stream",
          "name": "stdout",
          "text": [
            "Enter distribution specifics for parameter beta:\n"
          ]
        },
        {
          "output_type": "display_data",
          "data": {
            "text/plain": [
              "FloatText(value=0.0, description='Minimum:')"
            ],
            "application/vnd.jupyter.widget-view+json": {
              "version_major": 2,
              "version_minor": 0,
              "model_id": "df27d9c24e9246c99549061351055d30"
            }
          },
          "metadata": {}
        },
        {
          "output_type": "display_data",
          "data": {
            "text/plain": [
              "FloatText(value=2.0, description='Maximum:')"
            ],
            "application/vnd.jupyter.widget-view+json": {
              "version_major": 2,
              "version_minor": 0,
              "model_id": "6d369946e259491fb2dc7c215bdda06e"
            }
          },
          "metadata": {}
        },
        {
          "output_type": "stream",
          "name": "stdout",
          "text": [
            "Enter distribution specifics for parameter delta:\n"
          ]
        },
        {
          "output_type": "display_data",
          "data": {
            "text/plain": [
              "FloatText(value=0.0, description='Minimum:')"
            ],
            "application/vnd.jupyter.widget-view+json": {
              "version_major": 2,
              "version_minor": 0,
              "model_id": "3b290fc57aee44b6a41a8ff7b59b48e7"
            }
          },
          "metadata": {}
        },
        {
          "output_type": "display_data",
          "data": {
            "text/plain": [
              "FloatText(value=2.0, description='Maximum:')"
            ],
            "application/vnd.jupyter.widget-view+json": {
              "version_major": 2,
              "version_minor": 0,
              "model_id": "10ed61399b9842d88c0e2e4293f011a1"
            }
          },
          "metadata": {}
        }
      ]
    },
    {
      "cell_type": "code",
      "source": [
        "# parameter of interest \n",
        "a=1.5 \n",
        "b = 1.64\n",
        "delta =  4.0\n",
        "beta = 2 \n",
        "lf = 0.50\n",
        "uf = 2 \n",
        "varbound=np.array([[a*lf,a*uf],[b*lf,b*uf],[lf*delta,uf*delta],[lf*beta,uf*beta]])\n",
        "varbound"
      ],
      "metadata": {
        "id": "kgxlOj_4Wwdy",
        "outputId": "c0577acf-a1ea-4a78-bbf3-dd20d2cf7b3e",
        "colab": {
          "base_uri": "https://localhost:8080/"
        }
      },
      "execution_count": 83,
      "outputs": [
        {
          "output_type": "execute_result",
          "data": {
            "text/plain": [
              "array([[0.75, 3.  ],\n",
              "       [0.82, 3.28],\n",
              "       [2.  , 8.  ],\n",
              "       [1.  , 4.  ]])"
            ]
          },
          "metadata": {},
          "execution_count": 83
        }
      ]
    },
    {
      "cell_type": "markdown",
      "metadata": {
        "id": "6_FBOVRXgizZ"
      },
      "source": [
        "#### This passes the distributions to the code for generating parameter samples, and histogram plots of samples for each parameter will appear below. "
      ]
    },
    {
      "cell_type": "code",
      "metadata": {
        "id": "X1Clr2PYd6Mg",
        "colab": {
          "base_uri": "https://localhost:8080/",
          "height": 1000
        },
        "outputId": "026dcccc-0fdc-486b-aee4-e94702411b11"
      },
      "source": [
        "parameters = {}\n",
        "for j in range(parameterCount):\n",
        "  \n",
        "    parameters[params[j].result['Name']] = sampleDistrib(params[j].result['Name'],\n",
        "                                                         params[j].result['Dist'],\n",
        "                                                         distribSpecs[params[j].result['Name']])"
      ],
      "execution_count": 84,
      "outputs": [
        {
          "output_type": "display_data",
          "data": {
            "text/plain": [
              "<Figure size 432x288 with 1 Axes>"
            ],
            "image/png": "[encoded data removed]"
          },
          "metadata": {
            "needs_background": "light"
          }
        },
        {
          "output_type": "display_data",
          "data": {
            "text/plain": [
              "<Figure size 432x288 with 1 Axes>"
            ],
            "image/png": "[encoded data removed]"
          },
          "metadata": {
            "needs_background": "light"
          }
        },
        {
          "output_type": "display_data",
          "data": {
            "text/plain": [
              "<Figure size 432x288 with 1 Axes>"
            ],
            "image/png": "[encoded data removed]"
          },
          "metadata": {
            "needs_background": "light"
          }
        },
        {
          "output_type": "display_data",
          "data": {
            "text/plain": [
              "<Figure size 432x288 with 1 Axes>"
            ],
            "image/png": "[encoded data removed]"
          },
          "metadata": {
            "needs_background": "light"
          }
        }
      ]
    },
    {
      "cell_type": "markdown",
      "metadata": {
        "id": "PdQAUyAB_QYY"
      },
      "source": [
        "#### Randomly permute each set of parameter samples in order to randomly pair the samples to more fully sample the parameter space for the Monte Carlo simulations."
      ]
    },
    {
      "cell_type": "code",
      "metadata": {
        "id": "HFdaJckHHnde"
      },
      "source": [
        "LHSparams=[]\n",
        "for p in parameters:\n",
        "    temp = parameters[p]\n",
        "    random.shuffle(temp)\n",
        "    LHSparams.append(temp) "
      ],
      "execution_count": 85,
      "outputs": []
    },
    {
      "cell_type": "code",
      "source": [
        "# parameters\n",
        "# LHSparams"
      ],
      "metadata": {
        "id": "V1yPd-o5g9r5"
      },
      "execution_count": 60,
      "outputs": []
    },
    {
      "cell_type": "markdown",
      "source": [
        "###Our IDM/FIDM model "
      ],
      "metadata": {
        "id": "BsCRXIJfnt_p"
      }
    },
    {
      "cell_type": "markdown",
      "source": [
        "#### packages"
      ],
      "metadata": {
        "id": "zdFeECFmoZ6j"
      }
    },
    {
      "cell_type": "code",
      "source": [
        "#!/usr/bin/env python3\n",
        "# -*- coding: utf-8 -*-\n",
        "\"\"\"\n",
        "Created on Mon Jan 24 15:17:39 2022\n",
        "@author: rafiul\n",
        "\"\"\"\n",
        "# import scipy.integrate as integrate\n",
        "# from scipy.integrate import odeint \n",
        "import sys\n",
        "import os \n",
        "# from geneticalgorithm import geneticalgorithm as ga\n",
        "#from geneticalgorithm_pronto import geneticalgorithm as ga\n",
        "# from ga import ga\n",
        "import numpy as np\n",
        "import scipy.integrate as integrate\n",
        "from scipy import special \n",
        "from scipy.interpolate import interp1d\n",
        "import pandas as pd  \n"
      ],
      "metadata": {
        "id": "HN7l9Tx0oBME"
      },
      "execution_count": 86,
      "outputs": []
    },
    {
      "cell_type": "markdown",
      "source": [
        "#### Functions"
      ],
      "metadata": {
        "id": "ZCXWV-0aozGA"
      }
    },
    {
      "cell_type": "code",
      "source": [
        "\n",
        "def RK4(func, X0, ts):\n",
        "        \"\"\"\n",
        "        Runge Kutta 4 solver.\n",
        "        \"\"\"\n",
        "        dt = ts[1] - ts[0]\n",
        "        nt = len(ts)\n",
        "        X  = np.zeros((nt, X0.shape[0]),dtype=np.float64)\n",
        "        X[0] = X0\n",
        "        for i in range(nt-1):\n",
        "            k1 = func(X[i], ts[i])\n",
        "            k2 = func(X[i] + dt/2. * k1, ts[i] + dt/2.)\n",
        "            k3 = func(X[i] + dt/2. * k2, ts[i] + dt/2.)\n",
        "            k4 = func(X[i] + dt    * k3, ts[i] + dt)\n",
        "            X[i+1] = X[i] + dt / 6. * (k1 + 2. * k2 + 2. * k3 + k4)\n",
        "        return X \n",
        "\n",
        "\n",
        "#  see this link for model and paramterts https://en.wikipedia.org/wiki/Intelligent_driver_model  \n",
        "# DOI: 10.1098/rsta.2010.0084 \n",
        "\n",
        "# @jit(nopython=True)\n",
        "def idm_model(x,t):\n",
        "    X,V = x[0],x[1]\n",
        "    dX,dV = np.zeros(1,dtype=np.float64), np.zeros(1,dtype=np.float64)\n",
        "    dX = V # Differtial Equation 1\n",
        "    ###\n",
        "    s = position_LV(t) - X - 5 # 5 = length of the car\n",
        "    deltaV = V - speed_LV(t)\n",
        "    sstar = s0+V*T + (V*deltaV)/(2*np.sqrt(a*b))\n",
        "    # ###\n",
        "    dV = a*(1-(V/V_0)**delta - (sstar/s)**2) # Differtial Equation 2\n",
        "    \n",
        "    return np.array([dX,dV],dtype=np.float64) \n",
        "\n",
        "\n",
        "# @jit(nopython=True)\n",
        "\n",
        "def speed_LV(t):\n",
        "    return interp1d(nth_car_data['time'],nth_car_data['speed'],bounds_error=False)(t) \n",
        "\n",
        "def position_LV(t):\n",
        "    return interp1d(nth_car_data['time'],postion_of_the_LV,bounds_error=False)(t)  \n",
        "\n",
        "\n",
        "def fractional_idm_model_1d(V,t,X):    \n",
        "    # index = round(t) #convert into integer number \n",
        "    \n",
        "    current_position_of_follower = X \n",
        "    ###\n",
        "    s = position_LV(t) - current_position_of_follower - 5 # 5 = length of the car\n",
        "    deltaV = V - speed_LV(t)\n",
        "    sstar = s0+V*T + (V*deltaV)/(2*np.sqrt(a*b))\n",
        "    \n",
        "    # ###\n",
        "    dV = a*(1-(V/V_0)**delta - (sstar/s)**2) # Differtial Equation 2\n",
        "    \n",
        "    return dV\n",
        "\n",
        "def speed_error(sol,nth_car_speed):\n",
        "    return np.sum((sol[1,:-1]-nth_car_speed[1:])**2) \n",
        "\n",
        "def gap_error(sol,postion_of_the_LV):\n",
        "    return np.sum((sol[0,:]-postion_of_the_LV)**2) \n",
        "\n",
        "def caputoEuler_1d(a, f, y0, tspan, x0_f):\n",
        "    \"\"\"Use one-step Adams-Bashforth (Euler) method to integrate Caputo equation\n",
        "    D^a y(t) = f(y,t)\n",
        "    Args:\n",
        "      a: fractional exponent in the range (0,1)\n",
        "      f: callable(y,t) returning a numpy array of shape (d,)\n",
        "         Vector-valued function to define the right hand side of the system\n",
        "      y0: array of shape (d,) giving the initial state vector y(t==0)\n",
        "      tspan (array): The sequence of time points for which to solve for y.\n",
        "        These must be equally spaced, e.g. np.arange(0,10,0.005)\n",
        "        tspan[0] is the intial time corresponding to the initial state y0.\n",
        "    Returns:\n",
        "      y: array, with shape (len(tspan), len(y0))\n",
        "         With the initial value y0 in the first row\n",
        "    Raises:\n",
        "      FODEValueError\n",
        "    See also:\n",
        "      K. Diethelm et al. (2004) Detailed error analysis for a fractional Adams\n",
        "         method\n",
        "      C. Li and F. Zeng (2012) Finite Difference Methods for Fractional\n",
        "         Differential Equations\n",
        "    \"\"\"\n",
        "    #(d, a, f, y0, tspan) = _check_args(a, f, y0, tspan)\n",
        "    N = len(tspan)\n",
        "    h = (tspan[N-1] - tspan[0])/(N - 1)\n",
        "    c = special.rgamma(a) * np.power(h, a) / a\n",
        "    w = c * np.diff(np.power(np.arange(N), a))\n",
        "    fhistory = np.zeros(N - 1, dtype=np.float64)\n",
        "    y = np.zeros(N, dtype=np.float64)\n",
        "    x = np.zeros(N, dtype=np.float64)\n",
        "    y[0] = y0;\n",
        "    x[0] = x0_f;\n",
        "    for n in range(0, N - 1):\n",
        "        tn = tspan[n]\n",
        "        yn = y[n]\n",
        "        fhistory[n] = f(yn, tn, x[n])\n",
        "        y[n+1] = y0 + np.dot(w[0:n+1], fhistory[n::-1])\n",
        "        x[n+1] = x[n] + y[n+1] * h\n",
        "    return np.array([x,y]) \n",
        "\n",
        "def error_func_idm(variable_X):\n",
        "    # varbound=np.array([[a*lf,a*uf],[lf*delta,uf*delta],[lf*beta,uf*beta]])\n",
        "    a = variable_X[0]\n",
        "    delta = variable_X[1] \n",
        "    beta = variable_X[2] \n",
        "    x0 = np.array([initial_position,initial_velocity],dtype=np.float64) #initial position and velocity\n",
        "    # Classical ODE\n",
        "    # sol = integrate.odeint(idm_model, x0, time_span) \n",
        "    \n",
        "    sol = RK4(idm_model, x0, time_span) \n",
        "    sol = sol.transpose(1,0) \n",
        "    \n",
        "    # print(np.sum((sol[1,:-1]-nth_car_speed[1:])**2))\n",
        "    \n",
        "    return np.sum((sol[1,1:]-nth_car_speed[:-1])**2) \n",
        "  \n",
        "def error_func_fidm(variable_X):\n",
        "    # varbound=np.array([[a*lf,a*uf],[lf*delta,uf*delta],[lf*beta,uf*beta]])\n",
        "    a = variable_X[0]\n",
        "    delta = variable_X[1] \n",
        "    beta = variable_X[2] \n",
        "    alpha = variable_X[3]\n",
        "    if alpha > .99999:\n",
        "        alpha = .99999\n",
        "    sol = caputoEuler_1d(alpha,fractional_idm_model_1d, initial_velocity, time_span, initial_position) #, args=(number_groups,beta_P,beta_C,beta_A,v,w,mu_E,mu_A,mu_P,mu_C,p,q,contact_by_group))\n",
        "    return np.sum((sol[1,1:]-nth_car_speed[:-1])**2) \n"
      ],
      "metadata": {
        "id": "UyLlo4I9oH_r"
      },
      "execution_count": 87,
      "outputs": []
    },
    {
      "cell_type": "code",
      "source": [
        "# np.array(Output).reshape(len(Output),1)"
      ],
      "metadata": {
        "id": "Pk3L63CUubns"
      },
      "execution_count": 66,
      "outputs": []
    },
    {
      "cell_type": "markdown",
      "metadata": {
        "id": "gFMg4Lzl_z3T"
      },
      "source": [
        "#### Run Monte Carlo simulations for each parameter sample set.\n",
        "### *Be sure to specify a call to your model function and any necessary arguments below.* \n"
      ]
    },
    {
      "cell_type": "code",
      "source": [
        "######################################\n",
        "\n",
        "# Global  variables \n",
        "\n",
        "#  see this link for model and paramterts https://en.wikipedia.org/wiki/Intelligent_driver_model \n",
        "\n",
        "V_0 = 20  # desired speed m/s \n",
        "s0 = 30\n",
        "T = 1.5 \n",
        "nth_car = 2\n",
        "\n",
        "\n",
        "# a=1.5\n",
        "# b = 1.67 \n",
        "# delta =  4.0\n",
        "# beta = 2 \n",
        "\n",
        "# find best values for our model\n",
        "# a_alpha = 1.2 \n",
        "\n",
        "\n",
        "# ######################################\n",
        "# Actual data \n",
        "# df = pd.read_csv('RAllCarDataTime350.csv') \n",
        "git_raw_url = 'https://raw.githubusercontent.com/m-rafiul-islam/driver-behavior-model/main/RAllCarDataTime350.csv'\n",
        "df = pd.read_csv(git_raw_url) \n",
        "nth_car_data = df.loc[df['nthcar'] == nth_car, :]  \n",
        "nth_car_speed = np.array(df.loc[df['nthcar'] == nth_car,'speed'])  \n",
        "\n",
        "\n",
        "# leader vehicle profile \n",
        "# 7 m/s - 25.2 km/h  11 m/s - 39.6 km/h  18 m/s - 64.8 km/h 22 m/s - 79.2 km/h \n",
        "# 25 km/h -- 6.95 m/s 40 km/h -- 11.11 m/s 60 km/h -- 16.67 m/s \n",
        "# dt=1 #time step -- 1 sec \n",
        "\n",
        "time_span = np.array(nth_car_data['time'])\n",
        "dt = time_span[1]-time_span[0]\n",
        "\n",
        "# speed_of_the_LV = 15*np.ones(600+1) # we will need data\n",
        "\n",
        "# speed_of_the_LV = np.concatenate((np.linspace(0,7,60),7*np.ones(120),np.linspace(7,11,60), 11*np.ones(120), np.linspace(11,0,60) ))# we will need data\n",
        "\n",
        "speed_of_the_LV = nth_car_speed\n",
        "\n",
        "num_points = len(speed_of_the_LV) \n",
        "\n",
        "postion_of_the_LV = np.zeros(num_points) \n",
        "\n",
        "\n",
        "initla_position_of_the_LV = 18.45  # 113 \n",
        "\n",
        "postion_of_the_LV[0] = initla_position_of_the_LV\n",
        "\n",
        "for i in range(1,num_points):\n",
        "      \n",
        "      postion_of_the_LV[i] = postion_of_the_LV[i-1] + dt*(speed_of_the_LV[i]+speed_of_the_LV[i-1])/2 \n",
        " \n",
        "initial_position = 0.\n",
        "initial_velocity = 6.72\n",
        "x0 = np.array([initial_position,initial_velocity],dtype=np.float64) #initial position and velocity\n",
        "\n",
        "alpha =1 \n",
        "# a=1.5\n",
        "b = 1.67 \n",
        "# delta =  4.0\n",
        "# beta = 2 \n",
        "Output = [] \n",
        "for j in range(sampleCount):   \n",
        "    sampledParams=[i[j] for i in LHSparams] \n",
        "    SSE = error_func_idm(sampledParams)\n",
        "    Output.append(SSE)"
      ],
      "metadata": {
        "id": "zXTej8dpFPOl"
      },
      "execution_count": 88,
      "outputs": []
    },
    {
      "cell_type": "markdown",
      "metadata": {
        "id": "9HH8nfMzc1qi"
      },
      "source": [
        "### Plot the range of simulation output generated by the all of the Monte Carlo simulations using errorbars."
      ]
    },
    {
      "cell_type": "code",
      "metadata": {
        "id": "UcWtaGt-QqBY"
      },
      "source": [
        "# yavg = np.mean(Output, axis=0)\n",
        "# yerr = np.std(Output, axis=0)\n",
        "# plt.errorbar(t,yavg,yerr)\n",
        "# plt.xlabel('x')\n",
        "# # plt.xlabel('time (days)')   # for myodes\n",
        "# plt.ylabel(labelstring)\n",
        "# plt.title('Error bar plot of ' + labelstring + ' from LHS simulations')\n",
        "# plt.show()"
      ],
      "execution_count": 71,
      "outputs": []
    },
    {
      "cell_type": "markdown",
      "metadata": {
        "id": "3XF6evQB_6ZN"
      },
      "source": [
        "### Compute partial rank correlation coefficients to compare simulation outputs with parameters"
      ]
    },
    {
      "cell_type": "code",
      "source": [
        "# \n",
        "LHSout = np.hstack((LHSarray,np.array(Output).reshape(len(Output),1)))\n",
        "SampleResult = LHSout.tolist()\n",
        "\n",
        "Ranks=[]\n",
        "              \n",
        "for s in range(sampleCount):\n",
        "\n",
        "    indices = list(range(len(SampleResult[s])))\n",
        "    indices.sort(key=lambda k: SampleResult[s][k])\n",
        "    r = [0] * len(indices)\n",
        "    for i, k in enumerate(indices):\n",
        "        r[k] = i\n",
        "\n",
        "    Ranks.append(r)\n",
        "\n",
        "  \n",
        "C=np.corrcoef(Ranks);\n",
        "\n",
        "if np.linalg.det(C) < 1e-16: # determine if singular\n",
        "    Cinv = np.linalg.pinv(C) # may need to use pseudo inverse\n",
        "else:\n",
        "    Cinv = np.linalg.inv(C) \n",
        "\n",
        "resultIdx = parameterCount+1\n",
        "prcc=np.zeros(resultIdx)\n",
        "\n",
        "for w in range(parameterCount): # compute PRCC btwn each param & sim result\n",
        "    prcc[w]=-Cinv[w,resultIdx]/np.sqrt(Cinv[w,w]*Cinv[resultIdx,resultIdx]) "
      ],
      "metadata": {
        "id": "0WGbawH2FCYP"
      },
      "execution_count": 89,
      "outputs": []
    },
    {
      "cell_type": "code",
      "source": [
        "xp=[i for i in range(parameterCount)]\n",
        "\n",
        "plt.bar(xp,prcc[0:parameterCount], align='center')\n",
        "\n",
        "bLabels=list(parameters.keys())\n",
        "plt.xticks(xp, bLabels) \n",
        "\n",
        "plt.ylabel('PRCC value');\n",
        "plt.show() "
      ],
      "metadata": {
        "id": "ofCNHLnJvPMq",
        "outputId": "6800bde1-c618-4481-92ac-6ed6a13cf9c1",
        "colab": {
          "base_uri": "https://localhost:8080/",
          "height": 265
        }
      },
      "execution_count": 90,
      "outputs": [
        {
          "output_type": "display_data",
          "data": {
            "text/plain": [
              "<Figure size 432x288 with 1 Axes>"
            ],
            "image/png": "[encoded data removed]"
          },
          "metadata": {
            "needs_background": "light"
          }
        }
      ]
    }
  ]
}