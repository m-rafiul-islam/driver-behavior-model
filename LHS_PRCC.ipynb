{
  "nbformat": 4,
  "nbformat_minor": 0,
  "metadata": {
    "colab": {
      "name": "LHS-PRCC.ipynb",
      "provenance": [],
      "collapsed_sections": [],
      "include_colab_link": true
    },
    "language_info": {
      "codemirror_mode": {
        "name": "ipython",
        "version": 3
      },
      "file_extension": ".py",
      "mimetype": "text/x-python",
      "name": "python",
      "nbconvert_exporter": "python",
      "pygments_lexer": "ipython3",
      "version": "3.7.3"
    },
    "kernelspec": {
      "display_name": "Python 3",
      "language": "python",
      "name": "python3"
    },
    "widgets": {
      "application/vnd.jupyter.widget-state+json": {
        "316baa768f514596a9de324d02907454": {
          "model_module": "@jupyter-widgets/controls",
          "model_name": "VBoxModel",
          "model_module_version": "1.5.0",
          "state": {
            "_dom_classes": [
              "widget-interact"
            ],
            "_model_module": "@jupyter-widgets/controls",
            "_model_module_version": "1.5.0",
            "_model_name": "VBoxModel",
            "_view_count": null,
            "_view_module": "@jupyter-widgets/controls",
            "_view_module_version": "1.5.0",
            "_view_name": "VBoxView",
            "box_style": "",
            "children": [
              "IPY_MODEL_de4fa25ce9894072ae84a6500907f989",
              "IPY_MODEL_f217885d2e664bc484067ed5921a67c3",
              "IPY_MODEL_d72c0e5f68ec4674b35af851d95b3e15"
            ],
            "layout": "IPY_MODEL_4ce2ddd1c790426ebfacd06e69bbdee7"
          }
        },
        "de4fa25ce9894072ae84a6500907f989": {
          "model_module": "@jupyter-widgets/controls",
          "model_name": "TextModel",
          "model_module_version": "1.5.0",
          "state": {
            "_dom_classes": [],
            "_model_module": "@jupyter-widgets/controls",
            "_model_module_version": "1.5.0",
            "_model_name": "TextModel",
            "_view_count": null,
            "_view_module": "@jupyter-widgets/controls",
            "_view_module_version": "1.5.0",
            "_view_name": "TextView",
            "continuous_update": true,
            "description": "Name",
            "description_tooltip": null,
            "disabled": false,
            "layout": "IPY_MODEL_5a889d1cdf414adfabdc3ce1e2b4dd82",
            "placeholder": "​",
            "style": "IPY_MODEL_88cb81df3ffe4459a68cabcd1f180b74",
            "value": "Type parameter 0 name"
          }
        },
        "f217885d2e664bc484067ed5921a67c3": {
          "model_module": "@jupyter-widgets/controls",
          "model_name": "DropdownModel",
          "model_module_version": "1.5.0",
          "state": {
            "_dom_classes": [],
            "_model_module": "@jupyter-widgets/controls",
            "_model_module_version": "1.5.0",
            "_model_name": "DropdownModel",
            "_options_labels": [
              "uniform",
              "normal",
              "triangle"
            ],
            "_view_count": null,
            "_view_module": "@jupyter-widgets/controls",
            "_view_module_version": "1.5.0",
            "_view_name": "DropdownView",
            "description": "Distribution",
            "description_tooltip": null,
            "disabled": false,
            "index": 0,
            "layout": "IPY_MODEL_6a732b2cc4354bf1813778ea7db6737e",
            "style": "IPY_MODEL_7d8db44e8a0c4bbdb0e46b739c088cf3"
          }
        },
        "d72c0e5f68ec4674b35af851d95b3e15": {
          "model_module": "@jupyter-widgets/output",
          "model_name": "OutputModel",
          "model_module_version": "1.0.0",
          "state": {
            "_dom_classes": [],
            "_model_module": "@jupyter-widgets/output",
            "_model_module_version": "1.0.0",
            "_model_name": "OutputModel",
            "_view_count": null,
            "_view_module": "@jupyter-widgets/output",
            "_view_module_version": "1.0.0",
            "_view_name": "OutputView",
            "layout": "IPY_MODEL_f0baf3e47d0247019808c0de311bc3e9",
            "msg_id": "",
            "outputs": []
          }
        },
        "4ce2ddd1c790426ebfacd06e69bbdee7": {
          "model_module": "@jupyter-widgets/base",
          "model_name": "LayoutModel",
          "model_module_version": "1.2.0",
          "state": {
            "_model_module": "@jupyter-widgets/base",
            "_model_module_version": "1.2.0",
            "_model_name": "LayoutModel",
            "_view_count": null,
            "_view_module": "@jupyter-widgets/base",
            "_view_module_version": "1.2.0",
            "_view_name": "LayoutView",
            "align_content": null,
            "align_items": null,
            "align_self": null,
            "border": null,
            "bottom": null,
            "display": null,
            "flex": null,
            "flex_flow": null,
            "grid_area": null,
            "grid_auto_columns": null,
            "grid_auto_flow": null,
            "grid_auto_rows": null,
            "grid_column": null,
            "grid_gap": null,
            "grid_row": null,
            "grid_template_areas": null,
            "grid_template_columns": null,
            "grid_template_rows": null,
            "height": null,
            "justify_content": null,
            "justify_items": null,
            "left": null,
            "margin": null,
            "max_height": null,
            "max_width": null,
            "min_height": null,
            "min_width": null,
            "object_fit": null,
            "object_position": null,
            "order": null,
            "overflow": null,
            "overflow_x": null,
            "overflow_y": null,
            "padding": null,
            "right": null,
            "top": null,
            "visibility": null,
            "width": null
          }
        },
        "5a889d1cdf414adfabdc3ce1e2b4dd82": {
          "model_module": "@jupyter-widgets/base",
          "model_name": "LayoutModel",
          "model_module_version": "1.2.0",
          "state": {
            "_model_module": "@jupyter-widgets/base",
            "_model_module_version": "1.2.0",
            "_model_name": "LayoutModel",
            "_view_count": null,
            "_view_module": "@jupyter-widgets/base",
            "_view_module_version": "1.2.0",
            "_view_name": "LayoutView",
            "align_content": null,
            "align_items": null,
            "align_self": null,
            "border": null,
            "bottom": null,
            "display": null,
            "flex": null,
            "flex_flow": null,
            "grid_area": null,
            "grid_auto_columns": null,
            "grid_auto_flow": null,
            "grid_auto_rows": null,
            "grid_column": null,
            "grid_gap": null,
            "grid_row": null,
            "grid_template_areas": null,
            "grid_template_columns": null,
            "grid_template_rows": null,
            "height": null,
            "justify_content": null,
            "justify_items": null,
            "left": null,
            "margin": null,
            "max_height": null,
            "max_width": null,
            "min_height": null,
            "min_width": null,
            "object_fit": null,
            "object_position": null,
            "order": null,
            "overflow": null,
            "overflow_x": null,
            "overflow_y": null,
            "padding": null,
            "right": null,
            "top": null,
            "visibility": null,
            "width": null
          }
        },
        "88cb81df3ffe4459a68cabcd1f180b74": {
          "model_module": "@jupyter-widgets/controls",
          "model_name": "DescriptionStyleModel",
          "model_module_version": "1.5.0",
          "state": {
            "_model_module": "@jupyter-widgets/controls",
            "_model_module_version": "1.5.0",
            "_model_name": "DescriptionStyleModel",
            "_view_count": null,
            "_view_module": "@jupyter-widgets/base",
            "_view_module_version": "1.2.0",
            "_view_name": "StyleView",
            "description_width": ""
          }
        },
        "6a732b2cc4354bf1813778ea7db6737e": {
          "model_module": "@jupyter-widgets/base",
          "model_name": "LayoutModel",
          "model_module_version": "1.2.0",
          "state": {
            "_model_module": "@jupyter-widgets/base",
            "_model_module_version": "1.2.0",
            "_model_name": "LayoutModel",
            "_view_count": null,
            "_view_module": "@jupyter-widgets/base",
            "_view_module_version": "1.2.0",
            "_view_name": "LayoutView",
            "align_content": null,
            "align_items": null,
            "align_self": null,
            "border": null,
            "bottom": null,
            "display": null,
            "flex": null,
            "flex_flow": null,
            "grid_area": null,
            "grid_auto_columns": null,
            "grid_auto_flow": null,
            "grid_auto_rows": null,
            "grid_column": null,
            "grid_gap": null,
            "grid_row": null,
            "grid_template_areas": null,
            "grid_template_columns": null,
            "grid_template_rows": null,
            "height": null,
            "justify_content": null,
            "justify_items": null,
            "left": null,
            "margin": null,
            "max_height": null,
            "max_width": null,
            "min_height": null,
            "min_width": null,
            "object_fit": null,
            "object_position": null,
            "order": null,
            "overflow": null,
            "overflow_x": null,
            "overflow_y": null,
            "padding": null,
            "right": null,
            "top": null,
            "visibility": null,
            "width": null
          }
        },
        "7d8db44e8a0c4bbdb0e46b739c088cf3": {
          "model_module": "@jupyter-widgets/controls",
          "model_name": "DescriptionStyleModel",
          "model_module_version": "1.5.0",
          "state": {
            "_model_module": "@jupyter-widgets/controls",
            "_model_module_version": "1.5.0",
            "_model_name": "DescriptionStyleModel",
            "_view_count": null,
            "_view_module": "@jupyter-widgets/base",
            "_view_module_version": "1.2.0",
            "_view_name": "StyleView",
            "description_width": ""
          }
        },
        "f0baf3e47d0247019808c0de311bc3e9": {
          "model_module": "@jupyter-widgets/base",
          "model_name": "LayoutModel",
          "model_module_version": "1.2.0",
          "state": {
            "_model_module": "@jupyter-widgets/base",
            "_model_module_version": "1.2.0",
            "_model_name": "LayoutModel",
            "_view_count": null,
            "_view_module": "@jupyter-widgets/base",
            "_view_module_version": "1.2.0",
            "_view_name": "LayoutView",
            "align_content": null,
            "align_items": null,
            "align_self": null,
            "border": null,
            "bottom": null,
            "display": null,
            "flex": null,
            "flex_flow": null,
            "grid_area": null,
            "grid_auto_columns": null,
            "grid_auto_flow": null,
            "grid_auto_rows": null,
            "grid_column": null,
            "grid_gap": null,
            "grid_row": null,
            "grid_template_areas": null,
            "grid_template_columns": null,
            "grid_template_rows": null,
            "height": null,
            "justify_content": null,
            "justify_items": null,
            "left": null,
            "margin": null,
            "max_height": null,
            "max_width": null,
            "min_height": null,
            "min_width": null,
            "object_fit": null,
            "object_position": null,
            "order": null,
            "overflow": null,
            "overflow_x": null,
            "overflow_y": null,
            "padding": null,
            "right": null,
            "top": null,
            "visibility": null,
            "width": null
          }
        },
        "0f121e2b758f46a4804ec87e98be45dc": {
          "model_module": "@jupyter-widgets/controls",
          "model_name": "VBoxModel",
          "model_module_version": "1.5.0",
          "state": {
            "_dom_classes": [
              "widget-interact"
            ],
            "_model_module": "@jupyter-widgets/controls",
            "_model_module_version": "1.5.0",
            "_model_name": "VBoxModel",
            "_view_count": null,
            "_view_module": "@jupyter-widgets/controls",
            "_view_module_version": "1.5.0",
            "_view_name": "VBoxView",
            "box_style": "",
            "children": [
              "IPY_MODEL_d2ebafa4d515498585b9a90e70da4cc5",
              "IPY_MODEL_36604d38eaaf43e5bc7fe9ff3d3672d0",
              "IPY_MODEL_c25e47e5796c4fec8799b8205e5dc4da"
            ],
            "layout": "IPY_MODEL_1db92be8a7894356a5c19504b593aabe"
          }
        },
        "d2ebafa4d515498585b9a90e70da4cc5": {
          "model_module": "@jupyter-widgets/controls",
          "model_name": "TextModel",
          "model_module_version": "1.5.0",
          "state": {
            "_dom_classes": [],
            "_model_module": "@jupyter-widgets/controls",
            "_model_module_version": "1.5.0",
            "_model_name": "TextModel",
            "_view_count": null,
            "_view_module": "@jupyter-widgets/controls",
            "_view_module_version": "1.5.0",
            "_view_name": "TextView",
            "continuous_update": true,
            "description": "Name",
            "description_tooltip": null,
            "disabled": false,
            "layout": "IPY_MODEL_68a54a06e61b4e2181cafce4edf82ee7",
            "placeholder": "​",
            "style": "IPY_MODEL_1d27d834df8440d79893777d78b060be",
            "value": "Type parameter 1 name"
          }
        },
        "36604d38eaaf43e5bc7fe9ff3d3672d0": {
          "model_module": "@jupyter-widgets/controls",
          "model_name": "DropdownModel",
          "model_module_version": "1.5.0",
          "state": {
            "_dom_classes": [],
            "_model_module": "@jupyter-widgets/controls",
            "_model_module_version": "1.5.0",
            "_model_name": "DropdownModel",
            "_options_labels": [
              "uniform",
              "normal",
              "triangle"
            ],
            "_view_count": null,
            "_view_module": "@jupyter-widgets/controls",
            "_view_module_version": "1.5.0",
            "_view_name": "DropdownView",
            "description": "Distribution",
            "description_tooltip": null,
            "disabled": false,
            "index": 0,
            "layout": "IPY_MODEL_c8d64642f2944086b1b2ba4acc18a604",
            "style": "IPY_MODEL_f6a90a71e7a74f85961270da84760785"
          }
        },
        "c25e47e5796c4fec8799b8205e5dc4da": {
          "model_module": "@jupyter-widgets/output",
          "model_name": "OutputModel",
          "model_module_version": "1.0.0",
          "state": {
            "_dom_classes": [],
            "_model_module": "@jupyter-widgets/output",
            "_model_module_version": "1.0.0",
            "_model_name": "OutputModel",
            "_view_count": null,
            "_view_module": "@jupyter-widgets/output",
            "_view_module_version": "1.0.0",
            "_view_name": "OutputView",
            "layout": "IPY_MODEL_0ec90b0d86bb4e24b9e3c540981640b6",
            "msg_id": "",
            "outputs": []
          }
        },
        "1db92be8a7894356a5c19504b593aabe": {
          "model_module": "@jupyter-widgets/base",
          "model_name": "LayoutModel",
          "model_module_version": "1.2.0",
          "state": {
            "_model_module": "@jupyter-widgets/base",
            "_model_module_version": "1.2.0",
            "_model_name": "LayoutModel",
            "_view_count": null,
            "_view_module": "@jupyter-widgets/base",
            "_view_module_version": "1.2.0",
            "_view_name": "LayoutView",
            "align_content": null,
            "align_items": null,
            "align_self": null,
            "border": null,
            "bottom": null,
            "display": null,
            "flex": null,
            "flex_flow": null,
            "grid_area": null,
            "grid_auto_columns": null,
            "grid_auto_flow": null,
            "grid_auto_rows": null,
            "grid_column": null,
            "grid_gap": null,
            "grid_row": null,
            "grid_template_areas": null,
            "grid_template_columns": null,
            "grid_template_rows": null,
            "height": null,
            "justify_content": null,
            "justify_items": null,
            "left": null,
            "margin": null,
            "max_height": null,
            "max_width": null,
            "min_height": null,
            "min_width": null,
            "object_fit": null,
            "object_position": null,
            "order": null,
            "overflow": null,
            "overflow_x": null,
            "overflow_y": null,
            "padding": null,
            "right": null,
            "top": null,
            "visibility": null,
            "width": null
          }
        },
        "68a54a06e61b4e2181cafce4edf82ee7": {
          "model_module": "@jupyter-widgets/base",
          "model_name": "LayoutModel",
          "model_module_version": "1.2.0",
          "state": {
            "_model_module": "@jupyter-widgets/base",
            "_model_module_version": "1.2.0",
            "_model_name": "LayoutModel",
            "_view_count": null,
            "_view_module": "@jupyter-widgets/base",
            "_view_module_version": "1.2.0",
            "_view_name": "LayoutView",
            "align_content": null,
            "align_items": null,
            "align_self": null,
            "border": null,
            "bottom": null,
            "display": null,
            "flex": null,
            "flex_flow": null,
            "grid_area": null,
            "grid_auto_columns": null,
            "grid_auto_flow": null,
            "grid_auto_rows": null,
            "grid_column": null,
            "grid_gap": null,
            "grid_row": null,
            "grid_template_areas": null,
            "grid_template_columns": null,
            "grid_template_rows": null,
            "height": null,
            "justify_content": null,
            "justify_items": null,
            "left": null,
            "margin": null,
            "max_height": null,
            "max_width": null,
            "min_height": null,
            "min_width": null,
            "object_fit": null,
            "object_position": null,
            "order": null,
            "overflow": null,
            "overflow_x": null,
            "overflow_y": null,
            "padding": null,
            "right": null,
            "top": null,
            "visibility": null,
            "width": null
          }
        },
        "1d27d834df8440d79893777d78b060be": {
          "model_module": "@jupyter-widgets/controls",
          "model_name": "DescriptionStyleModel",
          "model_module_version": "1.5.0",
          "state": {
            "_model_module": "@jupyter-widgets/controls",
            "_model_module_version": "1.5.0",
            "_model_name": "DescriptionStyleModel",
            "_view_count": null,
            "_view_module": "@jupyter-widgets/base",
            "_view_module_version": "1.2.0",
            "_view_name": "StyleView",
            "description_width": ""
          }
        },
        "c8d64642f2944086b1b2ba4acc18a604": {
          "model_module": "@jupyter-widgets/base",
          "model_name": "LayoutModel",
          "model_module_version": "1.2.0",
          "state": {
            "_model_module": "@jupyter-widgets/base",
            "_model_module_version": "1.2.0",
            "_model_name": "LayoutModel",
            "_view_count": null,
            "_view_module": "@jupyter-widgets/base",
            "_view_module_version": "1.2.0",
            "_view_name": "LayoutView",
            "align_content": null,
            "align_items": null,
            "align_self": null,
            "border": null,
            "bottom": null,
            "display": null,
            "flex": null,
            "flex_flow": null,
            "grid_area": null,
            "grid_auto_columns": null,
            "grid_auto_flow": null,
            "grid_auto_rows": null,
            "grid_column": null,
            "grid_gap": null,
            "grid_row": null,
            "grid_template_areas": null,
            "grid_template_columns": null,
            "grid_template_rows": null,
            "height": null,
            "justify_content": null,
            "justify_items": null,
            "left": null,
            "margin": null,
            "max_height": null,
            "max_width": null,
            "min_height": null,
            "min_width": null,
            "object_fit": null,
            "object_position": null,
            "order": null,
            "overflow": null,
            "overflow_x": null,
            "overflow_y": null,
            "padding": null,
            "right": null,
            "top": null,
            "visibility": null,
            "width": null
          }
        },
        "f6a90a71e7a74f85961270da84760785": {
          "model_module": "@jupyter-widgets/controls",
          "model_name": "DescriptionStyleModel",
          "model_module_version": "1.5.0",
          "state": {
            "_model_module": "@jupyter-widgets/controls",
            "_model_module_version": "1.5.0",
            "_model_name": "DescriptionStyleModel",
            "_view_count": null,
            "_view_module": "@jupyter-widgets/base",
            "_view_module_version": "1.2.0",
            "_view_name": "StyleView",
            "description_width": ""
          }
        },
        "0ec90b0d86bb4e24b9e3c540981640b6": {
          "model_module": "@jupyter-widgets/base",
          "model_name": "LayoutModel",
          "model_module_version": "1.2.0",
          "state": {
            "_model_module": "@jupyter-widgets/base",
            "_model_module_version": "1.2.0",
            "_model_name": "LayoutModel",
            "_view_count": null,
            "_view_module": "@jupyter-widgets/base",
            "_view_module_version": "1.2.0",
            "_view_name": "LayoutView",
            "align_content": null,
            "align_items": null,
            "align_self": null,
            "border": null,
            "bottom": null,
            "display": null,
            "flex": null,
            "flex_flow": null,
            "grid_area": null,
            "grid_auto_columns": null,
            "grid_auto_flow": null,
            "grid_auto_rows": null,
            "grid_column": null,
            "grid_gap": null,
            "grid_row": null,
            "grid_template_areas": null,
            "grid_template_columns": null,
            "grid_template_rows": null,
            "height": null,
            "justify_content": null,
            "justify_items": null,
            "left": null,
            "margin": null,
            "max_height": null,
            "max_width": null,
            "min_height": null,
            "min_width": null,
            "object_fit": null,
            "object_position": null,
            "order": null,
            "overflow": null,
            "overflow_x": null,
            "overflow_y": null,
            "padding": null,
            "right": null,
            "top": null,
            "visibility": null,
            "width": null
          }
        },
        "7e5da0778eb34c8685d3c41cf080b842": {
          "model_module": "@jupyter-widgets/controls",
          "model_name": "VBoxModel",
          "model_module_version": "1.5.0",
          "state": {
            "_dom_classes": [
              "widget-interact"
            ],
            "_model_module": "@jupyter-widgets/controls",
            "_model_module_version": "1.5.0",
            "_model_name": "VBoxModel",
            "_view_count": null,
            "_view_module": "@jupyter-widgets/controls",
            "_view_module_version": "1.5.0",
            "_view_name": "VBoxView",
            "box_style": "",
            "children": [
              "IPY_MODEL_1c3104144c0843dea66fbd9f3155a212",
              "IPY_MODEL_4825202c0bdd485ca0ae6750f2848859",
              "IPY_MODEL_af2394e41bff4144a2280fe8a11fd675"
            ],
            "layout": "IPY_MODEL_09b6d605406a4e33b48ce6380e0efd63"
          }
        },
        "1c3104144c0843dea66fbd9f3155a212": {
          "model_module": "@jupyter-widgets/controls",
          "model_name": "TextModel",
          "model_module_version": "1.5.0",
          "state": {
            "_dom_classes": [],
            "_model_module": "@jupyter-widgets/controls",
            "_model_module_version": "1.5.0",
            "_model_name": "TextModel",
            "_view_count": null,
            "_view_module": "@jupyter-widgets/controls",
            "_view_module_version": "1.5.0",
            "_view_name": "TextView",
            "continuous_update": true,
            "description": "Name",
            "description_tooltip": null,
            "disabled": false,
            "layout": "IPY_MODEL_1e0734cca0e3435297143463603b77d9",
            "placeholder": "​",
            "style": "IPY_MODEL_9f9a462046c044d8950702a2cc7757b2",
            "value": "Type parameter 2 name"
          }
        },
        "4825202c0bdd485ca0ae6750f2848859": {
          "model_module": "@jupyter-widgets/controls",
          "model_name": "DropdownModel",
          "model_module_version": "1.5.0",
          "state": {
            "_dom_classes": [],
            "_model_module": "@jupyter-widgets/controls",
            "_model_module_version": "1.5.0",
            "_model_name": "DropdownModel",
            "_options_labels": [
              "uniform",
              "normal",
              "triangle"
            ],
            "_view_count": null,
            "_view_module": "@jupyter-widgets/controls",
            "_view_module_version": "1.5.0",
            "_view_name": "DropdownView",
            "description": "Distribution",
            "description_tooltip": null,
            "disabled": false,
            "index": 0,
            "layout": "IPY_MODEL_3901212e18b3433cac7039cc6163a3da",
            "style": "IPY_MODEL_826aab9b5ce14c19813e6f08ef64e9a8"
          }
        },
        "af2394e41bff4144a2280fe8a11fd675": {
          "model_module": "@jupyter-widgets/output",
          "model_name": "OutputModel",
          "model_module_version": "1.0.0",
          "state": {
            "_dom_classes": [],
            "_model_module": "@jupyter-widgets/output",
            "_model_module_version": "1.0.0",
            "_model_name": "OutputModel",
            "_view_count": null,
            "_view_module": "@jupyter-widgets/output",
            "_view_module_version": "1.0.0",
            "_view_name": "OutputView",
            "layout": "IPY_MODEL_02897862f1574d3b88afd3d195d865f1",
            "msg_id": "",
            "outputs": []
          }
        },
        "09b6d605406a4e33b48ce6380e0efd63": {
          "model_module": "@jupyter-widgets/base",
          "model_name": "LayoutModel",
          "model_module_version": "1.2.0",
          "state": {
            "_model_module": "@jupyter-widgets/base",
            "_model_module_version": "1.2.0",
            "_model_name": "LayoutModel",
            "_view_count": null,
            "_view_module": "@jupyter-widgets/base",
            "_view_module_version": "1.2.0",
            "_view_name": "LayoutView",
            "align_content": null,
            "align_items": null,
            "align_self": null,
            "border": null,
            "bottom": null,
            "display": null,
            "flex": null,
            "flex_flow": null,
            "grid_area": null,
            "grid_auto_columns": null,
            "grid_auto_flow": null,
            "grid_auto_rows": null,
            "grid_column": null,
            "grid_gap": null,
            "grid_row": null,
            "grid_template_areas": null,
            "grid_template_columns": null,
            "grid_template_rows": null,
            "height": null,
            "justify_content": null,
            "justify_items": null,
            "left": null,
            "margin": null,
            "max_height": null,
            "max_width": null,
            "min_height": null,
            "min_width": null,
            "object_fit": null,
            "object_position": null,
            "order": null,
            "overflow": null,
            "overflow_x": null,
            "overflow_y": null,
            "padding": null,
            "right": null,
            "top": null,
            "visibility": null,
            "width": null
          }
        },
        "1e0734cca0e3435297143463603b77d9": {
          "model_module": "@jupyter-widgets/base",
          "model_name": "LayoutModel",
          "model_module_version": "1.2.0",
          "state": {
            "_model_module": "@jupyter-widgets/base",
            "_model_module_version": "1.2.0",
            "_model_name": "LayoutModel",
            "_view_count": null,
            "_view_module": "@jupyter-widgets/base",
            "_view_module_version": "1.2.0",
            "_view_name": "LayoutView",
            "align_content": null,
            "align_items": null,
            "align_self": null,
            "border": null,
            "bottom": null,
            "display": null,
            "flex": null,
            "flex_flow": null,
            "grid_area": null,
            "grid_auto_columns": null,
            "grid_auto_flow": null,
            "grid_auto_rows": null,
            "grid_column": null,
            "grid_gap": null,
            "grid_row": null,
            "grid_template_areas": null,
            "grid_template_columns": null,
            "grid_template_rows": null,
            "height": null,
            "justify_content": null,
            "justify_items": null,
            "left": null,
            "margin": null,
            "max_height": null,
            "max_width": null,
            "min_height": null,
            "min_width": null,
            "object_fit": null,
            "object_position": null,
            "order": null,
            "overflow": null,
            "overflow_x": null,
            "overflow_y": null,
            "padding": null,
            "right": null,
            "top": null,
            "visibility": null,
            "width": null
          }
        },
        "9f9a462046c044d8950702a2cc7757b2": {
          "model_module": "@jupyter-widgets/controls",
          "model_name": "DescriptionStyleModel",
          "model_module_version": "1.5.0",
          "state": {
            "_model_module": "@jupyter-widgets/controls",
            "_model_module_version": "1.5.0",
            "_model_name": "DescriptionStyleModel",
            "_view_count": null,
            "_view_module": "@jupyter-widgets/base",
            "_view_module_version": "1.2.0",
            "_view_name": "StyleView",
            "description_width": ""
          }
        },
        "3901212e18b3433cac7039cc6163a3da": {
          "model_module": "@jupyter-widgets/base",
          "model_name": "LayoutModel",
          "model_module_version": "1.2.0",
          "state": {
            "_model_module": "@jupyter-widgets/base",
            "_model_module_version": "1.2.0",
            "_model_name": "LayoutModel",
            "_view_count": null,
            "_view_module": "@jupyter-widgets/base",
            "_view_module_version": "1.2.0",
            "_view_name": "LayoutView",
            "align_content": null,
            "align_items": null,
            "align_self": null,
            "border": null,
            "bottom": null,
            "display": null,
            "flex": null,
            "flex_flow": null,
            "grid_area": null,
            "grid_auto_columns": null,
            "grid_auto_flow": null,
            "grid_auto_rows": null,
            "grid_column": null,
            "grid_gap": null,
            "grid_row": null,
            "grid_template_areas": null,
            "grid_template_columns": null,
            "grid_template_rows": null,
            "height": null,
            "justify_content": null,
            "justify_items": null,
            "left": null,
            "margin": null,
            "max_height": null,
            "max_width": null,
            "min_height": null,
            "min_width": null,
            "object_fit": null,
            "object_position": null,
            "order": null,
            "overflow": null,
            "overflow_x": null,
            "overflow_y": null,
            "padding": null,
            "right": null,
            "top": null,
            "visibility": null,
            "width": null
          }
        },
        "826aab9b5ce14c19813e6f08ef64e9a8": {
          "model_module": "@jupyter-widgets/controls",
          "model_name": "DescriptionStyleModel",
          "model_module_version": "1.5.0",
          "state": {
            "_model_module": "@jupyter-widgets/controls",
            "_model_module_version": "1.5.0",
            "_model_name": "DescriptionStyleModel",
            "_view_count": null,
            "_view_module": "@jupyter-widgets/base",
            "_view_module_version": "1.2.0",
            "_view_name": "StyleView",
            "description_width": ""
          }
        },
        "02897862f1574d3b88afd3d195d865f1": {
          "model_module": "@jupyter-widgets/base",
          "model_name": "LayoutModel",
          "model_module_version": "1.2.0",
          "state": {
            "_model_module": "@jupyter-widgets/base",
            "_model_module_version": "1.2.0",
            "_model_name": "LayoutModel",
            "_view_count": null,
            "_view_module": "@jupyter-widgets/base",
            "_view_module_version": "1.2.0",
            "_view_name": "LayoutView",
            "align_content": null,
            "align_items": null,
            "align_self": null,
            "border": null,
            "bottom": null,
            "display": null,
            "flex": null,
            "flex_flow": null,
            "grid_area": null,
            "grid_auto_columns": null,
            "grid_auto_flow": null,
            "grid_auto_rows": null,
            "grid_column": null,
            "grid_gap": null,
            "grid_row": null,
            "grid_template_areas": null,
            "grid_template_columns": null,
            "grid_template_rows": null,
            "height": null,
            "justify_content": null,
            "justify_items": null,
            "left": null,
            "margin": null,
            "max_height": null,
            "max_width": null,
            "min_height": null,
            "min_width": null,
            "object_fit": null,
            "object_position": null,
            "order": null,
            "overflow": null,
            "overflow_x": null,
            "overflow_y": null,
            "padding": null,
            "right": null,
            "top": null,
            "visibility": null,
            "width": null
          }
        },
        "e576fe3ae08d4968968d6f86c5120ad7": {
          "model_module": "@jupyter-widgets/controls",
          "model_name": "FloatTextModel",
          "model_module_version": "1.5.0",
          "state": {
            "_dom_classes": [],
            "_model_module": "@jupyter-widgets/controls",
            "_model_module_version": "1.5.0",
            "_model_name": "FloatTextModel",
            "_view_count": null,
            "_view_module": "@jupyter-widgets/controls",
            "_view_module_version": "1.5.0",
            "_view_name": "FloatTextView",
            "continuous_update": false,
            "description": "Minimum:",
            "description_tooltip": null,
            "disabled": false,
            "layout": "IPY_MODEL_9676aa40bceb43e2b5ac10b0625443b2",
            "step": null,
            "style": "IPY_MODEL_6497fd262fdc4de5b7e08e4060dad260",
            "value": 0
          }
        },
        "9676aa40bceb43e2b5ac10b0625443b2": {
          "model_module": "@jupyter-widgets/base",
          "model_name": "LayoutModel",
          "model_module_version": "1.2.0",
          "state": {
            "_model_module": "@jupyter-widgets/base",
            "_model_module_version": "1.2.0",
            "_model_name": "LayoutModel",
            "_view_count": null,
            "_view_module": "@jupyter-widgets/base",
            "_view_module_version": "1.2.0",
            "_view_name": "LayoutView",
            "align_content": null,
            "align_items": null,
            "align_self": null,
            "border": null,
            "bottom": null,
            "display": null,
            "flex": null,
            "flex_flow": null,
            "grid_area": null,
            "grid_auto_columns": null,
            "grid_auto_flow": null,
            "grid_auto_rows": null,
            "grid_column": null,
            "grid_gap": null,
            "grid_row": null,
            "grid_template_areas": null,
            "grid_template_columns": null,
            "grid_template_rows": null,
            "height": null,
            "justify_content": null,
            "justify_items": null,
            "left": null,
            "margin": null,
            "max_height": null,
            "max_width": null,
            "min_height": null,
            "min_width": null,
            "object_fit": null,
            "object_position": null,
            "order": null,
            "overflow": null,
            "overflow_x": null,
            "overflow_y": null,
            "padding": null,
            "right": null,
            "top": null,
            "visibility": null,
            "width": null
          }
        },
        "6497fd262fdc4de5b7e08e4060dad260": {
          "model_module": "@jupyter-widgets/controls",
          "model_name": "DescriptionStyleModel",
          "model_module_version": "1.5.0",
          "state": {
            "_model_module": "@jupyter-widgets/controls",
            "_model_module_version": "1.5.0",
            "_model_name": "DescriptionStyleModel",
            "_view_count": null,
            "_view_module": "@jupyter-widgets/base",
            "_view_module_version": "1.2.0",
            "_view_name": "StyleView",
            "description_width": ""
          }
        },
        "6d43044fd3fc4ae0be7fde657b1a4d0c": {
          "model_module": "@jupyter-widgets/controls",
          "model_name": "FloatTextModel",
          "model_module_version": "1.5.0",
          "state": {
            "_dom_classes": [],
            "_model_module": "@jupyter-widgets/controls",
            "_model_module_version": "1.5.0",
            "_model_name": "FloatTextModel",
            "_view_count": null,
            "_view_module": "@jupyter-widgets/controls",
            "_view_module_version": "1.5.0",
            "_view_name": "FloatTextView",
            "continuous_update": false,
            "description": "Maximum:",
            "description_tooltip": null,
            "disabled": false,
            "layout": "IPY_MODEL_8419c74968cb4c358c9bf1084c27e8f1",
            "step": null,
            "style": "IPY_MODEL_68c72d8b89ca4ea7a4235b5ad0762a20",
            "value": 2
          }
        },
        "8419c74968cb4c358c9bf1084c27e8f1": {
          "model_module": "@jupyter-widgets/base",
          "model_name": "LayoutModel",
          "model_module_version": "1.2.0",
          "state": {
            "_model_module": "@jupyter-widgets/base",
            "_model_module_version": "1.2.0",
            "_model_name": "LayoutModel",
            "_view_count": null,
            "_view_module": "@jupyter-widgets/base",
            "_view_module_version": "1.2.0",
            "_view_name": "LayoutView",
            "align_content": null,
            "align_items": null,
            "align_self": null,
            "border": null,
            "bottom": null,
            "display": null,
            "flex": null,
            "flex_flow": null,
            "grid_area": null,
            "grid_auto_columns": null,
            "grid_auto_flow": null,
            "grid_auto_rows": null,
            "grid_column": null,
            "grid_gap": null,
            "grid_row": null,
            "grid_template_areas": null,
            "grid_template_columns": null,
            "grid_template_rows": null,
            "height": null,
            "justify_content": null,
            "justify_items": null,
            "left": null,
            "margin": null,
            "max_height": null,
            "max_width": null,
            "min_height": null,
            "min_width": null,
            "object_fit": null,
            "object_position": null,
            "order": null,
            "overflow": null,
            "overflow_x": null,
            "overflow_y": null,
            "padding": null,
            "right": null,
            "top": null,
            "visibility": null,
            "width": null
          }
        },
        "68c72d8b89ca4ea7a4235b5ad0762a20": {
          "model_module": "@jupyter-widgets/controls",
          "model_name": "DescriptionStyleModel",
          "model_module_version": "1.5.0",
          "state": {
            "_model_module": "@jupyter-widgets/controls",
            "_model_module_version": "1.5.0",
            "_model_name": "DescriptionStyleModel",
            "_view_count": null,
            "_view_module": "@jupyter-widgets/base",
            "_view_module_version": "1.2.0",
            "_view_name": "StyleView",
            "description_width": ""
          }
        },
        "f4da750a1553498e8abaf1990f4ce7b2": {
          "model_module": "@jupyter-widgets/controls",
          "model_name": "FloatTextModel",
          "model_module_version": "1.5.0",
          "state": {
            "_dom_classes": [],
            "_model_module": "@jupyter-widgets/controls",
            "_model_module_version": "1.5.0",
            "_model_name": "FloatTextModel",
            "_view_count": null,
            "_view_module": "@jupyter-widgets/controls",
            "_view_module_version": "1.5.0",
            "_view_name": "FloatTextView",
            "continuous_update": false,
            "description": "Minimum:",
            "description_tooltip": null,
            "disabled": false,
            "layout": "IPY_MODEL_f49dc736d73d4d3bb8e418f74fc292e7",
            "step": null,
            "style": "IPY_MODEL_80e77e9d9c8b4d5ea9a5d7ae2b472ad7",
            "value": 0
          }
        },
        "f49dc736d73d4d3bb8e418f74fc292e7": {
          "model_module": "@jupyter-widgets/base",
          "model_name": "LayoutModel",
          "model_module_version": "1.2.0",
          "state": {
            "_model_module": "@jupyter-widgets/base",
            "_model_module_version": "1.2.0",
            "_model_name": "LayoutModel",
            "_view_count": null,
            "_view_module": "@jupyter-widgets/base",
            "_view_module_version": "1.2.0",
            "_view_name": "LayoutView",
            "align_content": null,
            "align_items": null,
            "align_self": null,
            "border": null,
            "bottom": null,
            "display": null,
            "flex": null,
            "flex_flow": null,
            "grid_area": null,
            "grid_auto_columns": null,
            "grid_auto_flow": null,
            "grid_auto_rows": null,
            "grid_column": null,
            "grid_gap": null,
            "grid_row": null,
            "grid_template_areas": null,
            "grid_template_columns": null,
            "grid_template_rows": null,
            "height": null,
            "justify_content": null,
            "justify_items": null,
            "left": null,
            "margin": null,
            "max_height": null,
            "max_width": null,
            "min_height": null,
            "min_width": null,
            "object_fit": null,
            "object_position": null,
            "order": null,
            "overflow": null,
            "overflow_x": null,
            "overflow_y": null,
            "padding": null,
            "right": null,
            "top": null,
            "visibility": null,
            "width": null
          }
        },
        "80e77e9d9c8b4d5ea9a5d7ae2b472ad7": {
          "model_module": "@jupyter-widgets/controls",
          "model_name": "DescriptionStyleModel",
          "model_module_version": "1.5.0",
          "state": {
            "_model_module": "@jupyter-widgets/controls",
            "_model_module_version": "1.5.0",
            "_model_name": "DescriptionStyleModel",
            "_view_count": null,
            "_view_module": "@jupyter-widgets/base",
            "_view_module_version": "1.2.0",
            "_view_name": "StyleView",
            "description_width": ""
          }
        },
        "d397b52ddf0b45a991aaa8e2370670d3": {
          "model_module": "@jupyter-widgets/controls",
          "model_name": "FloatTextModel",
          "model_module_version": "1.5.0",
          "state": {
            "_dom_classes": [],
            "_model_module": "@jupyter-widgets/controls",
            "_model_module_version": "1.5.0",
            "_model_name": "FloatTextModel",
            "_view_count": null,
            "_view_module": "@jupyter-widgets/controls",
            "_view_module_version": "1.5.0",
            "_view_name": "FloatTextView",
            "continuous_update": false,
            "description": "Maximum:",
            "description_tooltip": null,
            "disabled": false,
            "layout": "IPY_MODEL_1c435eaa3aa0467188062345c77d41ac",
            "step": null,
            "style": "IPY_MODEL_3427df0817b1488bacff56d991464efb",
            "value": 2
          }
        },
        "1c435eaa3aa0467188062345c77d41ac": {
          "model_module": "@jupyter-widgets/base",
          "model_name": "LayoutModel",
          "model_module_version": "1.2.0",
          "state": {
            "_model_module": "@jupyter-widgets/base",
            "_model_module_version": "1.2.0",
            "_model_name": "LayoutModel",
            "_view_count": null,
            "_view_module": "@jupyter-widgets/base",
            "_view_module_version": "1.2.0",
            "_view_name": "LayoutView",
            "align_content": null,
            "align_items": null,
            "align_self": null,
            "border": null,
            "bottom": null,
            "display": null,
            "flex": null,
            "flex_flow": null,
            "grid_area": null,
            "grid_auto_columns": null,
            "grid_auto_flow": null,
            "grid_auto_rows": null,
            "grid_column": null,
            "grid_gap": null,
            "grid_row": null,
            "grid_template_areas": null,
            "grid_template_columns": null,
            "grid_template_rows": null,
            "height": null,
            "justify_content": null,
            "justify_items": null,
            "left": null,
            "margin": null,
            "max_height": null,
            "max_width": null,
            "min_height": null,
            "min_width": null,
            "object_fit": null,
            "object_position": null,
            "order": null,
            "overflow": null,
            "overflow_x": null,
            "overflow_y": null,
            "padding": null,
            "right": null,
            "top": null,
            "visibility": null,
            "width": null
          }
        },
        "3427df0817b1488bacff56d991464efb": {
          "model_module": "@jupyter-widgets/controls",
          "model_name": "DescriptionStyleModel",
          "model_module_version": "1.5.0",
          "state": {
            "_model_module": "@jupyter-widgets/controls",
            "_model_module_version": "1.5.0",
            "_model_name": "DescriptionStyleModel",
            "_view_count": null,
            "_view_module": "@jupyter-widgets/base",
            "_view_module_version": "1.2.0",
            "_view_name": "StyleView",
            "description_width": ""
          }
        },
        "5d541cf9c54a4663bbc6146a5dcde2e2": {
          "model_module": "@jupyter-widgets/controls",
          "model_name": "FloatTextModel",
          "model_module_version": "1.5.0",
          "state": {
            "_dom_classes": [],
            "_model_module": "@jupyter-widgets/controls",
            "_model_module_version": "1.5.0",
            "_model_name": "FloatTextModel",
            "_view_count": null,
            "_view_module": "@jupyter-widgets/controls",
            "_view_module_version": "1.5.0",
            "_view_name": "FloatTextView",
            "continuous_update": false,
            "description": "Minimum:",
            "description_tooltip": null,
            "disabled": false,
            "layout": "IPY_MODEL_05bc6b74582e41069c43ee938b0439e1",
            "step": null,
            "style": "IPY_MODEL_464700806b374ee38337fab444c3a927",
            "value": 0
          }
        },
        "05bc6b74582e41069c43ee938b0439e1": {
          "model_module": "@jupyter-widgets/base",
          "model_name": "LayoutModel",
          "model_module_version": "1.2.0",
          "state": {
            "_model_module": "@jupyter-widgets/base",
            "_model_module_version": "1.2.0",
            "_model_name": "LayoutModel",
            "_view_count": null,
            "_view_module": "@jupyter-widgets/base",
            "_view_module_version": "1.2.0",
            "_view_name": "LayoutView",
            "align_content": null,
            "align_items": null,
            "align_self": null,
            "border": null,
            "bottom": null,
            "display": null,
            "flex": null,
            "flex_flow": null,
            "grid_area": null,
            "grid_auto_columns": null,
            "grid_auto_flow": null,
            "grid_auto_rows": null,
            "grid_column": null,
            "grid_gap": null,
            "grid_row": null,
            "grid_template_areas": null,
            "grid_template_columns": null,
            "grid_template_rows": null,
            "height": null,
            "justify_content": null,
            "justify_items": null,
            "left": null,
            "margin": null,
            "max_height": null,
            "max_width": null,
            "min_height": null,
            "min_width": null,
            "object_fit": null,
            "object_position": null,
            "order": null,
            "overflow": null,
            "overflow_x": null,
            "overflow_y": null,
            "padding": null,
            "right": null,
            "top": null,
            "visibility": null,
            "width": null
          }
        },
        "464700806b374ee38337fab444c3a927": {
          "model_module": "@jupyter-widgets/controls",
          "model_name": "DescriptionStyleModel",
          "model_module_version": "1.5.0",
          "state": {
            "_model_module": "@jupyter-widgets/controls",
            "_model_module_version": "1.5.0",
            "_model_name": "DescriptionStyleModel",
            "_view_count": null,
            "_view_module": "@jupyter-widgets/base",
            "_view_module_version": "1.2.0",
            "_view_name": "StyleView",
            "description_width": ""
          }
        },
        "07541f7243b5486898907b67ee13549e": {
          "model_module": "@jupyter-widgets/controls",
          "model_name": "FloatTextModel",
          "model_module_version": "1.5.0",
          "state": {
            "_dom_classes": [],
            "_model_module": "@jupyter-widgets/controls",
            "_model_module_version": "1.5.0",
            "_model_name": "FloatTextModel",
            "_view_count": null,
            "_view_module": "@jupyter-widgets/controls",
            "_view_module_version": "1.5.0",
            "_view_name": "FloatTextView",
            "continuous_update": false,
            "description": "Maximum:",
            "description_tooltip": null,
            "disabled": false,
            "layout": "IPY_MODEL_88cbadd7355748448c9b1d63a0a4ebb6",
            "step": null,
            "style": "IPY_MODEL_2b5e7805488749fab0ad9ceb8fd98a8c",
            "value": 2
          }
        },
        "88cbadd7355748448c9b1d63a0a4ebb6": {
          "model_module": "@jupyter-widgets/base",
          "model_name": "LayoutModel",
          "model_module_version": "1.2.0",
          "state": {
            "_model_module": "@jupyter-widgets/base",
            "_model_module_version": "1.2.0",
            "_model_name": "LayoutModel",
            "_view_count": null,
            "_view_module": "@jupyter-widgets/base",
            "_view_module_version": "1.2.0",
            "_view_name": "LayoutView",
            "align_content": null,
            "align_items": null,
            "align_self": null,
            "border": null,
            "bottom": null,
            "display": null,
            "flex": null,
            "flex_flow": null,
            "grid_area": null,
            "grid_auto_columns": null,
            "grid_auto_flow": null,
            "grid_auto_rows": null,
            "grid_column": null,
            "grid_gap": null,
            "grid_row": null,
            "grid_template_areas": null,
            "grid_template_columns": null,
            "grid_template_rows": null,
            "height": null,
            "justify_content": null,
            "justify_items": null,
            "left": null,
            "margin": null,
            "max_height": null,
            "max_width": null,
            "min_height": null,
            "min_width": null,
            "object_fit": null,
            "object_position": null,
            "order": null,
            "overflow": null,
            "overflow_x": null,
            "overflow_y": null,
            "padding": null,
            "right": null,
            "top": null,
            "visibility": null,
            "width": null
          }
        },
        "2b5e7805488749fab0ad9ceb8fd98a8c": {
          "model_module": "@jupyter-widgets/controls",
          "model_name": "DescriptionStyleModel",
          "model_module_version": "1.5.0",
          "state": {
            "_model_module": "@jupyter-widgets/controls",
            "_model_module_version": "1.5.0",
            "_model_name": "DescriptionStyleModel",
            "_view_count": null,
            "_view_module": "@jupyter-widgets/base",
            "_view_module_version": "1.2.0",
            "_view_name": "StyleView",
            "description_width": ""
          }
        }
      }
    }
  },
  "cells": [
    {
      "cell_type": "markdown",
      "metadata": {
        "id": "view-in-github",
        "colab_type": "text"
      },
      "source": [
        "<a href=\"https://colab.research.google.com/github/m-rafiul-islam/driver-behavior-model/blob/main/LHS_PRCC.ipynb\" target=\"_parent\"><img src=\"https://colab.research.google.com/assets/colab-badge.svg\" alt=\"Open In Colab\"/></a>"
      ]
    },
    {
      "cell_type": "markdown",
      "metadata": {
        "id": "LynXJ5FPHndO"
      },
      "source": [
        "# Latin Hypercube Sampling & Partial Rank Correlation Coefficients  <br/> *~ a method for analyzing model sensitivity to parameters ~*"
      ]
    },
    {
      "cell_type": "markdown",
      "metadata": {
        "id": "PHmmvxwMHndP"
      },
      "source": [
        "#### Importing packages that will be used."
      ]
    },
    {
      "cell_type": "code",
      "metadata": {
        "id": "ZC6x-a7WHndQ"
      },
      "source": [
        "import numpy as np\n",
        "\n",
        "from scipy import special\n",
        "\n",
        "import random\n",
        "\n",
        "from ipywidgets import interact, interactive, fixed, interact_manual\n",
        "import ipywidgets as widgets\n",
        "from IPython.display import display\n",
        "\n",
        "import pandas as pd\n",
        "\n",
        "import matplotlib.pyplot as plt\n"
      ],
      "execution_count": 52,
      "outputs": []
    },
    {
      "cell_type": "markdown",
      "metadata": {
        "id": "U0_okb6XHndS"
      },
      "source": [
        "### Specify the number of parameters to sample and the number of samples to draw from each parameter distribution. \n",
        "#### *Do not include any parameters that should be left fixed in parameterCount - those will be specified later. When choosing number of samples to draw, note that more samples (~ 1000) yields better results while fewer (~50) is faster for testing, since it requires fewer model solves.* "
      ]
    },
    {
      "cell_type": "code",
      "metadata": {
        "id": "EZy2ndbCHndT"
      },
      "source": [
        "# Number of parameters to sample \n",
        "parameterCount = 3;\n",
        "# Number of samples to draw for each parameter\n",
        "sampleCount = 100; # 1000 plus"
      ],
      "execution_count": 53,
      "outputs": []
    },
    {
      "cell_type": "markdown",
      "metadata": {
        "id": "i2vYkow7HndV"
      },
      "source": [
        "#### This defines functions for specifying sampled parameters' names and distributions  as well as drawing samples from a user-specified parameter distribution. Does not need any user edits."
      ]
    },
    {
      "cell_type": "code",
      "metadata": {
        "id": "O0kGl8MKHndV"
      },
      "source": [
        "def parNameDist(Name,Distribution):\n",
        "    paramTemp = {}\n",
        "    paramTemp['Name']=Name\n",
        "    paramTemp['Dist']=Distribution\n",
        "    \n",
        "    return paramTemp\n",
        "  \n",
        "def sampleDistrib(modelParamName,distrib,distribSpecs): \n",
        "    \n",
        "    if distrib == 'uniform':\n",
        "        \n",
        "        mmin = distribSpecs[0].value\n",
        "        mmax = distribSpecs[1].value\n",
        "        \n",
        "        intervalwidth = (mmax - mmin) / sampleCount      # width of each \n",
        "                                                         # sampling interval\n",
        "        samples = []\n",
        "        \n",
        "        for sample in range(sampleCount):\n",
        "            \n",
        "            lower = mmin + intervalwidth * (sample-1)    # lb of interval\n",
        "            upper = mmin + intervalwidth * (sample)      # ub of interval\n",
        "            \n",
        "            sampleVal = np.random.uniform(lower, upper)  # draw a random sample \n",
        "                                                         # within the interval\n",
        "            samples.append(sampleVal)\n",
        "\n",
        "    \n",
        "    \n",
        "    elif distrib == 'normal':\n",
        "        \n",
        "        mmean= distribSpecs[0].value\n",
        "        mvar = distribSpecs[1].value\n",
        "        \n",
        "        lower = mvar*np.sqrt(2)*special.erfinv(-0.9999)+mmean # set lb of 1st\n",
        "                                                              # sample interval\n",
        "        samples = []\n",
        "        \n",
        "        for sample in range(sampleCount):\n",
        "          \n",
        "            n = sample + 1\n",
        "            \n",
        "            if n != sampleCount:\n",
        "                upper = (np.sqrt(2*mvar)*special.erfinv(2*n/sampleCount-1)\n",
        "                         + mmean)                        # ub of sample interval\n",
        "            else:\n",
        "                upper = np.sqrt(2*mvar)*special.erfinv(0.9999) + mmean\n",
        " \n",
        "            sampleVal = np.random.uniform(lower, upper)  # draw a random sample \n",
        "                                                         # within the interval\n",
        "    \n",
        "            samples.append(sampleVal)\n",
        "\n",
        "            lower = upper           # set current ub as the lb for next interval\n",
        "            \n",
        "\n",
        "    \n",
        "    elif distrib == 'triangle':\n",
        "        \n",
        "        mmin = distribSpecs[0].value\n",
        "        mmax = distribSpecs[1].value\n",
        "        mmode= distribSpecs[2].value\n",
        "    \n",
        "        samples = []\n",
        "        \n",
        "        for sample in range(sampleCount):\n",
        "          \n",
        "            n = sample + 1\n",
        "            \n",
        "            intervalarea = 1/sampleCount \n",
        "            \n",
        "            ylower = intervalarea*(n-1) # use cdf to read off area as y's &\n",
        "            yupper = intervalarea*(n)   # get corresponding x's for the pdf\n",
        "        \n",
        "        \n",
        "            # Check to see if y values = cdf(x <= mmode) \n",
        "            # for calculating correxponding x values:\n",
        "            \n",
        "            if ylower <= ((mmode - mmin)/(mmax - mmin)):     \n",
        "                lower = np.sqrt(ylower*(mmax - mmin)*(mmode - mmin)) + mmin \n",
        "\n",
        "            else:\n",
        "                lower = mmax-np.sqrt((1 - ylower)*(mmax - mmin)*(mmax - mmode))\n",
        "\n",
        "            \n",
        "            if yupper <= ((mmode - mmin)/(mmax - mmin)):    \n",
        "                upper = np.sqrt(yupper*(mmax - mmin)*(mmode - mmin)) + mmin; \n",
        "\n",
        "            else:\n",
        "                upper = mmax-np.sqrt((1 - yupper)*(mmax - mmin)*(mmax - mmode))\n",
        "\n",
        "                \n",
        "            sampleVal = np.random.uniform(lower, upper)  \n",
        "            \n",
        "            samples.append(sampleVal)\n",
        "            \n",
        "    \n",
        "    b = int(np.ceil(sampleCount/10))\n",
        "    plt.hist(samples, density = 1, bins = b) \n",
        "    \n",
        "    B=str(b)\n",
        "    \n",
        "    plt.title('Histogram of ' + modelParamName \n",
        "              + ' parameter samples for ' + B + ' bins')\n",
        "    \n",
        "    plt.ylabel('proportion of samples');\n",
        "    plt.xlabel(modelParamName + ' value')\n",
        "    \n",
        "    plt.show()\n",
        "    \n",
        "    return samples"
      ],
      "execution_count": 54,
      "outputs": []
    },
    {
      "cell_type": "markdown",
      "metadata": {
        "id": "lB1cTlDffxwk"
      },
      "source": [
        "#### Calls the function to ask for user input to name parameters and specify distributions. \n",
        "### Type these in text input boxes and dropdowns that will appear below after running the cell."
      ]
    },
    {
      "cell_type": "code",
      "metadata": {
        "id": "CdbdLiSadt7V",
        "colab": {
          "base_uri": "https://localhost:8080/",
          "height": 209,
          "referenced_widgets": [
            "316baa768f514596a9de324d02907454",
            "de4fa25ce9894072ae84a6500907f989",
            "f217885d2e664bc484067ed5921a67c3",
            "d72c0e5f68ec4674b35af851d95b3e15",
            "4ce2ddd1c790426ebfacd06e69bbdee7",
            "5a889d1cdf414adfabdc3ce1e2b4dd82",
            "88cb81df3ffe4459a68cabcd1f180b74",
            "6a732b2cc4354bf1813778ea7db6737e",
            "7d8db44e8a0c4bbdb0e46b739c088cf3",
            "f0baf3e47d0247019808c0de311bc3e9",
            "0f121e2b758f46a4804ec87e98be45dc",
            "d2ebafa4d515498585b9a90e70da4cc5",
            "36604d38eaaf43e5bc7fe9ff3d3672d0",
            "c25e47e5796c4fec8799b8205e5dc4da",
            "1db92be8a7894356a5c19504b593aabe",
            "68a54a06e61b4e2181cafce4edf82ee7",
            "1d27d834df8440d79893777d78b060be",
            "c8d64642f2944086b1b2ba4acc18a604",
            "f6a90a71e7a74f85961270da84760785",
            "0ec90b0d86bb4e24b9e3c540981640b6",
            "7e5da0778eb34c8685d3c41cf080b842",
            "1c3104144c0843dea66fbd9f3155a212",
            "4825202c0bdd485ca0ae6750f2848859",
            "af2394e41bff4144a2280fe8a11fd675",
            "09b6d605406a4e33b48ce6380e0efd63",
            "1e0734cca0e3435297143463603b77d9",
            "9f9a462046c044d8950702a2cc7757b2",
            "3901212e18b3433cac7039cc6163a3da",
            "826aab9b5ce14c19813e6f08ef64e9a8",
            "02897862f1574d3b88afd3d195d865f1"
          ]
        },
        "outputId": "75f1441c-42f1-4640-9b9f-a2641c1d5920"
      },
      "source": [
        "params = {}\n",
        "\n",
        "for i in range(parameterCount):\n",
        "  \n",
        "    s=str(i)\n",
        "    \n",
        "    params[i] = interactive(parNameDist,\n",
        "                            Name='Type parameter ' + s + ' name', \n",
        "                            Distribution=['uniform','normal','triangle'])\n",
        "    \n",
        "    display(params[i])"
      ],
      "execution_count": 55,
      "outputs": [
        {
          "output_type": "display_data",
          "data": {
            "text/plain": [
              "interactive(children=(Text(value='Type parameter 0 name', description='Name'), Dropdown(description='Distribut…"
            ],
            "application/vnd.jupyter.widget-view+json": {
              "version_major": 2,
              "version_minor": 0,
              "model_id": "316baa768f514596a9de324d02907454"
            }
          },
          "metadata": {}
        },
        {
          "output_type": "display_data",
          "data": {
            "text/plain": [
              "interactive(children=(Text(value='Type parameter 1 name', description='Name'), Dropdown(description='Distribut…"
            ],
            "application/vnd.jupyter.widget-view+json": {
              "version_major": 2,
              "version_minor": 0,
              "model_id": "0f121e2b758f46a4804ec87e98be45dc"
            }
          },
          "metadata": {}
        },
        {
          "output_type": "display_data",
          "data": {
            "text/plain": [
              "interactive(children=(Text(value='Type parameter 2 name', description='Name'), Dropdown(description='Distribut…"
            ],
            "application/vnd.jupyter.widget-view+json": {
              "version_major": 2,
              "version_minor": 0,
              "model_id": "7e5da0778eb34c8685d3c41cf080b842"
            }
          },
          "metadata": {}
        }
      ]
    },
    {
      "cell_type": "markdown",
      "metadata": {
        "id": "9K7C0uUHHndX"
      },
      "source": [
        "### Input parameter distribution specifics in the interactive boxes that appear below after running this cell."
      ]
    },
    {
      "cell_type": "code",
      "metadata": {
        "scrolled": false,
        "id": "mDjrr9jbHndY",
        "colab": {
          "base_uri": "https://localhost:8080/",
          "height": 256,
          "referenced_widgets": [
            "e576fe3ae08d4968968d6f86c5120ad7",
            "9676aa40bceb43e2b5ac10b0625443b2",
            "6497fd262fdc4de5b7e08e4060dad260",
            "6d43044fd3fc4ae0be7fde657b1a4d0c",
            "8419c74968cb4c358c9bf1084c27e8f1",
            "68c72d8b89ca4ea7a4235b5ad0762a20",
            "f4da750a1553498e8abaf1990f4ce7b2",
            "f49dc736d73d4d3bb8e418f74fc292e7",
            "80e77e9d9c8b4d5ea9a5d7ae2b472ad7",
            "d397b52ddf0b45a991aaa8e2370670d3",
            "1c435eaa3aa0467188062345c77d41ac",
            "3427df0817b1488bacff56d991464efb",
            "5d541cf9c54a4663bbc6146a5dcde2e2",
            "05bc6b74582e41069c43ee938b0439e1",
            "464700806b374ee38337fab444c3a927",
            "07541f7243b5486898907b67ee13549e",
            "88cbadd7355748448c9b1d63a0a4ebb6",
            "2b5e7805488749fab0ad9ceb8fd98a8c"
          ]
        },
        "outputId": "11ca3048-0b2e-48d3-c07c-0e333f6e478e"
      },
      "source": [
        "distribSpecs={}\n",
        "\n",
        "for i in range(parameterCount):\n",
        "  \n",
        "    parName = params[i].result['Name']\n",
        "    \n",
        "    print('Enter distribution specifics for parameter ' + parName + ':')\n",
        "    \n",
        "    if params[i].result['Dist'] == 'normal':\n",
        "\n",
        "        distribSpecs[parName] = {}\n",
        "        \n",
        "        distribSpecs[parName][0] = widgets.FloatText(\n",
        "                value=2,\n",
        "                description='Mean:'\n",
        "              )\n",
        "        distribSpecs[parName][1] = widgets.FloatText(\n",
        "                value=1,\n",
        "                description='Variance:'\n",
        "              )\n",
        "\n",
        "        display(distribSpecs[parName][0], distribSpecs[parName][1])\n",
        "\n",
        "    elif params[i].result['Dist'] == 'uniform':\n",
        "\n",
        "        distribSpecs[parName] = {}\n",
        "\n",
        "        distribSpecs[parName][0] = widgets.FloatText(\n",
        "                value=0,\n",
        "                description='Minimum:'\n",
        "              )\n",
        "        distribSpecs[parName][1] = widgets.FloatText(\n",
        "                value=2,\n",
        "                description='Maximum:'\n",
        "              )\n",
        "\n",
        "        display(distribSpecs[parName][0], distribSpecs[parName][1])\n",
        "\n",
        "\n",
        "    elif params[i].result['Dist'] == 'triangle':\n",
        "      \n",
        "        distribSpecs[parName] = {}\n",
        "\n",
        "        distribSpecs[parName][0] = widgets.FloatText(\n",
        "                value=0,\n",
        "                description='Minimum:'\n",
        "              )\n",
        "        distribSpecs[parName][1] = widgets.FloatText(\n",
        "                value=2,\n",
        "                description='Maximum:'\n",
        "              )\n",
        "        distribSpecs[parName][2] = widgets.FloatText(\n",
        "                value=1,\n",
        "                description='Mode:'\n",
        "              )\n",
        "\n",
        "        display(distribSpecs[parName][0], distribSpecs[parName][1], distribSpecs[parName][2])"
      ],
      "execution_count": 56,
      "outputs": [
        {
          "output_type": "stream",
          "name": "stdout",
          "text": [
            "Enter distribution specifics for parameter Type parameter 0 name:\n"
          ]
        },
        {
          "output_type": "display_data",
          "data": {
            "text/plain": [
              "FloatText(value=0.0, description='Minimum:')"
            ],
            "application/vnd.jupyter.widget-view+json": {
              "version_major": 2,
              "version_minor": 0,
              "model_id": "e576fe3ae08d4968968d6f86c5120ad7"
            }
          },
          "metadata": {}
        },
        {
          "output_type": "display_data",
          "data": {
            "text/plain": [
              "FloatText(value=2.0, description='Maximum:')"
            ],
            "application/vnd.jupyter.widget-view+json": {
              "version_major": 2,
              "version_minor": 0,
              "model_id": "6d43044fd3fc4ae0be7fde657b1a4d0c"
            }
          },
          "metadata": {}
        },
        {
          "output_type": "stream",
          "name": "stdout",
          "text": [
            "Enter distribution specifics for parameter Type parameter 1 name:\n"
          ]
        },
        {
          "output_type": "display_data",
          "data": {
            "text/plain": [
              "FloatText(value=0.0, description='Minimum:')"
            ],
            "application/vnd.jupyter.widget-view+json": {
              "version_major": 2,
              "version_minor": 0,
              "model_id": "f4da750a1553498e8abaf1990f4ce7b2"
            }
          },
          "metadata": {}
        },
        {
          "output_type": "display_data",
          "data": {
            "text/plain": [
              "FloatText(value=2.0, description='Maximum:')"
            ],
            "application/vnd.jupyter.widget-view+json": {
              "version_major": 2,
              "version_minor": 0,
              "model_id": "d397b52ddf0b45a991aaa8e2370670d3"
            }
          },
          "metadata": {}
        },
        {
          "output_type": "stream",
          "name": "stdout",
          "text": [
            "Enter distribution specifics for parameter Type parameter 2 name:\n"
          ]
        },
        {
          "output_type": "display_data",
          "data": {
            "text/plain": [
              "FloatText(value=0.0, description='Minimum:')"
            ],
            "application/vnd.jupyter.widget-view+json": {
              "version_major": 2,
              "version_minor": 0,
              "model_id": "5d541cf9c54a4663bbc6146a5dcde2e2"
            }
          },
          "metadata": {}
        },
        {
          "output_type": "display_data",
          "data": {
            "text/plain": [
              "FloatText(value=2.0, description='Maximum:')"
            ],
            "application/vnd.jupyter.widget-view+json": {
              "version_major": 2,
              "version_minor": 0,
              "model_id": "07541f7243b5486898907b67ee13549e"
            }
          },
          "metadata": {}
        }
      ]
    },
    {
      "cell_type": "code",
      "source": [
        "# parameter of interest \n",
        "a=1.5\n",
        "delta =  4.0\n",
        "beta = 2 \n",
        "lf = 0.50\n",
        "uf = 2 \n",
        "varbound=np.array([[a*lf,a*uf],[lf*delta,uf*delta],[lf*beta,uf*beta]])\n",
        "varbound"
      ],
      "metadata": {
        "id": "kgxlOj_4Wwdy",
        "outputId": "86481d04-728f-4182-ad7a-6485129902a2",
        "colab": {
          "base_uri": "https://localhost:8080/"
        }
      },
      "execution_count": 57,
      "outputs": [
        {
          "output_type": "execute_result",
          "data": {
            "text/plain": [
              "array([[0.75, 3.  ],\n",
              "       [2.  , 8.  ],\n",
              "       [1.  , 4.  ]])"
            ]
          },
          "metadata": {},
          "execution_count": 57
        }
      ]
    },
    {
      "cell_type": "markdown",
      "metadata": {
        "id": "6_FBOVRXgizZ"
      },
      "source": [
        "#### This passes the distributions to the code for generating parameter samples, and histogram plots of samples for each parameter will appear below. "
      ]
    },
    {
      "cell_type": "code",
      "source": [
        ""
      ],
      "metadata": {
        "id": "PZX67PasXgs-"
      },
      "execution_count": 57,
      "outputs": []
    },
    {
      "cell_type": "code",
      "metadata": {
        "id": "X1Clr2PYd6Mg",
        "colab": {
          "base_uri": "https://localhost:8080/",
          "height": 851
        },
        "outputId": "b5e36942-629e-4d6d-d171-4cf7aa10fc12"
      },
      "source": [
        "parameters = {}\n",
        "for j in range(parameterCount):\n",
        "  \n",
        "    parameters[params[j].result['Name']] = sampleDistrib(params[j].result['Name'],\n",
        "                                                         params[j].result['Dist'],\n",
        "                                                         distribSpecs[params[j].result['Name']])"
      ],
      "execution_count": 58,
      "outputs": [
        {
          "output_type": "display_data",
          "data": {
            "text/plain": [
              "<Figure size 432x288 with 1 Axes>"
            ],
            "image/png": "[encoded data removed]"
          },
          "metadata": {
            "needs_background": "light"
          }
        },
        {
          "output_type": "display_data",
          "data": {
            "text/plain": [
              "<Figure size 432x288 with 1 Axes>"
            ],
            "image/png": "[encoded data removed]"
          },
          "metadata": {
            "needs_background": "light"
          }
        },
        {
          "output_type": "display_data",
          "data": {
            "text/plain": [
              "<Figure size 432x288 with 1 Axes>"
            ],
            "image/png": "[encoded data removed]"
          },
          "metadata": {
            "needs_background": "light"
          }
        }
      ]
    },
    {
      "cell_type": "markdown",
      "metadata": {
        "id": "PdQAUyAB_QYY"
      },
      "source": [
        "#### Randomly permute each set of parameter samples in order to randomly pair the samples to more fully sample the parameter space for the Monte Carlo simulations."
      ]
    },
    {
      "cell_type": "code",
      "metadata": {
        "id": "HFdaJckHHnde"
      },
      "source": [
        "LHSparams=[]\n",
        "\n",
        "for p in parameters:\n",
        "    \n",
        "    temp = parameters[p]\n",
        "    random.shuffle(temp)\n",
        "    LHSparams.append(temp) "
      ],
      "execution_count": 59,
      "outputs": []
    },
    {
      "cell_type": "code",
      "source": [
        "# parameters\n",
        "# LHSparams"
      ],
      "metadata": {
        "id": "V1yPd-o5g9r5"
      },
      "execution_count": 60,
      "outputs": []
    },
    {
      "cell_type": "markdown",
      "source": [
        "###Our IDM/FIDM model "
      ],
      "metadata": {
        "id": "BsCRXIJfnt_p"
      }
    },
    {
      "cell_type": "markdown",
      "source": [
        "#### packages"
      ],
      "metadata": {
        "id": "zdFeECFmoZ6j"
      }
    },
    {
      "cell_type": "code",
      "source": [
        "#!/usr/bin/env python3\n",
        "# -*- coding: utf-8 -*-\n",
        "\"\"\"\n",
        "Created on Mon Jan 24 15:17:39 2022\n",
        "@author: rafiul\n",
        "\"\"\"\n",
        "# import scipy.integrate as integrate\n",
        "# from scipy.integrate import odeint \n",
        "import sys\n",
        "import os \n",
        "# from geneticalgorithm import geneticalgorithm as ga\n",
        "#from geneticalgorithm_pronto import geneticalgorithm as ga\n",
        "# from ga import ga\n",
        "import numpy as np\n",
        "import scipy.integrate as integrate\n",
        "from scipy import special \n",
        "from scipy.interpolate import interp1d\n",
        "import pandas as pd  \n"
      ],
      "metadata": {
        "id": "HN7l9Tx0oBME"
      },
      "execution_count": 63,
      "outputs": []
    },
    {
      "cell_type": "markdown",
      "source": [
        "#### Functions"
      ],
      "metadata": {
        "id": "ZCXWV-0aozGA"
      }
    },
    {
      "cell_type": "code",
      "source": [
        "\n",
        "def RK4(func, X0, ts):\n",
        "        \"\"\"\n",
        "        Runge Kutta 4 solver.\n",
        "        \"\"\"\n",
        "        dt = ts[1] - ts[0]\n",
        "        nt = len(ts)\n",
        "        X  = np.zeros((nt, X0.shape[0]),dtype=np.float64)\n",
        "        X[0] = X0\n",
        "        for i in range(nt-1):\n",
        "            k1 = func(X[i], ts[i])\n",
        "            k2 = func(X[i] + dt/2. * k1, ts[i] + dt/2.)\n",
        "            k3 = func(X[i] + dt/2. * k2, ts[i] + dt/2.)\n",
        "            k4 = func(X[i] + dt    * k3, ts[i] + dt)\n",
        "            X[i+1] = X[i] + dt / 6. * (k1 + 2. * k2 + 2. * k3 + k4)\n",
        "        return X \n",
        "\n",
        "\n",
        "#  see this link for model and paramterts https://en.wikipedia.org/wiki/Intelligent_driver_model  \n",
        "# DOI: 10.1098/rsta.2010.0084 \n",
        "\n",
        "# @jit(nopython=True)\n",
        "def idm_model(x,t):\n",
        "    X,V = x[0],x[1]\n",
        "    dX,dV = np.zeros(1,dtype=np.float64), np.zeros(1,dtype=np.float64)\n",
        "    dX = V # Differtial Equation 1\n",
        "    ###\n",
        "    s = position_LV(t) - X - 5 # 5 = length of the car\n",
        "    deltaV = V - speed_LV(t)\n",
        "    sstar = s0+V*T + (V*deltaV)/(2*np.sqrt(a*b))\n",
        "    # ###\n",
        "    dV = a*(1-(V/V_0)**delta - (sstar/s)**2) # Differtial Equation 2\n",
        "    \n",
        "    return np.array([dX,dV],dtype=np.float64) \n",
        "\n",
        "\n",
        "# @jit(nopython=True)\n",
        "\n",
        "def speed_LV(t):\n",
        "    return interp1d(nth_car_data['time'],nth_car_data['speed'],bounds_error=False)(t) \n",
        "\n",
        "def position_LV(t):\n",
        "    return interp1d(nth_car_data['time'],postion_of_the_LV,bounds_error=False)(t)  \n",
        "\n",
        "\n",
        "def fractional_idm_model_1d(V,t,X):    \n",
        "    # index = round(t) #convert into integer number \n",
        "    \n",
        "    current_position_of_follower = X \n",
        "    ###\n",
        "    s = position_LV(t) - current_position_of_follower - 5 # 5 = length of the car\n",
        "    deltaV = V - speed_LV(t)\n",
        "    sstar = s0+V*T + (V*deltaV)/(2*np.sqrt(a*b))\n",
        "    \n",
        "    # ###\n",
        "    dV = a*(1-(V/V_0)**delta - (sstar/s)**2) # Differtial Equation 2\n",
        "    \n",
        "    return dV\n",
        "\n",
        "def speed_error(sol,nth_car_speed):\n",
        "    return np.sum((sol[1,:-1]-nth_car_speed[1:])**2) \n",
        "\n",
        "def gap_error(sol,postion_of_the_LV):\n",
        "    return np.sum((sol[0,:]-postion_of_the_LV)**2) \n",
        "\n",
        "def caputoEuler_1d(a, f, y0, tspan, x0_f):\n",
        "    \"\"\"Use one-step Adams-Bashforth (Euler) method to integrate Caputo equation\n",
        "    D^a y(t) = f(y,t)\n",
        "    Args:\n",
        "      a: fractional exponent in the range (0,1)\n",
        "      f: callable(y,t) returning a numpy array of shape (d,)\n",
        "         Vector-valued function to define the right hand side of the system\n",
        "      y0: array of shape (d,) giving the initial state vector y(t==0)\n",
        "      tspan (array): The sequence of time points for which to solve for y.\n",
        "        These must be equally spaced, e.g. np.arange(0,10,0.005)\n",
        "        tspan[0] is the intial time corresponding to the initial state y0.\n",
        "    Returns:\n",
        "      y: array, with shape (len(tspan), len(y0))\n",
        "         With the initial value y0 in the first row\n",
        "    Raises:\n",
        "      FODEValueError\n",
        "    See also:\n",
        "      K. Diethelm et al. (2004) Detailed error analysis for a fractional Adams\n",
        "         method\n",
        "      C. Li and F. Zeng (2012) Finite Difference Methods for Fractional\n",
        "         Differential Equations\n",
        "    \"\"\"\n",
        "    #(d, a, f, y0, tspan) = _check_args(a, f, y0, tspan)\n",
        "    N = len(tspan)\n",
        "    h = (tspan[N-1] - tspan[0])/(N - 1)\n",
        "    c = special.rgamma(a) * np.power(h, a) / a\n",
        "    w = c * np.diff(np.power(np.arange(N), a))\n",
        "    fhistory = np.zeros(N - 1, dtype=np.float64)\n",
        "    y = np.zeros(N, dtype=np.float64)\n",
        "    x = np.zeros(N, dtype=np.float64)\n",
        "    y[0] = y0;\n",
        "    x[0] = x0_f;\n",
        "    for n in range(0, N - 1):\n",
        "        tn = tspan[n]\n",
        "        yn = y[n]\n",
        "        fhistory[n] = f(yn, tn, x[n])\n",
        "        y[n+1] = y0 + np.dot(w[0:n+1], fhistory[n::-1])\n",
        "        x[n+1] = x[n] + y[n+1] * h\n",
        "    return np.array([x,y]) \n",
        "\n",
        "def error_func_idm(variable_X):\n",
        "    # varbound=np.array([[a*lf,a*uf],[lf*delta,uf*delta],[lf*beta,uf*beta]])\n",
        "    a = variable_X[0]\n",
        "    delta = variable_X[1] \n",
        "    beta = variable_X[2] \n",
        "    x0 = np.array([initial_position,initial_velocity],dtype=np.float64) #initial position and velocity\n",
        "    # Classical ODE\n",
        "    # sol = integrate.odeint(idm_model, x0, time_span) \n",
        "    \n",
        "    sol = RK4(idm_model, x0, time_span) \n",
        "    sol = sol.transpose(1,0) \n",
        "    \n",
        "    # print(np.sum((sol[1,:-1]-nth_car_speed[1:])**2))\n",
        "    \n",
        "    return np.sum((sol[1,1:]-nth_car_speed[:-1])**2) \n",
        "  \n",
        "def error_func_fidm(variable_X):\n",
        "    # varbound=np.array([[a*lf,a*uf],[lf*delta,uf*delta],[lf*beta,uf*beta]])\n",
        "    a = variable_X[0]\n",
        "    delta = variable_X[1] \n",
        "    beta = variable_X[2] \n",
        "    alpha = variable_X[3]\n",
        "    if alpha > .99999:\n",
        "        alpha = .99999\n",
        "    sol = caputoEuler_1d(alpha,fractional_idm_model_1d, initial_velocity, time_span, initial_position) #, args=(number_groups,beta_P,beta_C,beta_A,v,w,mu_E,mu_A,mu_P,mu_C,p,q,contact_by_group))\n",
        "    return np.sum((sol[1,1:]-nth_car_speed[:-1])**2) \n"
      ],
      "metadata": {
        "id": "UyLlo4I9oH_r"
      },
      "execution_count": 64,
      "outputs": []
    },
    {
      "cell_type": "code",
      "source": [
        "# np.array(Output).reshape(len(Output),1)"
      ],
      "metadata": {
        "id": "Pk3L63CUubns"
      },
      "execution_count": 66,
      "outputs": []
    },
    {
      "cell_type": "markdown",
      "metadata": {
        "id": "gFMg4Lzl_z3T"
      },
      "source": [
        "#### Run Monte Carlo simulations for each parameter sample set.\n",
        "### *Be sure to specify a call to your model function and any necessary arguments below.* \n"
      ]
    },
    {
      "cell_type": "code",
      "source": [
        "######################################\n",
        "\n",
        "# Global  variables \n",
        "\n",
        "#  see this link for model and paramterts https://en.wikipedia.org/wiki/Intelligent_driver_model \n",
        "\n",
        "V_0 = 20  # desired speed m/s \n",
        "s0 = 30\n",
        "T = 1.5 \n",
        "nth_car = 2\n",
        "\n",
        "\n",
        "# a=1.5\n",
        "# b = 1.67 \n",
        "# delta =  4.0\n",
        "# beta = 2 \n",
        "\n",
        "# find best values for our model\n",
        "# a_alpha = 1.2 \n",
        "\n",
        "\n",
        "# ######################################\n",
        "# Actual data \n",
        "# df = pd.read_csv('RAllCarDataTime350.csv') \n",
        "git_raw_url = 'https://raw.githubusercontent.com/m-rafiul-islam/driver-behavior-model/main/RAllCarDataTime350.csv'\n",
        "df = pd.read_csv(git_raw_url) \n",
        "nth_car_data = df.loc[df['nthcar'] == nth_car, :]  \n",
        "nth_car_speed = np.array(df.loc[df['nthcar'] == nth_car,'speed'])  \n",
        "\n",
        "\n",
        "# leader vehicle profile \n",
        "# 7 m/s - 25.2 km/h  11 m/s - 39.6 km/h  18 m/s - 64.8 km/h 22 m/s - 79.2 km/h \n",
        "# 25 km/h -- 6.95 m/s 40 km/h -- 11.11 m/s 60 km/h -- 16.67 m/s \n",
        "# dt=1 #time step -- 1 sec \n",
        "\n",
        "time_span = np.array(nth_car_data['time'])\n",
        "dt = time_span[1]-time_span[0]\n",
        "\n",
        "# speed_of_the_LV = 15*np.ones(600+1) # we will need data\n",
        "\n",
        "# speed_of_the_LV = np.concatenate((np.linspace(0,7,60),7*np.ones(120),np.linspace(7,11,60), 11*np.ones(120), np.linspace(11,0,60) ))# we will need data\n",
        "\n",
        "speed_of_the_LV = nth_car_speed\n",
        "\n",
        "num_points = len(speed_of_the_LV) \n",
        "\n",
        "postion_of_the_LV = np.zeros(num_points) \n",
        "\n",
        "\n",
        "initla_position_of_the_LV = 18.45  # 113 \n",
        "\n",
        "postion_of_the_LV[0] = initla_position_of_the_LV\n",
        "\n",
        "for i in range(1,num_points):\n",
        "      \n",
        "      postion_of_the_LV[i] = postion_of_the_LV[i-1] + dt*(speed_of_the_LV[i]+speed_of_the_LV[i-1])/2 \n",
        " \n",
        "initial_position = 0.\n",
        "initial_velocity = 6.72\n",
        "x0 = np.array([initial_position,initial_velocity],dtype=np.float64) #initial position and velocity\n",
        "\n",
        "alpha =1 \n",
        "# a=1.5\n",
        "b = 1.67 \n",
        "# delta =  4.0\n",
        "# beta = 2 \n",
        "Output = [] \n",
        "for j in range(sampleCount):   \n",
        "    sampledParams=[i[j] for i in LHSparams] \n",
        "    SSE = error_func_idm(sampledParams)\n",
        "    Output.append(SSE)"
      ],
      "metadata": {
        "id": "zXTej8dpFPOl"
      },
      "execution_count": 76,
      "outputs": []
    },
    {
      "cell_type": "markdown",
      "metadata": {
        "id": "9HH8nfMzc1qi"
      },
      "source": [
        "### Plot the range of simulation output generated by the all of the Monte Carlo simulations using errorbars."
      ]
    },
    {
      "cell_type": "code",
      "metadata": {
        "id": "UcWtaGt-QqBY"
      },
      "source": [
        "# yavg = np.mean(Output, axis=0)\n",
        "# yerr = np.std(Output, axis=0)\n",
        "# plt.errorbar(t,yavg,yerr)\n",
        "# plt.xlabel('x')\n",
        "# # plt.xlabel('time (days)')   # for myodes\n",
        "# plt.ylabel(labelstring)\n",
        "# plt.title('Error bar plot of ' + labelstring + ' from LHS simulations')\n",
        "# plt.show()"
      ],
      "execution_count": 71,
      "outputs": []
    },
    {
      "cell_type": "markdown",
      "metadata": {
        "id": "3XF6evQB_6ZN"
      },
      "source": [
        "### Compute partial rank correlation coefficients to compare simulation outputs with parameters"
      ]
    },
    {
      "cell_type": "code",
      "source": [
        "# \n",
        "LHSout = np.hstack((LHSarray,np.array(Output).reshape(len(Output),1)))\n",
        "SampleResult = LHSout.tolist()\n",
        "\n",
        "Ranks=[]\n",
        "              \n",
        "for s in range(sampleCount):\n",
        "\n",
        "    indices = list(range(len(SampleResult[s])))\n",
        "    indices.sort(key=lambda k: SampleResult[s][k])\n",
        "    r = [0] * len(indices)\n",
        "    for i, k in enumerate(indices):\n",
        "        r[k] = i\n",
        "\n",
        "    Ranks.append(r)\n",
        "\n",
        "  \n",
        "C=np.corrcoef(Ranks);\n",
        "\n",
        "if np.linalg.det(C) < 1e-16: # determine if singular\n",
        "    Cinv = np.linalg.pinv(C) # may need to use pseudo inverse\n",
        "else:\n",
        "    Cinv = np.linalg.inv(C) \n",
        "\n",
        "resultIdx = parameterCount+1\n",
        "prcc=np.zeros(resultIdx)\n",
        "\n",
        "for w in range(parameterCount): # compute PRCC btwn each param & sim result\n",
        "    prcc[w]=-Cinv[w,resultIdx]/np.sqrt(Cinv[w,w]*Cinv[resultIdx,resultIdx]) "
      ],
      "metadata": {
        "id": "0WGbawH2FCYP"
      },
      "execution_count": 75,
      "outputs": []
    },
    {
      "cell_type": "code",
      "source": [
        "xp=[i for i in range(parameterCount)]\n",
        "\n",
        "plt.bar(xp,prcc[0:parameterCount], align='center')\n",
        "\n",
        "bLabels=list(parameters.keys())\n",
        "plt.xticks(xp, bLabels) \n",
        "\n",
        "plt.ylabel('PRCC value');\n",
        "plt.show() "
      ],
      "metadata": {
        "id": "ofCNHLnJvPMq",
        "outputId": "67adef6a-3965-420b-a79b-8701bdebbaec",
        "colab": {
          "base_uri": "https://localhost:8080/",
          "height": 266
        }
      },
      "execution_count": 74,
      "outputs": [
        {
          "output_type": "display_data",
          "data": {
            "text/plain": [
              "<Figure size 432x288 with 1 Axes>"
            ],
            "image/png": "[encoded data removed]"
          },
          "metadata": {
            "needs_background": "light"
          }
        }
      ]
    },
    {
      "cell_type": "markdown",
      "metadata": {
        "id": "2z8fXWcYxalX"
      },
      "source": [
        "##That's it, you're done! Happy modeling."
      ]
    }
  ]
}