{
  "nbformat": 4,
  "nbformat_minor": 0,
  "metadata": {
    "colab": {
      "name": "emperical_data_viz.ipynb",
      "provenance": [],
      "authorship_tag": "ABX9TyMywWmVnmufaGUC+TTVWYOu",
      "include_colab_link": true
    },
    "kernelspec": {
      "name": "python3",
      "display_name": "Python 3"
    },
    "language_info": {
      "name": "python"
    }
  },
  "cells": [
    {
      "cell_type": "markdown",
      "metadata": {
        "id": "view-in-github",
        "colab_type": "text"
      },
      "source": [
        "<a href=\"https://colab.research.google.com/github/m-rafiul-islam/driver-behavior-model/blob/main/emperical_data_viz.ipynb\" target=\"_parent\"><img src=\"https://colab.research.google.com/assets/colab-badge.svg\" alt=\"Open In Colab\"/></a>"
      ]
    },
    {
      "cell_type": "markdown",
      "source": [
        "#Exploratory Data Analysis \n"
      ],
      "metadata": {
        "id": "Ys8l-WWIb8IL"
      }
    },
    {
      "cell_type": "code",
      "execution_count": 1,
      "metadata": {
        "id": "KEwTtFV3Hlg6"
      },
      "outputs": [],
      "source": [
        "import pandas as pd"
      ]
    },
    {
      "cell_type": "markdown",
      "source": [
        "[3 Ways to Load CSV files into Colab](https://towardsdatascience.com/3-ways-to-load-csv-files-into-colab-7c14fcbdcb92#:~:text=2)%20From%20a%20local%20drive&text=Click%20on%20%E2%80%9CChoose%20Files%E2%80%9D%20then,name%20of%20the%20uploaded%20file).)\n",
        "\n",
        "\n"
      ],
      "metadata": {
        "id": "4RaYHX1yN-cU"
      }
    },
    {
      "cell_type": "code",
      "source": [
        "raw_data_link = 'https://raw.githubusercontent.com/m-rafiul-islam/driver-behavior-model/main/RAllCarDataTime350.csv'\n",
        "car_data = pd.read_csv(raw_data_link) "
      ],
      "metadata": {
        "id": "6HsxfLENIw0r"
      },
      "execution_count": 2,
      "outputs": []
    },
    {
      "cell_type": "code",
      "source": [
        "# car_data.head()"
      ],
      "metadata": {
        "id": "UYvtwjspO4-W"
      },
      "execution_count": 3,
      "outputs": []
    },
    {
      "cell_type": "code",
      "source": [
        "car_data"
      ],
      "metadata": {
        "colab": {
          "base_uri": "https://localhost:8080/",
          "height": 423
        },
        "id": "hsKcjkpUdJj7",
        "outputId": "7439536c-19b6-47a8-f61b-11ab3a72bb2c"
      },
      "execution_count": 4,
      "outputs": [
        {
          "output_type": "execute_result",
          "data": {
            "text/plain": [
              "        time  nthcar   speed  spaceheadway  accelaretion  relativevelocity\n",
              "0        0.0       1  7.2289        12.209      0.220200          -0.90701\n",
              "1        0.1       1  7.2298        12.117      0.008769          -0.92513\n",
              "2        0.2       1  7.1965        12.025     -0.333190          -0.91394\n",
              "3        0.3       1  7.1247        11.938     -0.717440          -0.87312\n",
              "4        0.4       1  7.0152        11.857     -1.095500          -0.80384\n",
              "...      ...     ...     ...           ...           ...               ...\n",
              "349995  34.6    1000  6.1081        19.781     -0.541750           1.34520\n",
              "349996  34.7    1000  6.0338        19.927     -0.742640           1.46200\n",
              "349997  34.8    1000  5.9423        20.085     -0.915130           1.58220\n",
              "349998  34.9    1000  5.8498        20.254     -0.924930           1.68960\n",
              "349999  35.0    1000  5.7797        20.430     -0.701250           1.76210\n",
              "\n",
              "[350000 rows x 6 columns]"
            ],
            "text/html": [
              "\n",
              "  <div id=\"df-76f3e181-3416-4f33-bbc4-9cdcf2f6a93a\">\n",
              "    <div class=\"colab-df-container\">\n",
              "      <div>\n",
              "<style scoped>\n",
              "    .dataframe tbody tr th:only-of-type {\n",
              "        vertical-align: middle;\n",
              "    }\n",
              "\n",
              "    .dataframe tbody tr th {\n",
              "        vertical-align: top;\n",
              "    }\n",
              "\n",
              "    .dataframe thead th {\n",
              "        text-align: right;\n",
              "    }\n",
              "</style>\n",
              "<table border=\"1\" class=\"dataframe\">\n",
              "  <thead>\n",
              "    <tr style=\"text-align: right;\">\n",
              "      <th></th>\n",
              "      <th>time</th>\n",
              "      <th>nthcar</th>\n",
              "      <th>speed</th>\n",
              "      <th>spaceheadway</th>\n",
              "      <th>accelaretion</th>\n",
              "      <th>relativevelocity</th>\n",
              "    </tr>\n",
              "  </thead>\n",
              "  <tbody>\n",
              "    <tr>\n",
              "      <th>0</th>\n",
              "      <td>0.0</td>\n",
              "      <td>1</td>\n",
              "      <td>7.2289</td>\n",
              "      <td>12.209</td>\n",
              "      <td>0.220200</td>\n",
              "      <td>-0.90701</td>\n",
              "    </tr>\n",
              "    <tr>\n",
              "      <th>1</th>\n",
              "      <td>0.1</td>\n",
              "      <td>1</td>\n",
              "      <td>7.2298</td>\n",
              "      <td>12.117</td>\n",
              "      <td>0.008769</td>\n",
              "      <td>-0.92513</td>\n",
              "    </tr>\n",
              "    <tr>\n",
              "      <th>2</th>\n",
              "      <td>0.2</td>\n",
              "      <td>1</td>\n",
              "      <td>7.1965</td>\n",
              "      <td>12.025</td>\n",
              "      <td>-0.333190</td>\n",
              "      <td>-0.91394</td>\n",
              "    </tr>\n",
              "    <tr>\n",
              "      <th>3</th>\n",
              "      <td>0.3</td>\n",
              "      <td>1</td>\n",
              "      <td>7.1247</td>\n",
              "      <td>11.938</td>\n",
              "      <td>-0.717440</td>\n",
              "      <td>-0.87312</td>\n",
              "    </tr>\n",
              "    <tr>\n",
              "      <th>4</th>\n",
              "      <td>0.4</td>\n",
              "      <td>1</td>\n",
              "      <td>7.0152</td>\n",
              "      <td>11.857</td>\n",
              "      <td>-1.095500</td>\n",
              "      <td>-0.80384</td>\n",
              "    </tr>\n",
              "    <tr>\n",
              "      <th>...</th>\n",
              "      <td>...</td>\n",
              "      <td>...</td>\n",
              "      <td>...</td>\n",
              "      <td>...</td>\n",
              "      <td>...</td>\n",
              "      <td>...</td>\n",
              "    </tr>\n",
              "    <tr>\n",
              "      <th>349995</th>\n",
              "      <td>34.6</td>\n",
              "      <td>1000</td>\n",
              "      <td>6.1081</td>\n",
              "      <td>19.781</td>\n",
              "      <td>-0.541750</td>\n",
              "      <td>1.34520</td>\n",
              "    </tr>\n",
              "    <tr>\n",
              "      <th>349996</th>\n",
              "      <td>34.7</td>\n",
              "      <td>1000</td>\n",
              "      <td>6.0338</td>\n",
              "      <td>19.927</td>\n",
              "      <td>-0.742640</td>\n",
              "      <td>1.46200</td>\n",
              "    </tr>\n",
              "    <tr>\n",
              "      <th>349997</th>\n",
              "      <td>34.8</td>\n",
              "      <td>1000</td>\n",
              "      <td>5.9423</td>\n",
              "      <td>20.085</td>\n",
              "      <td>-0.915130</td>\n",
              "      <td>1.58220</td>\n",
              "    </tr>\n",
              "    <tr>\n",
              "      <th>349998</th>\n",
              "      <td>34.9</td>\n",
              "      <td>1000</td>\n",
              "      <td>5.8498</td>\n",
              "      <td>20.254</td>\n",
              "      <td>-0.924930</td>\n",
              "      <td>1.68960</td>\n",
              "    </tr>\n",
              "    <tr>\n",
              "      <th>349999</th>\n",
              "      <td>35.0</td>\n",
              "      <td>1000</td>\n",
              "      <td>5.7797</td>\n",
              "      <td>20.430</td>\n",
              "      <td>-0.701250</td>\n",
              "      <td>1.76210</td>\n",
              "    </tr>\n",
              "  </tbody>\n",
              "</table>\n",
              "<p>350000 rows × 6 columns</p>\n",
              "</div>\n",
              "      <button class=\"colab-df-convert\" onclick=\"convertToInteractive('df-76f3e181-3416-4f33-bbc4-9cdcf2f6a93a')\"\n",
              "              title=\"Convert this dataframe to an interactive table.\"\n",
              "              style=\"display:none;\">\n",
              "        \n",
              "  <svg xmlns=\"http://www.w3.org/2000/svg\" height=\"24px\"viewBox=\"0 0 24 24\"\n",
              "       width=\"24px\">\n",
              "    <path d=\"M0 0h24v24H0V0z\" fill=\"none\"/>\n",
              "    <path d=\"M18.56 5.44l.94 2.06.94-2.06 2.06-.94-2.06-.94-.94-2.06-.94 2.06-2.06.94zm-11 1L8.5 8.5l.94-2.06 2.06-.94-2.06-.94L8.5 2.5l-.94 2.06-2.06.94zm10 10l.94 2.06.94-2.06 2.06-.94-2.06-.94-.94-2.06-.94 2.06-2.06.94z\"/><path d=\"M17.41 7.96l-1.37-1.37c-.4-.4-.92-.59-1.43-.59-.52 0-1.04.2-1.43.59L10.3 9.45l-7.72 7.72c-.78.78-.78 2.05 0 2.83L4 21.41c.39.39.9.59 1.41.59.51 0 1.02-.2 1.41-.59l7.78-7.78 2.81-2.81c.8-.78.8-2.07 0-2.86zM5.41 20L4 18.59l7.72-7.72 1.47 1.35L5.41 20z\"/>\n",
              "  </svg>\n",
              "      </button>\n",
              "      \n",
              "  <style>\n",
              "    .colab-df-container {\n",
              "      display:flex;\n",
              "      flex-wrap:wrap;\n",
              "      gap: 12px;\n",
              "    }\n",
              "\n",
              "    .colab-df-convert {\n",
              "      background-color: #E8F0FE;\n",
              "      border: none;\n",
              "      border-radius: 50%;\n",
              "      cursor: pointer;\n",
              "      display: none;\n",
              "      fill: #1967D2;\n",
              "      height: 32px;\n",
              "      padding: 0 0 0 0;\n",
              "      width: 32px;\n",
              "    }\n",
              "\n",
              "    .colab-df-convert:hover {\n",
              "      background-color: #E2EBFA;\n",
              "      box-shadow: 0px 1px 2px rgba(60, 64, 67, 0.3), 0px 1px 3px 1px rgba(60, 64, 67, 0.15);\n",
              "      fill: #174EA6;\n",
              "    }\n",
              "\n",
              "    [theme=dark] .colab-df-convert {\n",
              "      background-color: #3B4455;\n",
              "      fill: #D2E3FC;\n",
              "    }\n",
              "\n",
              "    [theme=dark] .colab-df-convert:hover {\n",
              "      background-color: #434B5C;\n",
              "      box-shadow: 0px 1px 3px 1px rgba(0, 0, 0, 0.15);\n",
              "      filter: drop-shadow(0px 1px 2px rgba(0, 0, 0, 0.3));\n",
              "      fill: #FFFFFF;\n",
              "    }\n",
              "  </style>\n",
              "\n",
              "      <script>\n",
              "        const buttonEl =\n",
              "          document.querySelector('#df-76f3e181-3416-4f33-bbc4-9cdcf2f6a93a button.colab-df-convert');\n",
              "        buttonEl.style.display =\n",
              "          google.colab.kernel.accessAllowed ? 'block' : 'none';\n",
              "\n",
              "        async function convertToInteractive(key) {\n",
              "          const element = document.querySelector('#df-76f3e181-3416-4f33-bbc4-9cdcf2f6a93a');\n",
              "          const dataTable =\n",
              "            await google.colab.kernel.invokeFunction('convertToInteractive',\n",
              "                                                     [key], {});\n",
              "          if (!dataTable) return;\n",
              "\n",
              "          const docLinkHtml = 'Like what you see? Visit the ' +\n",
              "            '<a target=\"_blank\" href=https://colab.research.google.com/notebooks/data_table.ipynb>data table notebook</a>'\n",
              "            + ' to learn more about interactive tables.';\n",
              "          element.innerHTML = '';\n",
              "          dataTable['output_type'] = 'display_data';\n",
              "          await google.colab.output.renderOutput(dataTable, element);\n",
              "          const docLink = document.createElement('div');\n",
              "          docLink.innerHTML = docLinkHtml;\n",
              "          element.appendChild(docLink);\n",
              "        }\n",
              "      </script>\n",
              "    </div>\n",
              "  </div>\n",
              "  "
            ]
          },
          "metadata": {},
          "execution_count": 4
        }
      ]
    },
    {
      "cell_type": "code",
      "source": [
        "car_data.info() "
      ],
      "metadata": {
        "colab": {
          "base_uri": "https://localhost:8080/"
        },
        "id": "ALr9cD1kPQpp",
        "outputId": "9844e85f-43ab-48e0-ef7c-83e05653c5ef"
      },
      "execution_count": 5,
      "outputs": [
        {
          "output_type": "stream",
          "name": "stdout",
          "text": [
            "<class 'pandas.core.frame.DataFrame'>\n",
            "RangeIndex: 350000 entries, 0 to 349999\n",
            "Data columns (total 6 columns):\n",
            " #   Column            Non-Null Count   Dtype  \n",
            "---  ------            --------------   -----  \n",
            " 0   time              350000 non-null  float64\n",
            " 1   nthcar            350000 non-null  int64  \n",
            " 2   speed             350000 non-null  float64\n",
            " 3   spaceheadway      350000 non-null  float64\n",
            " 4   accelaretion      350000 non-null  float64\n",
            " 5   relativevelocity  350000 non-null  float64\n",
            "dtypes: float64(5), int64(1)\n",
            "memory usage: 16.0 MB\n"
          ]
        }
      ]
    },
    {
      "cell_type": "code",
      "source": [
        "car_data.describe()"
      ],
      "metadata": {
        "colab": {
          "base_uri": "https://localhost:8080/",
          "height": 300
        },
        "id": "5daBNZK-bgum",
        "outputId": "b5f7f47d-a4f1-4f8a-ce77-e002d513b128"
      },
      "execution_count": 6,
      "outputs": [
        {
          "output_type": "execute_result",
          "data": {
            "text/plain": [
              "                time         nthcar          speed   spaceheadway  \\\n",
              "count  350000.000000  350000.000000  350000.000000  350000.000000   \n",
              "mean       17.500571     500.500000       6.715864      18.485965   \n",
              "std        10.146930     288.675403       2.553528       9.313234   \n",
              "min         0.000000       1.000000       0.000000      -1.959300   \n",
              "25%         8.700000     250.750000       5.171300      12.200000   \n",
              "50%        17.550000     500.500000       6.993600      16.208000   \n",
              "75%        26.300000     750.250000       8.512800      22.191250   \n",
              "max        35.000000    1000.000000      17.981000     113.030000   \n",
              "\n",
              "        accelaretion  relativevelocity  \n",
              "count  350000.000000     350000.000000  \n",
              "mean       -0.044364         -0.044284  \n",
              "std         0.930268          1.408721  \n",
              "min        -4.837500        -10.542000  \n",
              "25%        -0.452750         -0.764900  \n",
              "50%        -0.000937          0.002035  \n",
              "75%         0.376553          0.754363  \n",
              "max         5.142500         15.328000  "
            ],
            "text/html": [
              "\n",
              "  <div id=\"df-8b6faade-349e-406f-9d85-202c373763df\">\n",
              "    <div class=\"colab-df-container\">\n",
              "      <div>\n",
              "<style scoped>\n",
              "    .dataframe tbody tr th:only-of-type {\n",
              "        vertical-align: middle;\n",
              "    }\n",
              "\n",
              "    .dataframe tbody tr th {\n",
              "        vertical-align: top;\n",
              "    }\n",
              "\n",
              "    .dataframe thead th {\n",
              "        text-align: right;\n",
              "    }\n",
              "</style>\n",
              "<table border=\"1\" class=\"dataframe\">\n",
              "  <thead>\n",
              "    <tr style=\"text-align: right;\">\n",
              "      <th></th>\n",
              "      <th>time</th>\n",
              "      <th>nthcar</th>\n",
              "      <th>speed</th>\n",
              "      <th>spaceheadway</th>\n",
              "      <th>accelaretion</th>\n",
              "      <th>relativevelocity</th>\n",
              "    </tr>\n",
              "  </thead>\n",
              "  <tbody>\n",
              "    <tr>\n",
              "      <th>count</th>\n",
              "      <td>350000.000000</td>\n",
              "      <td>350000.000000</td>\n",
              "      <td>350000.000000</td>\n",
              "      <td>350000.000000</td>\n",
              "      <td>350000.000000</td>\n",
              "      <td>350000.000000</td>\n",
              "    </tr>\n",
              "    <tr>\n",
              "      <th>mean</th>\n",
              "      <td>17.500571</td>\n",
              "      <td>500.500000</td>\n",
              "      <td>6.715864</td>\n",
              "      <td>18.485965</td>\n",
              "      <td>-0.044364</td>\n",
              "      <td>-0.044284</td>\n",
              "    </tr>\n",
              "    <tr>\n",
              "      <th>std</th>\n",
              "      <td>10.146930</td>\n",
              "      <td>288.675403</td>\n",
              "      <td>2.553528</td>\n",
              "      <td>9.313234</td>\n",
              "      <td>0.930268</td>\n",
              "      <td>1.408721</td>\n",
              "    </tr>\n",
              "    <tr>\n",
              "      <th>min</th>\n",
              "      <td>0.000000</td>\n",
              "      <td>1.000000</td>\n",
              "      <td>0.000000</td>\n",
              "      <td>-1.959300</td>\n",
              "      <td>-4.837500</td>\n",
              "      <td>-10.542000</td>\n",
              "    </tr>\n",
              "    <tr>\n",
              "      <th>25%</th>\n",
              "      <td>8.700000</td>\n",
              "      <td>250.750000</td>\n",
              "      <td>5.171300</td>\n",
              "      <td>12.200000</td>\n",
              "      <td>-0.452750</td>\n",
              "      <td>-0.764900</td>\n",
              "    </tr>\n",
              "    <tr>\n",
              "      <th>50%</th>\n",
              "      <td>17.550000</td>\n",
              "      <td>500.500000</td>\n",
              "      <td>6.993600</td>\n",
              "      <td>16.208000</td>\n",
              "      <td>-0.000937</td>\n",
              "      <td>0.002035</td>\n",
              "    </tr>\n",
              "    <tr>\n",
              "      <th>75%</th>\n",
              "      <td>26.300000</td>\n",
              "      <td>750.250000</td>\n",
              "      <td>8.512800</td>\n",
              "      <td>22.191250</td>\n",
              "      <td>0.376553</td>\n",
              "      <td>0.754363</td>\n",
              "    </tr>\n",
              "    <tr>\n",
              "      <th>max</th>\n",
              "      <td>35.000000</td>\n",
              "      <td>1000.000000</td>\n",
              "      <td>17.981000</td>\n",
              "      <td>113.030000</td>\n",
              "      <td>5.142500</td>\n",
              "      <td>15.328000</td>\n",
              "    </tr>\n",
              "  </tbody>\n",
              "</table>\n",
              "</div>\n",
              "      <button class=\"colab-df-convert\" onclick=\"convertToInteractive('df-8b6faade-349e-406f-9d85-202c373763df')\"\n",
              "              title=\"Convert this dataframe to an interactive table.\"\n",
              "              style=\"display:none;\">\n",
              "        \n",
              "  <svg xmlns=\"http://www.w3.org/2000/svg\" height=\"24px\"viewBox=\"0 0 24 24\"\n",
              "       width=\"24px\">\n",
              "    <path d=\"M0 0h24v24H0V0z\" fill=\"none\"/>\n",
              "    <path d=\"M18.56 5.44l.94 2.06.94-2.06 2.06-.94-2.06-.94-.94-2.06-.94 2.06-2.06.94zm-11 1L8.5 8.5l.94-2.06 2.06-.94-2.06-.94L8.5 2.5l-.94 2.06-2.06.94zm10 10l.94 2.06.94-2.06 2.06-.94-2.06-.94-.94-2.06-.94 2.06-2.06.94z\"/><path d=\"M17.41 7.96l-1.37-1.37c-.4-.4-.92-.59-1.43-.59-.52 0-1.04.2-1.43.59L10.3 9.45l-7.72 7.72c-.78.78-.78 2.05 0 2.83L4 21.41c.39.39.9.59 1.41.59.51 0 1.02-.2 1.41-.59l7.78-7.78 2.81-2.81c.8-.78.8-2.07 0-2.86zM5.41 20L4 18.59l7.72-7.72 1.47 1.35L5.41 20z\"/>\n",
              "  </svg>\n",
              "      </button>\n",
              "      \n",
              "  <style>\n",
              "    .colab-df-container {\n",
              "      display:flex;\n",
              "      flex-wrap:wrap;\n",
              "      gap: 12px;\n",
              "    }\n",
              "\n",
              "    .colab-df-convert {\n",
              "      background-color: #E8F0FE;\n",
              "      border: none;\n",
              "      border-radius: 50%;\n",
              "      cursor: pointer;\n",
              "      display: none;\n",
              "      fill: #1967D2;\n",
              "      height: 32px;\n",
              "      padding: 0 0 0 0;\n",
              "      width: 32px;\n",
              "    }\n",
              "\n",
              "    .colab-df-convert:hover {\n",
              "      background-color: #E2EBFA;\n",
              "      box-shadow: 0px 1px 2px rgba(60, 64, 67, 0.3), 0px 1px 3px 1px rgba(60, 64, 67, 0.15);\n",
              "      fill: #174EA6;\n",
              "    }\n",
              "\n",
              "    [theme=dark] .colab-df-convert {\n",
              "      background-color: #3B4455;\n",
              "      fill: #D2E3FC;\n",
              "    }\n",
              "\n",
              "    [theme=dark] .colab-df-convert:hover {\n",
              "      background-color: #434B5C;\n",
              "      box-shadow: 0px 1px 3px 1px rgba(0, 0, 0, 0.15);\n",
              "      filter: drop-shadow(0px 1px 2px rgba(0, 0, 0, 0.3));\n",
              "      fill: #FFFFFF;\n",
              "    }\n",
              "  </style>\n",
              "\n",
              "      <script>\n",
              "        const buttonEl =\n",
              "          document.querySelector('#df-8b6faade-349e-406f-9d85-202c373763df button.colab-df-convert');\n",
              "        buttonEl.style.display =\n",
              "          google.colab.kernel.accessAllowed ? 'block' : 'none';\n",
              "\n",
              "        async function convertToInteractive(key) {\n",
              "          const element = document.querySelector('#df-8b6faade-349e-406f-9d85-202c373763df');\n",
              "          const dataTable =\n",
              "            await google.colab.kernel.invokeFunction('convertToInteractive',\n",
              "                                                     [key], {});\n",
              "          if (!dataTable) return;\n",
              "\n",
              "          const docLinkHtml = 'Like what you see? Visit the ' +\n",
              "            '<a target=\"_blank\" href=https://colab.research.google.com/notebooks/data_table.ipynb>data table notebook</a>'\n",
              "            + ' to learn more about interactive tables.';\n",
              "          element.innerHTML = '';\n",
              "          dataTable['output_type'] = 'display_data';\n",
              "          await google.colab.output.renderOutput(dataTable, element);\n",
              "          const docLink = document.createElement('div');\n",
              "          docLink.innerHTML = docLinkHtml;\n",
              "          element.appendChild(docLink);\n",
              "        }\n",
              "      </script>\n",
              "    </div>\n",
              "  </div>\n",
              "  "
            ]
          },
          "metadata": {},
          "execution_count": 6
        }
      ]
    },
    {
      "cell_type": "code",
      "source": [
        ""
      ],
      "metadata": {
        "id": "uw95sCyrZIey"
      },
      "execution_count": 6,
      "outputs": []
    },
    {
      "cell_type": "markdown",
      "source": [
        "Maximum speed is apprroximate 18 m/s (40mi/h). So, We assumed desired speed limit, v_0 = 20 m/s. \n",
        "Initial speed of the follower vehichle 6.72 m/s. \n",
        "Initial position of the leader- and follower- vehicle are 18.49 m and 0 m respectively.  So close! \n",
        "\n",
        "Initial position of the leader- and follower- vehicle are 113 m and 0 m respectively.\n",
        "\n"
      ],
      "metadata": {
        "id": "NHXOICWQcF25"
      }
    },
    {
      "cell_type": "markdown",
      "source": [
        "![image.png](data:image/png;base64,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)"
      ],
      "metadata": {
        "id": "SKz5aLZjefVw"
      }
    },
    {
      "cell_type": "markdown",
      "source": [
        "![image.png](data:image/png;base64,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)"
      ],
      "metadata": {
        "id": "uvJ74Ag5iZQw"
      }
    },
    {
      "cell_type": "code",
      "source": [
        "number_of_car = car_data['nthcar'].nunique()\n",
        "number_of_car\n",
        "# len(number_of_car) "
      ],
      "metadata": {
        "colab": {
          "base_uri": "https://localhost:8080/"
        },
        "id": "JqrJ_kbWPeEz",
        "outputId": "b56cf7f7-8389-49f6-b699-d5d5a81fdb61"
      },
      "execution_count": 7,
      "outputs": [
        {
          "output_type": "execute_result",
          "data": {
            "text/plain": [
              "1000"
            ]
          },
          "metadata": {},
          "execution_count": 7
        }
      ]
    },
    {
      "cell_type": "markdown",
      "source": [
        "## group by car "
      ],
      "metadata": {
        "id": "IVrb7GYVZPxe"
      }
    },
    {
      "cell_type": "code",
      "source": [
        "car_data.columns"
      ],
      "metadata": {
        "id": "r6oCC8rNZofa",
        "outputId": "b0a06366-9d11-4948-a1bb-ab8bf22e1f67",
        "colab": {
          "base_uri": "https://localhost:8080/"
        }
      },
      "execution_count": 8,
      "outputs": [
        {
          "output_type": "execute_result",
          "data": {
            "text/plain": [
              "Index(['time', 'nthcar', 'speed', 'spaceheadway', 'accelaretion',\n",
              "       'relativevelocity'],\n",
              "      dtype='object')"
            ]
          },
          "metadata": {},
          "execution_count": 8
        }
      ]
    },
    {
      "cell_type": "code",
      "source": [
        "max_data_per_car = car_data.groupby([\"nthcar\"])[['speed', 'spaceheadway', 'accelaretion']].max() \n",
        "max_data_per_car"
      ],
      "metadata": {
        "id": "2TZi97L7ZLVM",
        "outputId": "845e5c1d-ed21-45f0-a0ea-791820f63918",
        "colab": {
          "base_uri": "https://localhost:8080/",
          "height": 455
        }
      },
      "execution_count": 9,
      "outputs": [
        {
          "output_type": "execute_result",
          "data": {
            "text/plain": [
              "          speed  spaceheadway  accelaretion\n",
              "nthcar                                     \n",
              "1        8.6408        25.121        2.5426\n",
              "2        7.0220        19.011        1.8745\n",
              "3        9.1056        20.614        2.0629\n",
              "4        7.6297        23.374        2.6401\n",
              "5        8.3221        28.568        2.5519\n",
              "...         ...           ...           ...\n",
              "996      6.1449        13.498        2.7500\n",
              "997      6.3448        16.741        1.8132\n",
              "998     11.0890        22.591        4.9512\n",
              "999      8.7172        19.618        2.1096\n",
              "1000     8.6400        20.430        1.9300\n",
              "\n",
              "[1000 rows x 3 columns]"
            ],
            "text/html": [
              "\n",
              "  <div id=\"df-1200fedd-1495-43c4-9649-7854e1ccfe4a\">\n",
              "    <div class=\"colab-df-container\">\n",
              "      <div>\n",
              "<style scoped>\n",
              "    .dataframe tbody tr th:only-of-type {\n",
              "        vertical-align: middle;\n",
              "    }\n",
              "\n",
              "    .dataframe tbody tr th {\n",
              "        vertical-align: top;\n",
              "    }\n",
              "\n",
              "    .dataframe thead th {\n",
              "        text-align: right;\n",
              "    }\n",
              "</style>\n",
              "<table border=\"1\" class=\"dataframe\">\n",
              "  <thead>\n",
              "    <tr style=\"text-align: right;\">\n",
              "      <th></th>\n",
              "      <th>speed</th>\n",
              "      <th>spaceheadway</th>\n",
              "      <th>accelaretion</th>\n",
              "    </tr>\n",
              "    <tr>\n",
              "      <th>nthcar</th>\n",
              "      <th></th>\n",
              "      <th></th>\n",
              "      <th></th>\n",
              "    </tr>\n",
              "  </thead>\n",
              "  <tbody>\n",
              "    <tr>\n",
              "      <th>1</th>\n",
              "      <td>8.6408</td>\n",
              "      <td>25.121</td>\n",
              "      <td>2.5426</td>\n",
              "    </tr>\n",
              "    <tr>\n",
              "      <th>2</th>\n",
              "      <td>7.0220</td>\n",
              "      <td>19.011</td>\n",
              "      <td>1.8745</td>\n",
              "    </tr>\n",
              "    <tr>\n",
              "      <th>3</th>\n",
              "      <td>9.1056</td>\n",
              "      <td>20.614</td>\n",
              "      <td>2.0629</td>\n",
              "    </tr>\n",
              "    <tr>\n",
              "      <th>4</th>\n",
              "      <td>7.6297</td>\n",
              "      <td>23.374</td>\n",
              "      <td>2.6401</td>\n",
              "    </tr>\n",
              "    <tr>\n",
              "      <th>5</th>\n",
              "      <td>8.3221</td>\n",
              "      <td>28.568</td>\n",
              "      <td>2.5519</td>\n",
              "    </tr>\n",
              "    <tr>\n",
              "      <th>...</th>\n",
              "      <td>...</td>\n",
              "      <td>...</td>\n",
              "      <td>...</td>\n",
              "    </tr>\n",
              "    <tr>\n",
              "      <th>996</th>\n",
              "      <td>6.1449</td>\n",
              "      <td>13.498</td>\n",
              "      <td>2.7500</td>\n",
              "    </tr>\n",
              "    <tr>\n",
              "      <th>997</th>\n",
              "      <td>6.3448</td>\n",
              "      <td>16.741</td>\n",
              "      <td>1.8132</td>\n",
              "    </tr>\n",
              "    <tr>\n",
              "      <th>998</th>\n",
              "      <td>11.0890</td>\n",
              "      <td>22.591</td>\n",
              "      <td>4.9512</td>\n",
              "    </tr>\n",
              "    <tr>\n",
              "      <th>999</th>\n",
              "      <td>8.7172</td>\n",
              "      <td>19.618</td>\n",
              "      <td>2.1096</td>\n",
              "    </tr>\n",
              "    <tr>\n",
              "      <th>1000</th>\n",
              "      <td>8.6400</td>\n",
              "      <td>20.430</td>\n",
              "      <td>1.9300</td>\n",
              "    </tr>\n",
              "  </tbody>\n",
              "</table>\n",
              "<p>1000 rows × 3 columns</p>\n",
              "</div>\n",
              "      <button class=\"colab-df-convert\" onclick=\"convertToInteractive('df-1200fedd-1495-43c4-9649-7854e1ccfe4a')\"\n",
              "              title=\"Convert this dataframe to an interactive table.\"\n",
              "              style=\"display:none;\">\n",
              "        \n",
              "  <svg xmlns=\"http://www.w3.org/2000/svg\" height=\"24px\"viewBox=\"0 0 24 24\"\n",
              "       width=\"24px\">\n",
              "    <path d=\"M0 0h24v24H0V0z\" fill=\"none\"/>\n",
              "    <path d=\"M18.56 5.44l.94 2.06.94-2.06 2.06-.94-2.06-.94-.94-2.06-.94 2.06-2.06.94zm-11 1L8.5 8.5l.94-2.06 2.06-.94-2.06-.94L8.5 2.5l-.94 2.06-2.06.94zm10 10l.94 2.06.94-2.06 2.06-.94-2.06-.94-.94-2.06-.94 2.06-2.06.94z\"/><path d=\"M17.41 7.96l-1.37-1.37c-.4-.4-.92-.59-1.43-.59-.52 0-1.04.2-1.43.59L10.3 9.45l-7.72 7.72c-.78.78-.78 2.05 0 2.83L4 21.41c.39.39.9.59 1.41.59.51 0 1.02-.2 1.41-.59l7.78-7.78 2.81-2.81c.8-.78.8-2.07 0-2.86zM5.41 20L4 18.59l7.72-7.72 1.47 1.35L5.41 20z\"/>\n",
              "  </svg>\n",
              "      </button>\n",
              "      \n",
              "  <style>\n",
              "    .colab-df-container {\n",
              "      display:flex;\n",
              "      flex-wrap:wrap;\n",
              "      gap: 12px;\n",
              "    }\n",
              "\n",
              "    .colab-df-convert {\n",
              "      background-color: #E8F0FE;\n",
              "      border: none;\n",
              "      border-radius: 50%;\n",
              "      cursor: pointer;\n",
              "      display: none;\n",
              "      fill: #1967D2;\n",
              "      height: 32px;\n",
              "      padding: 0 0 0 0;\n",
              "      width: 32px;\n",
              "    }\n",
              "\n",
              "    .colab-df-convert:hover {\n",
              "      background-color: #E2EBFA;\n",
              "      box-shadow: 0px 1px 2px rgba(60, 64, 67, 0.3), 0px 1px 3px 1px rgba(60, 64, 67, 0.15);\n",
              "      fill: #174EA6;\n",
              "    }\n",
              "\n",
              "    [theme=dark] .colab-df-convert {\n",
              "      background-color: #3B4455;\n",
              "      fill: #D2E3FC;\n",
              "    }\n",
              "\n",
              "    [theme=dark] .colab-df-convert:hover {\n",
              "      background-color: #434B5C;\n",
              "      box-shadow: 0px 1px 3px 1px rgba(0, 0, 0, 0.15);\n",
              "      filter: drop-shadow(0px 1px 2px rgba(0, 0, 0, 0.3));\n",
              "      fill: #FFFFFF;\n",
              "    }\n",
              "  </style>\n",
              "\n",
              "      <script>\n",
              "        const buttonEl =\n",
              "          document.querySelector('#df-1200fedd-1495-43c4-9649-7854e1ccfe4a button.colab-df-convert');\n",
              "        buttonEl.style.display =\n",
              "          google.colab.kernel.accessAllowed ? 'block' : 'none';\n",
              "\n",
              "        async function convertToInteractive(key) {\n",
              "          const element = document.querySelector('#df-1200fedd-1495-43c4-9649-7854e1ccfe4a');\n",
              "          const dataTable =\n",
              "            await google.colab.kernel.invokeFunction('convertToInteractive',\n",
              "                                                     [key], {});\n",
              "          if (!dataTable) return;\n",
              "\n",
              "          const docLinkHtml = 'Like what you see? Visit the ' +\n",
              "            '<a target=\"_blank\" href=https://colab.research.google.com/notebooks/data_table.ipynb>data table notebook</a>'\n",
              "            + ' to learn more about interactive tables.';\n",
              "          element.innerHTML = '';\n",
              "          dataTable['output_type'] = 'display_data';\n",
              "          await google.colab.output.renderOutput(dataTable, element);\n",
              "          const docLink = document.createElement('div');\n",
              "          docLink.innerHTML = docLinkHtml;\n",
              "          element.appendChild(docLink);\n",
              "        }\n",
              "      </script>\n",
              "    </div>\n",
              "  </div>\n",
              "  "
            ]
          },
          "metadata": {},
          "execution_count": 9
        }
      ]
    },
    {
      "cell_type": "code",
      "source": [
        "# data_per_car = car_data.groupby([\"nthcar\"]).agg(['max','min','max'])\n",
        "data_per_car = car_data.groupby([\"nthcar\"])[['speed', 'spaceheadway', 'accelaretion']].agg(maxspeed=('speed', max), minspaceheadway=('spaceheadway', 'min'), maxaccelaretion=('accelaretion', 'max'))\n",
        "data_per_car \n"
      ],
      "metadata": {
        "id": "yrpdb6QfaHrr",
        "outputId": "4bb5febe-1bfe-4897-b599-7119a4cfb59d",
        "colab": {
          "base_uri": "https://localhost:8080/",
          "height": 455
        }
      },
      "execution_count": 10,
      "outputs": [
        {
          "output_type": "execute_result",
          "data": {
            "text/plain": [
              "        maxspeed  minspaceheadway  maxaccelaretion\n",
              "nthcar                                            \n",
              "1         8.6408          7.36450           2.5426\n",
              "2         7.0220          8.12970           1.8745\n",
              "3         9.1056          8.60450           2.0629\n",
              "4         7.6297         10.76100           2.6401\n",
              "5         8.3221          7.92430           2.5519\n",
              "...          ...              ...              ...\n",
              "996       6.1449          4.45470           2.7500\n",
              "997       6.3448          7.12020           1.8132\n",
              "998      11.0890          8.08920           4.9512\n",
              "999       8.7172          0.27307           2.1096\n",
              "1000      8.6400          7.60950           1.9300\n",
              "\n",
              "[1000 rows x 3 columns]"
            ],
            "text/html": [
              "\n",
              "  <div id=\"df-96747d87-64d6-4f45-9cd9-f7d58e2830b3\">\n",
              "    <div class=\"colab-df-container\">\n",
              "      <div>\n",
              "<style scoped>\n",
              "    .dataframe tbody tr th:only-of-type {\n",
              "        vertical-align: middle;\n",
              "    }\n",
              "\n",
              "    .dataframe tbody tr th {\n",
              "        vertical-align: top;\n",
              "    }\n",
              "\n",
              "    .dataframe thead th {\n",
              "        text-align: right;\n",
              "    }\n",
              "</style>\n",
              "<table border=\"1\" class=\"dataframe\">\n",
              "  <thead>\n",
              "    <tr style=\"text-align: right;\">\n",
              "      <th></th>\n",
              "      <th>maxspeed</th>\n",
              "      <th>minspaceheadway</th>\n",
              "      <th>maxaccelaretion</th>\n",
              "    </tr>\n",
              "    <tr>\n",
              "      <th>nthcar</th>\n",
              "      <th></th>\n",
              "      <th></th>\n",
              "      <th></th>\n",
              "    </tr>\n",
              "  </thead>\n",
              "  <tbody>\n",
              "    <tr>\n",
              "      <th>1</th>\n",
              "      <td>8.6408</td>\n",
              "      <td>7.36450</td>\n",
              "      <td>2.5426</td>\n",
              "    </tr>\n",
              "    <tr>\n",
              "      <th>2</th>\n",
              "      <td>7.0220</td>\n",
              "      <td>8.12970</td>\n",
              "      <td>1.8745</td>\n",
              "    </tr>\n",
              "    <tr>\n",
              "      <th>3</th>\n",
              "      <td>9.1056</td>\n",
              "      <td>8.60450</td>\n",
              "      <td>2.0629</td>\n",
              "    </tr>\n",
              "    <tr>\n",
              "      <th>4</th>\n",
              "      <td>7.6297</td>\n",
              "      <td>10.76100</td>\n",
              "      <td>2.6401</td>\n",
              "    </tr>\n",
              "    <tr>\n",
              "      <th>5</th>\n",
              "      <td>8.3221</td>\n",
              "      <td>7.92430</td>\n",
              "      <td>2.5519</td>\n",
              "    </tr>\n",
              "    <tr>\n",
              "      <th>...</th>\n",
              "      <td>...</td>\n",
              "      <td>...</td>\n",
              "      <td>...</td>\n",
              "    </tr>\n",
              "    <tr>\n",
              "      <th>996</th>\n",
              "      <td>6.1449</td>\n",
              "      <td>4.45470</td>\n",
              "      <td>2.7500</td>\n",
              "    </tr>\n",
              "    <tr>\n",
              "      <th>997</th>\n",
              "      <td>6.3448</td>\n",
              "      <td>7.12020</td>\n",
              "      <td>1.8132</td>\n",
              "    </tr>\n",
              "    <tr>\n",
              "      <th>998</th>\n",
              "      <td>11.0890</td>\n",
              "      <td>8.08920</td>\n",
              "      <td>4.9512</td>\n",
              "    </tr>\n",
              "    <tr>\n",
              "      <th>999</th>\n",
              "      <td>8.7172</td>\n",
              "      <td>0.27307</td>\n",
              "      <td>2.1096</td>\n",
              "    </tr>\n",
              "    <tr>\n",
              "      <th>1000</th>\n",
              "      <td>8.6400</td>\n",
              "      <td>7.60950</td>\n",
              "      <td>1.9300</td>\n",
              "    </tr>\n",
              "  </tbody>\n",
              "</table>\n",
              "<p>1000 rows × 3 columns</p>\n",
              "</div>\n",
              "      <button class=\"colab-df-convert\" onclick=\"convertToInteractive('df-96747d87-64d6-4f45-9cd9-f7d58e2830b3')\"\n",
              "              title=\"Convert this dataframe to an interactive table.\"\n",
              "              style=\"display:none;\">\n",
              "        \n",
              "  <svg xmlns=\"http://www.w3.org/2000/svg\" height=\"24px\"viewBox=\"0 0 24 24\"\n",
              "       width=\"24px\">\n",
              "    <path d=\"M0 0h24v24H0V0z\" fill=\"none\"/>\n",
              "    <path d=\"M18.56 5.44l.94 2.06.94-2.06 2.06-.94-2.06-.94-.94-2.06-.94 2.06-2.06.94zm-11 1L8.5 8.5l.94-2.06 2.06-.94-2.06-.94L8.5 2.5l-.94 2.06-2.06.94zm10 10l.94 2.06.94-2.06 2.06-.94-2.06-.94-.94-2.06-.94 2.06-2.06.94z\"/><path d=\"M17.41 7.96l-1.37-1.37c-.4-.4-.92-.59-1.43-.59-.52 0-1.04.2-1.43.59L10.3 9.45l-7.72 7.72c-.78.78-.78 2.05 0 2.83L4 21.41c.39.39.9.59 1.41.59.51 0 1.02-.2 1.41-.59l7.78-7.78 2.81-2.81c.8-.78.8-2.07 0-2.86zM5.41 20L4 18.59l7.72-7.72 1.47 1.35L5.41 20z\"/>\n",
              "  </svg>\n",
              "      </button>\n",
              "      \n",
              "  <style>\n",
              "    .colab-df-container {\n",
              "      display:flex;\n",
              "      flex-wrap:wrap;\n",
              "      gap: 12px;\n",
              "    }\n",
              "\n",
              "    .colab-df-convert {\n",
              "      background-color: #E8F0FE;\n",
              "      border: none;\n",
              "      border-radius: 50%;\n",
              "      cursor: pointer;\n",
              "      display: none;\n",
              "      fill: #1967D2;\n",
              "      height: 32px;\n",
              "      padding: 0 0 0 0;\n",
              "      width: 32px;\n",
              "    }\n",
              "\n",
              "    .colab-df-convert:hover {\n",
              "      background-color: #E2EBFA;\n",
              "      box-shadow: 0px 1px 2px rgba(60, 64, 67, 0.3), 0px 1px 3px 1px rgba(60, 64, 67, 0.15);\n",
              "      fill: #174EA6;\n",
              "    }\n",
              "\n",
              "    [theme=dark] .colab-df-convert {\n",
              "      background-color: #3B4455;\n",
              "      fill: #D2E3FC;\n",
              "    }\n",
              "\n",
              "    [theme=dark] .colab-df-convert:hover {\n",
              "      background-color: #434B5C;\n",
              "      box-shadow: 0px 1px 3px 1px rgba(0, 0, 0, 0.15);\n",
              "      filter: drop-shadow(0px 1px 2px rgba(0, 0, 0, 0.3));\n",
              "      fill: #FFFFFF;\n",
              "    }\n",
              "  </style>\n",
              "\n",
              "      <script>\n",
              "        const buttonEl =\n",
              "          document.querySelector('#df-96747d87-64d6-4f45-9cd9-f7d58e2830b3 button.colab-df-convert');\n",
              "        buttonEl.style.display =\n",
              "          google.colab.kernel.accessAllowed ? 'block' : 'none';\n",
              "\n",
              "        async function convertToInteractive(key) {\n",
              "          const element = document.querySelector('#df-96747d87-64d6-4f45-9cd9-f7d58e2830b3');\n",
              "          const dataTable =\n",
              "            await google.colab.kernel.invokeFunction('convertToInteractive',\n",
              "                                                     [key], {});\n",
              "          if (!dataTable) return;\n",
              "\n",
              "          const docLinkHtml = 'Like what you see? Visit the ' +\n",
              "            '<a target=\"_blank\" href=https://colab.research.google.com/notebooks/data_table.ipynb>data table notebook</a>'\n",
              "            + ' to learn more about interactive tables.';\n",
              "          element.innerHTML = '';\n",
              "          dataTable['output_type'] = 'display_data';\n",
              "          await google.colab.output.renderOutput(dataTable, element);\n",
              "          const docLink = document.createElement('div');\n",
              "          docLink.innerHTML = docLinkHtml;\n",
              "          element.appendChild(docLink);\n",
              "        }\n",
              "      </script>\n",
              "    </div>\n",
              "  </div>\n",
              "  "
            ]
          },
          "metadata": {},
          "execution_count": 10
        }
      ]
    },
    {
      "cell_type": "code",
      "source": [
        "data_per_car = car_data.groupby([\"nthcar\"]).agg(max_speed=('speed', max), min_spaceheadway=('spaceheadway', 'min'), max_accelaretion=('accelaretion', 'max'),min_accelaretion=('accelaretion', 'min'))\n",
        "data_per_car \n"
      ],
      "metadata": {
        "id": "M6VpoH15b1Fc",
        "outputId": "7f0f602d-afaa-46aa-931b-58b2586df32b",
        "colab": {
          "base_uri": "https://localhost:8080/",
          "height": 455
        }
      },
      "execution_count": 11,
      "outputs": [
        {
          "output_type": "execute_result",
          "data": {
            "text/plain": [
              "        max_speed  min_spaceheadway  max_accelaretion  min_accelaretion\n",
              "nthcar                                                                 \n",
              "1          8.6408           7.36450            2.5426           -2.6997\n",
              "2          7.0220           8.12970            1.8745           -2.7629\n",
              "3          9.1056           8.60450            2.0629           -4.0318\n",
              "4          7.6297          10.76100            2.6401           -3.5603\n",
              "5          8.3221           7.92430            2.5519           -4.5046\n",
              "...           ...               ...               ...               ...\n",
              "996        6.1449           4.45470            2.7500           -2.3499\n",
              "997        6.3448           7.12020            1.8132           -4.1000\n",
              "998       11.0890           8.08920            4.9512           -2.8436\n",
              "999        8.7172           0.27307            2.1096           -3.4366\n",
              "1000       8.6400           7.60950            1.9300           -3.7464\n",
              "\n",
              "[1000 rows x 4 columns]"
            ],
            "text/html": [
              "\n",
              "  <div id=\"df-ee0eaa13-622b-480e-b2eb-58cb0b7f0c75\">\n",
              "    <div class=\"colab-df-container\">\n",
              "      <div>\n",
              "<style scoped>\n",
              "    .dataframe tbody tr th:only-of-type {\n",
              "        vertical-align: middle;\n",
              "    }\n",
              "\n",
              "    .dataframe tbody tr th {\n",
              "        vertical-align: top;\n",
              "    }\n",
              "\n",
              "    .dataframe thead th {\n",
              "        text-align: right;\n",
              "    }\n",
              "</style>\n",
              "<table border=\"1\" class=\"dataframe\">\n",
              "  <thead>\n",
              "    <tr style=\"text-align: right;\">\n",
              "      <th></th>\n",
              "      <th>max_speed</th>\n",
              "      <th>min_spaceheadway</th>\n",
              "      <th>max_accelaretion</th>\n",
              "      <th>min_accelaretion</th>\n",
              "    </tr>\n",
              "    <tr>\n",
              "      <th>nthcar</th>\n",
              "      <th></th>\n",
              "      <th></th>\n",
              "      <th></th>\n",
              "      <th></th>\n",
              "    </tr>\n",
              "  </thead>\n",
              "  <tbody>\n",
              "    <tr>\n",
              "      <th>1</th>\n",
              "      <td>8.6408</td>\n",
              "      <td>7.36450</td>\n",
              "      <td>2.5426</td>\n",
              "      <td>-2.6997</td>\n",
              "    </tr>\n",
              "    <tr>\n",
              "      <th>2</th>\n",
              "      <td>7.0220</td>\n",
              "      <td>8.12970</td>\n",
              "      <td>1.8745</td>\n",
              "      <td>-2.7629</td>\n",
              "    </tr>\n",
              "    <tr>\n",
              "      <th>3</th>\n",
              "      <td>9.1056</td>\n",
              "      <td>8.60450</td>\n",
              "      <td>2.0629</td>\n",
              "      <td>-4.0318</td>\n",
              "    </tr>\n",
              "    <tr>\n",
              "      <th>4</th>\n",
              "      <td>7.6297</td>\n",
              "      <td>10.76100</td>\n",
              "      <td>2.6401</td>\n",
              "      <td>-3.5603</td>\n",
              "    </tr>\n",
              "    <tr>\n",
              "      <th>5</th>\n",
              "      <td>8.3221</td>\n",
              "      <td>7.92430</td>\n",
              "      <td>2.5519</td>\n",
              "      <td>-4.5046</td>\n",
              "    </tr>\n",
              "    <tr>\n",
              "      <th>...</th>\n",
              "      <td>...</td>\n",
              "      <td>...</td>\n",
              "      <td>...</td>\n",
              "      <td>...</td>\n",
              "    </tr>\n",
              "    <tr>\n",
              "      <th>996</th>\n",
              "      <td>6.1449</td>\n",
              "      <td>4.45470</td>\n",
              "      <td>2.7500</td>\n",
              "      <td>-2.3499</td>\n",
              "    </tr>\n",
              "    <tr>\n",
              "      <th>997</th>\n",
              "      <td>6.3448</td>\n",
              "      <td>7.12020</td>\n",
              "      <td>1.8132</td>\n",
              "      <td>-4.1000</td>\n",
              "    </tr>\n",
              "    <tr>\n",
              "      <th>998</th>\n",
              "      <td>11.0890</td>\n",
              "      <td>8.08920</td>\n",
              "      <td>4.9512</td>\n",
              "      <td>-2.8436</td>\n",
              "    </tr>\n",
              "    <tr>\n",
              "      <th>999</th>\n",
              "      <td>8.7172</td>\n",
              "      <td>0.27307</td>\n",
              "      <td>2.1096</td>\n",
              "      <td>-3.4366</td>\n",
              "    </tr>\n",
              "    <tr>\n",
              "      <th>1000</th>\n",
              "      <td>8.6400</td>\n",
              "      <td>7.60950</td>\n",
              "      <td>1.9300</td>\n",
              "      <td>-3.7464</td>\n",
              "    </tr>\n",
              "  </tbody>\n",
              "</table>\n",
              "<p>1000 rows × 4 columns</p>\n",
              "</div>\n",
              "      <button class=\"colab-df-convert\" onclick=\"convertToInteractive('df-ee0eaa13-622b-480e-b2eb-58cb0b7f0c75')\"\n",
              "              title=\"Convert this dataframe to an interactive table.\"\n",
              "              style=\"display:none;\">\n",
              "        \n",
              "  <svg xmlns=\"http://www.w3.org/2000/svg\" height=\"24px\"viewBox=\"0 0 24 24\"\n",
              "       width=\"24px\">\n",
              "    <path d=\"M0 0h24v24H0V0z\" fill=\"none\"/>\n",
              "    <path d=\"M18.56 5.44l.94 2.06.94-2.06 2.06-.94-2.06-.94-.94-2.06-.94 2.06-2.06.94zm-11 1L8.5 8.5l.94-2.06 2.06-.94-2.06-.94L8.5 2.5l-.94 2.06-2.06.94zm10 10l.94 2.06.94-2.06 2.06-.94-2.06-.94-.94-2.06-.94 2.06-2.06.94z\"/><path d=\"M17.41 7.96l-1.37-1.37c-.4-.4-.92-.59-1.43-.59-.52 0-1.04.2-1.43.59L10.3 9.45l-7.72 7.72c-.78.78-.78 2.05 0 2.83L4 21.41c.39.39.9.59 1.41.59.51 0 1.02-.2 1.41-.59l7.78-7.78 2.81-2.81c.8-.78.8-2.07 0-2.86zM5.41 20L4 18.59l7.72-7.72 1.47 1.35L5.41 20z\"/>\n",
              "  </svg>\n",
              "      </button>\n",
              "      \n",
              "  <style>\n",
              "    .colab-df-container {\n",
              "      display:flex;\n",
              "      flex-wrap:wrap;\n",
              "      gap: 12px;\n",
              "    }\n",
              "\n",
              "    .colab-df-convert {\n",
              "      background-color: #E8F0FE;\n",
              "      border: none;\n",
              "      border-radius: 50%;\n",
              "      cursor: pointer;\n",
              "      display: none;\n",
              "      fill: #1967D2;\n",
              "      height: 32px;\n",
              "      padding: 0 0 0 0;\n",
              "      width: 32px;\n",
              "    }\n",
              "\n",
              "    .colab-df-convert:hover {\n",
              "      background-color: #E2EBFA;\n",
              "      box-shadow: 0px 1px 2px rgba(60, 64, 67, 0.3), 0px 1px 3px 1px rgba(60, 64, 67, 0.15);\n",
              "      fill: #174EA6;\n",
              "    }\n",
              "\n",
              "    [theme=dark] .colab-df-convert {\n",
              "      background-color: #3B4455;\n",
              "      fill: #D2E3FC;\n",
              "    }\n",
              "\n",
              "    [theme=dark] .colab-df-convert:hover {\n",
              "      background-color: #434B5C;\n",
              "      box-shadow: 0px 1px 3px 1px rgba(0, 0, 0, 0.15);\n",
              "      filter: drop-shadow(0px 1px 2px rgba(0, 0, 0, 0.3));\n",
              "      fill: #FFFFFF;\n",
              "    }\n",
              "  </style>\n",
              "\n",
              "      <script>\n",
              "        const buttonEl =\n",
              "          document.querySelector('#df-ee0eaa13-622b-480e-b2eb-58cb0b7f0c75 button.colab-df-convert');\n",
              "        buttonEl.style.display =\n",
              "          google.colab.kernel.accessAllowed ? 'block' : 'none';\n",
              "\n",
              "        async function convertToInteractive(key) {\n",
              "          const element = document.querySelector('#df-ee0eaa13-622b-480e-b2eb-58cb0b7f0c75');\n",
              "          const dataTable =\n",
              "            await google.colab.kernel.invokeFunction('convertToInteractive',\n",
              "                                                     [key], {});\n",
              "          if (!dataTable) return;\n",
              "\n",
              "          const docLinkHtml = 'Like what you see? Visit the ' +\n",
              "            '<a target=\"_blank\" href=https://colab.research.google.com/notebooks/data_table.ipynb>data table notebook</a>'\n",
              "            + ' to learn more about interactive tables.';\n",
              "          element.innerHTML = '';\n",
              "          dataTable['output_type'] = 'display_data';\n",
              "          await google.colab.output.renderOutput(dataTable, element);\n",
              "          const docLink = document.createElement('div');\n",
              "          docLink.innerHTML = docLinkHtml;\n",
              "          element.appendChild(docLink);\n",
              "        }\n",
              "      </script>\n",
              "    </div>\n",
              "  </div>\n",
              "  "
            ]
          },
          "metadata": {},
          "execution_count": 11
        }
      ]
    },
    {
      "cell_type": "code",
      "source": [
        "data_per_car.describe()"
      ],
      "metadata": {
        "id": "E3Qm2q5Meml7",
        "outputId": "0fcc8529-e61e-4117-f555-e5c6c0465c24",
        "colab": {
          "base_uri": "https://localhost:8080/",
          "height": 300
        }
      },
      "execution_count": 12,
      "outputs": [
        {
          "output_type": "execute_result",
          "data": {
            "text/plain": [
              "         max_speed  min_spaceheadway  max_accelaretion  min_accelaretion\n",
              "count  1000.000000       1000.000000       1000.000000       1000.000000\n",
              "mean     10.295979         10.522583          2.344379         -2.904627\n",
              "std       1.666084          4.596472          0.337555          0.659538\n",
              "min       5.338800         -1.959300          0.997750         -4.837500\n",
              "25%       9.145150          7.669850          2.137475         -3.344200\n",
              "50%      10.233500          9.699900          2.349050         -2.853300\n",
              "75%      11.372250         12.387500          2.568975         -2.399400\n",
              "max      17.981000         34.078000          5.142500         -1.211900"
            ],
            "text/html": [
              "\n",
              "  <div id=\"df-4b4d5131-4163-46fc-9a78-976a3ce477de\">\n",
              "    <div class=\"colab-df-container\">\n",
              "      <div>\n",
              "<style scoped>\n",
              "    .dataframe tbody tr th:only-of-type {\n",
              "        vertical-align: middle;\n",
              "    }\n",
              "\n",
              "    .dataframe tbody tr th {\n",
              "        vertical-align: top;\n",
              "    }\n",
              "\n",
              "    .dataframe thead th {\n",
              "        text-align: right;\n",
              "    }\n",
              "</style>\n",
              "<table border=\"1\" class=\"dataframe\">\n",
              "  <thead>\n",
              "    <tr style=\"text-align: right;\">\n",
              "      <th></th>\n",
              "      <th>max_speed</th>\n",
              "      <th>min_spaceheadway</th>\n",
              "      <th>max_accelaretion</th>\n",
              "      <th>min_accelaretion</th>\n",
              "    </tr>\n",
              "  </thead>\n",
              "  <tbody>\n",
              "    <tr>\n",
              "      <th>count</th>\n",
              "      <td>1000.000000</td>\n",
              "      <td>1000.000000</td>\n",
              "      <td>1000.000000</td>\n",
              "      <td>1000.000000</td>\n",
              "    </tr>\n",
              "    <tr>\n",
              "      <th>mean</th>\n",
              "      <td>10.295979</td>\n",
              "      <td>10.522583</td>\n",
              "      <td>2.344379</td>\n",
              "      <td>-2.904627</td>\n",
              "    </tr>\n",
              "    <tr>\n",
              "      <th>std</th>\n",
              "      <td>1.666084</td>\n",
              "      <td>4.596472</td>\n",
              "      <td>0.337555</td>\n",
              "      <td>0.659538</td>\n",
              "    </tr>\n",
              "    <tr>\n",
              "      <th>min</th>\n",
              "      <td>5.338800</td>\n",
              "      <td>-1.959300</td>\n",
              "      <td>0.997750</td>\n",
              "      <td>-4.837500</td>\n",
              "    </tr>\n",
              "    <tr>\n",
              "      <th>25%</th>\n",
              "      <td>9.145150</td>\n",
              "      <td>7.669850</td>\n",
              "      <td>2.137475</td>\n",
              "      <td>-3.344200</td>\n",
              "    </tr>\n",
              "    <tr>\n",
              "      <th>50%</th>\n",
              "      <td>10.233500</td>\n",
              "      <td>9.699900</td>\n",
              "      <td>2.349050</td>\n",
              "      <td>-2.853300</td>\n",
              "    </tr>\n",
              "    <tr>\n",
              "      <th>75%</th>\n",
              "      <td>11.372250</td>\n",
              "      <td>12.387500</td>\n",
              "      <td>2.568975</td>\n",
              "      <td>-2.399400</td>\n",
              "    </tr>\n",
              "    <tr>\n",
              "      <th>max</th>\n",
              "      <td>17.981000</td>\n",
              "      <td>34.078000</td>\n",
              "      <td>5.142500</td>\n",
              "      <td>-1.211900</td>\n",
              "    </tr>\n",
              "  </tbody>\n",
              "</table>\n",
              "</div>\n",
              "      <button class=\"colab-df-convert\" onclick=\"convertToInteractive('df-4b4d5131-4163-46fc-9a78-976a3ce477de')\"\n",
              "              title=\"Convert this dataframe to an interactive table.\"\n",
              "              style=\"display:none;\">\n",
              "        \n",
              "  <svg xmlns=\"http://www.w3.org/2000/svg\" height=\"24px\"viewBox=\"0 0 24 24\"\n",
              "       width=\"24px\">\n",
              "    <path d=\"M0 0h24v24H0V0z\" fill=\"none\"/>\n",
              "    <path d=\"M18.56 5.44l.94 2.06.94-2.06 2.06-.94-2.06-.94-.94-2.06-.94 2.06-2.06.94zm-11 1L8.5 8.5l.94-2.06 2.06-.94-2.06-.94L8.5 2.5l-.94 2.06-2.06.94zm10 10l.94 2.06.94-2.06 2.06-.94-2.06-.94-.94-2.06-.94 2.06-2.06.94z\"/><path d=\"M17.41 7.96l-1.37-1.37c-.4-.4-.92-.59-1.43-.59-.52 0-1.04.2-1.43.59L10.3 9.45l-7.72 7.72c-.78.78-.78 2.05 0 2.83L4 21.41c.39.39.9.59 1.41.59.51 0 1.02-.2 1.41-.59l7.78-7.78 2.81-2.81c.8-.78.8-2.07 0-2.86zM5.41 20L4 18.59l7.72-7.72 1.47 1.35L5.41 20z\"/>\n",
              "  </svg>\n",
              "      </button>\n",
              "      \n",
              "  <style>\n",
              "    .colab-df-container {\n",
              "      display:flex;\n",
              "      flex-wrap:wrap;\n",
              "      gap: 12px;\n",
              "    }\n",
              "\n",
              "    .colab-df-convert {\n",
              "      background-color: #E8F0FE;\n",
              "      border: none;\n",
              "      border-radius: 50%;\n",
              "      cursor: pointer;\n",
              "      display: none;\n",
              "      fill: #1967D2;\n",
              "      height: 32px;\n",
              "      padding: 0 0 0 0;\n",
              "      width: 32px;\n",
              "    }\n",
              "\n",
              "    .colab-df-convert:hover {\n",
              "      background-color: #E2EBFA;\n",
              "      box-shadow: 0px 1px 2px rgba(60, 64, 67, 0.3), 0px 1px 3px 1px rgba(60, 64, 67, 0.15);\n",
              "      fill: #174EA6;\n",
              "    }\n",
              "\n",
              "    [theme=dark] .colab-df-convert {\n",
              "      background-color: #3B4455;\n",
              "      fill: #D2E3FC;\n",
              "    }\n",
              "\n",
              "    [theme=dark] .colab-df-convert:hover {\n",
              "      background-color: #434B5C;\n",
              "      box-shadow: 0px 1px 3px 1px rgba(0, 0, 0, 0.15);\n",
              "      filter: drop-shadow(0px 1px 2px rgba(0, 0, 0, 0.3));\n",
              "      fill: #FFFFFF;\n",
              "    }\n",
              "  </style>\n",
              "\n",
              "      <script>\n",
              "        const buttonEl =\n",
              "          document.querySelector('#df-4b4d5131-4163-46fc-9a78-976a3ce477de button.colab-df-convert');\n",
              "        buttonEl.style.display =\n",
              "          google.colab.kernel.accessAllowed ? 'block' : 'none';\n",
              "\n",
              "        async function convertToInteractive(key) {\n",
              "          const element = document.querySelector('#df-4b4d5131-4163-46fc-9a78-976a3ce477de');\n",
              "          const dataTable =\n",
              "            await google.colab.kernel.invokeFunction('convertToInteractive',\n",
              "                                                     [key], {});\n",
              "          if (!dataTable) return;\n",
              "\n",
              "          const docLinkHtml = 'Like what you see? Visit the ' +\n",
              "            '<a target=\"_blank\" href=https://colab.research.google.com/notebooks/data_table.ipynb>data table notebook</a>'\n",
              "            + ' to learn more about interactive tables.';\n",
              "          element.innerHTML = '';\n",
              "          dataTable['output_type'] = 'display_data';\n",
              "          await google.colab.output.renderOutput(dataTable, element);\n",
              "          const docLink = document.createElement('div');\n",
              "          docLink.innerHTML = docLinkHtml;\n",
              "          element.appendChild(docLink);\n",
              "        }\n",
              "      </script>\n",
              "    </div>\n",
              "  </div>\n",
              "  "
            ]
          },
          "metadata": {},
          "execution_count": 12
        }
      ]
    },
    {
      "cell_type": "code",
      "source": [
        ""
      ],
      "metadata": {
        "id": "PHmjJjxdRlKn"
      },
      "execution_count": 12,
      "outputs": []
    },
    {
      "cell_type": "code",
      "source": [
        "# sns.lmplot(x='time', y='speed', data = car_data[car_data['nthcar']==1]) "
      ],
      "metadata": {
        "id": "upTwbTc3Rp8U"
      },
      "execution_count": 13,
      "outputs": []
    },
    {
      "cell_type": "code",
      "source": [
        "# sns.regplot(x='time', y='speed', data = car_data) \n",
        "# sns.regplot(x='time', y='speed', data = car_data[car_data['nthcar']==1]) "
      ],
      "metadata": {
        "id": "BmZi0RehSNt2"
      },
      "execution_count": 14,
      "outputs": []
    },
    {
      "cell_type": "code",
      "source": [
        "import pandas as pd\n",
        "import matplotlib.pyplot as plt\n",
        "import numpy as np\n",
        "import seaborn as sns "
      ],
      "metadata": {
        "id": "Jjgd0d1-Ytri"
      },
      "execution_count": 15,
      "outputs": []
    },
    {
      "cell_type": "code",
      "source": [
        "max_acceleration_per_car = car_data.groupby([\"nthcar\"])['accelaretion'].max() \n",
        "max_acceleration_per_car"
      ],
      "metadata": {
        "colab": {
          "base_uri": "https://localhost:8080/"
        },
        "id": "y72P7mQ4ZZSH",
        "outputId": "edeaa135-58d8-4d03-9ded-734d7af81999"
      },
      "execution_count": 16,
      "outputs": [
        {
          "output_type": "execute_result",
          "data": {
            "text/plain": [
              "nthcar\n",
              "1       2.5426\n",
              "2       1.8745\n",
              "3       2.0629\n",
              "4       2.6401\n",
              "5       2.5519\n",
              "         ...  \n",
              "996     2.7500\n",
              "997     1.8132\n",
              "998     4.9512\n",
              "999     2.1096\n",
              "1000    1.9300\n",
              "Name: accelaretion, Length: 1000, dtype: float64"
            ]
          },
          "metadata": {},
          "execution_count": 16
        }
      ]
    },
    {
      "cell_type": "code",
      "source": [
        "print(np.mean(max_acceleration_per_car),np.std(max_acceleration_per_car))\n",
        "# plt.hist(max_acceleration_per_car,bins=50) "
      ],
      "metadata": {
        "colab": {
          "base_uri": "https://localhost:8080/"
        },
        "id": "p8OmN69HZXU2",
        "outputId": "14bcfd4c-08e8-4c84-cf34-00559c46f5a0"
      },
      "execution_count": 17,
      "outputs": [
        {
          "output_type": "stream",
          "name": "stdout",
          "text": [
            "2.3443786499999986 0.33738654925274913\n"
          ]
        }
      ]
    },
    {
      "cell_type": "code",
      "source": [
        "sns.histplot(max_acceleration_per_car,bins=50, kde = True)"
      ],
      "metadata": {
        "colab": {
          "base_uri": "https://localhost:8080/",
          "height": 297
        },
        "id": "Wy8NQPyua0ku",
        "outputId": "293d5a7a-ec48-43a4-e906-9bfc954e4bd1"
      },
      "execution_count": 18,
      "outputs": [
        {
          "output_type": "execute_result",
          "data": {
            "text/plain": [
              "<matplotlib.axes._subplots.AxesSubplot at 0x7f5a07ca74d0>"
            ]
          },
          "metadata": {},
          "execution_count": 18
        },
        {
          "output_type": "display_data",
          "data": {
            "text/plain": [
              "<Figure size 432x288 with 1 Axes>"
            ],
            "image/png": "[encoded data removed]"
          },
          "metadata": {
            "needs_background": "light"
          }
        }
      ]
    },
    {
      "cell_type": "code",
      "source": [
        "min_acceleration_per_car = car_data.groupby([\"nthcar\"])['accelaretion'].min()\n",
        "print(np.mean(min_acceleration_per_car),np.std(min_acceleration_per_car))"
      ],
      "metadata": {
        "colab": {
          "base_uri": "https://localhost:8080/"
        },
        "id": "cKCpjDUqYwJm",
        "outputId": "47561bf7-b449-4d01-d09f-c931053c0713"
      },
      "execution_count": 19,
      "outputs": [
        {
          "output_type": "stream",
          "name": "stdout",
          "text": [
            "-2.9046269000000002 0.6592080260633889\n"
          ]
        }
      ]
    },
    {
      "cell_type": "code",
      "source": [
        "sns.histplot(min_acceleration_per_car,bins=50,kde = True)"
      ],
      "metadata": {
        "colab": {
          "base_uri": "https://localhost:8080/",
          "height": 297
        },
        "id": "bFb5BjYCbFh2",
        "outputId": "2282aa43-6e4c-40d1-afa1-29dbd4b2a965"
      },
      "execution_count": 20,
      "outputs": [
        {
          "output_type": "execute_result",
          "data": {
            "text/plain": [
              "<matplotlib.axes._subplots.AxesSubplot at 0x7f5a05b21990>"
            ]
          },
          "metadata": {},
          "execution_count": 20
        },
        {
          "output_type": "display_data",
          "data": {
            "text/plain": [
              "<Figure size 432x288 with 1 Axes>"
            ],
            "image/png": "[encoded data removed]"
          },
          "metadata": {
            "needs_background": "light"
          }
        }
      ]
    },
    {
      "cell_type": "markdown",
      "source": [
        "# synthetic leader vehicl profile "
      ],
      "metadata": {
        "id": "TTXA_ko0jiZi"
      }
    },
    {
      "cell_type": "code",
      "source": [
        "ya = 10\n",
        "yb = 15\n",
        "yc = 20\n",
        "t1_steps = 90*10 # 60 sec \n",
        "# np.linspace()\n",
        "nth_car_speed = np.concatenate((np.repeat(ya,t1_steps),np.linspace(ya,yb,t1_steps),np.repeat(yb,t1_steps),np.linspace(yb,yc,t1_steps),np.repeat(yc,t1_steps),np.linspace(yc,yb,t1_steps),np.repeat(yb,t1_steps),np.linspace(yb,ya,t1_steps),np.repeat(ya,t1_steps)),axis=0) \n",
        "time_span = np.linspace(0,len(nth_car_speed)*.01,len(nth_car_speed))\n",
        "\n"
      ],
      "metadata": {
        "id": "RDefUMngajv7"
      },
      "execution_count": 21,
      "outputs": []
    },
    {
      "cell_type": "code",
      "source": [
        "import matplotlib.pyplot as plt"
      ],
      "metadata": {
        "id": "EIU33PE3kYXl"
      },
      "execution_count": null,
      "outputs": []
    },
    {
      "cell_type": "code",
      "source": [
        "# ax.set_xticks(np.linspace(0,nps//10,nps//10+1))"
      ],
      "metadata": {
        "id": "r-dVTu-0nldy"
      },
      "execution_count": 45,
      "outputs": []
    },
    {
      "cell_type": "code",
      "source": [
        "fig, ax = plt.subplots(figsize=(15,4))\n",
        "nps = len(nth_car_speed)\n",
        "ax.plot(range(0,len(nth_car_speed)),nth_car_speed)\n",
        "ax.set_xlabel('time (decisec)')\n",
        "ax.set_ylabel('speed (m/sec)')\n",
        "fig.tight_layout() "
      ],
      "metadata": {
        "id": "t7q7HztTjvYt",
        "outputId": "61217162-3a2c-4896-f2ab-a012b3201f10",
        "colab": {
          "base_uri": "https://localhost:8080/",
          "height": 297
        }
      },
      "execution_count": 46,
      "outputs": [
        {
          "output_type": "display_data",
          "data": {
            "text/plain": [
              "<Figure size 1080x288 with 1 Axes>"
            ],
            "image/png": "[encoded data removed]"
          },
          "metadata": {
            "needs_background": "light"
          }
        }
      ]
    },
    {
      "cell_type": "code",
      "source": [
        "# import numpy as np\n",
        "# import matplotlib.pyplot as plt\n",
        "\n",
        "# x = [0,5,9,10,15]\n",
        "# y = [0,1,2,3,4]\n",
        "# plt.plot(x,y)\n",
        "# plt.xticks(np.arange(min(x), max(x)+1, 1.0))\n",
        "# plt.show()"
      ],
      "metadata": {
        "id": "Q0BCOsfOlyhY"
      },
      "execution_count": 47,
      "outputs": []
    }
  ]
}